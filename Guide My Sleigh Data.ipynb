{
 "cells": [
  {
   "cell_type": "markdown",
   "id": "97e07bf6",
   "metadata": {},
   "source": [
    "# Guide My Sleigh Data Overview:\n",
    "\n",
    "The crew here at Data Fusion want to help ensure that the the joy and cheer of SantaCon comes with great bars, no lines and a map of fun and getting you back to your hotel with no extra thougts about logistics. Santas have done enough work all year long. \n",
    "\n",
    "Below we will be extracting data from the santacon.nyc website of the availible bars. We will also be listing 3 hotels that are also offering reduced night stay rates for our Santa's so they don't have to worry about lodging. \n",
    "\n",
    "After gathering this data, we will go ahead and make a few \"Sleigh Rides\" that will be a currated group of bars that Santa's will have already paid covers for. Allowing them no wait access to those bars. \n",
    "\n",
    "An algorithm will calculate the optimal commute (shorest walking distance and order)for that Sleigh Ride and getting our Santas back to their hotel. That information will be passed onto our users visually in the \"Guide My Sleigh\" app."
   ]
  },
  {
   "cell_type": "code",
   "execution_count": 107,
   "id": "c1e2932a",
   "metadata": {},
   "outputs": [],
   "source": [
    "import json\n",
    "import pandas as pd\n",
    "from datetime import time\n",
    "import openrouteservice\n",
    "import numpy as np\n",
    "import math\n",
    "import requests\n",
    "import hashlib"
   ]
  },
  {
   "cell_type": "markdown",
   "id": "dc6e6fea",
   "metadata": {},
   "source": [
    "## Bar Data"
   ]
  },
  {
   "cell_type": "code",
   "execution_count": 3,
   "id": "40895875",
   "metadata": {},
   "outputs": [],
   "source": [
    "with open(\"santacon_2024_venues.json\", \"r\") as file:\n",
    "    json_data = json.load(file)"
   ]
  },
  {
   "cell_type": "code",
   "execution_count": 4,
   "id": "248ea48f",
   "metadata": {},
   "outputs": [
    {
     "data": {
      "text/html": [
       "<div>\n",
       "<style scoped>\n",
       "    .dataframe tbody tr th:only-of-type {\n",
       "        vertical-align: middle;\n",
       "    }\n",
       "\n",
       "    .dataframe tbody tr th {\n",
       "        vertical-align: top;\n",
       "    }\n",
       "\n",
       "    .dataframe thead th {\n",
       "        text-align: right;\n",
       "    }\n",
       "</style>\n",
       "<table border=\"1\" class=\"dataframe\">\n",
       "  <thead>\n",
       "    <tr style=\"text-align: right;\">\n",
       "      <th></th>\n",
       "      <th>Name</th>\n",
       "      <th>Latitude</th>\n",
       "      <th>Longitude</th>\n",
       "      <th>Address</th>\n",
       "      <th>Opens</th>\n",
       "      <th>Closes</th>\n",
       "      <th>Categories</th>\n",
       "      <th>Description</th>\n",
       "      <th>Image</th>\n",
       "    </tr>\n",
       "  </thead>\n",
       "  <tbody>\n",
       "    <tr>\n",
       "      <th>0</th>\n",
       "      <td>*10AM START POINT THE CHRISTMAS SPECTACULAR**</td>\n",
       "      <td>40.754349</td>\n",
       "      <td>-73.986899</td>\n",
       "      <td>Broadway at 40th Street New York, NY</td>\n",
       "      <td>10:00</td>\n",
       "      <td>11:00</td>\n",
       "      <td>START POINT!</td>\n",
       "      <td>10am Santa is Painting the town Red&lt;br&gt;We will...</td>\n",
       "      <td>https://santacon.nyc/wp-content/uploads/2023/1...</td>\n",
       "    </tr>\n",
       "    <tr>\n",
       "      <th>1</th>\n",
       "      <td>The Rutherford</td>\n",
       "      <td>40.751373</td>\n",
       "      <td>-73.993552</td>\n",
       "      <td>W 33rd St at 8th Ave, New York, NY 10119</td>\n",
       "      <td>10:00</td>\n",
       "      <td>20:00</td>\n",
       "      <td>Huge Venues</td>\n",
       "      <td>Get here early for views from the Roof Deck / ...</td>\n",
       "      <td>https://santacon.nyc/wp-content/uploads/2023/1...</td>\n",
       "    </tr>\n",
       "    <tr>\n",
       "      <th>2</th>\n",
       "      <td>Avenida</td>\n",
       "      <td>40.752193</td>\n",
       "      <td>-73.993465</td>\n",
       "      <td>W. 34 St &amp; 8th Ave, New York, NY 10001</td>\n",
       "      <td>10:00</td>\n",
       "      <td>20:00</td>\n",
       "      <td>Huge Venues</td>\n",
       "      <td>The Holiday Hustle at this rooftop + mexican b...</td>\n",
       "      <td>https://santacon.nyc/wp-content/uploads/2023/1...</td>\n",
       "    </tr>\n",
       "    <tr>\n",
       "      <th>3</th>\n",
       "      <td>Taj II</td>\n",
       "      <td>40.741051</td>\n",
       "      <td>-73.992882</td>\n",
       "      <td>48 W 21st St, New York, NY 10010</td>\n",
       "      <td>12:00</td>\n",
       "      <td>22:00</td>\n",
       "      <td>Huge Venues</td>\n",
       "      <td>Naughty vs Nice at this Sexy Dance Floor Vibin...</td>\n",
       "      <td>https://santacon.nyc/wp-content/uploads/2023/1...</td>\n",
       "    </tr>\n",
       "    <tr>\n",
       "      <th>4</th>\n",
       "      <td>Clinton Hall 36</td>\n",
       "      <td>40.750099</td>\n",
       "      <td>-73.984395</td>\n",
       "      <td>16 W, 36th Street New York, NY 10018</td>\n",
       "      <td>9:00</td>\n",
       "      <td>17:00</td>\n",
       "      <td>Huge Venues</td>\n",
       "      <td>DJs Fun games at this HUGE open spot 🎲🎟️🎁</td>\n",
       "      <td>https://santacon.nyc/wp-content/uploads/2023/1...</td>\n",
       "    </tr>\n",
       "  </tbody>\n",
       "</table>\n",
       "</div>"
      ],
      "text/plain": [
       "                                            Name   Latitude  Longitude  \\\n",
       "0  *10AM START POINT THE CHRISTMAS SPECTACULAR**  40.754349 -73.986899   \n",
       "1                                 The Rutherford  40.751373 -73.993552   \n",
       "2                                        Avenida  40.752193 -73.993465   \n",
       "3                                         Taj II  40.741051 -73.992882   \n",
       "4                                Clinton Hall 36  40.750099 -73.984395   \n",
       "\n",
       "                                    Address  Opens Closes    Categories  \\\n",
       "0      Broadway at 40th Street New York, NY  10:00  11:00  START POINT!   \n",
       "1  W 33rd St at 8th Ave, New York, NY 10119  10:00  20:00   Huge Venues   \n",
       "2    W. 34 St & 8th Ave, New York, NY 10001  10:00  20:00   Huge Venues   \n",
       "3          48 W 21st St, New York, NY 10010  12:00  22:00   Huge Venues   \n",
       "4      16 W, 36th Street New York, NY 10018   9:00  17:00   Huge Venues   \n",
       "\n",
       "                                         Description  \\\n",
       "0  10am Santa is Painting the town Red<br>We will...   \n",
       "1  Get here early for views from the Roof Deck / ...   \n",
       "2  The Holiday Hustle at this rooftop + mexican b...   \n",
       "3  Naughty vs Nice at this Sexy Dance Floor Vibin...   \n",
       "4          DJs Fun games at this HUGE open spot 🎲🎟️🎁   \n",
       "\n",
       "                                               Image  \n",
       "0  https://santacon.nyc/wp-content/uploads/2023/1...  \n",
       "1  https://santacon.nyc/wp-content/uploads/2023/1...  \n",
       "2  https://santacon.nyc/wp-content/uploads/2023/1...  \n",
       "3  https://santacon.nyc/wp-content/uploads/2023/1...  \n",
       "4  https://santacon.nyc/wp-content/uploads/2023/1...  "
      ]
     },
     "metadata": {},
     "output_type": "display_data"
    }
   ],
   "source": [
    "# Convert the nested JSON object (assuming the key is 'data') into a pandas DataFrame\n",
    "df = pd.DataFrame(json_data[\"data\"])\n",
    "\n",
    "columns = [\"name\", \"latitude\", \"longitude\", \"address\", \"opens\", \"closes\", \"categories\", \"description\", \"image\"]\n",
    "df = df[columns]\n",
    "\n",
    "df.columns = [\n",
    "    \"Name\", \"Latitude\", \"Longitude\", \"Address\",\n",
    "    \"Opens\", \"Closes\", \"Categories\", \"Description\", \"Image\"\n",
    "]\n",
    "\n",
    "display(df.head())"
   ]
  },
  {
   "cell_type": "code",
   "execution_count": 5,
   "id": "1be9a67a",
   "metadata": {},
   "outputs": [
    {
     "name": "stdout",
     "output_type": "stream",
     "text": [
      "<class 'pandas.core.frame.DataFrame'>\n",
      "RangeIndex: 75 entries, 0 to 74\n",
      "Data columns (total 9 columns):\n",
      " #   Column       Non-Null Count  Dtype  \n",
      "---  ------       --------------  -----  \n",
      " 0   Name         75 non-null     object \n",
      " 1   Latitude     75 non-null     float64\n",
      " 2   Longitude    75 non-null     float64\n",
      " 3   Address      75 non-null     object \n",
      " 4   Opens        75 non-null     object \n",
      " 5   Closes       75 non-null     object \n",
      " 6   Categories   75 non-null     object \n",
      " 7   Description  75 non-null     object \n",
      " 8   Image        75 non-null     object \n",
      "dtypes: float64(2), object(7)\n",
      "memory usage: 5.4+ KB\n"
     ]
    },
    {
     "data": {
      "text/plain": [
       "None"
      ]
     },
     "metadata": {},
     "output_type": "display_data"
    }
   ],
   "source": [
    "display(df.info())"
   ]
  },
  {
   "cell_type": "markdown",
   "id": "84de519d",
   "metadata": {},
   "source": [
    "There are 75 venues including the starting location. We are going to update the columns dtypes to datetime for \"Opens\" and \"Closes\". From there we should edit this list down to fewer options as 75 is going to innondate the user with options and make it complicated to choose effective sleigh rides"
   ]
  },
  {
   "cell_type": "code",
   "execution_count": 6,
   "id": "3b429f2f",
   "metadata": {},
   "outputs": [],
   "source": [
    "df['Opens'] = pd.to_datetime(df['Opens'], format='%H:%M').dt.time\n",
    "df['Closes'] = pd.to_datetime(df['Closes'], format='%H:%M').dt.time"
   ]
  },
  {
   "cell_type": "code",
   "execution_count": 7,
   "id": "f4a144f3",
   "metadata": {
    "run_control": {
     "marked": true
    }
   },
   "outputs": [
    {
     "name": "stdout",
     "output_type": "stream",
     "text": [
      "<class 'pandas.core.frame.DataFrame'>\n",
      "RangeIndex: 75 entries, 0 to 74\n",
      "Data columns (total 9 columns):\n",
      " #   Column       Non-Null Count  Dtype  \n",
      "---  ------       --------------  -----  \n",
      " 0   Name         75 non-null     object \n",
      " 1   Latitude     75 non-null     float64\n",
      " 2   Longitude    75 non-null     float64\n",
      " 3   Address      75 non-null     object \n",
      " 4   Opens        75 non-null     object \n",
      " 5   Closes       75 non-null     object \n",
      " 6   Categories   75 non-null     object \n",
      " 7   Description  75 non-null     object \n",
      " 8   Image        75 non-null     object \n",
      "dtypes: float64(2), object(7)\n",
      "memory usage: 5.4+ KB\n"
     ]
    },
    {
     "data": {
      "text/plain": [
       "None"
      ]
     },
     "metadata": {},
     "output_type": "display_data"
    }
   ],
   "source": [
    "display(df.info())"
   ]
  },
  {
   "cell_type": "code",
   "execution_count": 8,
   "id": "56d4da7e",
   "metadata": {
    "scrolled": true
   },
   "outputs": [
    {
     "data": {
      "text/html": [
       "<div>\n",
       "<style scoped>\n",
       "    .dataframe tbody tr th:only-of-type {\n",
       "        vertical-align: middle;\n",
       "    }\n",
       "\n",
       "    .dataframe tbody tr th {\n",
       "        vertical-align: top;\n",
       "    }\n",
       "\n",
       "    .dataframe thead th {\n",
       "        text-align: right;\n",
       "    }\n",
       "</style>\n",
       "<table border=\"1\" class=\"dataframe\">\n",
       "  <thead>\n",
       "    <tr style=\"text-align: right;\">\n",
       "      <th></th>\n",
       "      <th>Name</th>\n",
       "      <th>Latitude</th>\n",
       "      <th>Longitude</th>\n",
       "      <th>Address</th>\n",
       "      <th>Opens</th>\n",
       "      <th>Closes</th>\n",
       "      <th>Categories</th>\n",
       "      <th>Description</th>\n",
       "      <th>Image</th>\n",
       "    </tr>\n",
       "  </thead>\n",
       "  <tbody>\n",
       "    <tr>\n",
       "      <th>0</th>\n",
       "      <td>*10AM START POINT THE CHRISTMAS SPECTACULAR**</td>\n",
       "      <td>40.754349</td>\n",
       "      <td>-73.986899</td>\n",
       "      <td>Broadway at 40th Street New York, NY</td>\n",
       "      <td>10:00:00</td>\n",
       "      <td>11:00:00</td>\n",
       "      <td>START POINT!</td>\n",
       "      <td>10am Santa is Painting the town Red&lt;br&gt;We will...</td>\n",
       "      <td>https://santacon.nyc/wp-content/uploads/2023/1...</td>\n",
       "    </tr>\n",
       "    <tr>\n",
       "      <th>1</th>\n",
       "      <td>The Rutherford</td>\n",
       "      <td>40.751373</td>\n",
       "      <td>-73.993552</td>\n",
       "      <td>W 33rd St at 8th Ave, New York, NY 10119</td>\n",
       "      <td>10:00:00</td>\n",
       "      <td>20:00:00</td>\n",
       "      <td>Huge Venues</td>\n",
       "      <td>Get here early for views from the Roof Deck / ...</td>\n",
       "      <td>https://santacon.nyc/wp-content/uploads/2023/1...</td>\n",
       "    </tr>\n",
       "    <tr>\n",
       "      <th>2</th>\n",
       "      <td>Avenida</td>\n",
       "      <td>40.752193</td>\n",
       "      <td>-73.993465</td>\n",
       "      <td>W. 34 St &amp; 8th Ave, New York, NY 10001</td>\n",
       "      <td>10:00:00</td>\n",
       "      <td>20:00:00</td>\n",
       "      <td>Huge Venues</td>\n",
       "      <td>The Holiday Hustle at this rooftop + mexican b...</td>\n",
       "      <td>https://santacon.nyc/wp-content/uploads/2023/1...</td>\n",
       "    </tr>\n",
       "  </tbody>\n",
       "</table>\n",
       "</div>"
      ],
      "text/plain": [
       "                                            Name   Latitude  Longitude  \\\n",
       "0  *10AM START POINT THE CHRISTMAS SPECTACULAR**  40.754349 -73.986899   \n",
       "1                                 The Rutherford  40.751373 -73.993552   \n",
       "2                                        Avenida  40.752193 -73.993465   \n",
       "\n",
       "                                    Address     Opens    Closes    Categories  \\\n",
       "0      Broadway at 40th Street New York, NY  10:00:00  11:00:00  START POINT!   \n",
       "1  W 33rd St at 8th Ave, New York, NY 10119  10:00:00  20:00:00   Huge Venues   \n",
       "2    W. 34 St & 8th Ave, New York, NY 10001  10:00:00  20:00:00   Huge Venues   \n",
       "\n",
       "                                         Description  \\\n",
       "0  10am Santa is Painting the town Red<br>We will...   \n",
       "1  Get here early for views from the Roof Deck / ...   \n",
       "2  The Holiday Hustle at this rooftop + mexican b...   \n",
       "\n",
       "                                               Image  \n",
       "0  https://santacon.nyc/wp-content/uploads/2023/1...  \n",
       "1  https://santacon.nyc/wp-content/uploads/2023/1...  \n",
       "2  https://santacon.nyc/wp-content/uploads/2023/1...  "
      ]
     },
     "metadata": {},
     "output_type": "display_data"
    }
   ],
   "source": [
    "display(df.head(3))"
   ]
  },
  {
   "cell_type": "code",
   "execution_count": 9,
   "id": "6288ba23",
   "metadata": {},
   "outputs": [],
   "source": [
    "# Create a slice of the starting point for SantaCon and convert to a dataframe\n",
    "start_loc = df.iloc[0].to_frame().T\n",
    "start_loc['Address'] = '1415 Broadway, New York, NY 10018'"
   ]
  },
  {
   "cell_type": "code",
   "execution_count": 10,
   "id": "074f1a78",
   "metadata": {
    "run_control": {
     "marked": true
    }
   },
   "outputs": [
    {
     "data": {
      "text/html": [
       "<div>\n",
       "<style scoped>\n",
       "    .dataframe tbody tr th:only-of-type {\n",
       "        vertical-align: middle;\n",
       "    }\n",
       "\n",
       "    .dataframe tbody tr th {\n",
       "        vertical-align: top;\n",
       "    }\n",
       "\n",
       "    .dataframe thead th {\n",
       "        text-align: right;\n",
       "    }\n",
       "</style>\n",
       "<table border=\"1\" class=\"dataframe\">\n",
       "  <thead>\n",
       "    <tr style=\"text-align: right;\">\n",
       "      <th></th>\n",
       "      <th>Name</th>\n",
       "      <th>Latitude</th>\n",
       "      <th>Longitude</th>\n",
       "      <th>Address</th>\n",
       "      <th>Opens</th>\n",
       "      <th>Closes</th>\n",
       "      <th>Categories</th>\n",
       "      <th>Description</th>\n",
       "      <th>Image</th>\n",
       "    </tr>\n",
       "  </thead>\n",
       "  <tbody>\n",
       "    <tr>\n",
       "      <th>0</th>\n",
       "      <td>*10AM START POINT THE CHRISTMAS SPECTACULAR**</td>\n",
       "      <td>40.754349</td>\n",
       "      <td>-73.986899</td>\n",
       "      <td>1415 Broadway, New York, NY 10018</td>\n",
       "      <td>10:00:00</td>\n",
       "      <td>11:00:00</td>\n",
       "      <td>START POINT!</td>\n",
       "      <td>10am Santa is Painting the town Red&lt;br&gt;We will...</td>\n",
       "      <td>https://santacon.nyc/wp-content/uploads/2023/1...</td>\n",
       "    </tr>\n",
       "  </tbody>\n",
       "</table>\n",
       "</div>"
      ],
      "text/plain": [
       "                                            Name   Latitude  Longitude  \\\n",
       "0  *10AM START POINT THE CHRISTMAS SPECTACULAR**  40.754349 -73.986899   \n",
       "\n",
       "                             Address     Opens    Closes    Categories  \\\n",
       "0  1415 Broadway, New York, NY 10018  10:00:00  11:00:00  START POINT!   \n",
       "\n",
       "                                         Description  \\\n",
       "0  10am Santa is Painting the town Red<br>We will...   \n",
       "\n",
       "                                               Image  \n",
       "0  https://santacon.nyc/wp-content/uploads/2023/1...  "
      ]
     },
     "metadata": {},
     "output_type": "display_data"
    }
   ],
   "source": [
    "display(start_loc)"
   ]
  },
  {
   "cell_type": "markdown",
   "id": "581379d5",
   "metadata": {},
   "source": [
    "Our Santas may want the option to go elsewhere, see something nearby. "
   ]
  },
  {
   "cell_type": "code",
   "execution_count": 11,
   "id": "2a215f21",
   "metadata": {},
   "outputs": [],
   "source": [
    "bar_filt = df.copy()\n",
    "bar_filt = bar_filt[bar_filt['Opens']<=time(11, 0)]\n",
    "bar_filt = bar_filt[bar_filt['Closes']>=time(20, 0)]"
   ]
  },
  {
   "cell_type": "code",
   "execution_count": 12,
   "id": "c563a333",
   "metadata": {},
   "outputs": [
    {
     "name": "stdout",
     "output_type": "stream",
     "text": [
      "<class 'pandas.core.frame.DataFrame'>\n",
      "Index: 42 entries, 1 to 74\n",
      "Data columns (total 9 columns):\n",
      " #   Column       Non-Null Count  Dtype  \n",
      "---  ------       --------------  -----  \n",
      " 0   Name         42 non-null     object \n",
      " 1   Latitude     42 non-null     float64\n",
      " 2   Longitude    42 non-null     float64\n",
      " 3   Address      42 non-null     object \n",
      " 4   Opens        42 non-null     object \n",
      " 5   Closes       42 non-null     object \n",
      " 6   Categories   42 non-null     object \n",
      " 7   Description  42 non-null     object \n",
      " 8   Image        42 non-null     object \n",
      "dtypes: float64(2), object(7)\n",
      "memory usage: 3.3+ KB\n"
     ]
    },
    {
     "data": {
      "text/plain": [
       "None"
      ]
     },
     "metadata": {},
     "output_type": "display_data"
    }
   ],
   "source": [
    "display(bar_filt.info())"
   ]
  },
  {
   "cell_type": "code",
   "execution_count": 13,
   "id": "a61439b6",
   "metadata": {
    "collapsed": true
   },
   "outputs": [
    {
     "data": {
      "text/html": [
       "<div>\n",
       "<style scoped>\n",
       "    .dataframe tbody tr th:only-of-type {\n",
       "        vertical-align: middle;\n",
       "    }\n",
       "\n",
       "    .dataframe tbody tr th {\n",
       "        vertical-align: top;\n",
       "    }\n",
       "\n",
       "    .dataframe thead th {\n",
       "        text-align: right;\n",
       "    }\n",
       "</style>\n",
       "<table border=\"1\" class=\"dataframe\">\n",
       "  <thead>\n",
       "    <tr style=\"text-align: right;\">\n",
       "      <th></th>\n",
       "      <th>Name</th>\n",
       "      <th>Latitude</th>\n",
       "      <th>Longitude</th>\n",
       "      <th>Address</th>\n",
       "      <th>Opens</th>\n",
       "      <th>Closes</th>\n",
       "      <th>Categories</th>\n",
       "      <th>Description</th>\n",
       "      <th>Image</th>\n",
       "    </tr>\n",
       "  </thead>\n",
       "  <tbody>\n",
       "    <tr>\n",
       "      <th>1</th>\n",
       "      <td>The Rutherford</td>\n",
       "      <td>40.751373</td>\n",
       "      <td>-73.993552</td>\n",
       "      <td>W 33rd St at 8th Ave, New York, NY 10119</td>\n",
       "      <td>10:00:00</td>\n",
       "      <td>20:00:00</td>\n",
       "      <td>Huge Venues</td>\n",
       "      <td>Get here early for views from the Roof Deck / ...</td>\n",
       "      <td>https://santacon.nyc/wp-content/uploads/2023/1...</td>\n",
       "    </tr>\n",
       "    <tr>\n",
       "      <th>2</th>\n",
       "      <td>Avenida</td>\n",
       "      <td>40.752193</td>\n",
       "      <td>-73.993465</td>\n",
       "      <td>W. 34 St &amp; 8th Ave, New York, NY 10001</td>\n",
       "      <td>10:00:00</td>\n",
       "      <td>20:00:00</td>\n",
       "      <td>Huge Venues</td>\n",
       "      <td>The Holiday Hustle at this rooftop + mexican b...</td>\n",
       "      <td>https://santacon.nyc/wp-content/uploads/2023/1...</td>\n",
       "    </tr>\n",
       "    <tr>\n",
       "      <th>5</th>\n",
       "      <td>5th &amp; Mad</td>\n",
       "      <td>40.749771</td>\n",
       "      <td>-73.982867</td>\n",
       "      <td>7 E 36th St, New York, NY 10016</td>\n",
       "      <td>11:00:00</td>\n",
       "      <td>20:00:00</td>\n",
       "      <td>Huge Venues</td>\n",
       "      <td>The Snow Ball at this hugh East Side Bar + DJ ...</td>\n",
       "      <td>https://santacon.nyc/wp-content/uploads/2023/1...</td>\n",
       "    </tr>\n",
       "    <tr>\n",
       "      <th>8</th>\n",
       "      <td>Solas</td>\n",
       "      <td>40.729445</td>\n",
       "      <td>-73.988059</td>\n",
       "      <td>232 E 9th St, New York, NY 10003</td>\n",
       "      <td>11:00:00</td>\n",
       "      <td>20:00:00</td>\n",
       "      <td>Huge Venues</td>\n",
       "      <td>Jingle Bell Rockout at this lounge &amp; dance clu...</td>\n",
       "      <td>https://santacon.nyc/wp-content/uploads/2023/1...</td>\n",
       "    </tr>\n",
       "    <tr>\n",
       "      <th>10</th>\n",
       "      <td>The Tailor</td>\n",
       "      <td>40.753109</td>\n",
       "      <td>-73.993027</td>\n",
       "      <td>505 8th Ave, New York, NY 10018</td>\n",
       "      <td>11:00:00</td>\n",
       "      <td>20:00:00</td>\n",
       "      <td>Huge Venues</td>\n",
       "      <td>Mistletoe Mania at this HUGE - 1000+ Elves &amp; S...</td>\n",
       "      <td>https://santacon.nyc/wp-content/uploads/2023/1...</td>\n",
       "    </tr>\n",
       "    <tr>\n",
       "      <th>12</th>\n",
       "      <td>Bar 13</td>\n",
       "      <td>40.734531</td>\n",
       "      <td>-73.992180</td>\n",
       "      <td>121 University Pl, New York, NY 10003</td>\n",
       "      <td>11:00:00</td>\n",
       "      <td>21:00:00</td>\n",
       "      <td>Huge Venues</td>\n",
       "      <td>Frosty Fest with Drinking &amp; techno, house &amp; hi...</td>\n",
       "      <td>https://santacon.nyc/wp-content/uploads/2023/1...</td>\n",
       "    </tr>\n",
       "    <tr>\n",
       "      <th>16</th>\n",
       "      <td>Amsterdam Billiards and Bar</td>\n",
       "      <td>40.731881</td>\n",
       "      <td>-73.989596</td>\n",
       "      <td>110 E 11th St, New York, NY 10003</td>\n",
       "      <td>11:00:00</td>\n",
       "      <td>20:00:00</td>\n",
       "      <td>East Village Bars</td>\n",
       "      <td>25 Billiards Tables plus Ping-Pong, Darts, Foo...</td>\n",
       "      <td>https://santacon.nyc/wp-content/uploads/2023/1...</td>\n",
       "    </tr>\n",
       "    <tr>\n",
       "      <th>18</th>\n",
       "      <td>Horseshoe Bar</td>\n",
       "      <td>40.725217</td>\n",
       "      <td>-73.981493</td>\n",
       "      <td>108 Ave B, New York, NY 10009</td>\n",
       "      <td>11:00:00</td>\n",
       "      <td>20:00:00</td>\n",
       "      <td>East Village Bars</td>\n",
       "      <td>No-nonsense Punk &amp; Old School Bar 🎅🧲</td>\n",
       "      <td>https://santacon.nyc/wp-content/uploads/2023/1...</td>\n",
       "    </tr>\n",
       "    <tr>\n",
       "      <th>19</th>\n",
       "      <td>Coyote Ugly</td>\n",
       "      <td>40.733034</td>\n",
       "      <td>-73.985653</td>\n",
       "      <td>233 E. 14th St., New York, NY 10003</td>\n",
       "      <td>11:00:00</td>\n",
       "      <td>21:00:00</td>\n",
       "      <td>East Village Bars</td>\n",
       "      <td>The One, The Only, Leave Your Bra on the Ceili...</td>\n",
       "      <td>https://santacon.nyc/wp-content/uploads/2023/1...</td>\n",
       "    </tr>\n",
       "    <tr>\n",
       "      <th>20</th>\n",
       "      <td>The Laurels</td>\n",
       "      <td>40.732803</td>\n",
       "      <td>-73.984964</td>\n",
       "      <td>231 2nd Ave, New York, NY 10003</td>\n",
       "      <td>10:00:00</td>\n",
       "      <td>23:00:00</td>\n",
       "      <td>East Village Bars</td>\n",
       "      <td>Sexy, Cozy Cocktail Bar in East Village 💃🍺⛄</td>\n",
       "      <td>https://santacon.nyc/wp-content/uploads/2023/1...</td>\n",
       "    </tr>\n",
       "    <tr>\n",
       "      <th>21</th>\n",
       "      <td>Phoenix Bar</td>\n",
       "      <td>40.730035</td>\n",
       "      <td>-73.981070</td>\n",
       "      <td>447 E 13th St, New York, NY 10009</td>\n",
       "      <td>10:00:00</td>\n",
       "      <td>23:59:00</td>\n",
       "      <td>East Village Bars</td>\n",
       "      <td>Santas Squad Up at this hot East Village legen...</td>\n",
       "      <td>https://santacon.nyc/wp-content/uploads/2024/1...</td>\n",
       "    </tr>\n",
       "    <tr>\n",
       "      <th>22</th>\n",
       "      <td>The High Note</td>\n",
       "      <td>40.735088</td>\n",
       "      <td>-73.988620</td>\n",
       "      <td>119 E 15th St, New York, NY 10003</td>\n",
       "      <td>11:00:00</td>\n",
       "      <td>22:00:00</td>\n",
       "      <td>East Village Bars</td>\n",
       "      <td>Start, End or Hoilday your day on a high note 🍸</td>\n",
       "      <td>https://santacon.nyc/wp-content/uploads/2024/1...</td>\n",
       "    </tr>\n",
       "    <tr>\n",
       "      <th>23</th>\n",
       "      <td>Hidden Lane</td>\n",
       "      <td>40.734725</td>\n",
       "      <td>-73.987724</td>\n",
       "      <td>129 E 15th St, New York, NY 10003</td>\n",
       "      <td>11:00:00</td>\n",
       "      <td>22:00:00</td>\n",
       "      <td>East Village Bars</td>\n",
       "      <td>The best not-so-hidden Santa spot 🎅🥃</td>\n",
       "      <td>https://santacon.nyc/wp-content/uploads/2024/1...</td>\n",
       "    </tr>\n",
       "    <tr>\n",
       "      <th>26</th>\n",
       "      <td>Backstage Tavern</td>\n",
       "      <td>40.760502</td>\n",
       "      <td>-73.989732</td>\n",
       "      <td>346 W 46th St, New York, NY 10036</td>\n",
       "      <td>10:00:00</td>\n",
       "      <td>22:00:00</td>\n",
       "      <td>Midtown West Bars</td>\n",
       "      <td>Where Santa's stars align 🌟🎄🩵</td>\n",
       "      <td>https://santacon.nyc/wp-content/uploads/2024/1...</td>\n",
       "    </tr>\n",
       "    <tr>\n",
       "      <th>27</th>\n",
       "      <td>Bar Dough</td>\n",
       "      <td>40.760531</td>\n",
       "      <td>-73.989846</td>\n",
       "      <td>350 W. 46th St, New York, NY 10036</td>\n",
       "      <td>10:00:00</td>\n",
       "      <td>22:00:00</td>\n",
       "      <td>Midtown West Bars</td>\n",
       "      <td>beer &amp; cocktails + wood-fired pizzas 🎅🍕</td>\n",
       "      <td>https://santacon.nyc/wp-content/uploads/2023/1...</td>\n",
       "    </tr>\n",
       "    <tr>\n",
       "      <th>28</th>\n",
       "      <td>Blarney Stone</td>\n",
       "      <td>40.750550</td>\n",
       "      <td>-73.994830</td>\n",
       "      <td>410 8th Ave, New York, NY 10001</td>\n",
       "      <td>11:00:00</td>\n",
       "      <td>20:00:00</td>\n",
       "      <td>Midtown West Bars</td>\n",
       "      <td>Classic NYC Irish Midtown🎅🇮🇪</td>\n",
       "      <td>https://santacon.nyc/wp-content/uploads/2023/1...</td>\n",
       "    </tr>\n",
       "    <tr>\n",
       "      <th>29</th>\n",
       "      <td>Blue Haven East</td>\n",
       "      <td>40.745330</td>\n",
       "      <td>-73.978199</td>\n",
       "      <td>493 3rd Ave, New York, NY 10016</td>\n",
       "      <td>10:00:00</td>\n",
       "      <td>22:00:00</td>\n",
       "      <td>Murray Hill</td>\n",
       "      <td>Gramercy's Modern Sports &amp; draught bar 🎅🏈⚽</td>\n",
       "      <td>https://santacon.nyc/wp-content/uploads/2023/1...</td>\n",
       "    </tr>\n",
       "    <tr>\n",
       "      <th>31</th>\n",
       "      <td>Brooklyn Deli Times Square</td>\n",
       "      <td>40.757228</td>\n",
       "      <td>-73.986979</td>\n",
       "      <td>211 West 43rd St, New York, NY 10036</td>\n",
       "      <td>10:00:00</td>\n",
       "      <td>20:00:00</td>\n",
       "      <td>Grub</td>\n",
       "      <td>Satin Dolls performing Christmas classics &amp; th...</td>\n",
       "      <td>https://santacon.nyc/wp-content/uploads/2024/1...</td>\n",
       "    </tr>\n",
       "    <tr>\n",
       "      <th>34</th>\n",
       "      <td>The Dean</td>\n",
       "      <td>40.754518</td>\n",
       "      <td>-73.989304</td>\n",
       "      <td>214 W 39th St, New York, NY 10018</td>\n",
       "      <td>11:00:00</td>\n",
       "      <td>22:00:00</td>\n",
       "      <td>Midtown West Bars</td>\n",
       "      <td>Spacious industrial-chic trendy hub 🎅🥃</td>\n",
       "      <td>https://santacon.nyc/wp-content/uploads/2023/1...</td>\n",
       "    </tr>\n",
       "    <tr>\n",
       "      <th>39</th>\n",
       "      <td>The Independent</td>\n",
       "      <td>40.754843</td>\n",
       "      <td>-73.987502</td>\n",
       "      <td>147 W 40th St, New York, NY 10018</td>\n",
       "      <td>11:00:00</td>\n",
       "      <td>20:00:00</td>\n",
       "      <td>Midtown West Bars</td>\n",
       "      <td>Snug and stylish space for notable drinks 🎅🥃</td>\n",
       "      <td>https://santacon.nyc/wp-content/uploads/2023/1...</td>\n",
       "    </tr>\n",
       "    <tr>\n",
       "      <th>42</th>\n",
       "      <td>Jack Doyle's</td>\n",
       "      <td>40.752280</td>\n",
       "      <td>-73.992082</td>\n",
       "      <td>240 W 35th St, New York, NY 10001</td>\n",
       "      <td>10:00:00</td>\n",
       "      <td>21:00:00</td>\n",
       "      <td>Midtown West Bars</td>\n",
       "      <td>DJ at this HUGE Irish Rockin' Haus 🎅🍀</td>\n",
       "      <td>https://santacon.nyc/wp-content/uploads/2023/1...</td>\n",
       "    </tr>\n",
       "    <tr>\n",
       "      <th>43</th>\n",
       "      <td>John Sullivan's</td>\n",
       "      <td>40.751815</td>\n",
       "      <td>-73.990753</td>\n",
       "      <td>210 W 35th St, New York, NY 10001</td>\n",
       "      <td>10:00:00</td>\n",
       "      <td>21:00:00</td>\n",
       "      <td>Midtown West Bars</td>\n",
       "      <td>2 Levels &amp; Amazing Drink Specials 👯🕶️</td>\n",
       "      <td>https://santacon.nyc/wp-content/uploads/2023/1...</td>\n",
       "    </tr>\n",
       "    <tr>\n",
       "      <th>45</th>\n",
       "      <td>The Liberty</td>\n",
       "      <td>40.749799</td>\n",
       "      <td>-73.985657</td>\n",
       "      <td>29 W 35th St, New York, NY 10001</td>\n",
       "      <td>10:00:00</td>\n",
       "      <td>20:00:00</td>\n",
       "      <td>Midtown West Bars</td>\n",
       "      <td>Amazing fusion between classic &amp; contemporary ...</td>\n",
       "      <td>https://santacon.nyc/wp-content/uploads/2023/1...</td>\n",
       "    </tr>\n",
       "    <tr>\n",
       "      <th>46</th>\n",
       "      <td>Printers Alley</td>\n",
       "      <td>40.755506</td>\n",
       "      <td>-73.988588</td>\n",
       "      <td>215 West 40th St, New York, NY 10018</td>\n",
       "      <td>10:00:00</td>\n",
       "      <td>20:00:00</td>\n",
       "      <td>Midtown West Bars</td>\n",
       "      <td>4 Floor Sprawling Irish Pub 🎅🏠</td>\n",
       "      <td>https://santacon.nyc/wp-content/uploads/2023/1...</td>\n",
       "    </tr>\n",
       "    <tr>\n",
       "      <th>47</th>\n",
       "      <td>Montagu's Gusto</td>\n",
       "      <td>40.745833</td>\n",
       "      <td>-73.975552</td>\n",
       "      <td>645 2nd Ave, New York, NY 10016</td>\n",
       "      <td>09:00:00</td>\n",
       "      <td>23:00:00</td>\n",
       "      <td>Grub</td>\n",
       "      <td>Artisan eatery bringing new flavors to Santaco...</td>\n",
       "      <td>https://santacon.nyc/wp-content/uploads/2024/1...</td>\n",
       "    </tr>\n",
       "    <tr>\n",
       "      <th>48</th>\n",
       "      <td>Plug Uglies</td>\n",
       "      <td>40.738512</td>\n",
       "      <td>-73.983070</td>\n",
       "      <td>295 3rd Ave, New York, NY 10010</td>\n",
       "      <td>11:00:00</td>\n",
       "      <td>20:00:00</td>\n",
       "      <td>Murray Hill</td>\n",
       "      <td>Shuffelboard, delicious cocktails and friendly...</td>\n",
       "      <td>https://santacon.nyc/wp-content/uploads/2023/1...</td>\n",
       "    </tr>\n",
       "    <tr>\n",
       "      <th>49</th>\n",
       "      <td>Peter Dillons 36th</td>\n",
       "      <td>40.749603</td>\n",
       "      <td>-73.983317</td>\n",
       "      <td>2 E 36th St, New York, NY 10016</td>\n",
       "      <td>10:00:00</td>\n",
       "      <td>20:00:00</td>\n",
       "      <td>Midtown East Bars</td>\n",
       "      <td>Beers &amp; Cocktails for Santa 🎅🇮🇪</td>\n",
       "      <td>https://santacon.nyc/wp-content/uploads/2023/1...</td>\n",
       "    </tr>\n",
       "    <tr>\n",
       "      <th>50</th>\n",
       "      <td>Peter Dillons Pub 40th</td>\n",
       "      <td>40.750030</td>\n",
       "      <td>-73.976846</td>\n",
       "      <td>130 E 40th St, New York, NY 10016</td>\n",
       "      <td>10:00:00</td>\n",
       "      <td>20:00:00</td>\n",
       "      <td>Midtown East Bars</td>\n",
       "      <td>Beers &amp; Cocktails for Santa 🎅🇮🇪</td>\n",
       "      <td>https://santacon.nyc/wp-content/uploads/2023/1...</td>\n",
       "    </tr>\n",
       "    <tr>\n",
       "      <th>52</th>\n",
       "      <td>Playwright Irish Pub</td>\n",
       "      <td>40.749949</td>\n",
       "      <td>-73.985427</td>\n",
       "      <td>27 W 35th St, New York, NY 10001</td>\n",
       "      <td>10:00:00</td>\n",
       "      <td>21:00:00</td>\n",
       "      <td>Midtown West Bars</td>\n",
       "      <td>Santa's Winter Warmer Bar 🎅🇮🇪</td>\n",
       "      <td>https://santacon.nyc/wp-content/uploads/2023/1...</td>\n",
       "    </tr>\n",
       "    <tr>\n",
       "      <th>54</th>\n",
       "      <td>Slattery's</td>\n",
       "      <td>40.749420</td>\n",
       "      <td>-73.983008</td>\n",
       "      <td>8 E 36th St, New York, NY 10016</td>\n",
       "      <td>09:00:00</td>\n",
       "      <td>20:00:00</td>\n",
       "      <td>Midtown East Bars</td>\n",
       "      <td>Irish pub with Guinness on Draft 🎅💃</td>\n",
       "      <td>https://santacon.nyc/wp-content/uploads/2023/1...</td>\n",
       "    </tr>\n",
       "    <tr>\n",
       "      <th>56</th>\n",
       "      <td>Westbury</td>\n",
       "      <td>40.751425</td>\n",
       "      <td>-73.983823</td>\n",
       "      <td>20 W 38th St, New York, NY 10018</td>\n",
       "      <td>11:00:00</td>\n",
       "      <td>21:00:00</td>\n",
       "      <td>Midtown West Bars</td>\n",
       "      <td>Great Irish Pubs NYC Best Sports Bar Midtown M...</td>\n",
       "      <td>https://santacon.nyc/wp-content/uploads/2024/1...</td>\n",
       "    </tr>\n",
       "    <tr>\n",
       "      <th>57</th>\n",
       "      <td>Walters Bar</td>\n",
       "      <td>40.749495</td>\n",
       "      <td>-73.995850</td>\n",
       "      <td>389 8th Ave, New York, NY 10001</td>\n",
       "      <td>11:00:00</td>\n",
       "      <td>20:00:00</td>\n",
       "      <td>Chelsea</td>\n",
       "      <td>beers, darts &amp; a pool table 🎅🇮🇪</td>\n",
       "      <td>https://santacon.nyc/wp-content/uploads/2023/1...</td>\n",
       "    </tr>\n",
       "    <tr>\n",
       "      <th>58</th>\n",
       "      <td>Walters Cottage</td>\n",
       "      <td>40.760452</td>\n",
       "      <td>-73.995465</td>\n",
       "      <td>500 West 43rd St, New York, NY 10036</td>\n",
       "      <td>11:00:00</td>\n",
       "      <td>20:00:00</td>\n",
       "      <td>Midtown West Bars</td>\n",
       "      <td>10th Ave drinking hole for all your basic bar ...</td>\n",
       "      <td>https://santacon.nyc/wp-content/uploads/2023/1...</td>\n",
       "    </tr>\n",
       "    <tr>\n",
       "      <th>61</th>\n",
       "      <td>Celtic Rail</td>\n",
       "      <td>40.750069</td>\n",
       "      <td>-73.989906</td>\n",
       "      <td>137 W 33rd St, New York, NY 10120</td>\n",
       "      <td>09:00:00</td>\n",
       "      <td>23:59:00</td>\n",
       "      <td>Midtown East Bars</td>\n",
       "      <td>Madison Square Garden's staple Irish Locals Ha...</td>\n",
       "      <td>https://santacon.nyc/wp-content/uploads/2023/1...</td>\n",
       "    </tr>\n",
       "    <tr>\n",
       "      <th>62</th>\n",
       "      <td>La Macarena NYC</td>\n",
       "      <td>40.760747</td>\n",
       "      <td>-73.986387</td>\n",
       "      <td>234 W 48th St, New York, NY 10036</td>\n",
       "      <td>11:00:00</td>\n",
       "      <td>21:00:00</td>\n",
       "      <td>Midtown West Bars</td>\n",
       "      <td>Santa loves Latin Food, Hooka &amp; Party Bar in T...</td>\n",
       "      <td>https://santacon.nyc/wp-content/uploads/2024/1...</td>\n",
       "    </tr>\n",
       "    <tr>\n",
       "      <th>63</th>\n",
       "      <td>Jameson's</td>\n",
       "      <td>40.754795</td>\n",
       "      <td>-73.968974</td>\n",
       "      <td>920 2nd Ave, New York, NY 10017</td>\n",
       "      <td>11:00:00</td>\n",
       "      <td>23:00:00</td>\n",
       "      <td>Midtown East Bars</td>\n",
       "      <td>Real NYC Bar hang for Santa 🎅🇮🇪</td>\n",
       "      <td>https://santacon.nyc/wp-content/uploads/2024/1...</td>\n",
       "    </tr>\n",
       "    <tr>\n",
       "      <th>65</th>\n",
       "      <td>Kinky's Dessert Bar</td>\n",
       "      <td>40.722162</td>\n",
       "      <td>-73.988571</td>\n",
       "      <td>181 Orchard St, New York, NY 10002</td>\n",
       "      <td>11:00:00</td>\n",
       "      <td>23:00:00</td>\n",
       "      <td>Grub</td>\n",
       "      <td>A Dessert Shop with Booze...Let's Get Kinky!  👄</td>\n",
       "      <td>https://santacon.nyc/wp-content/uploads/2023/1...</td>\n",
       "    </tr>\n",
       "    <tr>\n",
       "      <th>66</th>\n",
       "      <td>Karaoke City</td>\n",
       "      <td>40.747540</td>\n",
       "      <td>-73.986076</td>\n",
       "      <td>22 W 32nd St 7th Floor, New York, NY 10001</td>\n",
       "      <td>11:00:00</td>\n",
       "      <td>21:00:00</td>\n",
       "      <td>Midtown East Bars</td>\n",
       "      <td>All I want for Christmas is on the 7th Floor f...</td>\n",
       "      <td>https://santacon.nyc/wp-content/uploads/2024/1...</td>\n",
       "    </tr>\n",
       "    <tr>\n",
       "      <th>67</th>\n",
       "      <td>Pennsylvania 6</td>\n",
       "      <td>40.748984</td>\n",
       "      <td>-73.989846</td>\n",
       "      <td>132 W 31st St, New York, NY 10001</td>\n",
       "      <td>10:00:00</td>\n",
       "      <td>20:00:00</td>\n",
       "      <td>Midtown West Bars</td>\n",
       "      <td>Sleigh at this huge Midtown masterpiece 🛷🍸🎄</td>\n",
       "      <td>https://santacon.nyc/wp-content/uploads/2024/1...</td>\n",
       "    </tr>\n",
       "    <tr>\n",
       "      <th>70</th>\n",
       "      <td>Cafe Flor</td>\n",
       "      <td>40.744262</td>\n",
       "      <td>-73.999222</td>\n",
       "      <td>218 8th Ave, New York, NY 10011</td>\n",
       "      <td>10:00:00</td>\n",
       "      <td>20:00:00</td>\n",
       "      <td>Grub</td>\n",
       "      <td>Santa's cozy Coffee Shop / Bar &amp; quick bites 🥖🍸🎄🎅</td>\n",
       "      <td>https://lh3.googleusercontent.com/p/AF1QipO49m...</td>\n",
       "    </tr>\n",
       "    <tr>\n",
       "      <th>71</th>\n",
       "      <td>McKenna's</td>\n",
       "      <td>40.739637</td>\n",
       "      <td>-74.002151</td>\n",
       "      <td>250 W 14th St, New York, NY 10011</td>\n",
       "      <td>11:00:00</td>\n",
       "      <td>20:00:00</td>\n",
       "      <td>Chelsea</td>\n",
       "      <td>Santa's Time-tested pub + bar bites 🎅🇮🇪</td>\n",
       "      <td>https://lh3.googleusercontent.com/p/AF1QipN3xQ...</td>\n",
       "    </tr>\n",
       "    <tr>\n",
       "      <th>74</th>\n",
       "      <td>Circo</td>\n",
       "      <td>40.760420</td>\n",
       "      <td>-73.984250</td>\n",
       "      <td>1604 Broadway York, NY 10019</td>\n",
       "      <td>11:00:00</td>\n",
       "      <td>22:00:00</td>\n",
       "      <td>Huge Venues</td>\n",
       "      <td>BIGGEST Santacon venue! Get to this new tri-le...</td>\n",
       "      <td>https://santacon.nyc/wp-content/uploads/2024/1...</td>\n",
       "    </tr>\n",
       "  </tbody>\n",
       "</table>\n",
       "</div>"
      ],
      "text/plain": [
       "                           Name   Latitude  Longitude  \\\n",
       "1                The Rutherford  40.751373 -73.993552   \n",
       "2                       Avenida  40.752193 -73.993465   \n",
       "5                     5th & Mad  40.749771 -73.982867   \n",
       "8                         Solas  40.729445 -73.988059   \n",
       "10                   The Tailor  40.753109 -73.993027   \n",
       "12                       Bar 13  40.734531 -73.992180   \n",
       "16  Amsterdam Billiards and Bar  40.731881 -73.989596   \n",
       "18                Horseshoe Bar  40.725217 -73.981493   \n",
       "19                  Coyote Ugly  40.733034 -73.985653   \n",
       "20                  The Laurels  40.732803 -73.984964   \n",
       "21                  Phoenix Bar  40.730035 -73.981070   \n",
       "22                The High Note  40.735088 -73.988620   \n",
       "23                  Hidden Lane  40.734725 -73.987724   \n",
       "26             Backstage Tavern  40.760502 -73.989732   \n",
       "27                    Bar Dough  40.760531 -73.989846   \n",
       "28                Blarney Stone  40.750550 -73.994830   \n",
       "29              Blue Haven East  40.745330 -73.978199   \n",
       "31   Brooklyn Deli Times Square  40.757228 -73.986979   \n",
       "34                     The Dean  40.754518 -73.989304   \n",
       "39              The Independent  40.754843 -73.987502   \n",
       "42                 Jack Doyle's  40.752280 -73.992082   \n",
       "43              John Sullivan's  40.751815 -73.990753   \n",
       "45                  The Liberty  40.749799 -73.985657   \n",
       "46               Printers Alley  40.755506 -73.988588   \n",
       "47              Montagu's Gusto  40.745833 -73.975552   \n",
       "48                  Plug Uglies  40.738512 -73.983070   \n",
       "49           Peter Dillons 36th  40.749603 -73.983317   \n",
       "50       Peter Dillons Pub 40th  40.750030 -73.976846   \n",
       "52         Playwright Irish Pub  40.749949 -73.985427   \n",
       "54                   Slattery's  40.749420 -73.983008   \n",
       "56                     Westbury  40.751425 -73.983823   \n",
       "57                  Walters Bar  40.749495 -73.995850   \n",
       "58              Walters Cottage  40.760452 -73.995465   \n",
       "61                  Celtic Rail  40.750069 -73.989906   \n",
       "62              La Macarena NYC  40.760747 -73.986387   \n",
       "63                    Jameson's  40.754795 -73.968974   \n",
       "65          Kinky's Dessert Bar  40.722162 -73.988571   \n",
       "66                 Karaoke City  40.747540 -73.986076   \n",
       "67               Pennsylvania 6  40.748984 -73.989846   \n",
       "70                    Cafe Flor  40.744262 -73.999222   \n",
       "71                    McKenna's  40.739637 -74.002151   \n",
       "74                        Circo  40.760420 -73.984250   \n",
       "\n",
       "                                       Address     Opens    Closes  \\\n",
       "1     W 33rd St at 8th Ave, New York, NY 10119  10:00:00  20:00:00   \n",
       "2       W. 34 St & 8th Ave, New York, NY 10001  10:00:00  20:00:00   \n",
       "5              7 E 36th St, New York, NY 10016  11:00:00  20:00:00   \n",
       "8             232 E 9th St, New York, NY 10003  11:00:00  20:00:00   \n",
       "10             505 8th Ave, New York, NY 10018  11:00:00  20:00:00   \n",
       "12       121 University Pl, New York, NY 10003  11:00:00  21:00:00   \n",
       "16           110 E 11th St, New York, NY 10003  11:00:00  20:00:00   \n",
       "18               108 Ave B, New York, NY 10009  11:00:00  20:00:00   \n",
       "19         233 E. 14th St., New York, NY 10003  11:00:00  21:00:00   \n",
       "20             231 2nd Ave, New York, NY 10003  10:00:00  23:00:00   \n",
       "21           447 E 13th St, New York, NY 10009  10:00:00  23:59:00   \n",
       "22           119 E 15th St, New York, NY 10003  11:00:00  22:00:00   \n",
       "23           129 E 15th St, New York, NY 10003  11:00:00  22:00:00   \n",
       "26           346 W 46th St, New York, NY 10036  10:00:00  22:00:00   \n",
       "27          350 W. 46th St, New York, NY 10036  10:00:00  22:00:00   \n",
       "28             410 8th Ave, New York, NY 10001  11:00:00  20:00:00   \n",
       "29             493 3rd Ave, New York, NY 10016  10:00:00  22:00:00   \n",
       "31        211 West 43rd St, New York, NY 10036  10:00:00  20:00:00   \n",
       "34           214 W 39th St, New York, NY 10018  11:00:00  22:00:00   \n",
       "39           147 W 40th St, New York, NY 10018  11:00:00  20:00:00   \n",
       "42           240 W 35th St, New York, NY 10001  10:00:00  21:00:00   \n",
       "43           210 W 35th St, New York, NY 10001  10:00:00  21:00:00   \n",
       "45            29 W 35th St, New York, NY 10001  10:00:00  20:00:00   \n",
       "46        215 West 40th St, New York, NY 10018  10:00:00  20:00:00   \n",
       "47             645 2nd Ave, New York, NY 10016  09:00:00  23:00:00   \n",
       "48             295 3rd Ave, New York, NY 10010  11:00:00  20:00:00   \n",
       "49             2 E 36th St, New York, NY 10016  10:00:00  20:00:00   \n",
       "50           130 E 40th St, New York, NY 10016  10:00:00  20:00:00   \n",
       "52            27 W 35th St, New York, NY 10001  10:00:00  21:00:00   \n",
       "54             8 E 36th St, New York, NY 10016  09:00:00  20:00:00   \n",
       "56            20 W 38th St, New York, NY 10018  11:00:00  21:00:00   \n",
       "57             389 8th Ave, New York, NY 10001  11:00:00  20:00:00   \n",
       "58        500 West 43rd St, New York, NY 10036  11:00:00  20:00:00   \n",
       "61           137 W 33rd St, New York, NY 10120  09:00:00  23:59:00   \n",
       "62           234 W 48th St, New York, NY 10036  11:00:00  21:00:00   \n",
       "63             920 2nd Ave, New York, NY 10017  11:00:00  23:00:00   \n",
       "65          181 Orchard St, New York, NY 10002  11:00:00  23:00:00   \n",
       "66  22 W 32nd St 7th Floor, New York, NY 10001  11:00:00  21:00:00   \n",
       "67           132 W 31st St, New York, NY 10001  10:00:00  20:00:00   \n",
       "70             218 8th Ave, New York, NY 10011  10:00:00  20:00:00   \n",
       "71           250 W 14th St, New York, NY 10011  11:00:00  20:00:00   \n",
       "74                1604 Broadway York, NY 10019  11:00:00  22:00:00   \n",
       "\n",
       "           Categories                                        Description  \\\n",
       "1         Huge Venues  Get here early for views from the Roof Deck / ...   \n",
       "2         Huge Venues  The Holiday Hustle at this rooftop + mexican b...   \n",
       "5         Huge Venues  The Snow Ball at this hugh East Side Bar + DJ ...   \n",
       "8         Huge Venues  Jingle Bell Rockout at this lounge & dance clu...   \n",
       "10        Huge Venues  Mistletoe Mania at this HUGE - 1000+ Elves & S...   \n",
       "12        Huge Venues  Frosty Fest with Drinking & techno, house & hi...   \n",
       "16  East Village Bars  25 Billiards Tables plus Ping-Pong, Darts, Foo...   \n",
       "18  East Village Bars               No-nonsense Punk & Old School Bar 🎅🧲   \n",
       "19  East Village Bars  The One, The Only, Leave Your Bra on the Ceili...   \n",
       "20  East Village Bars        Sexy, Cozy Cocktail Bar in East Village 💃🍺⛄   \n",
       "21  East Village Bars  Santas Squad Up at this hot East Village legen...   \n",
       "22  East Village Bars    Start, End or Hoilday your day on a high note 🍸   \n",
       "23  East Village Bars               The best not-so-hidden Santa spot 🎅🥃   \n",
       "26  Midtown West Bars                      Where Santa's stars align 🌟🎄🩵   \n",
       "27  Midtown West Bars            beer & cocktails + wood-fired pizzas 🎅🍕   \n",
       "28  Midtown West Bars                       Classic NYC Irish Midtown🎅🇮🇪   \n",
       "29        Murray Hill         Gramercy's Modern Sports & draught bar 🎅🏈⚽   \n",
       "31               Grub  Satin Dolls performing Christmas classics & th...   \n",
       "34  Midtown West Bars             Spacious industrial-chic trendy hub 🎅🥃   \n",
       "39  Midtown West Bars       Snug and stylish space for notable drinks 🎅🥃   \n",
       "42  Midtown West Bars              DJ at this HUGE Irish Rockin' Haus 🎅🍀   \n",
       "43  Midtown West Bars              2 Levels & Amazing Drink Specials 👯🕶️   \n",
       "45  Midtown West Bars  Amazing fusion between classic & contemporary ...   \n",
       "46  Midtown West Bars                     4 Floor Sprawling Irish Pub 🎅🏠   \n",
       "47               Grub  Artisan eatery bringing new flavors to Santaco...   \n",
       "48        Murray Hill  Shuffelboard, delicious cocktails and friendly...   \n",
       "49  Midtown East Bars                    Beers & Cocktails for Santa 🎅🇮🇪   \n",
       "50  Midtown East Bars                    Beers & Cocktails for Santa 🎅🇮🇪   \n",
       "52  Midtown West Bars                      Santa's Winter Warmer Bar 🎅🇮🇪   \n",
       "54  Midtown East Bars                Irish pub with Guinness on Draft 🎅💃   \n",
       "56  Midtown West Bars  Great Irish Pubs NYC Best Sports Bar Midtown M...   \n",
       "57            Chelsea                    beers, darts & a pool table 🎅🇮🇪   \n",
       "58  Midtown West Bars  10th Ave drinking hole for all your basic bar ...   \n",
       "61  Midtown East Bars  Madison Square Garden's staple Irish Locals Ha...   \n",
       "62  Midtown West Bars  Santa loves Latin Food, Hooka & Party Bar in T...   \n",
       "63  Midtown East Bars                    Real NYC Bar hang for Santa 🎅🇮🇪   \n",
       "65               Grub    A Dessert Shop with Booze...Let's Get Kinky!  👄   \n",
       "66  Midtown East Bars  All I want for Christmas is on the 7th Floor f...   \n",
       "67  Midtown West Bars        Sleigh at this huge Midtown masterpiece 🛷🍸🎄   \n",
       "70               Grub  Santa's cozy Coffee Shop / Bar & quick bites 🥖🍸🎄🎅   \n",
       "71            Chelsea            Santa's Time-tested pub + bar bites 🎅🇮🇪   \n",
       "74        Huge Venues  BIGGEST Santacon venue! Get to this new tri-le...   \n",
       "\n",
       "                                                Image  \n",
       "1   https://santacon.nyc/wp-content/uploads/2023/1...  \n",
       "2   https://santacon.nyc/wp-content/uploads/2023/1...  \n",
       "5   https://santacon.nyc/wp-content/uploads/2023/1...  \n",
       "8   https://santacon.nyc/wp-content/uploads/2023/1...  \n",
       "10  https://santacon.nyc/wp-content/uploads/2023/1...  \n",
       "12  https://santacon.nyc/wp-content/uploads/2023/1...  \n",
       "16  https://santacon.nyc/wp-content/uploads/2023/1...  \n",
       "18  https://santacon.nyc/wp-content/uploads/2023/1...  \n",
       "19  https://santacon.nyc/wp-content/uploads/2023/1...  \n",
       "20  https://santacon.nyc/wp-content/uploads/2023/1...  \n",
       "21  https://santacon.nyc/wp-content/uploads/2024/1...  \n",
       "22  https://santacon.nyc/wp-content/uploads/2024/1...  \n",
       "23  https://santacon.nyc/wp-content/uploads/2024/1...  \n",
       "26  https://santacon.nyc/wp-content/uploads/2024/1...  \n",
       "27  https://santacon.nyc/wp-content/uploads/2023/1...  \n",
       "28  https://santacon.nyc/wp-content/uploads/2023/1...  \n",
       "29  https://santacon.nyc/wp-content/uploads/2023/1...  \n",
       "31  https://santacon.nyc/wp-content/uploads/2024/1...  \n",
       "34  https://santacon.nyc/wp-content/uploads/2023/1...  \n",
       "39  https://santacon.nyc/wp-content/uploads/2023/1...  \n",
       "42  https://santacon.nyc/wp-content/uploads/2023/1...  \n",
       "43  https://santacon.nyc/wp-content/uploads/2023/1...  \n",
       "45  https://santacon.nyc/wp-content/uploads/2023/1...  \n",
       "46  https://santacon.nyc/wp-content/uploads/2023/1...  \n",
       "47  https://santacon.nyc/wp-content/uploads/2024/1...  \n",
       "48  https://santacon.nyc/wp-content/uploads/2023/1...  \n",
       "49  https://santacon.nyc/wp-content/uploads/2023/1...  \n",
       "50  https://santacon.nyc/wp-content/uploads/2023/1...  \n",
       "52  https://santacon.nyc/wp-content/uploads/2023/1...  \n",
       "54  https://santacon.nyc/wp-content/uploads/2023/1...  \n",
       "56  https://santacon.nyc/wp-content/uploads/2024/1...  \n",
       "57  https://santacon.nyc/wp-content/uploads/2023/1...  \n",
       "58  https://santacon.nyc/wp-content/uploads/2023/1...  \n",
       "61  https://santacon.nyc/wp-content/uploads/2023/1...  \n",
       "62  https://santacon.nyc/wp-content/uploads/2024/1...  \n",
       "63  https://santacon.nyc/wp-content/uploads/2024/1...  \n",
       "65  https://santacon.nyc/wp-content/uploads/2023/1...  \n",
       "66  https://santacon.nyc/wp-content/uploads/2024/1...  \n",
       "67  https://santacon.nyc/wp-content/uploads/2024/1...  \n",
       "70  https://lh3.googleusercontent.com/p/AF1QipO49m...  \n",
       "71  https://lh3.googleusercontent.com/p/AF1QipN3xQ...  \n",
       "74  https://santacon.nyc/wp-content/uploads/2024/1...  "
      ]
     },
     "metadata": {},
     "output_type": "display_data"
    }
   ],
   "source": [
    "display(bar_filt)"
   ]
  },
  {
   "cell_type": "markdown",
   "id": "e07a6779",
   "metadata": {},
   "source": [
    "We have filtered down the potential bars from 74 to 42 options that are open immediately following the initital meet up and late enough that Santas aren't gonna feel rushed. We have come up with 4 Sleigh Ride Themes to choose from:\n",
    "\n",
    "The Colossal Cheers Circuit (only the largest venues on our list)\n",
    "Holiday Hors D'oeuvres Hop (a foodie focused bar crawl)\n",
    "The Midtown Mistletoe March (only midtown locations)\n",
    "Shamrocks & Stockings Crawl (Irish pub focused)\n",
    "\n",
    "Let's fliter further and get each Sleigh ride finalized"
   ]
  },
  {
   "cell_type": "code",
   "execution_count": 14,
   "id": "5ebf6013",
   "metadata": {},
   "outputs": [
    {
     "data": {
      "text/html": [
       "<div>\n",
       "<style scoped>\n",
       "    .dataframe tbody tr th:only-of-type {\n",
       "        vertical-align: middle;\n",
       "    }\n",
       "\n",
       "    .dataframe tbody tr th {\n",
       "        vertical-align: top;\n",
       "    }\n",
       "\n",
       "    .dataframe thead th {\n",
       "        text-align: right;\n",
       "    }\n",
       "</style>\n",
       "<table border=\"1\" class=\"dataframe\">\n",
       "  <thead>\n",
       "    <tr style=\"text-align: right;\">\n",
       "      <th></th>\n",
       "      <th>Name</th>\n",
       "      <th>Latitude</th>\n",
       "      <th>Longitude</th>\n",
       "      <th>Address</th>\n",
       "      <th>Opens</th>\n",
       "      <th>Closes</th>\n",
       "      <th>Categories</th>\n",
       "      <th>Description</th>\n",
       "      <th>Image</th>\n",
       "    </tr>\n",
       "  </thead>\n",
       "  <tbody>\n",
       "    <tr>\n",
       "      <th>1</th>\n",
       "      <td>The Rutherford</td>\n",
       "      <td>40.751373</td>\n",
       "      <td>-73.993552</td>\n",
       "      <td>W 33rd St at 8th Ave, New York, NY 10119</td>\n",
       "      <td>10:00:00</td>\n",
       "      <td>20:00:00</td>\n",
       "      <td>Huge Venues</td>\n",
       "      <td>Get here early for views from the Roof Deck / ...</td>\n",
       "      <td>https://santacon.nyc/wp-content/uploads/2023/1...</td>\n",
       "    </tr>\n",
       "    <tr>\n",
       "      <th>2</th>\n",
       "      <td>Avenida</td>\n",
       "      <td>40.752193</td>\n",
       "      <td>-73.993465</td>\n",
       "      <td>W. 34 St &amp; 8th Ave, New York, NY 10001</td>\n",
       "      <td>10:00:00</td>\n",
       "      <td>20:00:00</td>\n",
       "      <td>Huge Venues</td>\n",
       "      <td>The Holiday Hustle at this rooftop + mexican b...</td>\n",
       "      <td>https://santacon.nyc/wp-content/uploads/2023/1...</td>\n",
       "    </tr>\n",
       "    <tr>\n",
       "      <th>5</th>\n",
       "      <td>5th &amp; Mad</td>\n",
       "      <td>40.749771</td>\n",
       "      <td>-73.982867</td>\n",
       "      <td>7 E 36th St, New York, NY 10016</td>\n",
       "      <td>11:00:00</td>\n",
       "      <td>20:00:00</td>\n",
       "      <td>Huge Venues</td>\n",
       "      <td>The Snow Ball at this hugh East Side Bar + DJ ...</td>\n",
       "      <td>https://santacon.nyc/wp-content/uploads/2023/1...</td>\n",
       "    </tr>\n",
       "    <tr>\n",
       "      <th>8</th>\n",
       "      <td>Solas</td>\n",
       "      <td>40.729445</td>\n",
       "      <td>-73.988059</td>\n",
       "      <td>232 E 9th St, New York, NY 10003</td>\n",
       "      <td>11:00:00</td>\n",
       "      <td>20:00:00</td>\n",
       "      <td>Huge Venues</td>\n",
       "      <td>Jingle Bell Rockout at this lounge &amp; dance clu...</td>\n",
       "      <td>https://santacon.nyc/wp-content/uploads/2023/1...</td>\n",
       "    </tr>\n",
       "    <tr>\n",
       "      <th>10</th>\n",
       "      <td>The Tailor</td>\n",
       "      <td>40.753109</td>\n",
       "      <td>-73.993027</td>\n",
       "      <td>505 8th Ave, New York, NY 10018</td>\n",
       "      <td>11:00:00</td>\n",
       "      <td>20:00:00</td>\n",
       "      <td>Huge Venues</td>\n",
       "      <td>Mistletoe Mania at this HUGE - 1000+ Elves &amp; S...</td>\n",
       "      <td>https://santacon.nyc/wp-content/uploads/2023/1...</td>\n",
       "    </tr>\n",
       "    <tr>\n",
       "      <th>12</th>\n",
       "      <td>Bar 13</td>\n",
       "      <td>40.734531</td>\n",
       "      <td>-73.992180</td>\n",
       "      <td>121 University Pl, New York, NY 10003</td>\n",
       "      <td>11:00:00</td>\n",
       "      <td>21:00:00</td>\n",
       "      <td>Huge Venues</td>\n",
       "      <td>Frosty Fest with Drinking &amp; techno, house &amp; hi...</td>\n",
       "      <td>https://santacon.nyc/wp-content/uploads/2023/1...</td>\n",
       "    </tr>\n",
       "    <tr>\n",
       "      <th>74</th>\n",
       "      <td>Circo</td>\n",
       "      <td>40.760420</td>\n",
       "      <td>-73.984250</td>\n",
       "      <td>1604 Broadway York, NY 10019</td>\n",
       "      <td>11:00:00</td>\n",
       "      <td>22:00:00</td>\n",
       "      <td>Huge Venues</td>\n",
       "      <td>BIGGEST Santacon venue! Get to this new tri-le...</td>\n",
       "      <td>https://santacon.nyc/wp-content/uploads/2024/1...</td>\n",
       "    </tr>\n",
       "  </tbody>\n",
       "</table>\n",
       "</div>"
      ],
      "text/plain": [
       "              Name   Latitude  Longitude  \\\n",
       "1   The Rutherford  40.751373 -73.993552   \n",
       "2          Avenida  40.752193 -73.993465   \n",
       "5        5th & Mad  40.749771 -73.982867   \n",
       "8            Solas  40.729445 -73.988059   \n",
       "10      The Tailor  40.753109 -73.993027   \n",
       "12          Bar 13  40.734531 -73.992180   \n",
       "74           Circo  40.760420 -73.984250   \n",
       "\n",
       "                                     Address     Opens    Closes   Categories  \\\n",
       "1   W 33rd St at 8th Ave, New York, NY 10119  10:00:00  20:00:00  Huge Venues   \n",
       "2     W. 34 St & 8th Ave, New York, NY 10001  10:00:00  20:00:00  Huge Venues   \n",
       "5            7 E 36th St, New York, NY 10016  11:00:00  20:00:00  Huge Venues   \n",
       "8           232 E 9th St, New York, NY 10003  11:00:00  20:00:00  Huge Venues   \n",
       "10           505 8th Ave, New York, NY 10018  11:00:00  20:00:00  Huge Venues   \n",
       "12     121 University Pl, New York, NY 10003  11:00:00  21:00:00  Huge Venues   \n",
       "74              1604 Broadway York, NY 10019  11:00:00  22:00:00  Huge Venues   \n",
       "\n",
       "                                          Description  \\\n",
       "1   Get here early for views from the Roof Deck / ...   \n",
       "2   The Holiday Hustle at this rooftop + mexican b...   \n",
       "5   The Snow Ball at this hugh East Side Bar + DJ ...   \n",
       "8   Jingle Bell Rockout at this lounge & dance clu...   \n",
       "10  Mistletoe Mania at this HUGE - 1000+ Elves & S...   \n",
       "12  Frosty Fest with Drinking & techno, house & hi...   \n",
       "74  BIGGEST Santacon venue! Get to this new tri-le...   \n",
       "\n",
       "                                                Image  \n",
       "1   https://santacon.nyc/wp-content/uploads/2023/1...  \n",
       "2   https://santacon.nyc/wp-content/uploads/2023/1...  \n",
       "5   https://santacon.nyc/wp-content/uploads/2023/1...  \n",
       "8   https://santacon.nyc/wp-content/uploads/2023/1...  \n",
       "10  https://santacon.nyc/wp-content/uploads/2023/1...  \n",
       "12  https://santacon.nyc/wp-content/uploads/2023/1...  \n",
       "74  https://santacon.nyc/wp-content/uploads/2024/1...  "
      ]
     },
     "metadata": {},
     "output_type": "display_data"
    }
   ],
   "source": [
    "huge_df = bar_filt[bar_filt['Categories']=='Huge Venues']\n",
    "display(huge_df)"
   ]
  },
  {
   "cell_type": "code",
   "execution_count": 15,
   "id": "bd78a5f9",
   "metadata": {},
   "outputs": [],
   "source": [
    "huge_df = huge_df.drop(5)"
   ]
  },
  {
   "cell_type": "code",
   "execution_count": 16,
   "id": "c4bc18a1",
   "metadata": {},
   "outputs": [],
   "source": [
    "midtown_df = bar_filt[bar_filt['Categories'].str.contains('Midtown', case=False, na=False)]"
   ]
  },
  {
   "cell_type": "code",
   "execution_count": 17,
   "id": "39d3510b",
   "metadata": {
    "collapsed": true
   },
   "outputs": [
    {
     "data": {
      "text/html": [
       "<div>\n",
       "<style scoped>\n",
       "    .dataframe tbody tr th:only-of-type {\n",
       "        vertical-align: middle;\n",
       "    }\n",
       "\n",
       "    .dataframe tbody tr th {\n",
       "        vertical-align: top;\n",
       "    }\n",
       "\n",
       "    .dataframe thead th {\n",
       "        text-align: right;\n",
       "    }\n",
       "</style>\n",
       "<table border=\"1\" class=\"dataframe\">\n",
       "  <thead>\n",
       "    <tr style=\"text-align: right;\">\n",
       "      <th></th>\n",
       "      <th>Name</th>\n",
       "      <th>Latitude</th>\n",
       "      <th>Longitude</th>\n",
       "      <th>Address</th>\n",
       "      <th>Opens</th>\n",
       "      <th>Closes</th>\n",
       "      <th>Categories</th>\n",
       "      <th>Description</th>\n",
       "      <th>Image</th>\n",
       "    </tr>\n",
       "  </thead>\n",
       "  <tbody>\n",
       "    <tr>\n",
       "      <th>26</th>\n",
       "      <td>Backstage Tavern</td>\n",
       "      <td>40.760502</td>\n",
       "      <td>-73.989732</td>\n",
       "      <td>346 W 46th St, New York, NY 10036</td>\n",
       "      <td>10:00:00</td>\n",
       "      <td>22:00:00</td>\n",
       "      <td>Midtown West Bars</td>\n",
       "      <td>Where Santa's stars align 🌟🎄🩵</td>\n",
       "      <td>https://santacon.nyc/wp-content/uploads/2024/1...</td>\n",
       "    </tr>\n",
       "    <tr>\n",
       "      <th>27</th>\n",
       "      <td>Bar Dough</td>\n",
       "      <td>40.760531</td>\n",
       "      <td>-73.989846</td>\n",
       "      <td>350 W. 46th St, New York, NY 10036</td>\n",
       "      <td>10:00:00</td>\n",
       "      <td>22:00:00</td>\n",
       "      <td>Midtown West Bars</td>\n",
       "      <td>beer &amp; cocktails + wood-fired pizzas 🎅🍕</td>\n",
       "      <td>https://santacon.nyc/wp-content/uploads/2023/1...</td>\n",
       "    </tr>\n",
       "    <tr>\n",
       "      <th>28</th>\n",
       "      <td>Blarney Stone</td>\n",
       "      <td>40.750550</td>\n",
       "      <td>-73.994830</td>\n",
       "      <td>410 8th Ave, New York, NY 10001</td>\n",
       "      <td>11:00:00</td>\n",
       "      <td>20:00:00</td>\n",
       "      <td>Midtown West Bars</td>\n",
       "      <td>Classic NYC Irish Midtown🎅🇮🇪</td>\n",
       "      <td>https://santacon.nyc/wp-content/uploads/2023/1...</td>\n",
       "    </tr>\n",
       "    <tr>\n",
       "      <th>34</th>\n",
       "      <td>The Dean</td>\n",
       "      <td>40.754518</td>\n",
       "      <td>-73.989304</td>\n",
       "      <td>214 W 39th St, New York, NY 10018</td>\n",
       "      <td>11:00:00</td>\n",
       "      <td>22:00:00</td>\n",
       "      <td>Midtown West Bars</td>\n",
       "      <td>Spacious industrial-chic trendy hub 🎅🥃</td>\n",
       "      <td>https://santacon.nyc/wp-content/uploads/2023/1...</td>\n",
       "    </tr>\n",
       "    <tr>\n",
       "      <th>39</th>\n",
       "      <td>The Independent</td>\n",
       "      <td>40.754843</td>\n",
       "      <td>-73.987502</td>\n",
       "      <td>147 W 40th St, New York, NY 10018</td>\n",
       "      <td>11:00:00</td>\n",
       "      <td>20:00:00</td>\n",
       "      <td>Midtown West Bars</td>\n",
       "      <td>Snug and stylish space for notable drinks 🎅🥃</td>\n",
       "      <td>https://santacon.nyc/wp-content/uploads/2023/1...</td>\n",
       "    </tr>\n",
       "    <tr>\n",
       "      <th>42</th>\n",
       "      <td>Jack Doyle's</td>\n",
       "      <td>40.752280</td>\n",
       "      <td>-73.992082</td>\n",
       "      <td>240 W 35th St, New York, NY 10001</td>\n",
       "      <td>10:00:00</td>\n",
       "      <td>21:00:00</td>\n",
       "      <td>Midtown West Bars</td>\n",
       "      <td>DJ at this HUGE Irish Rockin' Haus 🎅🍀</td>\n",
       "      <td>https://santacon.nyc/wp-content/uploads/2023/1...</td>\n",
       "    </tr>\n",
       "    <tr>\n",
       "      <th>43</th>\n",
       "      <td>John Sullivan's</td>\n",
       "      <td>40.751815</td>\n",
       "      <td>-73.990753</td>\n",
       "      <td>210 W 35th St, New York, NY 10001</td>\n",
       "      <td>10:00:00</td>\n",
       "      <td>21:00:00</td>\n",
       "      <td>Midtown West Bars</td>\n",
       "      <td>2 Levels &amp; Amazing Drink Specials 👯🕶️</td>\n",
       "      <td>https://santacon.nyc/wp-content/uploads/2023/1...</td>\n",
       "    </tr>\n",
       "    <tr>\n",
       "      <th>45</th>\n",
       "      <td>The Liberty</td>\n",
       "      <td>40.749799</td>\n",
       "      <td>-73.985657</td>\n",
       "      <td>29 W 35th St, New York, NY 10001</td>\n",
       "      <td>10:00:00</td>\n",
       "      <td>20:00:00</td>\n",
       "      <td>Midtown West Bars</td>\n",
       "      <td>Amazing fusion between classic &amp; contemporary ...</td>\n",
       "      <td>https://santacon.nyc/wp-content/uploads/2023/1...</td>\n",
       "    </tr>\n",
       "    <tr>\n",
       "      <th>46</th>\n",
       "      <td>Printers Alley</td>\n",
       "      <td>40.755506</td>\n",
       "      <td>-73.988588</td>\n",
       "      <td>215 West 40th St, New York, NY 10018</td>\n",
       "      <td>10:00:00</td>\n",
       "      <td>20:00:00</td>\n",
       "      <td>Midtown West Bars</td>\n",
       "      <td>4 Floor Sprawling Irish Pub 🎅🏠</td>\n",
       "      <td>https://santacon.nyc/wp-content/uploads/2023/1...</td>\n",
       "    </tr>\n",
       "    <tr>\n",
       "      <th>49</th>\n",
       "      <td>Peter Dillons 36th</td>\n",
       "      <td>40.749603</td>\n",
       "      <td>-73.983317</td>\n",
       "      <td>2 E 36th St, New York, NY 10016</td>\n",
       "      <td>10:00:00</td>\n",
       "      <td>20:00:00</td>\n",
       "      <td>Midtown East Bars</td>\n",
       "      <td>Beers &amp; Cocktails for Santa 🎅🇮🇪</td>\n",
       "      <td>https://santacon.nyc/wp-content/uploads/2023/1...</td>\n",
       "    </tr>\n",
       "    <tr>\n",
       "      <th>50</th>\n",
       "      <td>Peter Dillons Pub 40th</td>\n",
       "      <td>40.750030</td>\n",
       "      <td>-73.976846</td>\n",
       "      <td>130 E 40th St, New York, NY 10016</td>\n",
       "      <td>10:00:00</td>\n",
       "      <td>20:00:00</td>\n",
       "      <td>Midtown East Bars</td>\n",
       "      <td>Beers &amp; Cocktails for Santa 🎅🇮🇪</td>\n",
       "      <td>https://santacon.nyc/wp-content/uploads/2023/1...</td>\n",
       "    </tr>\n",
       "    <tr>\n",
       "      <th>52</th>\n",
       "      <td>Playwright Irish Pub</td>\n",
       "      <td>40.749949</td>\n",
       "      <td>-73.985427</td>\n",
       "      <td>27 W 35th St, New York, NY 10001</td>\n",
       "      <td>10:00:00</td>\n",
       "      <td>21:00:00</td>\n",
       "      <td>Midtown West Bars</td>\n",
       "      <td>Santa's Winter Warmer Bar 🎅🇮🇪</td>\n",
       "      <td>https://santacon.nyc/wp-content/uploads/2023/1...</td>\n",
       "    </tr>\n",
       "    <tr>\n",
       "      <th>54</th>\n",
       "      <td>Slattery's</td>\n",
       "      <td>40.749420</td>\n",
       "      <td>-73.983008</td>\n",
       "      <td>8 E 36th St, New York, NY 10016</td>\n",
       "      <td>09:00:00</td>\n",
       "      <td>20:00:00</td>\n",
       "      <td>Midtown East Bars</td>\n",
       "      <td>Irish pub with Guinness on Draft 🎅💃</td>\n",
       "      <td>https://santacon.nyc/wp-content/uploads/2023/1...</td>\n",
       "    </tr>\n",
       "    <tr>\n",
       "      <th>56</th>\n",
       "      <td>Westbury</td>\n",
       "      <td>40.751425</td>\n",
       "      <td>-73.983823</td>\n",
       "      <td>20 W 38th St, New York, NY 10018</td>\n",
       "      <td>11:00:00</td>\n",
       "      <td>21:00:00</td>\n",
       "      <td>Midtown West Bars</td>\n",
       "      <td>Great Irish Pubs NYC Best Sports Bar Midtown M...</td>\n",
       "      <td>https://santacon.nyc/wp-content/uploads/2024/1...</td>\n",
       "    </tr>\n",
       "    <tr>\n",
       "      <th>58</th>\n",
       "      <td>Walters Cottage</td>\n",
       "      <td>40.760452</td>\n",
       "      <td>-73.995465</td>\n",
       "      <td>500 West 43rd St, New York, NY 10036</td>\n",
       "      <td>11:00:00</td>\n",
       "      <td>20:00:00</td>\n",
       "      <td>Midtown West Bars</td>\n",
       "      <td>10th Ave drinking hole for all your basic bar ...</td>\n",
       "      <td>https://santacon.nyc/wp-content/uploads/2023/1...</td>\n",
       "    </tr>\n",
       "    <tr>\n",
       "      <th>61</th>\n",
       "      <td>Celtic Rail</td>\n",
       "      <td>40.750069</td>\n",
       "      <td>-73.989906</td>\n",
       "      <td>137 W 33rd St, New York, NY 10120</td>\n",
       "      <td>09:00:00</td>\n",
       "      <td>23:59:00</td>\n",
       "      <td>Midtown East Bars</td>\n",
       "      <td>Madison Square Garden's staple Irish Locals Ha...</td>\n",
       "      <td>https://santacon.nyc/wp-content/uploads/2023/1...</td>\n",
       "    </tr>\n",
       "    <tr>\n",
       "      <th>62</th>\n",
       "      <td>La Macarena NYC</td>\n",
       "      <td>40.760747</td>\n",
       "      <td>-73.986387</td>\n",
       "      <td>234 W 48th St, New York, NY 10036</td>\n",
       "      <td>11:00:00</td>\n",
       "      <td>21:00:00</td>\n",
       "      <td>Midtown West Bars</td>\n",
       "      <td>Santa loves Latin Food, Hooka &amp; Party Bar in T...</td>\n",
       "      <td>https://santacon.nyc/wp-content/uploads/2024/1...</td>\n",
       "    </tr>\n",
       "    <tr>\n",
       "      <th>63</th>\n",
       "      <td>Jameson's</td>\n",
       "      <td>40.754795</td>\n",
       "      <td>-73.968974</td>\n",
       "      <td>920 2nd Ave, New York, NY 10017</td>\n",
       "      <td>11:00:00</td>\n",
       "      <td>23:00:00</td>\n",
       "      <td>Midtown East Bars</td>\n",
       "      <td>Real NYC Bar hang for Santa 🎅🇮🇪</td>\n",
       "      <td>https://santacon.nyc/wp-content/uploads/2024/1...</td>\n",
       "    </tr>\n",
       "    <tr>\n",
       "      <th>66</th>\n",
       "      <td>Karaoke City</td>\n",
       "      <td>40.747540</td>\n",
       "      <td>-73.986076</td>\n",
       "      <td>22 W 32nd St 7th Floor, New York, NY 10001</td>\n",
       "      <td>11:00:00</td>\n",
       "      <td>21:00:00</td>\n",
       "      <td>Midtown East Bars</td>\n",
       "      <td>All I want for Christmas is on the 7th Floor f...</td>\n",
       "      <td>https://santacon.nyc/wp-content/uploads/2024/1...</td>\n",
       "    </tr>\n",
       "    <tr>\n",
       "      <th>67</th>\n",
       "      <td>Pennsylvania 6</td>\n",
       "      <td>40.748984</td>\n",
       "      <td>-73.989846</td>\n",
       "      <td>132 W 31st St, New York, NY 10001</td>\n",
       "      <td>10:00:00</td>\n",
       "      <td>20:00:00</td>\n",
       "      <td>Midtown West Bars</td>\n",
       "      <td>Sleigh at this huge Midtown masterpiece 🛷🍸🎄</td>\n",
       "      <td>https://santacon.nyc/wp-content/uploads/2024/1...</td>\n",
       "    </tr>\n",
       "  </tbody>\n",
       "</table>\n",
       "</div>"
      ],
      "text/plain": [
       "                      Name   Latitude  Longitude  \\\n",
       "26        Backstage Tavern  40.760502 -73.989732   \n",
       "27               Bar Dough  40.760531 -73.989846   \n",
       "28           Blarney Stone  40.750550 -73.994830   \n",
       "34                The Dean  40.754518 -73.989304   \n",
       "39         The Independent  40.754843 -73.987502   \n",
       "42            Jack Doyle's  40.752280 -73.992082   \n",
       "43         John Sullivan's  40.751815 -73.990753   \n",
       "45             The Liberty  40.749799 -73.985657   \n",
       "46          Printers Alley  40.755506 -73.988588   \n",
       "49      Peter Dillons 36th  40.749603 -73.983317   \n",
       "50  Peter Dillons Pub 40th  40.750030 -73.976846   \n",
       "52    Playwright Irish Pub  40.749949 -73.985427   \n",
       "54              Slattery's  40.749420 -73.983008   \n",
       "56                Westbury  40.751425 -73.983823   \n",
       "58         Walters Cottage  40.760452 -73.995465   \n",
       "61             Celtic Rail  40.750069 -73.989906   \n",
       "62         La Macarena NYC  40.760747 -73.986387   \n",
       "63               Jameson's  40.754795 -73.968974   \n",
       "66            Karaoke City  40.747540 -73.986076   \n",
       "67          Pennsylvania 6  40.748984 -73.989846   \n",
       "\n",
       "                                       Address     Opens    Closes  \\\n",
       "26           346 W 46th St, New York, NY 10036  10:00:00  22:00:00   \n",
       "27          350 W. 46th St, New York, NY 10036  10:00:00  22:00:00   \n",
       "28             410 8th Ave, New York, NY 10001  11:00:00  20:00:00   \n",
       "34           214 W 39th St, New York, NY 10018  11:00:00  22:00:00   \n",
       "39           147 W 40th St, New York, NY 10018  11:00:00  20:00:00   \n",
       "42           240 W 35th St, New York, NY 10001  10:00:00  21:00:00   \n",
       "43           210 W 35th St, New York, NY 10001  10:00:00  21:00:00   \n",
       "45            29 W 35th St, New York, NY 10001  10:00:00  20:00:00   \n",
       "46        215 West 40th St, New York, NY 10018  10:00:00  20:00:00   \n",
       "49             2 E 36th St, New York, NY 10016  10:00:00  20:00:00   \n",
       "50           130 E 40th St, New York, NY 10016  10:00:00  20:00:00   \n",
       "52            27 W 35th St, New York, NY 10001  10:00:00  21:00:00   \n",
       "54             8 E 36th St, New York, NY 10016  09:00:00  20:00:00   \n",
       "56            20 W 38th St, New York, NY 10018  11:00:00  21:00:00   \n",
       "58        500 West 43rd St, New York, NY 10036  11:00:00  20:00:00   \n",
       "61           137 W 33rd St, New York, NY 10120  09:00:00  23:59:00   \n",
       "62           234 W 48th St, New York, NY 10036  11:00:00  21:00:00   \n",
       "63             920 2nd Ave, New York, NY 10017  11:00:00  23:00:00   \n",
       "66  22 W 32nd St 7th Floor, New York, NY 10001  11:00:00  21:00:00   \n",
       "67           132 W 31st St, New York, NY 10001  10:00:00  20:00:00   \n",
       "\n",
       "           Categories                                        Description  \\\n",
       "26  Midtown West Bars                      Where Santa's stars align 🌟🎄🩵   \n",
       "27  Midtown West Bars            beer & cocktails + wood-fired pizzas 🎅🍕   \n",
       "28  Midtown West Bars                       Classic NYC Irish Midtown🎅🇮🇪   \n",
       "34  Midtown West Bars             Spacious industrial-chic trendy hub 🎅🥃   \n",
       "39  Midtown West Bars       Snug and stylish space for notable drinks 🎅🥃   \n",
       "42  Midtown West Bars              DJ at this HUGE Irish Rockin' Haus 🎅🍀   \n",
       "43  Midtown West Bars              2 Levels & Amazing Drink Specials 👯🕶️   \n",
       "45  Midtown West Bars  Amazing fusion between classic & contemporary ...   \n",
       "46  Midtown West Bars                     4 Floor Sprawling Irish Pub 🎅🏠   \n",
       "49  Midtown East Bars                    Beers & Cocktails for Santa 🎅🇮🇪   \n",
       "50  Midtown East Bars                    Beers & Cocktails for Santa 🎅🇮🇪   \n",
       "52  Midtown West Bars                      Santa's Winter Warmer Bar 🎅🇮🇪   \n",
       "54  Midtown East Bars                Irish pub with Guinness on Draft 🎅💃   \n",
       "56  Midtown West Bars  Great Irish Pubs NYC Best Sports Bar Midtown M...   \n",
       "58  Midtown West Bars  10th Ave drinking hole for all your basic bar ...   \n",
       "61  Midtown East Bars  Madison Square Garden's staple Irish Locals Ha...   \n",
       "62  Midtown West Bars  Santa loves Latin Food, Hooka & Party Bar in T...   \n",
       "63  Midtown East Bars                    Real NYC Bar hang for Santa 🎅🇮🇪   \n",
       "66  Midtown East Bars  All I want for Christmas is on the 7th Floor f...   \n",
       "67  Midtown West Bars        Sleigh at this huge Midtown masterpiece 🛷🍸🎄   \n",
       "\n",
       "                                                Image  \n",
       "26  https://santacon.nyc/wp-content/uploads/2024/1...  \n",
       "27  https://santacon.nyc/wp-content/uploads/2023/1...  \n",
       "28  https://santacon.nyc/wp-content/uploads/2023/1...  \n",
       "34  https://santacon.nyc/wp-content/uploads/2023/1...  \n",
       "39  https://santacon.nyc/wp-content/uploads/2023/1...  \n",
       "42  https://santacon.nyc/wp-content/uploads/2023/1...  \n",
       "43  https://santacon.nyc/wp-content/uploads/2023/1...  \n",
       "45  https://santacon.nyc/wp-content/uploads/2023/1...  \n",
       "46  https://santacon.nyc/wp-content/uploads/2023/1...  \n",
       "49  https://santacon.nyc/wp-content/uploads/2023/1...  \n",
       "50  https://santacon.nyc/wp-content/uploads/2023/1...  \n",
       "52  https://santacon.nyc/wp-content/uploads/2023/1...  \n",
       "54  https://santacon.nyc/wp-content/uploads/2023/1...  \n",
       "56  https://santacon.nyc/wp-content/uploads/2024/1...  \n",
       "58  https://santacon.nyc/wp-content/uploads/2023/1...  \n",
       "61  https://santacon.nyc/wp-content/uploads/2023/1...  \n",
       "62  https://santacon.nyc/wp-content/uploads/2024/1...  \n",
       "63  https://santacon.nyc/wp-content/uploads/2024/1...  \n",
       "66  https://santacon.nyc/wp-content/uploads/2024/1...  \n",
       "67  https://santacon.nyc/wp-content/uploads/2024/1...  "
      ]
     },
     "metadata": {},
     "output_type": "display_data"
    }
   ],
   "source": [
    "display(midtown_df)"
   ]
  },
  {
   "cell_type": "code",
   "execution_count": 18,
   "id": "c0f6d159",
   "metadata": {},
   "outputs": [],
   "source": [
    "midtown_exclude_list = [\"Bar Dough\", \"Blarney Stone\", \"Jack Doyle\\'s\",\n",
    "                        \"Printers Alley\", \"Peter Dillons 36th\", \"Peter Dillons Pub 40th\",\n",
    "                        \"Playwright Irish Pub\", \"Slattery's\", \"Westbury\", \n",
    "                        \"Walters Cottage\", \"Celtic Rail\", \"Jameson's\",\n",
    "                        \"The Dean\", \"The Independent\"]\n",
    "midtown_df = midtown_df[~midtown_df['Name'].isin(midtown_exclude_list)]"
   ]
  },
  {
   "cell_type": "code",
   "execution_count": 19,
   "id": "0a405264",
   "metadata": {
    "collapsed": true
   },
   "outputs": [
    {
     "data": {
      "text/html": [
       "<div>\n",
       "<style scoped>\n",
       "    .dataframe tbody tr th:only-of-type {\n",
       "        vertical-align: middle;\n",
       "    }\n",
       "\n",
       "    .dataframe tbody tr th {\n",
       "        vertical-align: top;\n",
       "    }\n",
       "\n",
       "    .dataframe thead th {\n",
       "        text-align: right;\n",
       "    }\n",
       "</style>\n",
       "<table border=\"1\" class=\"dataframe\">\n",
       "  <thead>\n",
       "    <tr style=\"text-align: right;\">\n",
       "      <th></th>\n",
       "      <th>Name</th>\n",
       "      <th>Latitude</th>\n",
       "      <th>Longitude</th>\n",
       "      <th>Address</th>\n",
       "      <th>Opens</th>\n",
       "      <th>Closes</th>\n",
       "      <th>Categories</th>\n",
       "      <th>Description</th>\n",
       "      <th>Image</th>\n",
       "    </tr>\n",
       "  </thead>\n",
       "  <tbody>\n",
       "    <tr>\n",
       "      <th>16</th>\n",
       "      <td>Amsterdam Billiards and Bar</td>\n",
       "      <td>40.731881</td>\n",
       "      <td>-73.989596</td>\n",
       "      <td>110 E 11th St, New York, NY 10003</td>\n",
       "      <td>11:00:00</td>\n",
       "      <td>20:00:00</td>\n",
       "      <td>East Village Bars</td>\n",
       "      <td>25 Billiards Tables plus Ping-Pong, Darts, Foo...</td>\n",
       "      <td>https://santacon.nyc/wp-content/uploads/2023/1...</td>\n",
       "    </tr>\n",
       "    <tr>\n",
       "      <th>27</th>\n",
       "      <td>Bar Dough</td>\n",
       "      <td>40.760531</td>\n",
       "      <td>-73.989846</td>\n",
       "      <td>350 W. 46th St, New York, NY 10036</td>\n",
       "      <td>10:00:00</td>\n",
       "      <td>22:00:00</td>\n",
       "      <td>Midtown West Bars</td>\n",
       "      <td>beer &amp; cocktails + wood-fired pizzas 🎅🍕</td>\n",
       "      <td>https://santacon.nyc/wp-content/uploads/2023/1...</td>\n",
       "    </tr>\n",
       "    <tr>\n",
       "      <th>31</th>\n",
       "      <td>Brooklyn Deli Times Square</td>\n",
       "      <td>40.757228</td>\n",
       "      <td>-73.986979</td>\n",
       "      <td>211 West 43rd St, New York, NY 10036</td>\n",
       "      <td>10:00:00</td>\n",
       "      <td>20:00:00</td>\n",
       "      <td>Grub</td>\n",
       "      <td>Satin Dolls performing Christmas classics &amp; th...</td>\n",
       "      <td>https://santacon.nyc/wp-content/uploads/2024/1...</td>\n",
       "    </tr>\n",
       "    <tr>\n",
       "      <th>47</th>\n",
       "      <td>Montagu's Gusto</td>\n",
       "      <td>40.745833</td>\n",
       "      <td>-73.975552</td>\n",
       "      <td>645 2nd Ave, New York, NY 10016</td>\n",
       "      <td>09:00:00</td>\n",
       "      <td>23:00:00</td>\n",
       "      <td>Grub</td>\n",
       "      <td>Artisan eatery bringing new flavors to Santaco...</td>\n",
       "      <td>https://santacon.nyc/wp-content/uploads/2024/1...</td>\n",
       "    </tr>\n",
       "    <tr>\n",
       "      <th>62</th>\n",
       "      <td>La Macarena NYC</td>\n",
       "      <td>40.760747</td>\n",
       "      <td>-73.986387</td>\n",
       "      <td>234 W 48th St, New York, NY 10036</td>\n",
       "      <td>11:00:00</td>\n",
       "      <td>21:00:00</td>\n",
       "      <td>Midtown West Bars</td>\n",
       "      <td>Santa loves Latin Food, Hooka &amp; Party Bar in T...</td>\n",
       "      <td>https://santacon.nyc/wp-content/uploads/2024/1...</td>\n",
       "    </tr>\n",
       "    <tr>\n",
       "      <th>65</th>\n",
       "      <td>Kinky's Dessert Bar</td>\n",
       "      <td>40.722162</td>\n",
       "      <td>-73.988571</td>\n",
       "      <td>181 Orchard St, New York, NY 10002</td>\n",
       "      <td>11:00:00</td>\n",
       "      <td>23:00:00</td>\n",
       "      <td>Grub</td>\n",
       "      <td>A Dessert Shop with Booze...Let's Get Kinky!  👄</td>\n",
       "      <td>https://santacon.nyc/wp-content/uploads/2023/1...</td>\n",
       "    </tr>\n",
       "    <tr>\n",
       "      <th>70</th>\n",
       "      <td>Cafe Flor</td>\n",
       "      <td>40.744262</td>\n",
       "      <td>-73.999222</td>\n",
       "      <td>218 8th Ave, New York, NY 10011</td>\n",
       "      <td>10:00:00</td>\n",
       "      <td>20:00:00</td>\n",
       "      <td>Grub</td>\n",
       "      <td>Santa's cozy Coffee Shop / Bar &amp; quick bites 🥖🍸🎄🎅</td>\n",
       "      <td>https://lh3.googleusercontent.com/p/AF1QipO49m...</td>\n",
       "    </tr>\n",
       "  </tbody>\n",
       "</table>\n",
       "</div>"
      ],
      "text/plain": [
       "                           Name   Latitude  Longitude  \\\n",
       "16  Amsterdam Billiards and Bar  40.731881 -73.989596   \n",
       "27                    Bar Dough  40.760531 -73.989846   \n",
       "31   Brooklyn Deli Times Square  40.757228 -73.986979   \n",
       "47              Montagu's Gusto  40.745833 -73.975552   \n",
       "62              La Macarena NYC  40.760747 -73.986387   \n",
       "65          Kinky's Dessert Bar  40.722162 -73.988571   \n",
       "70                    Cafe Flor  40.744262 -73.999222   \n",
       "\n",
       "                                 Address     Opens    Closes  \\\n",
       "16     110 E 11th St, New York, NY 10003  11:00:00  20:00:00   \n",
       "27    350 W. 46th St, New York, NY 10036  10:00:00  22:00:00   \n",
       "31  211 West 43rd St, New York, NY 10036  10:00:00  20:00:00   \n",
       "47       645 2nd Ave, New York, NY 10016  09:00:00  23:00:00   \n",
       "62     234 W 48th St, New York, NY 10036  11:00:00  21:00:00   \n",
       "65    181 Orchard St, New York, NY 10002  11:00:00  23:00:00   \n",
       "70       218 8th Ave, New York, NY 10011  10:00:00  20:00:00   \n",
       "\n",
       "           Categories                                        Description  \\\n",
       "16  East Village Bars  25 Billiards Tables plus Ping-Pong, Darts, Foo...   \n",
       "27  Midtown West Bars            beer & cocktails + wood-fired pizzas 🎅🍕   \n",
       "31               Grub  Satin Dolls performing Christmas classics & th...   \n",
       "47               Grub  Artisan eatery bringing new flavors to Santaco...   \n",
       "62  Midtown West Bars  Santa loves Latin Food, Hooka & Party Bar in T...   \n",
       "65               Grub    A Dessert Shop with Booze...Let's Get Kinky!  👄   \n",
       "70               Grub  Santa's cozy Coffee Shop / Bar & quick bites 🥖🍸🎄🎅   \n",
       "\n",
       "                                                Image  \n",
       "16  https://santacon.nyc/wp-content/uploads/2023/1...  \n",
       "27  https://santacon.nyc/wp-content/uploads/2023/1...  \n",
       "31  https://santacon.nyc/wp-content/uploads/2024/1...  \n",
       "47  https://santacon.nyc/wp-content/uploads/2024/1...  \n",
       "62  https://santacon.nyc/wp-content/uploads/2024/1...  \n",
       "65  https://santacon.nyc/wp-content/uploads/2023/1...  \n",
       "70  https://lh3.googleusercontent.com/p/AF1QipO49m...  "
      ]
     },
     "metadata": {},
     "output_type": "display_data"
    }
   ],
   "source": [
    "food_word_list = ['food', 'pizza']\n",
    "food_pattern = '|'.join(food_word_list)\n",
    "\n",
    "food_bars = bar_filt[\n",
    "    (bar_filt['Categories']== \"Grub\") |\n",
    "    (bar_filt['Description'].str.contains(food_pattern,\n",
    "                                          case=False, na=False))\n",
    "]\n",
    "\n",
    "display(food_bars)"
   ]
  },
  {
   "cell_type": "code",
   "execution_count": 20,
   "id": "78948ce0",
   "metadata": {},
   "outputs": [],
   "source": [
    "# removing a specific location because they don't offer liquor\n",
    "food_bars = food_bars.drop(31)"
   ]
  },
  {
   "cell_type": "code",
   "execution_count": 21,
   "id": "1db1df85",
   "metadata": {},
   "outputs": [],
   "source": [
    "irish_bars = bar_filt[bar_filt['Description'].str.contains('Irish|🇮🇪', case=False, na=False)]"
   ]
  },
  {
   "cell_type": "code",
   "execution_count": 22,
   "id": "7144fe97",
   "metadata": {},
   "outputs": [],
   "source": [
    "irish_exclusion_list = ['Blarney Stone', 'Peter Dillons 36th', \n",
    "                        'Peter Dillons Pub 40th', \"Slattery\\'s\",\n",
    "                        'Westbury']\n",
    "irish_bars = irish_bars[~irish_bars['Name'].isin(irish_exclusion_list)]"
   ]
  },
  {
   "cell_type": "markdown",
   "id": "178e201a",
   "metadata": {},
   "source": [
    "Okay--the Sleigh ride venues have been finalized. Each ride has access to 6-7 venues. We will now get the name, coordinates and address for the 3 hotels doing deals. "
   ]
  },
  {
   "cell_type": "markdown",
   "id": "43a26def",
   "metadata": {},
   "source": [
    "## Hotels"
   ]
  },
  {
   "cell_type": "code",
   "execution_count": 23,
   "id": "8fb536dd",
   "metadata": {},
   "outputs": [],
   "source": [
    "with open(\"hotels.json\", \"r\") as file2:\n",
    "    json_hotel = json.load(file2)"
   ]
  },
  {
   "cell_type": "code",
   "execution_count": 24,
   "id": "af3332f4",
   "metadata": {
    "scrolled": true
   },
   "outputs": [
    {
     "data": {
      "text/html": [
       "<div>\n",
       "<style scoped>\n",
       "    .dataframe tbody tr th:only-of-type {\n",
       "        vertical-align: middle;\n",
       "    }\n",
       "\n",
       "    .dataframe tbody tr th {\n",
       "        vertical-align: top;\n",
       "    }\n",
       "\n",
       "    .dataframe thead th {\n",
       "        text-align: right;\n",
       "    }\n",
       "</style>\n",
       "<table border=\"1\" class=\"dataframe\">\n",
       "  <thead>\n",
       "    <tr style=\"text-align: right;\">\n",
       "      <th></th>\n",
       "      <th>Name</th>\n",
       "      <th>Short</th>\n",
       "      <th>Latitude</th>\n",
       "      <th>Longitude</th>\n",
       "      <th>Address</th>\n",
       "      <th>Description</th>\n",
       "      <th>Image</th>\n",
       "    </tr>\n",
       "  </thead>\n",
       "  <tbody>\n",
       "    <tr>\n",
       "      <th>0</th>\n",
       "      <td>Arthouse Hotel NYC</td>\n",
       "      <td>Arthouse</td>\n",
       "      <td>40.782253</td>\n",
       "      <td>-73.980271</td>\n",
       "      <td>2178 Broadway, New York, NY, 10024</td>\n",
       "      <td>Arthouse Hotel New York City has brought hip, ...</td>\n",
       "      <td>https://image-tc.galaxy.tf/wijpeg-1nbmvmxtb567...</td>\n",
       "    </tr>\n",
       "    <tr>\n",
       "      <th>1</th>\n",
       "      <td>Hotel Indigo LES</td>\n",
       "      <td>Indigo</td>\n",
       "      <td>40.721923</td>\n",
       "      <td>-73.987749</td>\n",
       "      <td>171 Ludlow St, New York, NY 10002</td>\n",
       "      <td>Whether you’re snapping photos of our spectacu...</td>\n",
       "      <td>https://digital.ihg.com/is/image/ihg/hotel-ind...</td>\n",
       "    </tr>\n",
       "    <tr>\n",
       "      <th>2</th>\n",
       "      <td>The High Line Hotel</td>\n",
       "      <td>Highline</td>\n",
       "      <td>40.746105</td>\n",
       "      <td>-74.004977</td>\n",
       "      <td>180 10th Ave, New York, NY 10011</td>\n",
       "      <td>Nestled in the heart of Chelsea’s buzzing gall...</td>\n",
       "      <td>https://thehighlinehotel.com/wp-content/upload...</td>\n",
       "    </tr>\n",
       "    <tr>\n",
       "      <th>3</th>\n",
       "      <td>Virgin Hotels NYC</td>\n",
       "      <td>Virgin</td>\n",
       "      <td>40.746757</td>\n",
       "      <td>-73.988796</td>\n",
       "      <td>1227 Broadway, New York, NY 10001</td>\n",
       "      <td>Discover the best bed in all five boroughs in ...</td>\n",
       "      <td>https://newyorkyimby.com/wp-content/uploads/20...</td>\n",
       "    </tr>\n",
       "  </tbody>\n",
       "</table>\n",
       "</div>"
      ],
      "text/plain": [
       "                  Name     Short   Latitude  Longitude  \\\n",
       "0   Arthouse Hotel NYC  Arthouse  40.782253 -73.980271   \n",
       "1     Hotel Indigo LES    Indigo  40.721923 -73.987749   \n",
       "2  The High Line Hotel  Highline  40.746105 -74.004977   \n",
       "3    Virgin Hotels NYC    Virgin  40.746757 -73.988796   \n",
       "\n",
       "                              Address  \\\n",
       "0  2178 Broadway, New York, NY, 10024   \n",
       "1   171 Ludlow St, New York, NY 10002   \n",
       "2    180 10th Ave, New York, NY 10011   \n",
       "3   1227 Broadway, New York, NY 10001   \n",
       "\n",
       "                                         Description  \\\n",
       "0  Arthouse Hotel New York City has brought hip, ...   \n",
       "1  Whether you’re snapping photos of our spectacu...   \n",
       "2  Nestled in the heart of Chelsea’s buzzing gall...   \n",
       "3  Discover the best bed in all five boroughs in ...   \n",
       "\n",
       "                                               Image  \n",
       "0  https://image-tc.galaxy.tf/wijpeg-1nbmvmxtb567...  \n",
       "1  https://digital.ihg.com/is/image/ihg/hotel-ind...  \n",
       "2  https://thehighlinehotel.com/wp-content/upload...  \n",
       "3  https://newyorkyimby.com/wp-content/uploads/20...  "
      ]
     },
     "metadata": {},
     "output_type": "display_data"
    }
   ],
   "source": [
    "# Convert the nested JSON object (assuming the key is 'Hotel') into a pandas DataFrame\n",
    "hotel_df = pd.DataFrame(json_hotel[\"Hotels\"])\n",
    "\n",
    "# Select only the desired columns\n",
    "columns = [\"name\", 'short', \"latitude\", \"longitude\", \"address\", \"description\", \"image\"]\n",
    "hotel_df = hotel_df[columns]\n",
    "\n",
    "# Rename columns to match your desired naming convention\n",
    "hotel_df.columns = [\n",
    "    \"Name\", \"Short\", \"Latitude\", \"Longitude\", \"Address\",\n",
    "    \"Description\", \"Image\"\n",
    "]\n",
    "\n",
    "# Preview the DataFrame\n",
    "display(hotel_df.head())"
   ]
  },
  {
   "cell_type": "code",
   "execution_count": 25,
   "id": "d1c03f5c",
   "metadata": {},
   "outputs": [],
   "source": [
    "def coordinates(row):\n",
    "    return (row['Longitude'], row['Latitude'])"
   ]
  },
  {
   "cell_type": "code",
   "execution_count": 26,
   "id": "f46b7843",
   "metadata": {
    "run_control": {
     "marked": true
    }
   },
   "outputs": [],
   "source": [
    "def make_route_base (start, route_df, hotels):    \n",
    "    \"\"\"\n",
    "    Creates and returns each possible route and hotel combination. Additionally it\n",
    "    modifies the dataframes to have coordinates instead of latitude and logitude \n",
    "    \"\"\"\n",
    "    # Concatenate the start location, route DataFrame, and a single hotel row for each route\n",
    "    art_route = pd.concat([start, route_df, hotels.iloc[[0]].copy()], ignore_index=True).reset_index(drop=True)\n",
    "    ind_route = pd.concat([start, route_df, hotels.iloc[[1]].copy()], ignore_index=True).reset_index(drop=True)\n",
    "    high_route = pd.concat([start, route_df, hotels.iloc[[2]].copy()], ignore_index=True).reset_index(drop=True)\n",
    "    vir_route = pd.concat([start, route_df, hotels.iloc[[3]].copy()], ignore_index=True).reset_index(drop=True)\n",
    "    \n",
    "    # Replace latitude and logitude columns with a coordinate column\n",
    "    for route in [art_route, ind_route, high_route, vir_route]:\n",
    "        route['Coordinates'] = route.apply(coordinates, axis=1)\n",
    "        \n",
    "        # Drop the 'Latitude' and 'Longitude' columns\n",
    "        route.drop(columns=['Latitude', 'Longitude'], inplace=True)\n",
    "    \n",
    "    return art_route, ind_route, high_route, vir_route    \n",
    "    return art_route, ind_route, high_route, vir_route"
   ]
  },
  {
   "cell_type": "code",
   "execution_count": 27,
   "id": "e7c8bd8f",
   "metadata": {},
   "outputs": [],
   "source": [
    "start_loc_cleaned = start_loc.drop(['Opens', 'Closes', 'Categories'], axis=1)\n",
    "huge_bars_cleaned = huge_df.drop(['Opens', 'Closes', 'Categories'], axis=1)\n",
    "midtown_bars_cleaned = midtown_df.drop(['Opens', 'Closes', 'Categories'], axis=1)\n",
    "food_bars_cleaned = food_bars.drop(['Opens', 'Closes', 'Categories'], axis=1)\n",
    "irish_bars_cleaned = irish_bars.drop(['Opens', 'Closes', 'Categories'], axis=1)\n",
    "hotel_df_cleaned = hotel_df.drop(['Short'], axis=1)"
   ]
  },
  {
   "cell_type": "code",
   "execution_count": 28,
   "id": "0459b46e",
   "metadata": {},
   "outputs": [],
   "source": [
    "# Huge venue routes\n",
    "huge_arthouse, huge_indigo, huge_highline, huge_virgin = \\\n",
    "    make_route_base(start_loc_cleaned, huge_bars_cleaned, hotel_df_cleaned)\n",
    "\n",
    "# Midtown venue routes\n",
    "midtown_arthouse, midtown_indigo, midtown_highline, midtown_virgin = \\\n",
    "    make_route_base(start_loc_cleaned, midtown_bars_cleaned, hotel_df_cleaned)\n",
    "\n",
    "# Food venue routes\n",
    "food_arthouse, food_indigo, food_highline, food_virgin = \\\n",
    "    make_route_base(start_loc_cleaned, food_bars_cleaned, hotel_df_cleaned)\n",
    "\n",
    "# Irish venue routes\n",
    "irish_arthouse, irish_indigo, irish_highline, irish_virgin = \\\n",
    "    make_route_base(start_loc_cleaned, irish_bars_cleaned, hotel_df_cleaned)"
   ]
  },
  {
   "cell_type": "code",
   "execution_count": 29,
   "id": "2c71a6cb",
   "metadata": {},
   "outputs": [
    {
     "data": {
      "text/html": [
       "<div>\n",
       "<style scoped>\n",
       "    .dataframe tbody tr th:only-of-type {\n",
       "        vertical-align: middle;\n",
       "    }\n",
       "\n",
       "    .dataframe tbody tr th {\n",
       "        vertical-align: top;\n",
       "    }\n",
       "\n",
       "    .dataframe thead th {\n",
       "        text-align: right;\n",
       "    }\n",
       "</style>\n",
       "<table border=\"1\" class=\"dataframe\">\n",
       "  <thead>\n",
       "    <tr style=\"text-align: right;\">\n",
       "      <th></th>\n",
       "      <th>Name</th>\n",
       "      <th>Address</th>\n",
       "      <th>Description</th>\n",
       "      <th>Image</th>\n",
       "      <th>Coordinates</th>\n",
       "    </tr>\n",
       "  </thead>\n",
       "  <tbody>\n",
       "    <tr>\n",
       "      <th>0</th>\n",
       "      <td>*10AM START POINT THE CHRISTMAS SPECTACULAR**</td>\n",
       "      <td>1415 Broadway, New York, NY 10018</td>\n",
       "      <td>10am Santa is Painting the town Red&lt;br&gt;We will...</td>\n",
       "      <td>https://santacon.nyc/wp-content/uploads/2023/1...</td>\n",
       "      <td>(-73.9868991, 40.7543488)</td>\n",
       "    </tr>\n",
       "    <tr>\n",
       "      <th>1</th>\n",
       "      <td>Jack Doyle's</td>\n",
       "      <td>240 W 35th St, New York, NY 10001</td>\n",
       "      <td>DJ at this HUGE Irish Rockin' Haus 🎅🍀</td>\n",
       "      <td>https://santacon.nyc/wp-content/uploads/2023/1...</td>\n",
       "      <td>(-73.9920823380098, 40.7522799496454)</td>\n",
       "    </tr>\n",
       "    <tr>\n",
       "      <th>2</th>\n",
       "      <td>Printers Alley</td>\n",
       "      <td>215 West 40th St, New York, NY 10018</td>\n",
       "      <td>4 Floor Sprawling Irish Pub 🎅🏠</td>\n",
       "      <td>https://santacon.nyc/wp-content/uploads/2023/1...</td>\n",
       "      <td>(-73.9885881785405, 40.7555056845062)</td>\n",
       "    </tr>\n",
       "    <tr>\n",
       "      <th>3</th>\n",
       "      <td>Playwright Irish Pub</td>\n",
       "      <td>27 W 35th St, New York, NY 10001</td>\n",
       "      <td>Santa's Winter Warmer Bar 🎅🇮🇪</td>\n",
       "      <td>https://santacon.nyc/wp-content/uploads/2023/1...</td>\n",
       "      <td>(-73.9854266119098, 40.7499486051269)</td>\n",
       "    </tr>\n",
       "    <tr>\n",
       "      <th>4</th>\n",
       "      <td>Walters Bar</td>\n",
       "      <td>389 8th Ave, New York, NY 10001</td>\n",
       "      <td>beers, darts &amp; a pool table 🎅🇮🇪</td>\n",
       "      <td>https://santacon.nyc/wp-content/uploads/2023/1...</td>\n",
       "      <td>(-73.9958497233574, 40.7494953724932)</td>\n",
       "    </tr>\n",
       "    <tr>\n",
       "      <th>5</th>\n",
       "      <td>Celtic Rail</td>\n",
       "      <td>137 W 33rd St, New York, NY 10120</td>\n",
       "      <td>Madison Square Garden's staple Irish Locals Ha...</td>\n",
       "      <td>https://santacon.nyc/wp-content/uploads/2023/1...</td>\n",
       "      <td>(-73.989906, 40.750069)</td>\n",
       "    </tr>\n",
       "    <tr>\n",
       "      <th>6</th>\n",
       "      <td>Jameson's</td>\n",
       "      <td>920 2nd Ave, New York, NY 10017</td>\n",
       "      <td>Real NYC Bar hang for Santa 🎅🇮🇪</td>\n",
       "      <td>https://santacon.nyc/wp-content/uploads/2024/1...</td>\n",
       "      <td>(-73.9689739476126, 40.7547953755226)</td>\n",
       "    </tr>\n",
       "    <tr>\n",
       "      <th>7</th>\n",
       "      <td>McKenna's</td>\n",
       "      <td>250 W 14th St, New York, NY 10011</td>\n",
       "      <td>Santa's Time-tested pub + bar bites 🎅🇮🇪</td>\n",
       "      <td>https://lh3.googleusercontent.com/p/AF1QipN3xQ...</td>\n",
       "      <td>(-74.002150722183, 40.739637278931)</td>\n",
       "    </tr>\n",
       "    <tr>\n",
       "      <th>8</th>\n",
       "      <td>Arthouse Hotel NYC</td>\n",
       "      <td>2178 Broadway, New York, NY, 10024</td>\n",
       "      <td>Arthouse Hotel New York City has brought hip, ...</td>\n",
       "      <td>https://image-tc.galaxy.tf/wijpeg-1nbmvmxtb567...</td>\n",
       "      <td>(-73.98027072698984, 40.78225322430293)</td>\n",
       "    </tr>\n",
       "  </tbody>\n",
       "</table>\n",
       "</div>"
      ],
      "text/plain": [
       "                                            Name  \\\n",
       "0  *10AM START POINT THE CHRISTMAS SPECTACULAR**   \n",
       "1                                   Jack Doyle's   \n",
       "2                                 Printers Alley   \n",
       "3                           Playwright Irish Pub   \n",
       "4                                    Walters Bar   \n",
       "5                                    Celtic Rail   \n",
       "6                                      Jameson's   \n",
       "7                                      McKenna's   \n",
       "8                             Arthouse Hotel NYC   \n",
       "\n",
       "                                Address  \\\n",
       "0     1415 Broadway, New York, NY 10018   \n",
       "1     240 W 35th St, New York, NY 10001   \n",
       "2  215 West 40th St, New York, NY 10018   \n",
       "3      27 W 35th St, New York, NY 10001   \n",
       "4       389 8th Ave, New York, NY 10001   \n",
       "5     137 W 33rd St, New York, NY 10120   \n",
       "6       920 2nd Ave, New York, NY 10017   \n",
       "7     250 W 14th St, New York, NY 10011   \n",
       "8    2178 Broadway, New York, NY, 10024   \n",
       "\n",
       "                                         Description  \\\n",
       "0  10am Santa is Painting the town Red<br>We will...   \n",
       "1              DJ at this HUGE Irish Rockin' Haus 🎅🍀   \n",
       "2                     4 Floor Sprawling Irish Pub 🎅🏠   \n",
       "3                      Santa's Winter Warmer Bar 🎅🇮🇪   \n",
       "4                    beers, darts & a pool table 🎅🇮🇪   \n",
       "5  Madison Square Garden's staple Irish Locals Ha...   \n",
       "6                    Real NYC Bar hang for Santa 🎅🇮🇪   \n",
       "7            Santa's Time-tested pub + bar bites 🎅🇮🇪   \n",
       "8  Arthouse Hotel New York City has brought hip, ...   \n",
       "\n",
       "                                               Image  \\\n",
       "0  https://santacon.nyc/wp-content/uploads/2023/1...   \n",
       "1  https://santacon.nyc/wp-content/uploads/2023/1...   \n",
       "2  https://santacon.nyc/wp-content/uploads/2023/1...   \n",
       "3  https://santacon.nyc/wp-content/uploads/2023/1...   \n",
       "4  https://santacon.nyc/wp-content/uploads/2023/1...   \n",
       "5  https://santacon.nyc/wp-content/uploads/2023/1...   \n",
       "6  https://santacon.nyc/wp-content/uploads/2024/1...   \n",
       "7  https://lh3.googleusercontent.com/p/AF1QipN3xQ...   \n",
       "8  https://image-tc.galaxy.tf/wijpeg-1nbmvmxtb567...   \n",
       "\n",
       "                               Coordinates  \n",
       "0                (-73.9868991, 40.7543488)  \n",
       "1    (-73.9920823380098, 40.7522799496454)  \n",
       "2    (-73.9885881785405, 40.7555056845062)  \n",
       "3    (-73.9854266119098, 40.7499486051269)  \n",
       "4    (-73.9958497233574, 40.7494953724932)  \n",
       "5                  (-73.989906, 40.750069)  \n",
       "6    (-73.9689739476126, 40.7547953755226)  \n",
       "7      (-74.002150722183, 40.739637278931)  \n",
       "8  (-73.98027072698984, 40.78225322430293)  "
      ]
     },
     "metadata": {},
     "output_type": "display_data"
    },
    {
     "data": {
      "text/plain": [
       "Index(['Name', 'Address', 'Description', 'Image', 'Coordinates'], dtype='object')"
      ]
     },
     "metadata": {},
     "output_type": "display_data"
    }
   ],
   "source": [
    "display(irish_arthouse)\n",
    "display(irish_arthouse.columns)"
   ]
  },
  {
   "cell_type": "markdown",
   "id": "327a96b5",
   "metadata": {},
   "source": [
    "## Alogrithms for calculating route distances and routes"
   ]
  },
  {
   "cell_type": "markdown",
   "id": "89d217e2",
   "metadata": {},
   "source": [
    "We now have every component we need for assessing optimal routes. Let's devise an algorithm to find optimal routes and compare it to a baseline random route. "
   ]
  },
  {
   "cell_type": "code",
   "execution_count": 30,
   "id": "3f03d75e",
   "metadata": {},
   "outputs": [],
   "source": [
    "def get_route_coordinates(route_df):\n",
    "    \"\"\"\n",
    "    Get the coordinates of the route, including the start, all waypoints, and the hotel (end).\n",
    "    The start and hotel remain fixed, while intermediate waypoints will be rearranged.\n",
    "    \"\"\"\n",
    "    \n",
    "    # Extract the start location (first row), all waypoints (middle), and the hotel (last row)\n",
    "    start_location = route_df.iloc[0]['Coordinates']\n",
    "    hotel_location = route_df.iloc[-1]['Coordinates']\n",
    "    waypoints = route_df.iloc[1:-1]['Coordinates'].tolist()\n",
    "\n",
    "    # Combine start, waypoints, and hotel into a single list\n",
    "    coordinates_list = [start_location] + waypoints + [hotel_location]\n",
    "    return coordinates_list"
   ]
  },
  {
   "cell_type": "code",
   "execution_count": 31,
   "id": "38726c0c",
   "metadata": {},
   "outputs": [],
   "source": [
    "def calculate_route_distance(route_df, route_order_list):\n",
    "    \"\"\"\n",
    "    Calculate the total route distance using OpenRouteService for a given order of locations.\n",
    "    \n",
    "    Parameters:\n",
    "    - route_df: The dataframe containing the locations (including start, waypoints, and hotel).\n",
    "    - route_order_list: A list of indices that represents the order of locations in the route.\n",
    "    \n",
    "    Returns:\n",
    "    - total_distance: The total distance of the route, in miles.\n",
    "    \"\"\"\n",
    "    \n",
    "    # Create a list of coordinates based on the ordered route\n",
    "    coordinates_list = []\n",
    "    for i in route_order_list:\n",
    "        location = route_df.iloc[i]\n",
    "        coordinates_list.append(location['Coordinates'])\n",
    "    \n",
    "    # Calculate the route distance using OpenRouteService's directions API\n",
    "    total_distance = 0\n",
    "    \n",
    "    for i in range(len(coordinates_list) - 1):\n",
    "        origin = coordinates_list[i]\n",
    "        destination = coordinates_list[i + 1]\n",
    "        \n",
    "        # Request directions between consecutive locations\n",
    "        routes = client.directions(\n",
    "            coordinates=[origin, destination],\n",
    "            profile='driving-car',\n",
    "            format='geojson'\n",
    "        )\n",
    "        \n",
    "        # Extract the distance from the response (in meters)\n",
    "        route_distance = routes['features'][0]['properties']['segments'][0]['distance'] / 1000  # Convert to kilometers\n",
    "        \n",
    "        route_distance_miles = route_distance * 0.621371  # Conversion factor from km to miles\n",
    "        \n",
    "        # Add this distance to the total distance\n",
    "        total_distance += route_distance_miles\n",
    "    \n",
    "    return total_distance\n"
   ]
  },
  {
   "cell_type": "code",
   "execution_count": 32,
   "id": "299e7e59",
   "metadata": {},
   "outputs": [],
   "source": [
    "def create_distance_matrix (route_df):\n",
    "    \"\"\"\n",
    "    Calculate the distance matrix using Openrouteservice for the given list of \n",
    "    locations. Each location is a tuple of (longitude, latitude).\n",
    "    \"\"\"\n",
    "    \n",
    "    location_list = get_route_coordinates(route_df)\n",
    "    \n",
    "    matrix = client.distance_matrix(\n",
    "        locations=location_list,\n",
    "        profile='driving-car',\n",
    "        metrics=['distance'],\n",
    "        sources=None,  # All points are sources\n",
    "        destinations=None  # All points are destinations\n",
    "    )\n",
    "    \n",
    "    # Extract the distance matrix (in meters)\n",
    "    return matrix['distances']\n"
   ]
  },
  {
   "cell_type": "code",
   "execution_count": 33,
   "id": "0b0bc3b6",
   "metadata": {},
   "outputs": [],
   "source": [
    "def nearest_neighbor_tsp(distance_matrix):\n",
    "    \"\"\"\n",
    "    Solve the Traveling Salesman Problem using the Nearest Neighbor heuristic,\n",
    "    keeping the start and end locations fixed.\n",
    "    \"\"\"\n",
    "    n = len(distance_matrix)  # Total number of locations\n",
    "    visited = [False] * n  # To track visited locations\n",
    "    route = [0]  # Start at the first location (start location)\n",
    "    visited[0] = True  # Mark the start as visited\n",
    "    total_distance = 0\n",
    "\n",
    "    current_index = 0  # Start at the first location (start point)\n",
    "\n",
    "    # Loop over all intermediate locations to find the nearest unvisited neighbor\n",
    "    for _ in range(n - 2):  # Skip the start (0) and end (n-1)\n",
    "        nearest_distance = float('inf')\n",
    "        nearest_index = -1\n",
    "        \n",
    "        for i in range(1, n - 1):  # Only consider intermediate locations (1 to n-2)\n",
    "            if not visited[i] and distance_matrix[current_index][i] < nearest_distance:\n",
    "                nearest_distance = distance_matrix[current_index][i]\n",
    "                nearest_index = i\n",
    "        \n",
    "        # Add the nearest location to the route\n",
    "        route.append(nearest_index)\n",
    "        visited[nearest_index] = True\n",
    "        total_distance += nearest_distance\n",
    "        current_index = nearest_index\n",
    "\n",
    "    # Add the distance from the last visited location to the hotel (end point)\n",
    "    total_distance += distance_matrix[current_index][n-1]\n",
    "\n",
    "    return route, total_distance"
   ]
  },
  {
   "cell_type": "code",
   "execution_count": 67,
   "id": "a95c82a9",
   "metadata": {},
   "outputs": [],
   "source": [
    "def find_optimal_route_nn(route_df):\n",
    "    \"\"\"\n",
    "    Finds the optimal route for the given route dataframe using TSP.\n",
    "    The start and hotel locations are fixed, while the waypoints (bars) are rearranged.\n",
    "    \"\"\"\n",
    "\n",
    "    # Step 1: Get the distance matrix (distance between all locations)\n",
    "    distance_matrix = create_distance_matrix(route_df)\n",
    "\n",
    "    # Step 2: Solve TSP using Nearest Neighbor heuristic\n",
    "    optimal_route, total_distance = nearest_neighbor_tsp(distance_matrix)\n",
    "    \n",
    "    optimal_route = optimal_route + [len(route_df) - 1]  # Add the hotel at the end\n",
    "\n",
    "    # Map the optimal route back to hotel/bar names (based on their index in the dataframe)\n",
    "    route_names = [route_df.iloc[i]['Name'] for i in optimal_route] \n",
    "\n",
    "    return route_names, (total_distance/1000)*0.621371"
   ]
  },
  {
   "cell_type": "code",
   "execution_count": 35,
   "id": "c0b6c3ce",
   "metadata": {},
   "outputs": [],
   "source": [
    "# Below was an attempt at making a greedy algorthim with nearest neighbors but it did not \n",
    "# prove to be any better in testing\n",
    "\n",
    "# def nearest_neighbor_tsp2(distance_matrix, waypoint_indices):\n",
    "#     \"\"\"\n",
    "#     Solves the TSP using the nearest neighbor heuristic.\n",
    "#     Returns the optimal order of waypoints and the total distance.\n",
    "#     \"\"\"\n",
    "#     # Start from the first waypoint in the list\n",
    "#     current_index = waypoint_indices[0]\n",
    "#     unvisited = set(waypoint_indices)\n",
    "#     unvisited.remove(current_index)\n",
    "    \n",
    "#     route = [current_index]\n",
    "#     total_distance = 0\n",
    "    \n",
    "#     # Visit each waypoint based on the nearest neighbor\n",
    "#     while unvisited:\n",
    "#         nearest_neighbor = min(unvisited, key=lambda x: distance_matrix[current_index][x])\n",
    "#         route.append(nearest_neighbor)\n",
    "#         total_distance += distance_matrix[current_index][nearest_neighbor]\n",
    "#         current_index = nearest_neighbor\n",
    "#         unvisited.remove(current_index)\n",
    "\n",
    "#     return route, total_distance\n"
   ]
  },
  {
   "cell_type": "code",
   "execution_count": 36,
   "id": "a367856c",
   "metadata": {
    "run_control": {
     "marked": true
    }
   },
   "outputs": [],
   "source": [
    "# def find_optimal_route_reversed(route_df):\n",
    "#     \"\"\"\n",
    "#     Finds the optimal route while keeping the start location fixed as the first stop.\n",
    "#     Optimizes the route in reverse order (bars) ensuring the hotel is the last stop.\n",
    "#     \"\"\"\n",
    "#     # Step 1: Create the distance matrix (distance between all locations)\n",
    "#     distance_matrix = create_distance_matrix(route_df)\n",
    "\n",
    "#     # Step 2: Define indices for start and hotel\n",
    "#     start_index = 0  # Start location (fixed as first)\n",
    "#     hotel_index = len(route_df) - 1  # Hotel location (fixed as last)\n",
    "\n",
    "#     # Step 3: Extract waypoint indices (bars), which will be optimized\n",
    "#     waypoint_indices = list(range(1, len(route_df) - 1))  # Exclude start (0) and hotel (last index)\n",
    "\n",
    "#     # Step 4: Reverse the waypoints (bars) to optimize in reverse\n",
    "#     reversed_waypoints = waypoint_indices[::-1]\n",
    "\n",
    "#     # Step 5: Solve the TSP (nearest neighbor) for the reversed waypoints\n",
    "#     optimal_waypoints, waypoints_distance = nearest_neighbor_tsp2(distance_matrix, reversed_waypoints)\n",
    "\n",
    "#     # Step 6: Reconstruct the full route: Start -> Optimized Bars -> Hotel\n",
    "#     optimal_waypoints.insert(0, start_index)  # Add start at the beginning\n",
    "#     optimal_waypoints.append(hotel_index)  # Add hotel at the end\n",
    "#     full_route = optimal_waypoints\n",
    "\n",
    "#     # Step 7: Calculate the total distance for the full route\n",
    "#     total_distance = (\n",
    "#         sum(distance_matrix[full_route[i]][full_route[i + 1]] for i in range(len(full_route) - 1))\n",
    "#     )\n",
    "\n",
    "#     # Step 8: Map indices to names\n",
    "#     route_names = [route_df.iloc[i]['Name'] for i in full_route]\n",
    "\n",
    "#     return route_names, (total_distance/1000)*0.621371\n"
   ]
  },
  {
   "cell_type": "code",
   "execution_count": 123,
   "id": "03b7d747",
   "metadata": {},
   "outputs": [],
   "source": [
    "# Initialize the client with API key\n",
    "client = openrouteservice.Client(key=\"YOUR ORS KEY NOT MINE\")\n"
   ]
  },
  {
   "cell_type": "code",
   "execution_count": 39,
   "id": "3468feb7",
   "metadata": {},
   "outputs": [
    {
     "data": {
      "text/html": [
       "<div>\n",
       "<style scoped>\n",
       "    .dataframe tbody tr th:only-of-type {\n",
       "        vertical-align: middle;\n",
       "    }\n",
       "\n",
       "    .dataframe tbody tr th {\n",
       "        vertical-align: top;\n",
       "    }\n",
       "\n",
       "    .dataframe thead th {\n",
       "        text-align: right;\n",
       "    }\n",
       "</style>\n",
       "<table border=\"1\" class=\"dataframe\">\n",
       "  <thead>\n",
       "    <tr style=\"text-align: right;\">\n",
       "      <th></th>\n",
       "      <th>Name</th>\n",
       "      <th>Address</th>\n",
       "      <th>Description</th>\n",
       "      <th>Image</th>\n",
       "      <th>Coordinates</th>\n",
       "    </tr>\n",
       "  </thead>\n",
       "  <tbody>\n",
       "    <tr>\n",
       "      <th>0</th>\n",
       "      <td>*10AM START POINT THE CHRISTMAS SPECTACULAR**</td>\n",
       "      <td>1415 Broadway, New York, NY 10018</td>\n",
       "      <td>10am Santa is Painting the town Red&lt;br&gt;We will...</td>\n",
       "      <td>https://santacon.nyc/wp-content/uploads/2023/1...</td>\n",
       "      <td>(-73.9868991, 40.7543488)</td>\n",
       "    </tr>\n",
       "    <tr>\n",
       "      <th>1</th>\n",
       "      <td>The Rutherford</td>\n",
       "      <td>W 33rd St at 8th Ave, New York, NY 10119</td>\n",
       "      <td>Get here early for views from the Roof Deck / ...</td>\n",
       "      <td>https://santacon.nyc/wp-content/uploads/2023/1...</td>\n",
       "      <td>(-73.9935521707214, 40.7513730510933)</td>\n",
       "    </tr>\n",
       "    <tr>\n",
       "      <th>2</th>\n",
       "      <td>Avenida</td>\n",
       "      <td>W. 34 St &amp; 8th Ave, New York, NY 10001</td>\n",
       "      <td>The Holiday Hustle at this rooftop + mexican b...</td>\n",
       "      <td>https://santacon.nyc/wp-content/uploads/2023/1...</td>\n",
       "      <td>(-73.993465, 40.752193)</td>\n",
       "    </tr>\n",
       "    <tr>\n",
       "      <th>3</th>\n",
       "      <td>Solas</td>\n",
       "      <td>232 E 9th St, New York, NY 10003</td>\n",
       "      <td>Jingle Bell Rockout at this lounge &amp; dance clu...</td>\n",
       "      <td>https://santacon.nyc/wp-content/uploads/2023/1...</td>\n",
       "      <td>(-73.988059, 40.729445)</td>\n",
       "    </tr>\n",
       "    <tr>\n",
       "      <th>4</th>\n",
       "      <td>The Tailor</td>\n",
       "      <td>505 8th Ave, New York, NY 10018</td>\n",
       "      <td>Mistletoe Mania at this HUGE - 1000+ Elves &amp; S...</td>\n",
       "      <td>https://santacon.nyc/wp-content/uploads/2023/1...</td>\n",
       "      <td>(-73.993027, 40.753109)</td>\n",
       "    </tr>\n",
       "    <tr>\n",
       "      <th>5</th>\n",
       "      <td>Bar 13</td>\n",
       "      <td>121 University Pl, New York, NY 10003</td>\n",
       "      <td>Frosty Fest with Drinking &amp; techno, house &amp; hi...</td>\n",
       "      <td>https://santacon.nyc/wp-content/uploads/2023/1...</td>\n",
       "      <td>(-73.99218, 40.734531)</td>\n",
       "    </tr>\n",
       "    <tr>\n",
       "      <th>6</th>\n",
       "      <td>Circo</td>\n",
       "      <td>1604 Broadway York, NY 10019</td>\n",
       "      <td>BIGGEST Santacon venue! Get to this new tri-le...</td>\n",
       "      <td>https://santacon.nyc/wp-content/uploads/2024/1...</td>\n",
       "      <td>(-73.98425, 40.76042)</td>\n",
       "    </tr>\n",
       "    <tr>\n",
       "      <th>7</th>\n",
       "      <td>Arthouse Hotel NYC</td>\n",
       "      <td>2178 Broadway, New York, NY, 10024</td>\n",
       "      <td>Arthouse Hotel New York City has brought hip, ...</td>\n",
       "      <td>https://image-tc.galaxy.tf/wijpeg-1nbmvmxtb567...</td>\n",
       "      <td>(-73.98027072698984, 40.78225322430293)</td>\n",
       "    </tr>\n",
       "  </tbody>\n",
       "</table>\n",
       "</div>"
      ],
      "text/plain": [
       "                                            Name  \\\n",
       "0  *10AM START POINT THE CHRISTMAS SPECTACULAR**   \n",
       "1                                 The Rutherford   \n",
       "2                                        Avenida   \n",
       "3                                          Solas   \n",
       "4                                     The Tailor   \n",
       "5                                         Bar 13   \n",
       "6                                          Circo   \n",
       "7                             Arthouse Hotel NYC   \n",
       "\n",
       "                                    Address  \\\n",
       "0         1415 Broadway, New York, NY 10018   \n",
       "1  W 33rd St at 8th Ave, New York, NY 10119   \n",
       "2    W. 34 St & 8th Ave, New York, NY 10001   \n",
       "3          232 E 9th St, New York, NY 10003   \n",
       "4           505 8th Ave, New York, NY 10018   \n",
       "5     121 University Pl, New York, NY 10003   \n",
       "6              1604 Broadway York, NY 10019   \n",
       "7        2178 Broadway, New York, NY, 10024   \n",
       "\n",
       "                                         Description  \\\n",
       "0  10am Santa is Painting the town Red<br>We will...   \n",
       "1  Get here early for views from the Roof Deck / ...   \n",
       "2  The Holiday Hustle at this rooftop + mexican b...   \n",
       "3  Jingle Bell Rockout at this lounge & dance clu...   \n",
       "4  Mistletoe Mania at this HUGE - 1000+ Elves & S...   \n",
       "5  Frosty Fest with Drinking & techno, house & hi...   \n",
       "6  BIGGEST Santacon venue! Get to this new tri-le...   \n",
       "7  Arthouse Hotel New York City has brought hip, ...   \n",
       "\n",
       "                                               Image  \\\n",
       "0  https://santacon.nyc/wp-content/uploads/2023/1...   \n",
       "1  https://santacon.nyc/wp-content/uploads/2023/1...   \n",
       "2  https://santacon.nyc/wp-content/uploads/2023/1...   \n",
       "3  https://santacon.nyc/wp-content/uploads/2023/1...   \n",
       "4  https://santacon.nyc/wp-content/uploads/2023/1...   \n",
       "5  https://santacon.nyc/wp-content/uploads/2023/1...   \n",
       "6  https://santacon.nyc/wp-content/uploads/2024/1...   \n",
       "7  https://image-tc.galaxy.tf/wijpeg-1nbmvmxtb567...   \n",
       "\n",
       "                               Coordinates  \n",
       "0                (-73.9868991, 40.7543488)  \n",
       "1    (-73.9935521707214, 40.7513730510933)  \n",
       "2                  (-73.993465, 40.752193)  \n",
       "3                  (-73.988059, 40.729445)  \n",
       "4                  (-73.993027, 40.753109)  \n",
       "5                   (-73.99218, 40.734531)  \n",
       "6                    (-73.98425, 40.76042)  \n",
       "7  (-73.98027072698984, 40.78225322430293)  "
      ]
     },
     "metadata": {},
     "output_type": "display_data"
    }
   ],
   "source": [
    "display(huge_arthouse)"
   ]
  },
  {
   "cell_type": "code",
   "execution_count": 40,
   "id": "6f79888a",
   "metadata": {},
   "outputs": [
    {
     "data": {
      "text/plain": [
       "(['*10AM START POINT THE CHRISTMAS SPECTACULAR**',\n",
       "  'Circo',\n",
       "  'The Tailor',\n",
       "  'The Rutherford',\n",
       "  'Avenida',\n",
       "  'Bar 13',\n",
       "  'Solas',\n",
       "  'Arthouse Hotel NYC'],\n",
       " 9.89604153794)"
      ]
     },
     "execution_count": 40,
     "metadata": {},
     "output_type": "execute_result"
    }
   ],
   "source": [
    "find_optimal_route_nn(huge_arthouse)"
   ]
  },
  {
   "cell_type": "code",
   "execution_count": 41,
   "id": "fb6f89cb",
   "metadata": {},
   "outputs": [
    {
     "data": {
      "text/plain": [
       "(['*10AM START POINT THE CHRISTMAS SPECTACULAR**',\n",
       "  'Circo',\n",
       "  'The Tailor',\n",
       "  'The Rutherford',\n",
       "  'Avenida',\n",
       "  'Bar 13',\n",
       "  'Solas',\n",
       "  'Arthouse Hotel NYC'],\n",
       " 9.89604153794)"
      ]
     },
     "execution_count": 41,
     "metadata": {},
     "output_type": "execute_result"
    }
   ],
   "source": [
    "find_optimal_route_reversed(huge_arthouse)"
   ]
  },
  {
   "cell_type": "code",
   "execution_count": 42,
   "id": "2c86b04e",
   "metadata": {},
   "outputs": [
    {
     "data": {
      "text/plain": [
       "9.1402431358"
      ]
     },
     "execution_count": 42,
     "metadata": {},
     "output_type": "execute_result"
    }
   ],
   "source": [
    "calculate_route_distance(huge_arthouse, [0, 1, 5, 3, 2, 4, 6, 7])"
   ]
  },
  {
   "cell_type": "code",
   "execution_count": 43,
   "id": "470b1f97",
   "metadata": {},
   "outputs": [],
   "source": [
    "def get_optimized_route_mq(api_key, route_df):\n",
    "    \"\"\"\n",
    "    Retrieve the optimized route from MapQuest API based on a DataFrame.\n",
    "\n",
    "    Parameters:\n",
    "    - api_key (str): Your MapQuest API key.\n",
    "    - route_df (pd.DataFrame): DataFrame containing the addresses for the optimization.\n",
    "\n",
    "    Returns:\n",
    "    - dict: Optimized route information or None if the request fails.\n",
    "    \"\"\"\n",
    "    # Extract the Address column as a list\n",
    "    addresses = route_df['Address'].tolist()\n",
    "\n",
    "    # MapQuest Optimized Route API endpoint\n",
    "    base_url = \"http://www.mapquestapi.com/directions/v2/optimizedroute\"\n",
    "\n",
    "    # Payload for the API request\n",
    "    payload = {\n",
    "        \"key\": api_key,\n",
    "        \"locations\": addresses\n",
    "    }\n",
    "\n",
    "    # API request\n",
    "    response = requests.post(base_url, json=payload)\n",
    "\n",
    "    if response.status_code == 200:\n",
    "        # Parse and display the optimized route\n",
    "        optimized_route = response.json()\n",
    "        print(\"Optimized Route Order:\")\n",
    "        for loc in optimized_route['route']['locations']:\n",
    "            print(loc.get('street', 'No street information'))\n",
    "            \n",
    "        # Display total route distance\n",
    "        total_distance = optimized_route['route'].get('distance', 0)\n",
    "        print(f\"\\nTotal Route Distance: {total_distance} miles \\n\")\n",
    "        \n",
    "#         # Display distances between each leg\n",
    "#         print(\"\\nDistance Between Stops:\")\n",
    "#         for i, leg in enumerate(optimized_route['route']['legs'], 1):\n",
    "#             print(f\"Leg {i}: {leg.get('distance', 0)} miles\")\n",
    "            \n",
    "        return optimized_route\n",
    "    else:\n",
    "        # Print error details if the request fails\n",
    "        print(f\"Error: {response.status_code}, {response.text}\")\n",
    "        return None\n"
   ]
  },
  {
   "cell_type": "code",
   "execution_count": 44,
   "id": "06c40d3f",
   "metadata": {},
   "outputs": [],
   "source": [
    "mq_key = 'YOUR MAPQUEST KEY NOT MINE'"
   ]
  },
  {
   "cell_type": "code",
   "execution_count": 46,
   "id": "d24c8258",
   "metadata": {},
   "outputs": [
    {
     "name": "stdout",
     "output_type": "stream",
     "text": [
      "Optimized Route Order:\n",
      "1415 Broadway\n",
      "1604 Broadway\n",
      "W 34th St\n",
      "505 8th Ave\n",
      "33 8th Ave\n",
      "121 University Pl\n",
      "232 E 9th St\n",
      "171 Ludlow St\n",
      "\n",
      "Total Route Distance: 6.816399999999999 miles \n",
      "\n",
      "Optimized Route Order:\n",
      "1415 Broadway\n",
      "W 34th St\n",
      "505 8th Ave\n",
      "1604 Broadway\n",
      "121 University Pl\n",
      "232 E 9th St\n",
      "33 8th Ave\n",
      "180 10th Ave\n",
      "\n",
      "Total Route Distance: 7.1738 miles \n",
      "\n",
      "Optimized Route Order:\n",
      "1415 Broadway\n",
      "1604 Broadway\n",
      "W 34th St\n",
      "505 8th Ave\n",
      "33 8th Ave\n",
      "121 University Pl\n",
      "232 E 9th St\n",
      "1227 Broadway\n",
      "\n",
      "Total Route Distance: 7.607999999999999 miles \n",
      "\n"
     ]
    }
   ],
   "source": [
    "huge_arthouse_mqopt = get_optimized_route_mq(mq_key, huge_arthouse)\n",
    "huge_indigo_mqopt = get_optimized_route_mq(mq_key, huge_indigo)\n",
    "huge_highline_mqopt = get_optimized_route_mq(mq_key, huge_highline)\n",
    "huge_virgin_mqopt = get_optimized_route_mq(mq_key, huge_virgin)\n"
   ]
  },
  {
   "cell_type": "code",
   "execution_count": 47,
   "id": "1ff2477a",
   "metadata": {},
   "outputs": [
    {
     "name": "stdout",
     "output_type": "stream",
     "text": [
      "Optimized Route Order:\n",
      "1415 Broadway\n",
      "132 W 31st St\n",
      "22 W 32nd St, 7th Floor\n",
      "29 W 35th St\n",
      "210 W 35th St\n",
      "234 W 48th St\n",
      "346 W 46th St\n",
      "2178 Broadway\n",
      "\n",
      "Total Route Distance: 5.3606 miles \n",
      "\n",
      "Optimized Route Order:\n",
      "1415 Broadway\n",
      "210 W 35th St\n",
      "346 W 46th St\n",
      "234 W 48th St\n",
      "29 W 35th St\n",
      "132 W 31st St\n",
      "22 W 32nd St, 7th Floor\n",
      "171 Ludlow St\n",
      "\n",
      "Total Route Distance: 6.585299999999999 miles \n",
      "\n",
      "Optimized Route Order:\n",
      "1415 Broadway\n",
      "346 W 46th St\n",
      "234 W 48th St\n",
      "29 W 35th St\n",
      "210 W 35th St\n",
      "22 W 32nd St, 7th Floor\n",
      "132 W 31st St\n",
      "180 10th Ave\n",
      "\n",
      "Total Route Distance: 5.2246 miles \n",
      "\n",
      "Optimized Route Order:\n",
      "1415 Broadway\n",
      "346 W 46th St\n",
      "234 W 48th St\n",
      "29 W 35th St\n",
      "210 W 35th St\n",
      "22 W 32nd St, 7th Floor\n",
      "132 W 31st St\n",
      "1227 Broadway\n",
      "\n",
      "Total Route Distance: 4.3504 miles \n",
      "\n"
     ]
    }
   ],
   "source": [
    "midtown_arthouse_mqopt = get_optimized_route_mq(mq_key, midtown_arthouse)\n",
    "midtown_indigo_mqopt = get_optimized_route_mq(mq_key, midtown_indigo)\n",
    "midtown_highline_mqopt = get_optimized_route_mq(mq_key, midtown_highline)\n",
    "midtown_virgin_mqopt = get_optimized_route_mq(mq_key, midtown_virgin)\n"
   ]
  },
  {
   "cell_type": "code",
   "execution_count": 48,
   "id": "beecbc13",
   "metadata": {},
   "outputs": [
    {
     "name": "stdout",
     "output_type": "stream",
     "text": [
      "Optimized Route Order:\n",
      "1415 Broadway\n",
      "645 2nd Ave\n",
      "181 Orchard St\n",
      "110 E 11th St\n",
      "218 8th Ave\n",
      "350 W 46th St\n",
      "234 W 48th St\n",
      "2178 Broadway\n",
      "\n",
      "Total Route Distance: 11.3817 miles \n",
      "\n",
      "Optimized Route Order:\n",
      "1415 Broadway\n",
      "218 8th Ave\n",
      "350 W 46th St\n",
      "234 W 48th St\n",
      "645 2nd Ave\n",
      "110 E 11th St\n",
      "181 Orchard St\n",
      "171 Ludlow St\n",
      "\n",
      "Total Route Distance: 9.1099 miles \n",
      "\n",
      "Optimized Route Order:\n",
      "1415 Broadway\n",
      "350 W 46th St\n",
      "234 W 48th St\n",
      "645 2nd Ave\n",
      "181 Orchard St\n",
      "110 E 11th St\n",
      "218 8th Ave\n",
      "180 10th Ave\n",
      "\n",
      "Total Route Distance: 9.2341 miles \n",
      "\n",
      "Optimized Route Order:\n",
      "1415 Broadway\n",
      "350 W 46th St\n",
      "234 W 48th St\n",
      "645 2nd Ave\n",
      "181 Orchard St\n",
      "110 E 11th St\n",
      "218 8th Ave\n",
      "1227 Broadway\n",
      "\n",
      "Total Route Distance: 9.193100000000001 miles \n",
      "\n"
     ]
    }
   ],
   "source": [
    "food_arthouse_mqopt = get_optimized_route_mq(mq_key, food_arthouse)\n",
    "food_indigo_mqopt = get_optimized_route_mq(mq_key, food_indigo)\n",
    "food_highline_mqopt = get_optimized_route_mq(mq_key, food_highline)\n",
    "food_virgin_mqopt = get_optimized_route_mq(mq_key, food_virgin)\n"
   ]
  },
  {
   "cell_type": "code",
   "execution_count": 49,
   "id": "981f5d68",
   "metadata": {},
   "outputs": [
    {
     "name": "stdout",
     "output_type": "stream",
     "text": [
      "Optimized Route Order:\n",
      "1415 Broadway\n",
      "240 W 35th St\n",
      "215 W 40th St\n",
      "920 2nd Ave\n",
      "27 W 35th St\n",
      "137 W 33rd St\n",
      "389 8th Ave\n",
      "250 W 14th St\n",
      "2178 Broadway\n",
      "\n",
      "Total Route Distance: 10.4186 miles \n",
      "\n",
      "Optimized Route Order:\n",
      "1415 Broadway\n",
      "240 W 35th St\n",
      "215 W 40th St\n",
      "920 2nd Ave\n",
      "27 W 35th St\n",
      "137 W 33rd St\n",
      "389 8th Ave\n",
      "250 W 14th St\n",
      "171 Ludlow St\n",
      "\n",
      "Total Route Distance: 8.4053 miles \n",
      "\n",
      "Optimized Route Order:\n",
      "1415 Broadway\n",
      "240 W 35th St\n",
      "215 W 40th St\n",
      "920 2nd Ave\n",
      "27 W 35th St\n",
      "137 W 33rd St\n",
      "389 8th Ave\n",
      "250 W 14th St\n",
      "180 10th Ave\n",
      "\n",
      "Total Route Distance: 6.958099999999999 miles \n",
      "\n",
      "Optimized Route Order:\n",
      "1415 Broadway\n",
      "240 W 35th St\n",
      "215 W 40th St\n",
      "920 2nd Ave\n",
      "27 W 35th St\n",
      "137 W 33rd St\n",
      "250 W 14th St\n",
      "389 8th Ave\n",
      "1227 Broadway\n",
      "\n",
      "Total Route Distance: 7.064299999999999 miles \n",
      "\n"
     ]
    }
   ],
   "source": [
    "irish_arthouse_mqopt = get_optimized_route_mq(mq_key, irish_arthouse)\n",
    "irish_indigo_mqopt = get_optimized_route_mq(mq_key, irish_indigo)\n",
    "irish_highline_mqopt = get_optimized_route_mq(mq_key, irish_highline)\n",
    "irish_virgin_mqopt = get_optimized_route_mq(mq_key, irish_virgin)"
   ]
  },
  {
   "cell_type": "code",
   "execution_count": 64,
   "id": "58c2bdec",
   "metadata": {},
   "outputs": [],
   "source": [
    "def add_mq_route_to_summary(optimal_route_json, route_df, summary_df, route_name):\n",
    "    \"\"\"\n",
    "    Add a route's optimized order and total distance to the appropriate row in the summary DataFrame.\n",
    "\n",
    "    Parameters:\n",
    "    - optimal_route_json (dict): JSON data from MapQuest optimized route API.\n",
    "    - route_df (pd.DataFrame): Original DataFrame containing the route addresses.\n",
    "    - summary_df (pd.DataFrame): DataFrame to store route orders and distances.\n",
    "    - route_name (str): The name of the route to match in the summary DataFrame.\n",
    "\n",
    "    Returns:\n",
    "    - pd.DataFrame: Updated summary DataFrame with the new route details.\n",
    "    \"\"\"\n",
    "    # Normalize optimized addresses and route_df['Address']\n",
    "    optimized_addresses = [loc['street'].strip().lower() for loc in optimal_route_json['route']['locations']]\n",
    "    route_df['Address'] = route_df['Address'].str.strip().str.lower()\n",
    "\n",
    "    # Handling bad address matching with dictionary\n",
    "    address_mismatching_dict = {\n",
    "        '33 8th ave': 1,\n",
    "        'w 34th st': 2,\n",
    "        '22 w 32nd st, 7th floor': 5,\n",
    "        '350 w 46th st': 2,\n",
    "        '215 w 40th st': 2,\n",
    "    }\n",
    "\n",
    "    # Create the order list with partial matching\n",
    "    order_list = []\n",
    "    for addr in optimized_addresses:\n",
    "        # Find the first row where the Address contains the substring addr\n",
    "        matching_rows = route_df[route_df['Address'].str.contains(addr, na=False)]\n",
    "        if matching_rows.empty:\n",
    "            if addr in address_mismatching_dict:\n",
    "                order_list.append(address_mismatching_dict[addr])\n",
    "            else:\n",
    "                print(f\"Address not found in route_df: {addr}\")\n",
    "                order_list.append(None)  # Handle missing addresses as needed\n",
    "        else:\n",
    "            order_list.append(matching_rows.index[0])\n",
    "\n",
    "    # Extract the total distance from the JSON\n",
    "    total_distance_miles = optimal_route_json['route'].get('distance', 0)\n",
    "\n",
    "    # Update the appropriate row in the summary DataFrame\n",
    "    summary_df.loc[summary_df['Route Name'] == route_name, \"MQ's Route Order\"] = [order_list]\n",
    "    summary_df.loc[summary_df['Route Name'] == route_name, \"MQ's Route Distance (Miles)\"] = total_distance_miles\n",
    "    \n",
    "    return summary_df\n"
   ]
  },
  {
   "cell_type": "code",
   "execution_count": 53,
   "id": "13ab2962",
   "metadata": {},
   "outputs": [
    {
     "data": {
      "text/html": [
       "<div>\n",
       "<style scoped>\n",
       "    .dataframe tbody tr th:only-of-type {\n",
       "        vertical-align: middle;\n",
       "    }\n",
       "\n",
       "    .dataframe tbody tr th {\n",
       "        vertical-align: top;\n",
       "    }\n",
       "\n",
       "    .dataframe thead th {\n",
       "        text-align: right;\n",
       "    }\n",
       "</style>\n",
       "<table border=\"1\" class=\"dataframe\">\n",
       "  <thead>\n",
       "    <tr style=\"text-align: right;\">\n",
       "      <th></th>\n",
       "      <th>Route Name</th>\n",
       "      <th>MQ's Route Order</th>\n",
       "      <th>MQ's Route Distance (Miles)</th>\n",
       "      <th>NN's Route Order</th>\n",
       "      <th>NN's Route Distance (Miles)</th>\n",
       "      <th>Random Route Order</th>\n",
       "      <th>Random Route Distance (Miles)</th>\n",
       "    </tr>\n",
       "  </thead>\n",
       "  <tbody>\n",
       "    <tr>\n",
       "      <th>0</th>\n",
       "      <td>Huge Arthouse</td>\n",
       "      <td>None</td>\n",
       "      <td>None</td>\n",
       "      <td>None</td>\n",
       "      <td>None</td>\n",
       "      <td>None</td>\n",
       "      <td>None</td>\n",
       "    </tr>\n",
       "    <tr>\n",
       "      <th>1</th>\n",
       "      <td>Huge Indigo</td>\n",
       "      <td>None</td>\n",
       "      <td>None</td>\n",
       "      <td>None</td>\n",
       "      <td>None</td>\n",
       "      <td>None</td>\n",
       "      <td>None</td>\n",
       "    </tr>\n",
       "    <tr>\n",
       "      <th>2</th>\n",
       "      <td>Huge Highline</td>\n",
       "      <td>None</td>\n",
       "      <td>None</td>\n",
       "      <td>None</td>\n",
       "      <td>None</td>\n",
       "      <td>None</td>\n",
       "      <td>None</td>\n",
       "    </tr>\n",
       "    <tr>\n",
       "      <th>3</th>\n",
       "      <td>Huge Birgin</td>\n",
       "      <td>None</td>\n",
       "      <td>None</td>\n",
       "      <td>None</td>\n",
       "      <td>None</td>\n",
       "      <td>None</td>\n",
       "      <td>None</td>\n",
       "    </tr>\n",
       "    <tr>\n",
       "      <th>4</th>\n",
       "      <td>Midtown Arthouse</td>\n",
       "      <td>None</td>\n",
       "      <td>None</td>\n",
       "      <td>None</td>\n",
       "      <td>None</td>\n",
       "      <td>None</td>\n",
       "      <td>None</td>\n",
       "    </tr>\n",
       "    <tr>\n",
       "      <th>5</th>\n",
       "      <td>Midtown Indigo</td>\n",
       "      <td>None</td>\n",
       "      <td>None</td>\n",
       "      <td>None</td>\n",
       "      <td>None</td>\n",
       "      <td>None</td>\n",
       "      <td>None</td>\n",
       "    </tr>\n",
       "    <tr>\n",
       "      <th>6</th>\n",
       "      <td>Midtown Highline</td>\n",
       "      <td>None</td>\n",
       "      <td>None</td>\n",
       "      <td>None</td>\n",
       "      <td>None</td>\n",
       "      <td>None</td>\n",
       "      <td>None</td>\n",
       "    </tr>\n",
       "    <tr>\n",
       "      <th>7</th>\n",
       "      <td>Midtown Virgin</td>\n",
       "      <td>None</td>\n",
       "      <td>None</td>\n",
       "      <td>None</td>\n",
       "      <td>None</td>\n",
       "      <td>None</td>\n",
       "      <td>None</td>\n",
       "    </tr>\n",
       "    <tr>\n",
       "      <th>8</th>\n",
       "      <td>Food Arthouse</td>\n",
       "      <td>None</td>\n",
       "      <td>None</td>\n",
       "      <td>None</td>\n",
       "      <td>None</td>\n",
       "      <td>None</td>\n",
       "      <td>None</td>\n",
       "    </tr>\n",
       "    <tr>\n",
       "      <th>9</th>\n",
       "      <td>Food Indigo</td>\n",
       "      <td>None</td>\n",
       "      <td>None</td>\n",
       "      <td>None</td>\n",
       "      <td>None</td>\n",
       "      <td>None</td>\n",
       "      <td>None</td>\n",
       "    </tr>\n",
       "    <tr>\n",
       "      <th>10</th>\n",
       "      <td>Food Highline</td>\n",
       "      <td>None</td>\n",
       "      <td>None</td>\n",
       "      <td>None</td>\n",
       "      <td>None</td>\n",
       "      <td>None</td>\n",
       "      <td>None</td>\n",
       "    </tr>\n",
       "    <tr>\n",
       "      <th>11</th>\n",
       "      <td>Food Virgin</td>\n",
       "      <td>None</td>\n",
       "      <td>None</td>\n",
       "      <td>None</td>\n",
       "      <td>None</td>\n",
       "      <td>None</td>\n",
       "      <td>None</td>\n",
       "    </tr>\n",
       "    <tr>\n",
       "      <th>12</th>\n",
       "      <td>Irish Arthouse</td>\n",
       "      <td>None</td>\n",
       "      <td>None</td>\n",
       "      <td>None</td>\n",
       "      <td>None</td>\n",
       "      <td>None</td>\n",
       "      <td>None</td>\n",
       "    </tr>\n",
       "    <tr>\n",
       "      <th>13</th>\n",
       "      <td>Irish Indigo</td>\n",
       "      <td>None</td>\n",
       "      <td>None</td>\n",
       "      <td>None</td>\n",
       "      <td>None</td>\n",
       "      <td>None</td>\n",
       "      <td>None</td>\n",
       "    </tr>\n",
       "    <tr>\n",
       "      <th>14</th>\n",
       "      <td>Irish Highline</td>\n",
       "      <td>None</td>\n",
       "      <td>None</td>\n",
       "      <td>None</td>\n",
       "      <td>None</td>\n",
       "      <td>None</td>\n",
       "      <td>None</td>\n",
       "    </tr>\n",
       "    <tr>\n",
       "      <th>15</th>\n",
       "      <td>Irish Virgin</td>\n",
       "      <td>None</td>\n",
       "      <td>None</td>\n",
       "      <td>None</td>\n",
       "      <td>None</td>\n",
       "      <td>None</td>\n",
       "      <td>None</td>\n",
       "    </tr>\n",
       "  </tbody>\n",
       "</table>\n",
       "</div>"
      ],
      "text/plain": [
       "          Route Name MQ's Route Order MQ's Route Distance (Miles)  \\\n",
       "0      Huge Arthouse             None                        None   \n",
       "1        Huge Indigo             None                        None   \n",
       "2      Huge Highline             None                        None   \n",
       "3        Huge Birgin             None                        None   \n",
       "4   Midtown Arthouse             None                        None   \n",
       "5     Midtown Indigo             None                        None   \n",
       "6   Midtown Highline             None                        None   \n",
       "7     Midtown Virgin             None                        None   \n",
       "8      Food Arthouse             None                        None   \n",
       "9        Food Indigo             None                        None   \n",
       "10     Food Highline             None                        None   \n",
       "11       Food Virgin             None                        None   \n",
       "12    Irish Arthouse             None                        None   \n",
       "13      Irish Indigo             None                        None   \n",
       "14    Irish Highline             None                        None   \n",
       "15      Irish Virgin             None                        None   \n",
       "\n",
       "   NN's Route Order NN's Route Distance (Miles) Random Route Order  \\\n",
       "0              None                        None               None   \n",
       "1              None                        None               None   \n",
       "2              None                        None               None   \n",
       "3              None                        None               None   \n",
       "4              None                        None               None   \n",
       "5              None                        None               None   \n",
       "6              None                        None               None   \n",
       "7              None                        None               None   \n",
       "8              None                        None               None   \n",
       "9              None                        None               None   \n",
       "10             None                        None               None   \n",
       "11             None                        None               None   \n",
       "12             None                        None               None   \n",
       "13             None                        None               None   \n",
       "14             None                        None               None   \n",
       "15             None                        None               None   \n",
       "\n",
       "   Random Route Distance (Miles)  \n",
       "0                           None  \n",
       "1                           None  \n",
       "2                           None  \n",
       "3                           None  \n",
       "4                           None  \n",
       "5                           None  \n",
       "6                           None  \n",
       "7                           None  \n",
       "8                           None  \n",
       "9                           None  \n",
       "10                          None  \n",
       "11                          None  \n",
       "12                          None  \n",
       "13                          None  \n",
       "14                          None  \n",
       "15                          None  "
      ]
     },
     "metadata": {},
     "output_type": "display_data"
    }
   ],
   "source": [
    "# Initialize a summary DataFrame with route names\n",
    "route_names_list = [\n",
    "    \"Huge Arthouse\", \"Huge Indigo\", \"Huge Highline\", \"Huge Birgin\",\n",
    "    \"Midtown Arthouse\", \"Midtown Indigo\", \"Midtown Highline\", \"Midtown Virgin\",\n",
    "    \"Food Arthouse\", \"Food Indigo\", \"Food Highline\", \"Food Virgin\",\n",
    "    \"Irish Arthouse\", \"Irish Indigo\", \"Irish Highline\", \"Irish Virgin\"\n",
    "]\n",
    "\n",
    "# Create the DataFrame\n",
    "route_summary_df = pd.DataFrame({\n",
    "    \"Route Name\": route_names_list,\n",
    "    \"MQ's Route Order\": [None] * len(route_names_list),\n",
    "    \"MQ's Route Distance (Miles)\": [None] * len(route_names_list),\n",
    "    \"NN's Route Order\": [None] * len(route_names_list),\n",
    "    \"NN's Route Distance (Miles)\": [None] * len(route_names_list),\n",
    "    \"Random Route Order\": [None] * len(route_names_list),\n",
    "    \"Random Route Distance (Miles)\": [None] * len(route_names_list)\n",
    "})\n"
   ]
  },
  {
   "cell_type": "code",
   "execution_count": 56,
   "id": "b53cb143",
   "metadata": {},
   "outputs": [],
   "source": [
    "# make a list of the dataframes of each route\n",
    "route_df_list = [huge_arthouse, huge_indigo, huge_highline, huge_virgin,\n",
    "                 midtown_arthouse, midtown_indigo, midtown_highline, midtown_virgin,\n",
    "                 food_arthouse, food_indigo, food_highline, food_virgin,\n",
    "                 irish_arthouse, irish_indigo, irish_highline, irish_virgin\n",
    "                ]"
   ]
  },
  {
   "cell_type": "code",
   "execution_count": 57,
   "id": "7826cc57",
   "metadata": {},
   "outputs": [],
   "source": [
    "# make a list of the returned mapquest optimized json files\n",
    "mq_opt_json_list = [huge_arthouse_mqopt, huge_indigo_mqopt,\n",
    "                    huge_highline_mqopt, huge_virgin_mqopt,\n",
    "                    midtown_arthouse_mqopt,midtown_indigo_mqopt,\n",
    "                    midtown_highline_mqopt, midtown_virgin_mqopt,\n",
    "                    food_arthouse_mqopt,food_indigo_mqopt,\n",
    "                    food_highline_mqopt, food_virgin_mqopt,\n",
    "                    irish_arthouse_mqopt, irish_indigo_mqopt,\n",
    "                    irish_highline_mqopt, irish_virgin_mqopt\n",
    "                   ]              "
   ]
  },
  {
   "cell_type": "code",
   "execution_count": 60,
   "id": "8659712d",
   "metadata": {},
   "outputs": [
    {
     "data": {
      "text/html": [
       "<div>\n",
       "<style scoped>\n",
       "    .dataframe tbody tr th:only-of-type {\n",
       "        vertical-align: middle;\n",
       "    }\n",
       "\n",
       "    .dataframe tbody tr th {\n",
       "        vertical-align: top;\n",
       "    }\n",
       "\n",
       "    .dataframe thead th {\n",
       "        text-align: right;\n",
       "    }\n",
       "</style>\n",
       "<table border=\"1\" class=\"dataframe\">\n",
       "  <thead>\n",
       "    <tr style=\"text-align: right;\">\n",
       "      <th></th>\n",
       "      <th>Name</th>\n",
       "      <th>Address</th>\n",
       "      <th>Description</th>\n",
       "      <th>Image</th>\n",
       "      <th>Coordinates</th>\n",
       "    </tr>\n",
       "  </thead>\n",
       "  <tbody>\n",
       "    <tr>\n",
       "      <th>0</th>\n",
       "      <td>*10AM START POINT THE CHRISTMAS SPECTACULAR**</td>\n",
       "      <td>1415 Broadway, New York, NY 10018</td>\n",
       "      <td>10am Santa is Painting the town Red&lt;br&gt;We will...</td>\n",
       "      <td>https://santacon.nyc/wp-content/uploads/2023/1...</td>\n",
       "      <td>(-73.9868991, 40.7543488)</td>\n",
       "    </tr>\n",
       "    <tr>\n",
       "      <th>1</th>\n",
       "      <td>The Rutherford</td>\n",
       "      <td>W 33rd St at 8th Ave, New York, NY 10119</td>\n",
       "      <td>Get here early for views from the Roof Deck / ...</td>\n",
       "      <td>https://santacon.nyc/wp-content/uploads/2023/1...</td>\n",
       "      <td>(-73.9935521707214, 40.7513730510933)</td>\n",
       "    </tr>\n",
       "    <tr>\n",
       "      <th>2</th>\n",
       "      <td>Avenida</td>\n",
       "      <td>W. 34 St &amp; 8th Ave, New York, NY 10001</td>\n",
       "      <td>The Holiday Hustle at this rooftop + mexican b...</td>\n",
       "      <td>https://santacon.nyc/wp-content/uploads/2023/1...</td>\n",
       "      <td>(-73.993465, 40.752193)</td>\n",
       "    </tr>\n",
       "    <tr>\n",
       "      <th>3</th>\n",
       "      <td>Solas</td>\n",
       "      <td>232 E 9th St, New York, NY 10003</td>\n",
       "      <td>Jingle Bell Rockout at this lounge &amp; dance clu...</td>\n",
       "      <td>https://santacon.nyc/wp-content/uploads/2023/1...</td>\n",
       "      <td>(-73.988059, 40.729445)</td>\n",
       "    </tr>\n",
       "    <tr>\n",
       "      <th>4</th>\n",
       "      <td>The Tailor</td>\n",
       "      <td>505 8th Ave, New York, NY 10018</td>\n",
       "      <td>Mistletoe Mania at this HUGE - 1000+ Elves &amp; S...</td>\n",
       "      <td>https://santacon.nyc/wp-content/uploads/2023/1...</td>\n",
       "      <td>(-73.993027, 40.753109)</td>\n",
       "    </tr>\n",
       "    <tr>\n",
       "      <th>5</th>\n",
       "      <td>Bar 13</td>\n",
       "      <td>121 University Pl, New York, NY 10003</td>\n",
       "      <td>Frosty Fest with Drinking &amp; techno, house &amp; hi...</td>\n",
       "      <td>https://santacon.nyc/wp-content/uploads/2023/1...</td>\n",
       "      <td>(-73.99218, 40.734531)</td>\n",
       "    </tr>\n",
       "    <tr>\n",
       "      <th>6</th>\n",
       "      <td>Circo</td>\n",
       "      <td>1604 Broadway York, NY 10019</td>\n",
       "      <td>BIGGEST Santacon venue! Get to this new tri-le...</td>\n",
       "      <td>https://santacon.nyc/wp-content/uploads/2024/1...</td>\n",
       "      <td>(-73.98425, 40.76042)</td>\n",
       "    </tr>\n",
       "    <tr>\n",
       "      <th>7</th>\n",
       "      <td>Arthouse Hotel NYC</td>\n",
       "      <td>2178 Broadway, New York, NY, 10024</td>\n",
       "      <td>Arthouse Hotel New York City has brought hip, ...</td>\n",
       "      <td>https://image-tc.galaxy.tf/wijpeg-1nbmvmxtb567...</td>\n",
       "      <td>(-73.98027072698984, 40.78225322430293)</td>\n",
       "    </tr>\n",
       "  </tbody>\n",
       "</table>\n",
       "</div>"
      ],
      "text/plain": [
       "                                            Name  \\\n",
       "0  *10AM START POINT THE CHRISTMAS SPECTACULAR**   \n",
       "1                                 The Rutherford   \n",
       "2                                        Avenida   \n",
       "3                                          Solas   \n",
       "4                                     The Tailor   \n",
       "5                                         Bar 13   \n",
       "6                                          Circo   \n",
       "7                             Arthouse Hotel NYC   \n",
       "\n",
       "                                    Address  \\\n",
       "0         1415 Broadway, New York, NY 10018   \n",
       "1  W 33rd St at 8th Ave, New York, NY 10119   \n",
       "2    W. 34 St & 8th Ave, New York, NY 10001   \n",
       "3          232 E 9th St, New York, NY 10003   \n",
       "4           505 8th Ave, New York, NY 10018   \n",
       "5     121 University Pl, New York, NY 10003   \n",
       "6              1604 Broadway York, NY 10019   \n",
       "7        2178 Broadway, New York, NY, 10024   \n",
       "\n",
       "                                         Description  \\\n",
       "0  10am Santa is Painting the town Red<br>We will...   \n",
       "1  Get here early for views from the Roof Deck / ...   \n",
       "2  The Holiday Hustle at this rooftop + mexican b...   \n",
       "3  Jingle Bell Rockout at this lounge & dance clu...   \n",
       "4  Mistletoe Mania at this HUGE - 1000+ Elves & S...   \n",
       "5  Frosty Fest with Drinking & techno, house & hi...   \n",
       "6  BIGGEST Santacon venue! Get to this new tri-le...   \n",
       "7  Arthouse Hotel New York City has brought hip, ...   \n",
       "\n",
       "                                               Image  \\\n",
       "0  https://santacon.nyc/wp-content/uploads/2023/1...   \n",
       "1  https://santacon.nyc/wp-content/uploads/2023/1...   \n",
       "2  https://santacon.nyc/wp-content/uploads/2023/1...   \n",
       "3  https://santacon.nyc/wp-content/uploads/2023/1...   \n",
       "4  https://santacon.nyc/wp-content/uploads/2023/1...   \n",
       "5  https://santacon.nyc/wp-content/uploads/2023/1...   \n",
       "6  https://santacon.nyc/wp-content/uploads/2024/1...   \n",
       "7  https://image-tc.galaxy.tf/wijpeg-1nbmvmxtb567...   \n",
       "\n",
       "                               Coordinates  \n",
       "0                (-73.9868991, 40.7543488)  \n",
       "1    (-73.9935521707214, 40.7513730510933)  \n",
       "2                  (-73.993465, 40.752193)  \n",
       "3                  (-73.988059, 40.729445)  \n",
       "4                  (-73.993027, 40.753109)  \n",
       "5                   (-73.99218, 40.734531)  \n",
       "6                    (-73.98425, 40.76042)  \n",
       "7  (-73.98027072698984, 40.78225322430293)  "
      ]
     },
     "metadata": {},
     "output_type": "display_data"
    },
    {
     "data": {
      "text/html": [
       "<div>\n",
       "<style scoped>\n",
       "    .dataframe tbody tr th:only-of-type {\n",
       "        vertical-align: middle;\n",
       "    }\n",
       "\n",
       "    .dataframe tbody tr th {\n",
       "        vertical-align: top;\n",
       "    }\n",
       "\n",
       "    .dataframe thead th {\n",
       "        text-align: right;\n",
       "    }\n",
       "</style>\n",
       "<table border=\"1\" class=\"dataframe\">\n",
       "  <thead>\n",
       "    <tr style=\"text-align: right;\">\n",
       "      <th></th>\n",
       "      <th>Name</th>\n",
       "      <th>Address</th>\n",
       "      <th>Description</th>\n",
       "      <th>Image</th>\n",
       "      <th>Coordinates</th>\n",
       "    </tr>\n",
       "  </thead>\n",
       "  <tbody>\n",
       "    <tr>\n",
       "      <th>0</th>\n",
       "      <td>*10AM START POINT THE CHRISTMAS SPECTACULAR**</td>\n",
       "      <td>1415 Broadway, New York, NY 10018</td>\n",
       "      <td>10am Santa is Painting the town Red&lt;br&gt;We will...</td>\n",
       "      <td>https://santacon.nyc/wp-content/uploads/2023/1...</td>\n",
       "      <td>(-73.9868991, 40.7543488)</td>\n",
       "    </tr>\n",
       "    <tr>\n",
       "      <th>1</th>\n",
       "      <td>The Rutherford</td>\n",
       "      <td>W 33rd St at 8th Ave, New York, NY 10119</td>\n",
       "      <td>Get here early for views from the Roof Deck / ...</td>\n",
       "      <td>https://santacon.nyc/wp-content/uploads/2023/1...</td>\n",
       "      <td>(-73.9935521707214, 40.7513730510933)</td>\n",
       "    </tr>\n",
       "    <tr>\n",
       "      <th>2</th>\n",
       "      <td>Avenida</td>\n",
       "      <td>W. 34 St &amp; 8th Ave, New York, NY 10001</td>\n",
       "      <td>The Holiday Hustle at this rooftop + mexican b...</td>\n",
       "      <td>https://santacon.nyc/wp-content/uploads/2023/1...</td>\n",
       "      <td>(-73.993465, 40.752193)</td>\n",
       "    </tr>\n",
       "    <tr>\n",
       "      <th>3</th>\n",
       "      <td>Solas</td>\n",
       "      <td>232 E 9th St, New York, NY 10003</td>\n",
       "      <td>Jingle Bell Rockout at this lounge &amp; dance clu...</td>\n",
       "      <td>https://santacon.nyc/wp-content/uploads/2023/1...</td>\n",
       "      <td>(-73.988059, 40.729445)</td>\n",
       "    </tr>\n",
       "    <tr>\n",
       "      <th>4</th>\n",
       "      <td>The Tailor</td>\n",
       "      <td>505 8th Ave, New York, NY 10018</td>\n",
       "      <td>Mistletoe Mania at this HUGE - 1000+ Elves &amp; S...</td>\n",
       "      <td>https://santacon.nyc/wp-content/uploads/2023/1...</td>\n",
       "      <td>(-73.993027, 40.753109)</td>\n",
       "    </tr>\n",
       "    <tr>\n",
       "      <th>5</th>\n",
       "      <td>Bar 13</td>\n",
       "      <td>121 University Pl, New York, NY 10003</td>\n",
       "      <td>Frosty Fest with Drinking &amp; techno, house &amp; hi...</td>\n",
       "      <td>https://santacon.nyc/wp-content/uploads/2023/1...</td>\n",
       "      <td>(-73.99218, 40.734531)</td>\n",
       "    </tr>\n",
       "    <tr>\n",
       "      <th>6</th>\n",
       "      <td>Circo</td>\n",
       "      <td>1604 Broadway York, NY 10019</td>\n",
       "      <td>BIGGEST Santacon venue! Get to this new tri-le...</td>\n",
       "      <td>https://santacon.nyc/wp-content/uploads/2024/1...</td>\n",
       "      <td>(-73.98425, 40.76042)</td>\n",
       "    </tr>\n",
       "    <tr>\n",
       "      <th>7</th>\n",
       "      <td>Hotel Indigo LES</td>\n",
       "      <td>171 Ludlow St, New York, NY 10002</td>\n",
       "      <td>Whether you’re snapping photos of our spectacu...</td>\n",
       "      <td>https://digital.ihg.com/is/image/ihg/hotel-ind...</td>\n",
       "      <td>(-73.98774901349493, 40.72192329652393)</td>\n",
       "    </tr>\n",
       "  </tbody>\n",
       "</table>\n",
       "</div>"
      ],
      "text/plain": [
       "                                            Name  \\\n",
       "0  *10AM START POINT THE CHRISTMAS SPECTACULAR**   \n",
       "1                                 The Rutherford   \n",
       "2                                        Avenida   \n",
       "3                                          Solas   \n",
       "4                                     The Tailor   \n",
       "5                                         Bar 13   \n",
       "6                                          Circo   \n",
       "7                               Hotel Indigo LES   \n",
       "\n",
       "                                    Address  \\\n",
       "0         1415 Broadway, New York, NY 10018   \n",
       "1  W 33rd St at 8th Ave, New York, NY 10119   \n",
       "2    W. 34 St & 8th Ave, New York, NY 10001   \n",
       "3          232 E 9th St, New York, NY 10003   \n",
       "4           505 8th Ave, New York, NY 10018   \n",
       "5     121 University Pl, New York, NY 10003   \n",
       "6              1604 Broadway York, NY 10019   \n",
       "7         171 Ludlow St, New York, NY 10002   \n",
       "\n",
       "                                         Description  \\\n",
       "0  10am Santa is Painting the town Red<br>We will...   \n",
       "1  Get here early for views from the Roof Deck / ...   \n",
       "2  The Holiday Hustle at this rooftop + mexican b...   \n",
       "3  Jingle Bell Rockout at this lounge & dance clu...   \n",
       "4  Mistletoe Mania at this HUGE - 1000+ Elves & S...   \n",
       "5  Frosty Fest with Drinking & techno, house & hi...   \n",
       "6  BIGGEST Santacon venue! Get to this new tri-le...   \n",
       "7  Whether you’re snapping photos of our spectacu...   \n",
       "\n",
       "                                               Image  \\\n",
       "0  https://santacon.nyc/wp-content/uploads/2023/1...   \n",
       "1  https://santacon.nyc/wp-content/uploads/2023/1...   \n",
       "2  https://santacon.nyc/wp-content/uploads/2023/1...   \n",
       "3  https://santacon.nyc/wp-content/uploads/2023/1...   \n",
       "4  https://santacon.nyc/wp-content/uploads/2023/1...   \n",
       "5  https://santacon.nyc/wp-content/uploads/2023/1...   \n",
       "6  https://santacon.nyc/wp-content/uploads/2024/1...   \n",
       "7  https://digital.ihg.com/is/image/ihg/hotel-ind...   \n",
       "\n",
       "                               Coordinates  \n",
       "0                (-73.9868991, 40.7543488)  \n",
       "1    (-73.9935521707214, 40.7513730510933)  \n",
       "2                  (-73.993465, 40.752193)  \n",
       "3                  (-73.988059, 40.729445)  \n",
       "4                  (-73.993027, 40.753109)  \n",
       "5                   (-73.99218, 40.734531)  \n",
       "6                    (-73.98425, 40.76042)  \n",
       "7  (-73.98774901349493, 40.72192329652393)  "
      ]
     },
     "metadata": {},
     "output_type": "display_data"
    },
    {
     "data": {
      "text/html": [
       "<div>\n",
       "<style scoped>\n",
       "    .dataframe tbody tr th:only-of-type {\n",
       "        vertical-align: middle;\n",
       "    }\n",
       "\n",
       "    .dataframe tbody tr th {\n",
       "        vertical-align: top;\n",
       "    }\n",
       "\n",
       "    .dataframe thead th {\n",
       "        text-align: right;\n",
       "    }\n",
       "</style>\n",
       "<table border=\"1\" class=\"dataframe\">\n",
       "  <thead>\n",
       "    <tr style=\"text-align: right;\">\n",
       "      <th></th>\n",
       "      <th>Name</th>\n",
       "      <th>Address</th>\n",
       "      <th>Description</th>\n",
       "      <th>Image</th>\n",
       "      <th>Coordinates</th>\n",
       "    </tr>\n",
       "  </thead>\n",
       "  <tbody>\n",
       "    <tr>\n",
       "      <th>0</th>\n",
       "      <td>*10AM START POINT THE CHRISTMAS SPECTACULAR**</td>\n",
       "      <td>1415 Broadway, New York, NY 10018</td>\n",
       "      <td>10am Santa is Painting the town Red&lt;br&gt;We will...</td>\n",
       "      <td>https://santacon.nyc/wp-content/uploads/2023/1...</td>\n",
       "      <td>(-73.9868991, 40.7543488)</td>\n",
       "    </tr>\n",
       "    <tr>\n",
       "      <th>1</th>\n",
       "      <td>The Rutherford</td>\n",
       "      <td>W 33rd St at 8th Ave, New York, NY 10119</td>\n",
       "      <td>Get here early for views from the Roof Deck / ...</td>\n",
       "      <td>https://santacon.nyc/wp-content/uploads/2023/1...</td>\n",
       "      <td>(-73.9935521707214, 40.7513730510933)</td>\n",
       "    </tr>\n",
       "    <tr>\n",
       "      <th>2</th>\n",
       "      <td>Avenida</td>\n",
       "      <td>W. 34 St &amp; 8th Ave, New York, NY 10001</td>\n",
       "      <td>The Holiday Hustle at this rooftop + mexican b...</td>\n",
       "      <td>https://santacon.nyc/wp-content/uploads/2023/1...</td>\n",
       "      <td>(-73.993465, 40.752193)</td>\n",
       "    </tr>\n",
       "    <tr>\n",
       "      <th>3</th>\n",
       "      <td>Solas</td>\n",
       "      <td>232 E 9th St, New York, NY 10003</td>\n",
       "      <td>Jingle Bell Rockout at this lounge &amp; dance clu...</td>\n",
       "      <td>https://santacon.nyc/wp-content/uploads/2023/1...</td>\n",
       "      <td>(-73.988059, 40.729445)</td>\n",
       "    </tr>\n",
       "    <tr>\n",
       "      <th>4</th>\n",
       "      <td>The Tailor</td>\n",
       "      <td>505 8th Ave, New York, NY 10018</td>\n",
       "      <td>Mistletoe Mania at this HUGE - 1000+ Elves &amp; S...</td>\n",
       "      <td>https://santacon.nyc/wp-content/uploads/2023/1...</td>\n",
       "      <td>(-73.993027, 40.753109)</td>\n",
       "    </tr>\n",
       "    <tr>\n",
       "      <th>5</th>\n",
       "      <td>Bar 13</td>\n",
       "      <td>121 University Pl, New York, NY 10003</td>\n",
       "      <td>Frosty Fest with Drinking &amp; techno, house &amp; hi...</td>\n",
       "      <td>https://santacon.nyc/wp-content/uploads/2023/1...</td>\n",
       "      <td>(-73.99218, 40.734531)</td>\n",
       "    </tr>\n",
       "    <tr>\n",
       "      <th>6</th>\n",
       "      <td>Circo</td>\n",
       "      <td>1604 Broadway York, NY 10019</td>\n",
       "      <td>BIGGEST Santacon venue! Get to this new tri-le...</td>\n",
       "      <td>https://santacon.nyc/wp-content/uploads/2024/1...</td>\n",
       "      <td>(-73.98425, 40.76042)</td>\n",
       "    </tr>\n",
       "    <tr>\n",
       "      <th>7</th>\n",
       "      <td>The High Line Hotel</td>\n",
       "      <td>180 10th Ave, New York, NY 10011</td>\n",
       "      <td>Nestled in the heart of Chelsea’s buzzing gall...</td>\n",
       "      <td>https://thehighlinehotel.com/wp-content/upload...</td>\n",
       "      <td>(-74.00497684578993, 40.74610496722116)</td>\n",
       "    </tr>\n",
       "  </tbody>\n",
       "</table>\n",
       "</div>"
      ],
      "text/plain": [
       "                                            Name  \\\n",
       "0  *10AM START POINT THE CHRISTMAS SPECTACULAR**   \n",
       "1                                 The Rutherford   \n",
       "2                                        Avenida   \n",
       "3                                          Solas   \n",
       "4                                     The Tailor   \n",
       "5                                         Bar 13   \n",
       "6                                          Circo   \n",
       "7                            The High Line Hotel   \n",
       "\n",
       "                                    Address  \\\n",
       "0         1415 Broadway, New York, NY 10018   \n",
       "1  W 33rd St at 8th Ave, New York, NY 10119   \n",
       "2    W. 34 St & 8th Ave, New York, NY 10001   \n",
       "3          232 E 9th St, New York, NY 10003   \n",
       "4           505 8th Ave, New York, NY 10018   \n",
       "5     121 University Pl, New York, NY 10003   \n",
       "6              1604 Broadway York, NY 10019   \n",
       "7          180 10th Ave, New York, NY 10011   \n",
       "\n",
       "                                         Description  \\\n",
       "0  10am Santa is Painting the town Red<br>We will...   \n",
       "1  Get here early for views from the Roof Deck / ...   \n",
       "2  The Holiday Hustle at this rooftop + mexican b...   \n",
       "3  Jingle Bell Rockout at this lounge & dance clu...   \n",
       "4  Mistletoe Mania at this HUGE - 1000+ Elves & S...   \n",
       "5  Frosty Fest with Drinking & techno, house & hi...   \n",
       "6  BIGGEST Santacon venue! Get to this new tri-le...   \n",
       "7  Nestled in the heart of Chelsea’s buzzing gall...   \n",
       "\n",
       "                                               Image  \\\n",
       "0  https://santacon.nyc/wp-content/uploads/2023/1...   \n",
       "1  https://santacon.nyc/wp-content/uploads/2023/1...   \n",
       "2  https://santacon.nyc/wp-content/uploads/2023/1...   \n",
       "3  https://santacon.nyc/wp-content/uploads/2023/1...   \n",
       "4  https://santacon.nyc/wp-content/uploads/2023/1...   \n",
       "5  https://santacon.nyc/wp-content/uploads/2023/1...   \n",
       "6  https://santacon.nyc/wp-content/uploads/2024/1...   \n",
       "7  https://thehighlinehotel.com/wp-content/upload...   \n",
       "\n",
       "                               Coordinates  \n",
       "0                (-73.9868991, 40.7543488)  \n",
       "1    (-73.9935521707214, 40.7513730510933)  \n",
       "2                  (-73.993465, 40.752193)  \n",
       "3                  (-73.988059, 40.729445)  \n",
       "4                  (-73.993027, 40.753109)  \n",
       "5                   (-73.99218, 40.734531)  \n",
       "6                    (-73.98425, 40.76042)  \n",
       "7  (-74.00497684578993, 40.74610496722116)  "
      ]
     },
     "metadata": {},
     "output_type": "display_data"
    },
    {
     "data": {
      "text/html": [
       "<div>\n",
       "<style scoped>\n",
       "    .dataframe tbody tr th:only-of-type {\n",
       "        vertical-align: middle;\n",
       "    }\n",
       "\n",
       "    .dataframe tbody tr th {\n",
       "        vertical-align: top;\n",
       "    }\n",
       "\n",
       "    .dataframe thead th {\n",
       "        text-align: right;\n",
       "    }\n",
       "</style>\n",
       "<table border=\"1\" class=\"dataframe\">\n",
       "  <thead>\n",
       "    <tr style=\"text-align: right;\">\n",
       "      <th></th>\n",
       "      <th>Name</th>\n",
       "      <th>Address</th>\n",
       "      <th>Description</th>\n",
       "      <th>Image</th>\n",
       "      <th>Coordinates</th>\n",
       "    </tr>\n",
       "  </thead>\n",
       "  <tbody>\n",
       "    <tr>\n",
       "      <th>0</th>\n",
       "      <td>*10AM START POINT THE CHRISTMAS SPECTACULAR**</td>\n",
       "      <td>1415 Broadway, New York, NY 10018</td>\n",
       "      <td>10am Santa is Painting the town Red&lt;br&gt;We will...</td>\n",
       "      <td>https://santacon.nyc/wp-content/uploads/2023/1...</td>\n",
       "      <td>(-73.9868991, 40.7543488)</td>\n",
       "    </tr>\n",
       "    <tr>\n",
       "      <th>1</th>\n",
       "      <td>The Rutherford</td>\n",
       "      <td>W 33rd St at 8th Ave, New York, NY 10119</td>\n",
       "      <td>Get here early for views from the Roof Deck / ...</td>\n",
       "      <td>https://santacon.nyc/wp-content/uploads/2023/1...</td>\n",
       "      <td>(-73.9935521707214, 40.7513730510933)</td>\n",
       "    </tr>\n",
       "    <tr>\n",
       "      <th>2</th>\n",
       "      <td>Avenida</td>\n",
       "      <td>W. 34 St &amp; 8th Ave, New York, NY 10001</td>\n",
       "      <td>The Holiday Hustle at this rooftop + mexican b...</td>\n",
       "      <td>https://santacon.nyc/wp-content/uploads/2023/1...</td>\n",
       "      <td>(-73.993465, 40.752193)</td>\n",
       "    </tr>\n",
       "    <tr>\n",
       "      <th>3</th>\n",
       "      <td>Solas</td>\n",
       "      <td>232 E 9th St, New York, NY 10003</td>\n",
       "      <td>Jingle Bell Rockout at this lounge &amp; dance clu...</td>\n",
       "      <td>https://santacon.nyc/wp-content/uploads/2023/1...</td>\n",
       "      <td>(-73.988059, 40.729445)</td>\n",
       "    </tr>\n",
       "    <tr>\n",
       "      <th>4</th>\n",
       "      <td>The Tailor</td>\n",
       "      <td>505 8th Ave, New York, NY 10018</td>\n",
       "      <td>Mistletoe Mania at this HUGE - 1000+ Elves &amp; S...</td>\n",
       "      <td>https://santacon.nyc/wp-content/uploads/2023/1...</td>\n",
       "      <td>(-73.993027, 40.753109)</td>\n",
       "    </tr>\n",
       "    <tr>\n",
       "      <th>5</th>\n",
       "      <td>Bar 13</td>\n",
       "      <td>121 University Pl, New York, NY 10003</td>\n",
       "      <td>Frosty Fest with Drinking &amp; techno, house &amp; hi...</td>\n",
       "      <td>https://santacon.nyc/wp-content/uploads/2023/1...</td>\n",
       "      <td>(-73.99218, 40.734531)</td>\n",
       "    </tr>\n",
       "    <tr>\n",
       "      <th>6</th>\n",
       "      <td>Circo</td>\n",
       "      <td>1604 Broadway York, NY 10019</td>\n",
       "      <td>BIGGEST Santacon venue! Get to this new tri-le...</td>\n",
       "      <td>https://santacon.nyc/wp-content/uploads/2024/1...</td>\n",
       "      <td>(-73.98425, 40.76042)</td>\n",
       "    </tr>\n",
       "    <tr>\n",
       "      <th>7</th>\n",
       "      <td>Virgin Hotels NYC</td>\n",
       "      <td>1227 Broadway, New York, NY 10001</td>\n",
       "      <td>Discover the best bed in all five boroughs in ...</td>\n",
       "      <td>https://newyorkyimby.com/wp-content/uploads/20...</td>\n",
       "      <td>(-73.9887963644178, 40.746756671625576)</td>\n",
       "    </tr>\n",
       "  </tbody>\n",
       "</table>\n",
       "</div>"
      ],
      "text/plain": [
       "                                            Name  \\\n",
       "0  *10AM START POINT THE CHRISTMAS SPECTACULAR**   \n",
       "1                                 The Rutherford   \n",
       "2                                        Avenida   \n",
       "3                                          Solas   \n",
       "4                                     The Tailor   \n",
       "5                                         Bar 13   \n",
       "6                                          Circo   \n",
       "7                              Virgin Hotels NYC   \n",
       "\n",
       "                                    Address  \\\n",
       "0         1415 Broadway, New York, NY 10018   \n",
       "1  W 33rd St at 8th Ave, New York, NY 10119   \n",
       "2    W. 34 St & 8th Ave, New York, NY 10001   \n",
       "3          232 E 9th St, New York, NY 10003   \n",
       "4           505 8th Ave, New York, NY 10018   \n",
       "5     121 University Pl, New York, NY 10003   \n",
       "6              1604 Broadway York, NY 10019   \n",
       "7         1227 Broadway, New York, NY 10001   \n",
       "\n",
       "                                         Description  \\\n",
       "0  10am Santa is Painting the town Red<br>We will...   \n",
       "1  Get here early for views from the Roof Deck / ...   \n",
       "2  The Holiday Hustle at this rooftop + mexican b...   \n",
       "3  Jingle Bell Rockout at this lounge & dance clu...   \n",
       "4  Mistletoe Mania at this HUGE - 1000+ Elves & S...   \n",
       "5  Frosty Fest with Drinking & techno, house & hi...   \n",
       "6  BIGGEST Santacon venue! Get to this new tri-le...   \n",
       "7  Discover the best bed in all five boroughs in ...   \n",
       "\n",
       "                                               Image  \\\n",
       "0  https://santacon.nyc/wp-content/uploads/2023/1...   \n",
       "1  https://santacon.nyc/wp-content/uploads/2023/1...   \n",
       "2  https://santacon.nyc/wp-content/uploads/2023/1...   \n",
       "3  https://santacon.nyc/wp-content/uploads/2023/1...   \n",
       "4  https://santacon.nyc/wp-content/uploads/2023/1...   \n",
       "5  https://santacon.nyc/wp-content/uploads/2023/1...   \n",
       "6  https://santacon.nyc/wp-content/uploads/2024/1...   \n",
       "7  https://newyorkyimby.com/wp-content/uploads/20...   \n",
       "\n",
       "                               Coordinates  \n",
       "0                (-73.9868991, 40.7543488)  \n",
       "1    (-73.9935521707214, 40.7513730510933)  \n",
       "2                  (-73.993465, 40.752193)  \n",
       "3                  (-73.988059, 40.729445)  \n",
       "4                  (-73.993027, 40.753109)  \n",
       "5                   (-73.99218, 40.734531)  \n",
       "6                    (-73.98425, 40.76042)  \n",
       "7  (-73.9887963644178, 40.746756671625576)  "
      ]
     },
     "metadata": {},
     "output_type": "display_data"
    },
    {
     "data": {
      "text/html": [
       "<div>\n",
       "<style scoped>\n",
       "    .dataframe tbody tr th:only-of-type {\n",
       "        vertical-align: middle;\n",
       "    }\n",
       "\n",
       "    .dataframe tbody tr th {\n",
       "        vertical-align: top;\n",
       "    }\n",
       "\n",
       "    .dataframe thead th {\n",
       "        text-align: right;\n",
       "    }\n",
       "</style>\n",
       "<table border=\"1\" class=\"dataframe\">\n",
       "  <thead>\n",
       "    <tr style=\"text-align: right;\">\n",
       "      <th></th>\n",
       "      <th>Name</th>\n",
       "      <th>Address</th>\n",
       "      <th>Description</th>\n",
       "      <th>Image</th>\n",
       "      <th>Coordinates</th>\n",
       "    </tr>\n",
       "  </thead>\n",
       "  <tbody>\n",
       "    <tr>\n",
       "      <th>0</th>\n",
       "      <td>*10AM START POINT THE CHRISTMAS SPECTACULAR**</td>\n",
       "      <td>1415 Broadway, New York, NY 10018</td>\n",
       "      <td>10am Santa is Painting the town Red&lt;br&gt;We will...</td>\n",
       "      <td>https://santacon.nyc/wp-content/uploads/2023/1...</td>\n",
       "      <td>(-73.9868991, 40.7543488)</td>\n",
       "    </tr>\n",
       "    <tr>\n",
       "      <th>1</th>\n",
       "      <td>Backstage Tavern</td>\n",
       "      <td>346 W 46th St, New York, NY 10036</td>\n",
       "      <td>Where Santa's stars align 🌟🎄🩵</td>\n",
       "      <td>https://santacon.nyc/wp-content/uploads/2024/1...</td>\n",
       "      <td>(-73.9897320778964, 40.7605019254054)</td>\n",
       "    </tr>\n",
       "    <tr>\n",
       "      <th>2</th>\n",
       "      <td>John Sullivan's</td>\n",
       "      <td>210 W 35th St, New York, NY 10001</td>\n",
       "      <td>2 Levels &amp; Amazing Drink Specials 👯🕶️</td>\n",
       "      <td>https://santacon.nyc/wp-content/uploads/2023/1...</td>\n",
       "      <td>(-73.990753209728, 40.7518153954221)</td>\n",
       "    </tr>\n",
       "    <tr>\n",
       "      <th>3</th>\n",
       "      <td>The Liberty</td>\n",
       "      <td>29 W 35th St, New York, NY 10001</td>\n",
       "      <td>Amazing fusion between classic &amp; contemporary ...</td>\n",
       "      <td>https://santacon.nyc/wp-content/uploads/2023/1...</td>\n",
       "      <td>(-73.9856572979515, 40.7497993502154)</td>\n",
       "    </tr>\n",
       "    <tr>\n",
       "      <th>4</th>\n",
       "      <td>La Macarena NYC</td>\n",
       "      <td>234 W 48th St, New York, NY 10036</td>\n",
       "      <td>Santa loves Latin Food, Hooka &amp; Party Bar in T...</td>\n",
       "      <td>https://santacon.nyc/wp-content/uploads/2024/1...</td>\n",
       "      <td>(-73.9863870795907, 40.7607468797017)</td>\n",
       "    </tr>\n",
       "    <tr>\n",
       "      <th>5</th>\n",
       "      <td>Karaoke City</td>\n",
       "      <td>22 W 32nd St 7th Floor, New York, NY 10001</td>\n",
       "      <td>All I want for Christmas is on the 7th Floor f...</td>\n",
       "      <td>https://santacon.nyc/wp-content/uploads/2024/1...</td>\n",
       "      <td>(-73.986076, 40.74754)</td>\n",
       "    </tr>\n",
       "    <tr>\n",
       "      <th>6</th>\n",
       "      <td>Pennsylvania 6</td>\n",
       "      <td>132 W 31st St, New York, NY 10001</td>\n",
       "      <td>Sleigh at this huge Midtown masterpiece 🛷🍸🎄</td>\n",
       "      <td>https://santacon.nyc/wp-content/uploads/2024/1...</td>\n",
       "      <td>(-73.9898462373975, 40.7489835353775)</td>\n",
       "    </tr>\n",
       "    <tr>\n",
       "      <th>7</th>\n",
       "      <td>Arthouse Hotel NYC</td>\n",
       "      <td>2178 Broadway, New York, NY, 10024</td>\n",
       "      <td>Arthouse Hotel New York City has brought hip, ...</td>\n",
       "      <td>https://image-tc.galaxy.tf/wijpeg-1nbmvmxtb567...</td>\n",
       "      <td>(-73.98027072698984, 40.78225322430293)</td>\n",
       "    </tr>\n",
       "  </tbody>\n",
       "</table>\n",
       "</div>"
      ],
      "text/plain": [
       "                                            Name  \\\n",
       "0  *10AM START POINT THE CHRISTMAS SPECTACULAR**   \n",
       "1                               Backstage Tavern   \n",
       "2                                John Sullivan's   \n",
       "3                                    The Liberty   \n",
       "4                                La Macarena NYC   \n",
       "5                                   Karaoke City   \n",
       "6                                 Pennsylvania 6   \n",
       "7                             Arthouse Hotel NYC   \n",
       "\n",
       "                                      Address  \\\n",
       "0           1415 Broadway, New York, NY 10018   \n",
       "1           346 W 46th St, New York, NY 10036   \n",
       "2           210 W 35th St, New York, NY 10001   \n",
       "3            29 W 35th St, New York, NY 10001   \n",
       "4           234 W 48th St, New York, NY 10036   \n",
       "5  22 W 32nd St 7th Floor, New York, NY 10001   \n",
       "6           132 W 31st St, New York, NY 10001   \n",
       "7          2178 Broadway, New York, NY, 10024   \n",
       "\n",
       "                                         Description  \\\n",
       "0  10am Santa is Painting the town Red<br>We will...   \n",
       "1                      Where Santa's stars align 🌟🎄🩵   \n",
       "2              2 Levels & Amazing Drink Specials 👯🕶️   \n",
       "3  Amazing fusion between classic & contemporary ...   \n",
       "4  Santa loves Latin Food, Hooka & Party Bar in T...   \n",
       "5  All I want for Christmas is on the 7th Floor f...   \n",
       "6        Sleigh at this huge Midtown masterpiece 🛷🍸🎄   \n",
       "7  Arthouse Hotel New York City has brought hip, ...   \n",
       "\n",
       "                                               Image  \\\n",
       "0  https://santacon.nyc/wp-content/uploads/2023/1...   \n",
       "1  https://santacon.nyc/wp-content/uploads/2024/1...   \n",
       "2  https://santacon.nyc/wp-content/uploads/2023/1...   \n",
       "3  https://santacon.nyc/wp-content/uploads/2023/1...   \n",
       "4  https://santacon.nyc/wp-content/uploads/2024/1...   \n",
       "5  https://santacon.nyc/wp-content/uploads/2024/1...   \n",
       "6  https://santacon.nyc/wp-content/uploads/2024/1...   \n",
       "7  https://image-tc.galaxy.tf/wijpeg-1nbmvmxtb567...   \n",
       "\n",
       "                               Coordinates  \n",
       "0                (-73.9868991, 40.7543488)  \n",
       "1    (-73.9897320778964, 40.7605019254054)  \n",
       "2     (-73.990753209728, 40.7518153954221)  \n",
       "3    (-73.9856572979515, 40.7497993502154)  \n",
       "4    (-73.9863870795907, 40.7607468797017)  \n",
       "5                   (-73.986076, 40.74754)  \n",
       "6    (-73.9898462373975, 40.7489835353775)  \n",
       "7  (-73.98027072698984, 40.78225322430293)  "
      ]
     },
     "metadata": {},
     "output_type": "display_data"
    },
    {
     "data": {
      "text/html": [
       "<div>\n",
       "<style scoped>\n",
       "    .dataframe tbody tr th:only-of-type {\n",
       "        vertical-align: middle;\n",
       "    }\n",
       "\n",
       "    .dataframe tbody tr th {\n",
       "        vertical-align: top;\n",
       "    }\n",
       "\n",
       "    .dataframe thead th {\n",
       "        text-align: right;\n",
       "    }\n",
       "</style>\n",
       "<table border=\"1\" class=\"dataframe\">\n",
       "  <thead>\n",
       "    <tr style=\"text-align: right;\">\n",
       "      <th></th>\n",
       "      <th>Name</th>\n",
       "      <th>Address</th>\n",
       "      <th>Description</th>\n",
       "      <th>Image</th>\n",
       "      <th>Coordinates</th>\n",
       "    </tr>\n",
       "  </thead>\n",
       "  <tbody>\n",
       "    <tr>\n",
       "      <th>0</th>\n",
       "      <td>*10AM START POINT THE CHRISTMAS SPECTACULAR**</td>\n",
       "      <td>1415 Broadway, New York, NY 10018</td>\n",
       "      <td>10am Santa is Painting the town Red&lt;br&gt;We will...</td>\n",
       "      <td>https://santacon.nyc/wp-content/uploads/2023/1...</td>\n",
       "      <td>(-73.9868991, 40.7543488)</td>\n",
       "    </tr>\n",
       "    <tr>\n",
       "      <th>1</th>\n",
       "      <td>Backstage Tavern</td>\n",
       "      <td>346 W 46th St, New York, NY 10036</td>\n",
       "      <td>Where Santa's stars align 🌟🎄🩵</td>\n",
       "      <td>https://santacon.nyc/wp-content/uploads/2024/1...</td>\n",
       "      <td>(-73.9897320778964, 40.7605019254054)</td>\n",
       "    </tr>\n",
       "    <tr>\n",
       "      <th>2</th>\n",
       "      <td>John Sullivan's</td>\n",
       "      <td>210 W 35th St, New York, NY 10001</td>\n",
       "      <td>2 Levels &amp; Amazing Drink Specials 👯🕶️</td>\n",
       "      <td>https://santacon.nyc/wp-content/uploads/2023/1...</td>\n",
       "      <td>(-73.990753209728, 40.7518153954221)</td>\n",
       "    </tr>\n",
       "    <tr>\n",
       "      <th>3</th>\n",
       "      <td>The Liberty</td>\n",
       "      <td>29 W 35th St, New York, NY 10001</td>\n",
       "      <td>Amazing fusion between classic &amp; contemporary ...</td>\n",
       "      <td>https://santacon.nyc/wp-content/uploads/2023/1...</td>\n",
       "      <td>(-73.9856572979515, 40.7497993502154)</td>\n",
       "    </tr>\n",
       "    <tr>\n",
       "      <th>4</th>\n",
       "      <td>La Macarena NYC</td>\n",
       "      <td>234 W 48th St, New York, NY 10036</td>\n",
       "      <td>Santa loves Latin Food, Hooka &amp; Party Bar in T...</td>\n",
       "      <td>https://santacon.nyc/wp-content/uploads/2024/1...</td>\n",
       "      <td>(-73.9863870795907, 40.7607468797017)</td>\n",
       "    </tr>\n",
       "    <tr>\n",
       "      <th>5</th>\n",
       "      <td>Karaoke City</td>\n",
       "      <td>22 W 32nd St 7th Floor, New York, NY 10001</td>\n",
       "      <td>All I want for Christmas is on the 7th Floor f...</td>\n",
       "      <td>https://santacon.nyc/wp-content/uploads/2024/1...</td>\n",
       "      <td>(-73.986076, 40.74754)</td>\n",
       "    </tr>\n",
       "    <tr>\n",
       "      <th>6</th>\n",
       "      <td>Pennsylvania 6</td>\n",
       "      <td>132 W 31st St, New York, NY 10001</td>\n",
       "      <td>Sleigh at this huge Midtown masterpiece 🛷🍸🎄</td>\n",
       "      <td>https://santacon.nyc/wp-content/uploads/2024/1...</td>\n",
       "      <td>(-73.9898462373975, 40.7489835353775)</td>\n",
       "    </tr>\n",
       "    <tr>\n",
       "      <th>7</th>\n",
       "      <td>Hotel Indigo LES</td>\n",
       "      <td>171 Ludlow St, New York, NY 10002</td>\n",
       "      <td>Whether you’re snapping photos of our spectacu...</td>\n",
       "      <td>https://digital.ihg.com/is/image/ihg/hotel-ind...</td>\n",
       "      <td>(-73.98774901349493, 40.72192329652393)</td>\n",
       "    </tr>\n",
       "  </tbody>\n",
       "</table>\n",
       "</div>"
      ],
      "text/plain": [
       "                                            Name  \\\n",
       "0  *10AM START POINT THE CHRISTMAS SPECTACULAR**   \n",
       "1                               Backstage Tavern   \n",
       "2                                John Sullivan's   \n",
       "3                                    The Liberty   \n",
       "4                                La Macarena NYC   \n",
       "5                                   Karaoke City   \n",
       "6                                 Pennsylvania 6   \n",
       "7                               Hotel Indigo LES   \n",
       "\n",
       "                                      Address  \\\n",
       "0           1415 Broadway, New York, NY 10018   \n",
       "1           346 W 46th St, New York, NY 10036   \n",
       "2           210 W 35th St, New York, NY 10001   \n",
       "3            29 W 35th St, New York, NY 10001   \n",
       "4           234 W 48th St, New York, NY 10036   \n",
       "5  22 W 32nd St 7th Floor, New York, NY 10001   \n",
       "6           132 W 31st St, New York, NY 10001   \n",
       "7           171 Ludlow St, New York, NY 10002   \n",
       "\n",
       "                                         Description  \\\n",
       "0  10am Santa is Painting the town Red<br>We will...   \n",
       "1                      Where Santa's stars align 🌟🎄🩵   \n",
       "2              2 Levels & Amazing Drink Specials 👯🕶️   \n",
       "3  Amazing fusion between classic & contemporary ...   \n",
       "4  Santa loves Latin Food, Hooka & Party Bar in T...   \n",
       "5  All I want for Christmas is on the 7th Floor f...   \n",
       "6        Sleigh at this huge Midtown masterpiece 🛷🍸🎄   \n",
       "7  Whether you’re snapping photos of our spectacu...   \n",
       "\n",
       "                                               Image  \\\n",
       "0  https://santacon.nyc/wp-content/uploads/2023/1...   \n",
       "1  https://santacon.nyc/wp-content/uploads/2024/1...   \n",
       "2  https://santacon.nyc/wp-content/uploads/2023/1...   \n",
       "3  https://santacon.nyc/wp-content/uploads/2023/1...   \n",
       "4  https://santacon.nyc/wp-content/uploads/2024/1...   \n",
       "5  https://santacon.nyc/wp-content/uploads/2024/1...   \n",
       "6  https://santacon.nyc/wp-content/uploads/2024/1...   \n",
       "7  https://digital.ihg.com/is/image/ihg/hotel-ind...   \n",
       "\n",
       "                               Coordinates  \n",
       "0                (-73.9868991, 40.7543488)  \n",
       "1    (-73.9897320778964, 40.7605019254054)  \n",
       "2     (-73.990753209728, 40.7518153954221)  \n",
       "3    (-73.9856572979515, 40.7497993502154)  \n",
       "4    (-73.9863870795907, 40.7607468797017)  \n",
       "5                   (-73.986076, 40.74754)  \n",
       "6    (-73.9898462373975, 40.7489835353775)  \n",
       "7  (-73.98774901349493, 40.72192329652393)  "
      ]
     },
     "metadata": {},
     "output_type": "display_data"
    },
    {
     "data": {
      "text/html": [
       "<div>\n",
       "<style scoped>\n",
       "    .dataframe tbody tr th:only-of-type {\n",
       "        vertical-align: middle;\n",
       "    }\n",
       "\n",
       "    .dataframe tbody tr th {\n",
       "        vertical-align: top;\n",
       "    }\n",
       "\n",
       "    .dataframe thead th {\n",
       "        text-align: right;\n",
       "    }\n",
       "</style>\n",
       "<table border=\"1\" class=\"dataframe\">\n",
       "  <thead>\n",
       "    <tr style=\"text-align: right;\">\n",
       "      <th></th>\n",
       "      <th>Name</th>\n",
       "      <th>Address</th>\n",
       "      <th>Description</th>\n",
       "      <th>Image</th>\n",
       "      <th>Coordinates</th>\n",
       "    </tr>\n",
       "  </thead>\n",
       "  <tbody>\n",
       "    <tr>\n",
       "      <th>0</th>\n",
       "      <td>*10AM START POINT THE CHRISTMAS SPECTACULAR**</td>\n",
       "      <td>1415 Broadway, New York, NY 10018</td>\n",
       "      <td>10am Santa is Painting the town Red&lt;br&gt;We will...</td>\n",
       "      <td>https://santacon.nyc/wp-content/uploads/2023/1...</td>\n",
       "      <td>(-73.9868991, 40.7543488)</td>\n",
       "    </tr>\n",
       "    <tr>\n",
       "      <th>1</th>\n",
       "      <td>Backstage Tavern</td>\n",
       "      <td>346 W 46th St, New York, NY 10036</td>\n",
       "      <td>Where Santa's stars align 🌟🎄🩵</td>\n",
       "      <td>https://santacon.nyc/wp-content/uploads/2024/1...</td>\n",
       "      <td>(-73.9897320778964, 40.7605019254054)</td>\n",
       "    </tr>\n",
       "    <tr>\n",
       "      <th>2</th>\n",
       "      <td>John Sullivan's</td>\n",
       "      <td>210 W 35th St, New York, NY 10001</td>\n",
       "      <td>2 Levels &amp; Amazing Drink Specials 👯🕶️</td>\n",
       "      <td>https://santacon.nyc/wp-content/uploads/2023/1...</td>\n",
       "      <td>(-73.990753209728, 40.7518153954221)</td>\n",
       "    </tr>\n",
       "    <tr>\n",
       "      <th>3</th>\n",
       "      <td>The Liberty</td>\n",
       "      <td>29 W 35th St, New York, NY 10001</td>\n",
       "      <td>Amazing fusion between classic &amp; contemporary ...</td>\n",
       "      <td>https://santacon.nyc/wp-content/uploads/2023/1...</td>\n",
       "      <td>(-73.9856572979515, 40.7497993502154)</td>\n",
       "    </tr>\n",
       "    <tr>\n",
       "      <th>4</th>\n",
       "      <td>La Macarena NYC</td>\n",
       "      <td>234 W 48th St, New York, NY 10036</td>\n",
       "      <td>Santa loves Latin Food, Hooka &amp; Party Bar in T...</td>\n",
       "      <td>https://santacon.nyc/wp-content/uploads/2024/1...</td>\n",
       "      <td>(-73.9863870795907, 40.7607468797017)</td>\n",
       "    </tr>\n",
       "    <tr>\n",
       "      <th>5</th>\n",
       "      <td>Karaoke City</td>\n",
       "      <td>22 W 32nd St 7th Floor, New York, NY 10001</td>\n",
       "      <td>All I want for Christmas is on the 7th Floor f...</td>\n",
       "      <td>https://santacon.nyc/wp-content/uploads/2024/1...</td>\n",
       "      <td>(-73.986076, 40.74754)</td>\n",
       "    </tr>\n",
       "    <tr>\n",
       "      <th>6</th>\n",
       "      <td>Pennsylvania 6</td>\n",
       "      <td>132 W 31st St, New York, NY 10001</td>\n",
       "      <td>Sleigh at this huge Midtown masterpiece 🛷🍸🎄</td>\n",
       "      <td>https://santacon.nyc/wp-content/uploads/2024/1...</td>\n",
       "      <td>(-73.9898462373975, 40.7489835353775)</td>\n",
       "    </tr>\n",
       "    <tr>\n",
       "      <th>7</th>\n",
       "      <td>The High Line Hotel</td>\n",
       "      <td>180 10th Ave, New York, NY 10011</td>\n",
       "      <td>Nestled in the heart of Chelsea’s buzzing gall...</td>\n",
       "      <td>https://thehighlinehotel.com/wp-content/upload...</td>\n",
       "      <td>(-74.00497684578993, 40.74610496722116)</td>\n",
       "    </tr>\n",
       "  </tbody>\n",
       "</table>\n",
       "</div>"
      ],
      "text/plain": [
       "                                            Name  \\\n",
       "0  *10AM START POINT THE CHRISTMAS SPECTACULAR**   \n",
       "1                               Backstage Tavern   \n",
       "2                                John Sullivan's   \n",
       "3                                    The Liberty   \n",
       "4                                La Macarena NYC   \n",
       "5                                   Karaoke City   \n",
       "6                                 Pennsylvania 6   \n",
       "7                            The High Line Hotel   \n",
       "\n",
       "                                      Address  \\\n",
       "0           1415 Broadway, New York, NY 10018   \n",
       "1           346 W 46th St, New York, NY 10036   \n",
       "2           210 W 35th St, New York, NY 10001   \n",
       "3            29 W 35th St, New York, NY 10001   \n",
       "4           234 W 48th St, New York, NY 10036   \n",
       "5  22 W 32nd St 7th Floor, New York, NY 10001   \n",
       "6           132 W 31st St, New York, NY 10001   \n",
       "7            180 10th Ave, New York, NY 10011   \n",
       "\n",
       "                                         Description  \\\n",
       "0  10am Santa is Painting the town Red<br>We will...   \n",
       "1                      Where Santa's stars align 🌟🎄🩵   \n",
       "2              2 Levels & Amazing Drink Specials 👯🕶️   \n",
       "3  Amazing fusion between classic & contemporary ...   \n",
       "4  Santa loves Latin Food, Hooka & Party Bar in T...   \n",
       "5  All I want for Christmas is on the 7th Floor f...   \n",
       "6        Sleigh at this huge Midtown masterpiece 🛷🍸🎄   \n",
       "7  Nestled in the heart of Chelsea’s buzzing gall...   \n",
       "\n",
       "                                               Image  \\\n",
       "0  https://santacon.nyc/wp-content/uploads/2023/1...   \n",
       "1  https://santacon.nyc/wp-content/uploads/2024/1...   \n",
       "2  https://santacon.nyc/wp-content/uploads/2023/1...   \n",
       "3  https://santacon.nyc/wp-content/uploads/2023/1...   \n",
       "4  https://santacon.nyc/wp-content/uploads/2024/1...   \n",
       "5  https://santacon.nyc/wp-content/uploads/2024/1...   \n",
       "6  https://santacon.nyc/wp-content/uploads/2024/1...   \n",
       "7  https://thehighlinehotel.com/wp-content/upload...   \n",
       "\n",
       "                               Coordinates  \n",
       "0                (-73.9868991, 40.7543488)  \n",
       "1    (-73.9897320778964, 40.7605019254054)  \n",
       "2     (-73.990753209728, 40.7518153954221)  \n",
       "3    (-73.9856572979515, 40.7497993502154)  \n",
       "4    (-73.9863870795907, 40.7607468797017)  \n",
       "5                   (-73.986076, 40.74754)  \n",
       "6    (-73.9898462373975, 40.7489835353775)  \n",
       "7  (-74.00497684578993, 40.74610496722116)  "
      ]
     },
     "metadata": {},
     "output_type": "display_data"
    },
    {
     "data": {
      "text/html": [
       "<div>\n",
       "<style scoped>\n",
       "    .dataframe tbody tr th:only-of-type {\n",
       "        vertical-align: middle;\n",
       "    }\n",
       "\n",
       "    .dataframe tbody tr th {\n",
       "        vertical-align: top;\n",
       "    }\n",
       "\n",
       "    .dataframe thead th {\n",
       "        text-align: right;\n",
       "    }\n",
       "</style>\n",
       "<table border=\"1\" class=\"dataframe\">\n",
       "  <thead>\n",
       "    <tr style=\"text-align: right;\">\n",
       "      <th></th>\n",
       "      <th>Name</th>\n",
       "      <th>Address</th>\n",
       "      <th>Description</th>\n",
       "      <th>Image</th>\n",
       "      <th>Coordinates</th>\n",
       "    </tr>\n",
       "  </thead>\n",
       "  <tbody>\n",
       "    <tr>\n",
       "      <th>0</th>\n",
       "      <td>*10AM START POINT THE CHRISTMAS SPECTACULAR**</td>\n",
       "      <td>1415 Broadway, New York, NY 10018</td>\n",
       "      <td>10am Santa is Painting the town Red&lt;br&gt;We will...</td>\n",
       "      <td>https://santacon.nyc/wp-content/uploads/2023/1...</td>\n",
       "      <td>(-73.9868991, 40.7543488)</td>\n",
       "    </tr>\n",
       "    <tr>\n",
       "      <th>1</th>\n",
       "      <td>Backstage Tavern</td>\n",
       "      <td>346 W 46th St, New York, NY 10036</td>\n",
       "      <td>Where Santa's stars align 🌟🎄🩵</td>\n",
       "      <td>https://santacon.nyc/wp-content/uploads/2024/1...</td>\n",
       "      <td>(-73.9897320778964, 40.7605019254054)</td>\n",
       "    </tr>\n",
       "    <tr>\n",
       "      <th>2</th>\n",
       "      <td>John Sullivan's</td>\n",
       "      <td>210 W 35th St, New York, NY 10001</td>\n",
       "      <td>2 Levels &amp; Amazing Drink Specials 👯🕶️</td>\n",
       "      <td>https://santacon.nyc/wp-content/uploads/2023/1...</td>\n",
       "      <td>(-73.990753209728, 40.7518153954221)</td>\n",
       "    </tr>\n",
       "    <tr>\n",
       "      <th>3</th>\n",
       "      <td>The Liberty</td>\n",
       "      <td>29 W 35th St, New York, NY 10001</td>\n",
       "      <td>Amazing fusion between classic &amp; contemporary ...</td>\n",
       "      <td>https://santacon.nyc/wp-content/uploads/2023/1...</td>\n",
       "      <td>(-73.9856572979515, 40.7497993502154)</td>\n",
       "    </tr>\n",
       "    <tr>\n",
       "      <th>4</th>\n",
       "      <td>La Macarena NYC</td>\n",
       "      <td>234 W 48th St, New York, NY 10036</td>\n",
       "      <td>Santa loves Latin Food, Hooka &amp; Party Bar in T...</td>\n",
       "      <td>https://santacon.nyc/wp-content/uploads/2024/1...</td>\n",
       "      <td>(-73.9863870795907, 40.7607468797017)</td>\n",
       "    </tr>\n",
       "    <tr>\n",
       "      <th>5</th>\n",
       "      <td>Karaoke City</td>\n",
       "      <td>22 W 32nd St 7th Floor, New York, NY 10001</td>\n",
       "      <td>All I want for Christmas is on the 7th Floor f...</td>\n",
       "      <td>https://santacon.nyc/wp-content/uploads/2024/1...</td>\n",
       "      <td>(-73.986076, 40.74754)</td>\n",
       "    </tr>\n",
       "    <tr>\n",
       "      <th>6</th>\n",
       "      <td>Pennsylvania 6</td>\n",
       "      <td>132 W 31st St, New York, NY 10001</td>\n",
       "      <td>Sleigh at this huge Midtown masterpiece 🛷🍸🎄</td>\n",
       "      <td>https://santacon.nyc/wp-content/uploads/2024/1...</td>\n",
       "      <td>(-73.9898462373975, 40.7489835353775)</td>\n",
       "    </tr>\n",
       "    <tr>\n",
       "      <th>7</th>\n",
       "      <td>Virgin Hotels NYC</td>\n",
       "      <td>1227 Broadway, New York, NY 10001</td>\n",
       "      <td>Discover the best bed in all five boroughs in ...</td>\n",
       "      <td>https://newyorkyimby.com/wp-content/uploads/20...</td>\n",
       "      <td>(-73.9887963644178, 40.746756671625576)</td>\n",
       "    </tr>\n",
       "  </tbody>\n",
       "</table>\n",
       "</div>"
      ],
      "text/plain": [
       "                                            Name  \\\n",
       "0  *10AM START POINT THE CHRISTMAS SPECTACULAR**   \n",
       "1                               Backstage Tavern   \n",
       "2                                John Sullivan's   \n",
       "3                                    The Liberty   \n",
       "4                                La Macarena NYC   \n",
       "5                                   Karaoke City   \n",
       "6                                 Pennsylvania 6   \n",
       "7                              Virgin Hotels NYC   \n",
       "\n",
       "                                      Address  \\\n",
       "0           1415 Broadway, New York, NY 10018   \n",
       "1           346 W 46th St, New York, NY 10036   \n",
       "2           210 W 35th St, New York, NY 10001   \n",
       "3            29 W 35th St, New York, NY 10001   \n",
       "4           234 W 48th St, New York, NY 10036   \n",
       "5  22 W 32nd St 7th Floor, New York, NY 10001   \n",
       "6           132 W 31st St, New York, NY 10001   \n",
       "7           1227 Broadway, New York, NY 10001   \n",
       "\n",
       "                                         Description  \\\n",
       "0  10am Santa is Painting the town Red<br>We will...   \n",
       "1                      Where Santa's stars align 🌟🎄🩵   \n",
       "2              2 Levels & Amazing Drink Specials 👯🕶️   \n",
       "3  Amazing fusion between classic & contemporary ...   \n",
       "4  Santa loves Latin Food, Hooka & Party Bar in T...   \n",
       "5  All I want for Christmas is on the 7th Floor f...   \n",
       "6        Sleigh at this huge Midtown masterpiece 🛷🍸🎄   \n",
       "7  Discover the best bed in all five boroughs in ...   \n",
       "\n",
       "                                               Image  \\\n",
       "0  https://santacon.nyc/wp-content/uploads/2023/1...   \n",
       "1  https://santacon.nyc/wp-content/uploads/2024/1...   \n",
       "2  https://santacon.nyc/wp-content/uploads/2023/1...   \n",
       "3  https://santacon.nyc/wp-content/uploads/2023/1...   \n",
       "4  https://santacon.nyc/wp-content/uploads/2024/1...   \n",
       "5  https://santacon.nyc/wp-content/uploads/2024/1...   \n",
       "6  https://santacon.nyc/wp-content/uploads/2024/1...   \n",
       "7  https://newyorkyimby.com/wp-content/uploads/20...   \n",
       "\n",
       "                               Coordinates  \n",
       "0                (-73.9868991, 40.7543488)  \n",
       "1    (-73.9897320778964, 40.7605019254054)  \n",
       "2     (-73.990753209728, 40.7518153954221)  \n",
       "3    (-73.9856572979515, 40.7497993502154)  \n",
       "4    (-73.9863870795907, 40.7607468797017)  \n",
       "5                   (-73.986076, 40.74754)  \n",
       "6    (-73.9898462373975, 40.7489835353775)  \n",
       "7  (-73.9887963644178, 40.746756671625576)  "
      ]
     },
     "metadata": {},
     "output_type": "display_data"
    },
    {
     "data": {
      "text/html": [
       "<div>\n",
       "<style scoped>\n",
       "    .dataframe tbody tr th:only-of-type {\n",
       "        vertical-align: middle;\n",
       "    }\n",
       "\n",
       "    .dataframe tbody tr th {\n",
       "        vertical-align: top;\n",
       "    }\n",
       "\n",
       "    .dataframe thead th {\n",
       "        text-align: right;\n",
       "    }\n",
       "</style>\n",
       "<table border=\"1\" class=\"dataframe\">\n",
       "  <thead>\n",
       "    <tr style=\"text-align: right;\">\n",
       "      <th></th>\n",
       "      <th>Name</th>\n",
       "      <th>Address</th>\n",
       "      <th>Description</th>\n",
       "      <th>Image</th>\n",
       "      <th>Coordinates</th>\n",
       "    </tr>\n",
       "  </thead>\n",
       "  <tbody>\n",
       "    <tr>\n",
       "      <th>0</th>\n",
       "      <td>*10AM START POINT THE CHRISTMAS SPECTACULAR**</td>\n",
       "      <td>1415 Broadway, New York, NY 10018</td>\n",
       "      <td>10am Santa is Painting the town Red&lt;br&gt;We will...</td>\n",
       "      <td>https://santacon.nyc/wp-content/uploads/2023/1...</td>\n",
       "      <td>(-73.9868991, 40.7543488)</td>\n",
       "    </tr>\n",
       "    <tr>\n",
       "      <th>1</th>\n",
       "      <td>Amsterdam Billiards and Bar</td>\n",
       "      <td>110 E 11th St, New York, NY 10003</td>\n",
       "      <td>25 Billiards Tables plus Ping-Pong, Darts, Foo...</td>\n",
       "      <td>https://santacon.nyc/wp-content/uploads/2023/1...</td>\n",
       "      <td>(-73.9895964633289, 40.7318806233391)</td>\n",
       "    </tr>\n",
       "    <tr>\n",
       "      <th>2</th>\n",
       "      <td>Bar Dough</td>\n",
       "      <td>350 W. 46th St, New York, NY 10036</td>\n",
       "      <td>beer &amp; cocktails + wood-fired pizzas 🎅🍕</td>\n",
       "      <td>https://santacon.nyc/wp-content/uploads/2023/1...</td>\n",
       "      <td>(-73.9898458356989, 40.7605310257958)</td>\n",
       "    </tr>\n",
       "    <tr>\n",
       "      <th>3</th>\n",
       "      <td>Montagu's Gusto</td>\n",
       "      <td>645 2nd Ave, New York, NY 10016</td>\n",
       "      <td>Artisan eatery bringing new flavors to Santaco...</td>\n",
       "      <td>https://santacon.nyc/wp-content/uploads/2024/1...</td>\n",
       "      <td>(-73.9755524535055, 40.7458328678707)</td>\n",
       "    </tr>\n",
       "    <tr>\n",
       "      <th>4</th>\n",
       "      <td>La Macarena NYC</td>\n",
       "      <td>234 W 48th St, New York, NY 10036</td>\n",
       "      <td>Santa loves Latin Food, Hooka &amp; Party Bar in T...</td>\n",
       "      <td>https://santacon.nyc/wp-content/uploads/2024/1...</td>\n",
       "      <td>(-73.9863870795907, 40.7607468797017)</td>\n",
       "    </tr>\n",
       "    <tr>\n",
       "      <th>5</th>\n",
       "      <td>Kinky's Dessert Bar</td>\n",
       "      <td>181 Orchard St, New York, NY 10002</td>\n",
       "      <td>A Dessert Shop with Booze...Let's Get Kinky!  👄</td>\n",
       "      <td>https://santacon.nyc/wp-content/uploads/2023/1...</td>\n",
       "      <td>(-73.988570564285, 40.7221618604617)</td>\n",
       "    </tr>\n",
       "    <tr>\n",
       "      <th>6</th>\n",
       "      <td>Cafe Flor</td>\n",
       "      <td>218 8th Ave, New York, NY 10011</td>\n",
       "      <td>Santa's cozy Coffee Shop / Bar &amp; quick bites 🥖🍸🎄🎅</td>\n",
       "      <td>https://lh3.googleusercontent.com/p/AF1QipO49m...</td>\n",
       "      <td>(-73.9992217531703, 40.7442624984897)</td>\n",
       "    </tr>\n",
       "    <tr>\n",
       "      <th>7</th>\n",
       "      <td>Arthouse Hotel NYC</td>\n",
       "      <td>2178 Broadway, New York, NY, 10024</td>\n",
       "      <td>Arthouse Hotel New York City has brought hip, ...</td>\n",
       "      <td>https://image-tc.galaxy.tf/wijpeg-1nbmvmxtb567...</td>\n",
       "      <td>(-73.98027072698984, 40.78225322430293)</td>\n",
       "    </tr>\n",
       "  </tbody>\n",
       "</table>\n",
       "</div>"
      ],
      "text/plain": [
       "                                            Name  \\\n",
       "0  *10AM START POINT THE CHRISTMAS SPECTACULAR**   \n",
       "1                    Amsterdam Billiards and Bar   \n",
       "2                                      Bar Dough   \n",
       "3                                Montagu's Gusto   \n",
       "4                                La Macarena NYC   \n",
       "5                            Kinky's Dessert Bar   \n",
       "6                                      Cafe Flor   \n",
       "7                             Arthouse Hotel NYC   \n",
       "\n",
       "                              Address  \\\n",
       "0   1415 Broadway, New York, NY 10018   \n",
       "1   110 E 11th St, New York, NY 10003   \n",
       "2  350 W. 46th St, New York, NY 10036   \n",
       "3     645 2nd Ave, New York, NY 10016   \n",
       "4   234 W 48th St, New York, NY 10036   \n",
       "5  181 Orchard St, New York, NY 10002   \n",
       "6     218 8th Ave, New York, NY 10011   \n",
       "7  2178 Broadway, New York, NY, 10024   \n",
       "\n",
       "                                         Description  \\\n",
       "0  10am Santa is Painting the town Red<br>We will...   \n",
       "1  25 Billiards Tables plus Ping-Pong, Darts, Foo...   \n",
       "2            beer & cocktails + wood-fired pizzas 🎅🍕   \n",
       "3  Artisan eatery bringing new flavors to Santaco...   \n",
       "4  Santa loves Latin Food, Hooka & Party Bar in T...   \n",
       "5    A Dessert Shop with Booze...Let's Get Kinky!  👄   \n",
       "6  Santa's cozy Coffee Shop / Bar & quick bites 🥖🍸🎄🎅   \n",
       "7  Arthouse Hotel New York City has brought hip, ...   \n",
       "\n",
       "                                               Image  \\\n",
       "0  https://santacon.nyc/wp-content/uploads/2023/1...   \n",
       "1  https://santacon.nyc/wp-content/uploads/2023/1...   \n",
       "2  https://santacon.nyc/wp-content/uploads/2023/1...   \n",
       "3  https://santacon.nyc/wp-content/uploads/2024/1...   \n",
       "4  https://santacon.nyc/wp-content/uploads/2024/1...   \n",
       "5  https://santacon.nyc/wp-content/uploads/2023/1...   \n",
       "6  https://lh3.googleusercontent.com/p/AF1QipO49m...   \n",
       "7  https://image-tc.galaxy.tf/wijpeg-1nbmvmxtb567...   \n",
       "\n",
       "                               Coordinates  \n",
       "0                (-73.9868991, 40.7543488)  \n",
       "1    (-73.9895964633289, 40.7318806233391)  \n",
       "2    (-73.9898458356989, 40.7605310257958)  \n",
       "3    (-73.9755524535055, 40.7458328678707)  \n",
       "4    (-73.9863870795907, 40.7607468797017)  \n",
       "5     (-73.988570564285, 40.7221618604617)  \n",
       "6    (-73.9992217531703, 40.7442624984897)  \n",
       "7  (-73.98027072698984, 40.78225322430293)  "
      ]
     },
     "metadata": {},
     "output_type": "display_data"
    },
    {
     "data": {
      "text/html": [
       "<div>\n",
       "<style scoped>\n",
       "    .dataframe tbody tr th:only-of-type {\n",
       "        vertical-align: middle;\n",
       "    }\n",
       "\n",
       "    .dataframe tbody tr th {\n",
       "        vertical-align: top;\n",
       "    }\n",
       "\n",
       "    .dataframe thead th {\n",
       "        text-align: right;\n",
       "    }\n",
       "</style>\n",
       "<table border=\"1\" class=\"dataframe\">\n",
       "  <thead>\n",
       "    <tr style=\"text-align: right;\">\n",
       "      <th></th>\n",
       "      <th>Name</th>\n",
       "      <th>Address</th>\n",
       "      <th>Description</th>\n",
       "      <th>Image</th>\n",
       "      <th>Coordinates</th>\n",
       "    </tr>\n",
       "  </thead>\n",
       "  <tbody>\n",
       "    <tr>\n",
       "      <th>0</th>\n",
       "      <td>*10AM START POINT THE CHRISTMAS SPECTACULAR**</td>\n",
       "      <td>1415 Broadway, New York, NY 10018</td>\n",
       "      <td>10am Santa is Painting the town Red&lt;br&gt;We will...</td>\n",
       "      <td>https://santacon.nyc/wp-content/uploads/2023/1...</td>\n",
       "      <td>(-73.9868991, 40.7543488)</td>\n",
       "    </tr>\n",
       "    <tr>\n",
       "      <th>1</th>\n",
       "      <td>Amsterdam Billiards and Bar</td>\n",
       "      <td>110 E 11th St, New York, NY 10003</td>\n",
       "      <td>25 Billiards Tables plus Ping-Pong, Darts, Foo...</td>\n",
       "      <td>https://santacon.nyc/wp-content/uploads/2023/1...</td>\n",
       "      <td>(-73.9895964633289, 40.7318806233391)</td>\n",
       "    </tr>\n",
       "    <tr>\n",
       "      <th>2</th>\n",
       "      <td>Bar Dough</td>\n",
       "      <td>350 W. 46th St, New York, NY 10036</td>\n",
       "      <td>beer &amp; cocktails + wood-fired pizzas 🎅🍕</td>\n",
       "      <td>https://santacon.nyc/wp-content/uploads/2023/1...</td>\n",
       "      <td>(-73.9898458356989, 40.7605310257958)</td>\n",
       "    </tr>\n",
       "    <tr>\n",
       "      <th>3</th>\n",
       "      <td>Montagu's Gusto</td>\n",
       "      <td>645 2nd Ave, New York, NY 10016</td>\n",
       "      <td>Artisan eatery bringing new flavors to Santaco...</td>\n",
       "      <td>https://santacon.nyc/wp-content/uploads/2024/1...</td>\n",
       "      <td>(-73.9755524535055, 40.7458328678707)</td>\n",
       "    </tr>\n",
       "    <tr>\n",
       "      <th>4</th>\n",
       "      <td>La Macarena NYC</td>\n",
       "      <td>234 W 48th St, New York, NY 10036</td>\n",
       "      <td>Santa loves Latin Food, Hooka &amp; Party Bar in T...</td>\n",
       "      <td>https://santacon.nyc/wp-content/uploads/2024/1...</td>\n",
       "      <td>(-73.9863870795907, 40.7607468797017)</td>\n",
       "    </tr>\n",
       "    <tr>\n",
       "      <th>5</th>\n",
       "      <td>Kinky's Dessert Bar</td>\n",
       "      <td>181 Orchard St, New York, NY 10002</td>\n",
       "      <td>A Dessert Shop with Booze...Let's Get Kinky!  👄</td>\n",
       "      <td>https://santacon.nyc/wp-content/uploads/2023/1...</td>\n",
       "      <td>(-73.988570564285, 40.7221618604617)</td>\n",
       "    </tr>\n",
       "    <tr>\n",
       "      <th>6</th>\n",
       "      <td>Cafe Flor</td>\n",
       "      <td>218 8th Ave, New York, NY 10011</td>\n",
       "      <td>Santa's cozy Coffee Shop / Bar &amp; quick bites 🥖🍸🎄🎅</td>\n",
       "      <td>https://lh3.googleusercontent.com/p/AF1QipO49m...</td>\n",
       "      <td>(-73.9992217531703, 40.7442624984897)</td>\n",
       "    </tr>\n",
       "    <tr>\n",
       "      <th>7</th>\n",
       "      <td>Hotel Indigo LES</td>\n",
       "      <td>171 Ludlow St, New York, NY 10002</td>\n",
       "      <td>Whether you’re snapping photos of our spectacu...</td>\n",
       "      <td>https://digital.ihg.com/is/image/ihg/hotel-ind...</td>\n",
       "      <td>(-73.98774901349493, 40.72192329652393)</td>\n",
       "    </tr>\n",
       "  </tbody>\n",
       "</table>\n",
       "</div>"
      ],
      "text/plain": [
       "                                            Name  \\\n",
       "0  *10AM START POINT THE CHRISTMAS SPECTACULAR**   \n",
       "1                    Amsterdam Billiards and Bar   \n",
       "2                                      Bar Dough   \n",
       "3                                Montagu's Gusto   \n",
       "4                                La Macarena NYC   \n",
       "5                            Kinky's Dessert Bar   \n",
       "6                                      Cafe Flor   \n",
       "7                               Hotel Indigo LES   \n",
       "\n",
       "                              Address  \\\n",
       "0   1415 Broadway, New York, NY 10018   \n",
       "1   110 E 11th St, New York, NY 10003   \n",
       "2  350 W. 46th St, New York, NY 10036   \n",
       "3     645 2nd Ave, New York, NY 10016   \n",
       "4   234 W 48th St, New York, NY 10036   \n",
       "5  181 Orchard St, New York, NY 10002   \n",
       "6     218 8th Ave, New York, NY 10011   \n",
       "7   171 Ludlow St, New York, NY 10002   \n",
       "\n",
       "                                         Description  \\\n",
       "0  10am Santa is Painting the town Red<br>We will...   \n",
       "1  25 Billiards Tables plus Ping-Pong, Darts, Foo...   \n",
       "2            beer & cocktails + wood-fired pizzas 🎅🍕   \n",
       "3  Artisan eatery bringing new flavors to Santaco...   \n",
       "4  Santa loves Latin Food, Hooka & Party Bar in T...   \n",
       "5    A Dessert Shop with Booze...Let's Get Kinky!  👄   \n",
       "6  Santa's cozy Coffee Shop / Bar & quick bites 🥖🍸🎄🎅   \n",
       "7  Whether you’re snapping photos of our spectacu...   \n",
       "\n",
       "                                               Image  \\\n",
       "0  https://santacon.nyc/wp-content/uploads/2023/1...   \n",
       "1  https://santacon.nyc/wp-content/uploads/2023/1...   \n",
       "2  https://santacon.nyc/wp-content/uploads/2023/1...   \n",
       "3  https://santacon.nyc/wp-content/uploads/2024/1...   \n",
       "4  https://santacon.nyc/wp-content/uploads/2024/1...   \n",
       "5  https://santacon.nyc/wp-content/uploads/2023/1...   \n",
       "6  https://lh3.googleusercontent.com/p/AF1QipO49m...   \n",
       "7  https://digital.ihg.com/is/image/ihg/hotel-ind...   \n",
       "\n",
       "                               Coordinates  \n",
       "0                (-73.9868991, 40.7543488)  \n",
       "1    (-73.9895964633289, 40.7318806233391)  \n",
       "2    (-73.9898458356989, 40.7605310257958)  \n",
       "3    (-73.9755524535055, 40.7458328678707)  \n",
       "4    (-73.9863870795907, 40.7607468797017)  \n",
       "5     (-73.988570564285, 40.7221618604617)  \n",
       "6    (-73.9992217531703, 40.7442624984897)  \n",
       "7  (-73.98774901349493, 40.72192329652393)  "
      ]
     },
     "metadata": {},
     "output_type": "display_data"
    },
    {
     "data": {
      "text/html": [
       "<div>\n",
       "<style scoped>\n",
       "    .dataframe tbody tr th:only-of-type {\n",
       "        vertical-align: middle;\n",
       "    }\n",
       "\n",
       "    .dataframe tbody tr th {\n",
       "        vertical-align: top;\n",
       "    }\n",
       "\n",
       "    .dataframe thead th {\n",
       "        text-align: right;\n",
       "    }\n",
       "</style>\n",
       "<table border=\"1\" class=\"dataframe\">\n",
       "  <thead>\n",
       "    <tr style=\"text-align: right;\">\n",
       "      <th></th>\n",
       "      <th>Name</th>\n",
       "      <th>Address</th>\n",
       "      <th>Description</th>\n",
       "      <th>Image</th>\n",
       "      <th>Coordinates</th>\n",
       "    </tr>\n",
       "  </thead>\n",
       "  <tbody>\n",
       "    <tr>\n",
       "      <th>0</th>\n",
       "      <td>*10AM START POINT THE CHRISTMAS SPECTACULAR**</td>\n",
       "      <td>1415 Broadway, New York, NY 10018</td>\n",
       "      <td>10am Santa is Painting the town Red&lt;br&gt;We will...</td>\n",
       "      <td>https://santacon.nyc/wp-content/uploads/2023/1...</td>\n",
       "      <td>(-73.9868991, 40.7543488)</td>\n",
       "    </tr>\n",
       "    <tr>\n",
       "      <th>1</th>\n",
       "      <td>Amsterdam Billiards and Bar</td>\n",
       "      <td>110 E 11th St, New York, NY 10003</td>\n",
       "      <td>25 Billiards Tables plus Ping-Pong, Darts, Foo...</td>\n",
       "      <td>https://santacon.nyc/wp-content/uploads/2023/1...</td>\n",
       "      <td>(-73.9895964633289, 40.7318806233391)</td>\n",
       "    </tr>\n",
       "    <tr>\n",
       "      <th>2</th>\n",
       "      <td>Bar Dough</td>\n",
       "      <td>350 W. 46th St, New York, NY 10036</td>\n",
       "      <td>beer &amp; cocktails + wood-fired pizzas 🎅🍕</td>\n",
       "      <td>https://santacon.nyc/wp-content/uploads/2023/1...</td>\n",
       "      <td>(-73.9898458356989, 40.7605310257958)</td>\n",
       "    </tr>\n",
       "    <tr>\n",
       "      <th>3</th>\n",
       "      <td>Montagu's Gusto</td>\n",
       "      <td>645 2nd Ave, New York, NY 10016</td>\n",
       "      <td>Artisan eatery bringing new flavors to Santaco...</td>\n",
       "      <td>https://santacon.nyc/wp-content/uploads/2024/1...</td>\n",
       "      <td>(-73.9755524535055, 40.7458328678707)</td>\n",
       "    </tr>\n",
       "    <tr>\n",
       "      <th>4</th>\n",
       "      <td>La Macarena NYC</td>\n",
       "      <td>234 W 48th St, New York, NY 10036</td>\n",
       "      <td>Santa loves Latin Food, Hooka &amp; Party Bar in T...</td>\n",
       "      <td>https://santacon.nyc/wp-content/uploads/2024/1...</td>\n",
       "      <td>(-73.9863870795907, 40.7607468797017)</td>\n",
       "    </tr>\n",
       "    <tr>\n",
       "      <th>5</th>\n",
       "      <td>Kinky's Dessert Bar</td>\n",
       "      <td>181 Orchard St, New York, NY 10002</td>\n",
       "      <td>A Dessert Shop with Booze...Let's Get Kinky!  👄</td>\n",
       "      <td>https://santacon.nyc/wp-content/uploads/2023/1...</td>\n",
       "      <td>(-73.988570564285, 40.7221618604617)</td>\n",
       "    </tr>\n",
       "    <tr>\n",
       "      <th>6</th>\n",
       "      <td>Cafe Flor</td>\n",
       "      <td>218 8th Ave, New York, NY 10011</td>\n",
       "      <td>Santa's cozy Coffee Shop / Bar &amp; quick bites 🥖🍸🎄🎅</td>\n",
       "      <td>https://lh3.googleusercontent.com/p/AF1QipO49m...</td>\n",
       "      <td>(-73.9992217531703, 40.7442624984897)</td>\n",
       "    </tr>\n",
       "    <tr>\n",
       "      <th>7</th>\n",
       "      <td>The High Line Hotel</td>\n",
       "      <td>180 10th Ave, New York, NY 10011</td>\n",
       "      <td>Nestled in the heart of Chelsea’s buzzing gall...</td>\n",
       "      <td>https://thehighlinehotel.com/wp-content/upload...</td>\n",
       "      <td>(-74.00497684578993, 40.74610496722116)</td>\n",
       "    </tr>\n",
       "  </tbody>\n",
       "</table>\n",
       "</div>"
      ],
      "text/plain": [
       "                                            Name  \\\n",
       "0  *10AM START POINT THE CHRISTMAS SPECTACULAR**   \n",
       "1                    Amsterdam Billiards and Bar   \n",
       "2                                      Bar Dough   \n",
       "3                                Montagu's Gusto   \n",
       "4                                La Macarena NYC   \n",
       "5                            Kinky's Dessert Bar   \n",
       "6                                      Cafe Flor   \n",
       "7                            The High Line Hotel   \n",
       "\n",
       "                              Address  \\\n",
       "0   1415 Broadway, New York, NY 10018   \n",
       "1   110 E 11th St, New York, NY 10003   \n",
       "2  350 W. 46th St, New York, NY 10036   \n",
       "3     645 2nd Ave, New York, NY 10016   \n",
       "4   234 W 48th St, New York, NY 10036   \n",
       "5  181 Orchard St, New York, NY 10002   \n",
       "6     218 8th Ave, New York, NY 10011   \n",
       "7    180 10th Ave, New York, NY 10011   \n",
       "\n",
       "                                         Description  \\\n",
       "0  10am Santa is Painting the town Red<br>We will...   \n",
       "1  25 Billiards Tables plus Ping-Pong, Darts, Foo...   \n",
       "2            beer & cocktails + wood-fired pizzas 🎅🍕   \n",
       "3  Artisan eatery bringing new flavors to Santaco...   \n",
       "4  Santa loves Latin Food, Hooka & Party Bar in T...   \n",
       "5    A Dessert Shop with Booze...Let's Get Kinky!  👄   \n",
       "6  Santa's cozy Coffee Shop / Bar & quick bites 🥖🍸🎄🎅   \n",
       "7  Nestled in the heart of Chelsea’s buzzing gall...   \n",
       "\n",
       "                                               Image  \\\n",
       "0  https://santacon.nyc/wp-content/uploads/2023/1...   \n",
       "1  https://santacon.nyc/wp-content/uploads/2023/1...   \n",
       "2  https://santacon.nyc/wp-content/uploads/2023/1...   \n",
       "3  https://santacon.nyc/wp-content/uploads/2024/1...   \n",
       "4  https://santacon.nyc/wp-content/uploads/2024/1...   \n",
       "5  https://santacon.nyc/wp-content/uploads/2023/1...   \n",
       "6  https://lh3.googleusercontent.com/p/AF1QipO49m...   \n",
       "7  https://thehighlinehotel.com/wp-content/upload...   \n",
       "\n",
       "                               Coordinates  \n",
       "0                (-73.9868991, 40.7543488)  \n",
       "1    (-73.9895964633289, 40.7318806233391)  \n",
       "2    (-73.9898458356989, 40.7605310257958)  \n",
       "3    (-73.9755524535055, 40.7458328678707)  \n",
       "4    (-73.9863870795907, 40.7607468797017)  \n",
       "5     (-73.988570564285, 40.7221618604617)  \n",
       "6    (-73.9992217531703, 40.7442624984897)  \n",
       "7  (-74.00497684578993, 40.74610496722116)  "
      ]
     },
     "metadata": {},
     "output_type": "display_data"
    },
    {
     "data": {
      "text/html": [
       "<div>\n",
       "<style scoped>\n",
       "    .dataframe tbody tr th:only-of-type {\n",
       "        vertical-align: middle;\n",
       "    }\n",
       "\n",
       "    .dataframe tbody tr th {\n",
       "        vertical-align: top;\n",
       "    }\n",
       "\n",
       "    .dataframe thead th {\n",
       "        text-align: right;\n",
       "    }\n",
       "</style>\n",
       "<table border=\"1\" class=\"dataframe\">\n",
       "  <thead>\n",
       "    <tr style=\"text-align: right;\">\n",
       "      <th></th>\n",
       "      <th>Name</th>\n",
       "      <th>Address</th>\n",
       "      <th>Description</th>\n",
       "      <th>Image</th>\n",
       "      <th>Coordinates</th>\n",
       "    </tr>\n",
       "  </thead>\n",
       "  <tbody>\n",
       "    <tr>\n",
       "      <th>0</th>\n",
       "      <td>*10AM START POINT THE CHRISTMAS SPECTACULAR**</td>\n",
       "      <td>1415 Broadway, New York, NY 10018</td>\n",
       "      <td>10am Santa is Painting the town Red&lt;br&gt;We will...</td>\n",
       "      <td>https://santacon.nyc/wp-content/uploads/2023/1...</td>\n",
       "      <td>(-73.9868991, 40.7543488)</td>\n",
       "    </tr>\n",
       "    <tr>\n",
       "      <th>1</th>\n",
       "      <td>Amsterdam Billiards and Bar</td>\n",
       "      <td>110 E 11th St, New York, NY 10003</td>\n",
       "      <td>25 Billiards Tables plus Ping-Pong, Darts, Foo...</td>\n",
       "      <td>https://santacon.nyc/wp-content/uploads/2023/1...</td>\n",
       "      <td>(-73.9895964633289, 40.7318806233391)</td>\n",
       "    </tr>\n",
       "    <tr>\n",
       "      <th>2</th>\n",
       "      <td>Bar Dough</td>\n",
       "      <td>350 W. 46th St, New York, NY 10036</td>\n",
       "      <td>beer &amp; cocktails + wood-fired pizzas 🎅🍕</td>\n",
       "      <td>https://santacon.nyc/wp-content/uploads/2023/1...</td>\n",
       "      <td>(-73.9898458356989, 40.7605310257958)</td>\n",
       "    </tr>\n",
       "    <tr>\n",
       "      <th>3</th>\n",
       "      <td>Montagu's Gusto</td>\n",
       "      <td>645 2nd Ave, New York, NY 10016</td>\n",
       "      <td>Artisan eatery bringing new flavors to Santaco...</td>\n",
       "      <td>https://santacon.nyc/wp-content/uploads/2024/1...</td>\n",
       "      <td>(-73.9755524535055, 40.7458328678707)</td>\n",
       "    </tr>\n",
       "    <tr>\n",
       "      <th>4</th>\n",
       "      <td>La Macarena NYC</td>\n",
       "      <td>234 W 48th St, New York, NY 10036</td>\n",
       "      <td>Santa loves Latin Food, Hooka &amp; Party Bar in T...</td>\n",
       "      <td>https://santacon.nyc/wp-content/uploads/2024/1...</td>\n",
       "      <td>(-73.9863870795907, 40.7607468797017)</td>\n",
       "    </tr>\n",
       "    <tr>\n",
       "      <th>5</th>\n",
       "      <td>Kinky's Dessert Bar</td>\n",
       "      <td>181 Orchard St, New York, NY 10002</td>\n",
       "      <td>A Dessert Shop with Booze...Let's Get Kinky!  👄</td>\n",
       "      <td>https://santacon.nyc/wp-content/uploads/2023/1...</td>\n",
       "      <td>(-73.988570564285, 40.7221618604617)</td>\n",
       "    </tr>\n",
       "    <tr>\n",
       "      <th>6</th>\n",
       "      <td>Cafe Flor</td>\n",
       "      <td>218 8th Ave, New York, NY 10011</td>\n",
       "      <td>Santa's cozy Coffee Shop / Bar &amp; quick bites 🥖🍸🎄🎅</td>\n",
       "      <td>https://lh3.googleusercontent.com/p/AF1QipO49m...</td>\n",
       "      <td>(-73.9992217531703, 40.7442624984897)</td>\n",
       "    </tr>\n",
       "    <tr>\n",
       "      <th>7</th>\n",
       "      <td>Virgin Hotels NYC</td>\n",
       "      <td>1227 Broadway, New York, NY 10001</td>\n",
       "      <td>Discover the best bed in all five boroughs in ...</td>\n",
       "      <td>https://newyorkyimby.com/wp-content/uploads/20...</td>\n",
       "      <td>(-73.9887963644178, 40.746756671625576)</td>\n",
       "    </tr>\n",
       "  </tbody>\n",
       "</table>\n",
       "</div>"
      ],
      "text/plain": [
       "                                            Name  \\\n",
       "0  *10AM START POINT THE CHRISTMAS SPECTACULAR**   \n",
       "1                    Amsterdam Billiards and Bar   \n",
       "2                                      Bar Dough   \n",
       "3                                Montagu's Gusto   \n",
       "4                                La Macarena NYC   \n",
       "5                            Kinky's Dessert Bar   \n",
       "6                                      Cafe Flor   \n",
       "7                              Virgin Hotels NYC   \n",
       "\n",
       "                              Address  \\\n",
       "0   1415 Broadway, New York, NY 10018   \n",
       "1   110 E 11th St, New York, NY 10003   \n",
       "2  350 W. 46th St, New York, NY 10036   \n",
       "3     645 2nd Ave, New York, NY 10016   \n",
       "4   234 W 48th St, New York, NY 10036   \n",
       "5  181 Orchard St, New York, NY 10002   \n",
       "6     218 8th Ave, New York, NY 10011   \n",
       "7   1227 Broadway, New York, NY 10001   \n",
       "\n",
       "                                         Description  \\\n",
       "0  10am Santa is Painting the town Red<br>We will...   \n",
       "1  25 Billiards Tables plus Ping-Pong, Darts, Foo...   \n",
       "2            beer & cocktails + wood-fired pizzas 🎅🍕   \n",
       "3  Artisan eatery bringing new flavors to Santaco...   \n",
       "4  Santa loves Latin Food, Hooka & Party Bar in T...   \n",
       "5    A Dessert Shop with Booze...Let's Get Kinky!  👄   \n",
       "6  Santa's cozy Coffee Shop / Bar & quick bites 🥖🍸🎄🎅   \n",
       "7  Discover the best bed in all five boroughs in ...   \n",
       "\n",
       "                                               Image  \\\n",
       "0  https://santacon.nyc/wp-content/uploads/2023/1...   \n",
       "1  https://santacon.nyc/wp-content/uploads/2023/1...   \n",
       "2  https://santacon.nyc/wp-content/uploads/2023/1...   \n",
       "3  https://santacon.nyc/wp-content/uploads/2024/1...   \n",
       "4  https://santacon.nyc/wp-content/uploads/2024/1...   \n",
       "5  https://santacon.nyc/wp-content/uploads/2023/1...   \n",
       "6  https://lh3.googleusercontent.com/p/AF1QipO49m...   \n",
       "7  https://newyorkyimby.com/wp-content/uploads/20...   \n",
       "\n",
       "                               Coordinates  \n",
       "0                (-73.9868991, 40.7543488)  \n",
       "1    (-73.9895964633289, 40.7318806233391)  \n",
       "2    (-73.9898458356989, 40.7605310257958)  \n",
       "3    (-73.9755524535055, 40.7458328678707)  \n",
       "4    (-73.9863870795907, 40.7607468797017)  \n",
       "5     (-73.988570564285, 40.7221618604617)  \n",
       "6    (-73.9992217531703, 40.7442624984897)  \n",
       "7  (-73.9887963644178, 40.746756671625576)  "
      ]
     },
     "metadata": {},
     "output_type": "display_data"
    },
    {
     "data": {
      "text/html": [
       "<div>\n",
       "<style scoped>\n",
       "    .dataframe tbody tr th:only-of-type {\n",
       "        vertical-align: middle;\n",
       "    }\n",
       "\n",
       "    .dataframe tbody tr th {\n",
       "        vertical-align: top;\n",
       "    }\n",
       "\n",
       "    .dataframe thead th {\n",
       "        text-align: right;\n",
       "    }\n",
       "</style>\n",
       "<table border=\"1\" class=\"dataframe\">\n",
       "  <thead>\n",
       "    <tr style=\"text-align: right;\">\n",
       "      <th></th>\n",
       "      <th>Name</th>\n",
       "      <th>Address</th>\n",
       "      <th>Description</th>\n",
       "      <th>Image</th>\n",
       "      <th>Coordinates</th>\n",
       "    </tr>\n",
       "  </thead>\n",
       "  <tbody>\n",
       "    <tr>\n",
       "      <th>0</th>\n",
       "      <td>*10AM START POINT THE CHRISTMAS SPECTACULAR**</td>\n",
       "      <td>1415 Broadway, New York, NY 10018</td>\n",
       "      <td>10am Santa is Painting the town Red&lt;br&gt;We will...</td>\n",
       "      <td>https://santacon.nyc/wp-content/uploads/2023/1...</td>\n",
       "      <td>(-73.9868991, 40.7543488)</td>\n",
       "    </tr>\n",
       "    <tr>\n",
       "      <th>1</th>\n",
       "      <td>Jack Doyle's</td>\n",
       "      <td>240 W 35th St, New York, NY 10001</td>\n",
       "      <td>DJ at this HUGE Irish Rockin' Haus 🎅🍀</td>\n",
       "      <td>https://santacon.nyc/wp-content/uploads/2023/1...</td>\n",
       "      <td>(-73.9920823380098, 40.7522799496454)</td>\n",
       "    </tr>\n",
       "    <tr>\n",
       "      <th>2</th>\n",
       "      <td>Printers Alley</td>\n",
       "      <td>215 West 40th St, New York, NY 10018</td>\n",
       "      <td>4 Floor Sprawling Irish Pub 🎅🏠</td>\n",
       "      <td>https://santacon.nyc/wp-content/uploads/2023/1...</td>\n",
       "      <td>(-73.9885881785405, 40.7555056845062)</td>\n",
       "    </tr>\n",
       "    <tr>\n",
       "      <th>3</th>\n",
       "      <td>Playwright Irish Pub</td>\n",
       "      <td>27 W 35th St, New York, NY 10001</td>\n",
       "      <td>Santa's Winter Warmer Bar 🎅🇮🇪</td>\n",
       "      <td>https://santacon.nyc/wp-content/uploads/2023/1...</td>\n",
       "      <td>(-73.9854266119098, 40.7499486051269)</td>\n",
       "    </tr>\n",
       "    <tr>\n",
       "      <th>4</th>\n",
       "      <td>Walters Bar</td>\n",
       "      <td>389 8th Ave, New York, NY 10001</td>\n",
       "      <td>beers, darts &amp; a pool table 🎅🇮🇪</td>\n",
       "      <td>https://santacon.nyc/wp-content/uploads/2023/1...</td>\n",
       "      <td>(-73.9958497233574, 40.7494953724932)</td>\n",
       "    </tr>\n",
       "    <tr>\n",
       "      <th>5</th>\n",
       "      <td>Celtic Rail</td>\n",
       "      <td>137 W 33rd St, New York, NY 10120</td>\n",
       "      <td>Madison Square Garden's staple Irish Locals Ha...</td>\n",
       "      <td>https://santacon.nyc/wp-content/uploads/2023/1...</td>\n",
       "      <td>(-73.989906, 40.750069)</td>\n",
       "    </tr>\n",
       "    <tr>\n",
       "      <th>6</th>\n",
       "      <td>Jameson's</td>\n",
       "      <td>920 2nd Ave, New York, NY 10017</td>\n",
       "      <td>Real NYC Bar hang for Santa 🎅🇮🇪</td>\n",
       "      <td>https://santacon.nyc/wp-content/uploads/2024/1...</td>\n",
       "      <td>(-73.9689739476126, 40.7547953755226)</td>\n",
       "    </tr>\n",
       "    <tr>\n",
       "      <th>7</th>\n",
       "      <td>McKenna's</td>\n",
       "      <td>250 W 14th St, New York, NY 10011</td>\n",
       "      <td>Santa's Time-tested pub + bar bites 🎅🇮🇪</td>\n",
       "      <td>https://lh3.googleusercontent.com/p/AF1QipN3xQ...</td>\n",
       "      <td>(-74.002150722183, 40.739637278931)</td>\n",
       "    </tr>\n",
       "    <tr>\n",
       "      <th>8</th>\n",
       "      <td>Arthouse Hotel NYC</td>\n",
       "      <td>2178 Broadway, New York, NY, 10024</td>\n",
       "      <td>Arthouse Hotel New York City has brought hip, ...</td>\n",
       "      <td>https://image-tc.galaxy.tf/wijpeg-1nbmvmxtb567...</td>\n",
       "      <td>(-73.98027072698984, 40.78225322430293)</td>\n",
       "    </tr>\n",
       "  </tbody>\n",
       "</table>\n",
       "</div>"
      ],
      "text/plain": [
       "                                            Name  \\\n",
       "0  *10AM START POINT THE CHRISTMAS SPECTACULAR**   \n",
       "1                                   Jack Doyle's   \n",
       "2                                 Printers Alley   \n",
       "3                           Playwright Irish Pub   \n",
       "4                                    Walters Bar   \n",
       "5                                    Celtic Rail   \n",
       "6                                      Jameson's   \n",
       "7                                      McKenna's   \n",
       "8                             Arthouse Hotel NYC   \n",
       "\n",
       "                                Address  \\\n",
       "0     1415 Broadway, New York, NY 10018   \n",
       "1     240 W 35th St, New York, NY 10001   \n",
       "2  215 West 40th St, New York, NY 10018   \n",
       "3      27 W 35th St, New York, NY 10001   \n",
       "4       389 8th Ave, New York, NY 10001   \n",
       "5     137 W 33rd St, New York, NY 10120   \n",
       "6       920 2nd Ave, New York, NY 10017   \n",
       "7     250 W 14th St, New York, NY 10011   \n",
       "8    2178 Broadway, New York, NY, 10024   \n",
       "\n",
       "                                         Description  \\\n",
       "0  10am Santa is Painting the town Red<br>We will...   \n",
       "1              DJ at this HUGE Irish Rockin' Haus 🎅🍀   \n",
       "2                     4 Floor Sprawling Irish Pub 🎅🏠   \n",
       "3                      Santa's Winter Warmer Bar 🎅🇮🇪   \n",
       "4                    beers, darts & a pool table 🎅🇮🇪   \n",
       "5  Madison Square Garden's staple Irish Locals Ha...   \n",
       "6                    Real NYC Bar hang for Santa 🎅🇮🇪   \n",
       "7            Santa's Time-tested pub + bar bites 🎅🇮🇪   \n",
       "8  Arthouse Hotel New York City has brought hip, ...   \n",
       "\n",
       "                                               Image  \\\n",
       "0  https://santacon.nyc/wp-content/uploads/2023/1...   \n",
       "1  https://santacon.nyc/wp-content/uploads/2023/1...   \n",
       "2  https://santacon.nyc/wp-content/uploads/2023/1...   \n",
       "3  https://santacon.nyc/wp-content/uploads/2023/1...   \n",
       "4  https://santacon.nyc/wp-content/uploads/2023/1...   \n",
       "5  https://santacon.nyc/wp-content/uploads/2023/1...   \n",
       "6  https://santacon.nyc/wp-content/uploads/2024/1...   \n",
       "7  https://lh3.googleusercontent.com/p/AF1QipN3xQ...   \n",
       "8  https://image-tc.galaxy.tf/wijpeg-1nbmvmxtb567...   \n",
       "\n",
       "                               Coordinates  \n",
       "0                (-73.9868991, 40.7543488)  \n",
       "1    (-73.9920823380098, 40.7522799496454)  \n",
       "2    (-73.9885881785405, 40.7555056845062)  \n",
       "3    (-73.9854266119098, 40.7499486051269)  \n",
       "4    (-73.9958497233574, 40.7494953724932)  \n",
       "5                  (-73.989906, 40.750069)  \n",
       "6    (-73.9689739476126, 40.7547953755226)  \n",
       "7      (-74.002150722183, 40.739637278931)  \n",
       "8  (-73.98027072698984, 40.78225322430293)  "
      ]
     },
     "metadata": {},
     "output_type": "display_data"
    },
    {
     "data": {
      "text/html": [
       "<div>\n",
       "<style scoped>\n",
       "    .dataframe tbody tr th:only-of-type {\n",
       "        vertical-align: middle;\n",
       "    }\n",
       "\n",
       "    .dataframe tbody tr th {\n",
       "        vertical-align: top;\n",
       "    }\n",
       "\n",
       "    .dataframe thead th {\n",
       "        text-align: right;\n",
       "    }\n",
       "</style>\n",
       "<table border=\"1\" class=\"dataframe\">\n",
       "  <thead>\n",
       "    <tr style=\"text-align: right;\">\n",
       "      <th></th>\n",
       "      <th>Name</th>\n",
       "      <th>Address</th>\n",
       "      <th>Description</th>\n",
       "      <th>Image</th>\n",
       "      <th>Coordinates</th>\n",
       "    </tr>\n",
       "  </thead>\n",
       "  <tbody>\n",
       "    <tr>\n",
       "      <th>0</th>\n",
       "      <td>*10AM START POINT THE CHRISTMAS SPECTACULAR**</td>\n",
       "      <td>1415 Broadway, New York, NY 10018</td>\n",
       "      <td>10am Santa is Painting the town Red&lt;br&gt;We will...</td>\n",
       "      <td>https://santacon.nyc/wp-content/uploads/2023/1...</td>\n",
       "      <td>(-73.9868991, 40.7543488)</td>\n",
       "    </tr>\n",
       "    <tr>\n",
       "      <th>1</th>\n",
       "      <td>Jack Doyle's</td>\n",
       "      <td>240 W 35th St, New York, NY 10001</td>\n",
       "      <td>DJ at this HUGE Irish Rockin' Haus 🎅🍀</td>\n",
       "      <td>https://santacon.nyc/wp-content/uploads/2023/1...</td>\n",
       "      <td>(-73.9920823380098, 40.7522799496454)</td>\n",
       "    </tr>\n",
       "    <tr>\n",
       "      <th>2</th>\n",
       "      <td>Printers Alley</td>\n",
       "      <td>215 West 40th St, New York, NY 10018</td>\n",
       "      <td>4 Floor Sprawling Irish Pub 🎅🏠</td>\n",
       "      <td>https://santacon.nyc/wp-content/uploads/2023/1...</td>\n",
       "      <td>(-73.9885881785405, 40.7555056845062)</td>\n",
       "    </tr>\n",
       "    <tr>\n",
       "      <th>3</th>\n",
       "      <td>Playwright Irish Pub</td>\n",
       "      <td>27 W 35th St, New York, NY 10001</td>\n",
       "      <td>Santa's Winter Warmer Bar 🎅🇮🇪</td>\n",
       "      <td>https://santacon.nyc/wp-content/uploads/2023/1...</td>\n",
       "      <td>(-73.9854266119098, 40.7499486051269)</td>\n",
       "    </tr>\n",
       "    <tr>\n",
       "      <th>4</th>\n",
       "      <td>Walters Bar</td>\n",
       "      <td>389 8th Ave, New York, NY 10001</td>\n",
       "      <td>beers, darts &amp; a pool table 🎅🇮🇪</td>\n",
       "      <td>https://santacon.nyc/wp-content/uploads/2023/1...</td>\n",
       "      <td>(-73.9958497233574, 40.7494953724932)</td>\n",
       "    </tr>\n",
       "    <tr>\n",
       "      <th>5</th>\n",
       "      <td>Celtic Rail</td>\n",
       "      <td>137 W 33rd St, New York, NY 10120</td>\n",
       "      <td>Madison Square Garden's staple Irish Locals Ha...</td>\n",
       "      <td>https://santacon.nyc/wp-content/uploads/2023/1...</td>\n",
       "      <td>(-73.989906, 40.750069)</td>\n",
       "    </tr>\n",
       "    <tr>\n",
       "      <th>6</th>\n",
       "      <td>Jameson's</td>\n",
       "      <td>920 2nd Ave, New York, NY 10017</td>\n",
       "      <td>Real NYC Bar hang for Santa 🎅🇮🇪</td>\n",
       "      <td>https://santacon.nyc/wp-content/uploads/2024/1...</td>\n",
       "      <td>(-73.9689739476126, 40.7547953755226)</td>\n",
       "    </tr>\n",
       "    <tr>\n",
       "      <th>7</th>\n",
       "      <td>McKenna's</td>\n",
       "      <td>250 W 14th St, New York, NY 10011</td>\n",
       "      <td>Santa's Time-tested pub + bar bites 🎅🇮🇪</td>\n",
       "      <td>https://lh3.googleusercontent.com/p/AF1QipN3xQ...</td>\n",
       "      <td>(-74.002150722183, 40.739637278931)</td>\n",
       "    </tr>\n",
       "    <tr>\n",
       "      <th>8</th>\n",
       "      <td>Hotel Indigo LES</td>\n",
       "      <td>171 Ludlow St, New York, NY 10002</td>\n",
       "      <td>Whether you’re snapping photos of our spectacu...</td>\n",
       "      <td>https://digital.ihg.com/is/image/ihg/hotel-ind...</td>\n",
       "      <td>(-73.98774901349493, 40.72192329652393)</td>\n",
       "    </tr>\n",
       "  </tbody>\n",
       "</table>\n",
       "</div>"
      ],
      "text/plain": [
       "                                            Name  \\\n",
       "0  *10AM START POINT THE CHRISTMAS SPECTACULAR**   \n",
       "1                                   Jack Doyle's   \n",
       "2                                 Printers Alley   \n",
       "3                           Playwright Irish Pub   \n",
       "4                                    Walters Bar   \n",
       "5                                    Celtic Rail   \n",
       "6                                      Jameson's   \n",
       "7                                      McKenna's   \n",
       "8                               Hotel Indigo LES   \n",
       "\n",
       "                                Address  \\\n",
       "0     1415 Broadway, New York, NY 10018   \n",
       "1     240 W 35th St, New York, NY 10001   \n",
       "2  215 West 40th St, New York, NY 10018   \n",
       "3      27 W 35th St, New York, NY 10001   \n",
       "4       389 8th Ave, New York, NY 10001   \n",
       "5     137 W 33rd St, New York, NY 10120   \n",
       "6       920 2nd Ave, New York, NY 10017   \n",
       "7     250 W 14th St, New York, NY 10011   \n",
       "8     171 Ludlow St, New York, NY 10002   \n",
       "\n",
       "                                         Description  \\\n",
       "0  10am Santa is Painting the town Red<br>We will...   \n",
       "1              DJ at this HUGE Irish Rockin' Haus 🎅🍀   \n",
       "2                     4 Floor Sprawling Irish Pub 🎅🏠   \n",
       "3                      Santa's Winter Warmer Bar 🎅🇮🇪   \n",
       "4                    beers, darts & a pool table 🎅🇮🇪   \n",
       "5  Madison Square Garden's staple Irish Locals Ha...   \n",
       "6                    Real NYC Bar hang for Santa 🎅🇮🇪   \n",
       "7            Santa's Time-tested pub + bar bites 🎅🇮🇪   \n",
       "8  Whether you’re snapping photos of our spectacu...   \n",
       "\n",
       "                                               Image  \\\n",
       "0  https://santacon.nyc/wp-content/uploads/2023/1...   \n",
       "1  https://santacon.nyc/wp-content/uploads/2023/1...   \n",
       "2  https://santacon.nyc/wp-content/uploads/2023/1...   \n",
       "3  https://santacon.nyc/wp-content/uploads/2023/1...   \n",
       "4  https://santacon.nyc/wp-content/uploads/2023/1...   \n",
       "5  https://santacon.nyc/wp-content/uploads/2023/1...   \n",
       "6  https://santacon.nyc/wp-content/uploads/2024/1...   \n",
       "7  https://lh3.googleusercontent.com/p/AF1QipN3xQ...   \n",
       "8  https://digital.ihg.com/is/image/ihg/hotel-ind...   \n",
       "\n",
       "                               Coordinates  \n",
       "0                (-73.9868991, 40.7543488)  \n",
       "1    (-73.9920823380098, 40.7522799496454)  \n",
       "2    (-73.9885881785405, 40.7555056845062)  \n",
       "3    (-73.9854266119098, 40.7499486051269)  \n",
       "4    (-73.9958497233574, 40.7494953724932)  \n",
       "5                  (-73.989906, 40.750069)  \n",
       "6    (-73.9689739476126, 40.7547953755226)  \n",
       "7      (-74.002150722183, 40.739637278931)  \n",
       "8  (-73.98774901349493, 40.72192329652393)  "
      ]
     },
     "metadata": {},
     "output_type": "display_data"
    },
    {
     "data": {
      "text/html": [
       "<div>\n",
       "<style scoped>\n",
       "    .dataframe tbody tr th:only-of-type {\n",
       "        vertical-align: middle;\n",
       "    }\n",
       "\n",
       "    .dataframe tbody tr th {\n",
       "        vertical-align: top;\n",
       "    }\n",
       "\n",
       "    .dataframe thead th {\n",
       "        text-align: right;\n",
       "    }\n",
       "</style>\n",
       "<table border=\"1\" class=\"dataframe\">\n",
       "  <thead>\n",
       "    <tr style=\"text-align: right;\">\n",
       "      <th></th>\n",
       "      <th>Name</th>\n",
       "      <th>Address</th>\n",
       "      <th>Description</th>\n",
       "      <th>Image</th>\n",
       "      <th>Coordinates</th>\n",
       "    </tr>\n",
       "  </thead>\n",
       "  <tbody>\n",
       "    <tr>\n",
       "      <th>0</th>\n",
       "      <td>*10AM START POINT THE CHRISTMAS SPECTACULAR**</td>\n",
       "      <td>1415 Broadway, New York, NY 10018</td>\n",
       "      <td>10am Santa is Painting the town Red&lt;br&gt;We will...</td>\n",
       "      <td>https://santacon.nyc/wp-content/uploads/2023/1...</td>\n",
       "      <td>(-73.9868991, 40.7543488)</td>\n",
       "    </tr>\n",
       "    <tr>\n",
       "      <th>1</th>\n",
       "      <td>Jack Doyle's</td>\n",
       "      <td>240 W 35th St, New York, NY 10001</td>\n",
       "      <td>DJ at this HUGE Irish Rockin' Haus 🎅🍀</td>\n",
       "      <td>https://santacon.nyc/wp-content/uploads/2023/1...</td>\n",
       "      <td>(-73.9920823380098, 40.7522799496454)</td>\n",
       "    </tr>\n",
       "    <tr>\n",
       "      <th>2</th>\n",
       "      <td>Printers Alley</td>\n",
       "      <td>215 West 40th St, New York, NY 10018</td>\n",
       "      <td>4 Floor Sprawling Irish Pub 🎅🏠</td>\n",
       "      <td>https://santacon.nyc/wp-content/uploads/2023/1...</td>\n",
       "      <td>(-73.9885881785405, 40.7555056845062)</td>\n",
       "    </tr>\n",
       "    <tr>\n",
       "      <th>3</th>\n",
       "      <td>Playwright Irish Pub</td>\n",
       "      <td>27 W 35th St, New York, NY 10001</td>\n",
       "      <td>Santa's Winter Warmer Bar 🎅🇮🇪</td>\n",
       "      <td>https://santacon.nyc/wp-content/uploads/2023/1...</td>\n",
       "      <td>(-73.9854266119098, 40.7499486051269)</td>\n",
       "    </tr>\n",
       "    <tr>\n",
       "      <th>4</th>\n",
       "      <td>Walters Bar</td>\n",
       "      <td>389 8th Ave, New York, NY 10001</td>\n",
       "      <td>beers, darts &amp; a pool table 🎅🇮🇪</td>\n",
       "      <td>https://santacon.nyc/wp-content/uploads/2023/1...</td>\n",
       "      <td>(-73.9958497233574, 40.7494953724932)</td>\n",
       "    </tr>\n",
       "    <tr>\n",
       "      <th>5</th>\n",
       "      <td>Celtic Rail</td>\n",
       "      <td>137 W 33rd St, New York, NY 10120</td>\n",
       "      <td>Madison Square Garden's staple Irish Locals Ha...</td>\n",
       "      <td>https://santacon.nyc/wp-content/uploads/2023/1...</td>\n",
       "      <td>(-73.989906, 40.750069)</td>\n",
       "    </tr>\n",
       "    <tr>\n",
       "      <th>6</th>\n",
       "      <td>Jameson's</td>\n",
       "      <td>920 2nd Ave, New York, NY 10017</td>\n",
       "      <td>Real NYC Bar hang for Santa 🎅🇮🇪</td>\n",
       "      <td>https://santacon.nyc/wp-content/uploads/2024/1...</td>\n",
       "      <td>(-73.9689739476126, 40.7547953755226)</td>\n",
       "    </tr>\n",
       "    <tr>\n",
       "      <th>7</th>\n",
       "      <td>McKenna's</td>\n",
       "      <td>250 W 14th St, New York, NY 10011</td>\n",
       "      <td>Santa's Time-tested pub + bar bites 🎅🇮🇪</td>\n",
       "      <td>https://lh3.googleusercontent.com/p/AF1QipN3xQ...</td>\n",
       "      <td>(-74.002150722183, 40.739637278931)</td>\n",
       "    </tr>\n",
       "    <tr>\n",
       "      <th>8</th>\n",
       "      <td>The High Line Hotel</td>\n",
       "      <td>180 10th Ave, New York, NY 10011</td>\n",
       "      <td>Nestled in the heart of Chelsea’s buzzing gall...</td>\n",
       "      <td>https://thehighlinehotel.com/wp-content/upload...</td>\n",
       "      <td>(-74.00497684578993, 40.74610496722116)</td>\n",
       "    </tr>\n",
       "  </tbody>\n",
       "</table>\n",
       "</div>"
      ],
      "text/plain": [
       "                                            Name  \\\n",
       "0  *10AM START POINT THE CHRISTMAS SPECTACULAR**   \n",
       "1                                   Jack Doyle's   \n",
       "2                                 Printers Alley   \n",
       "3                           Playwright Irish Pub   \n",
       "4                                    Walters Bar   \n",
       "5                                    Celtic Rail   \n",
       "6                                      Jameson's   \n",
       "7                                      McKenna's   \n",
       "8                            The High Line Hotel   \n",
       "\n",
       "                                Address  \\\n",
       "0     1415 Broadway, New York, NY 10018   \n",
       "1     240 W 35th St, New York, NY 10001   \n",
       "2  215 West 40th St, New York, NY 10018   \n",
       "3      27 W 35th St, New York, NY 10001   \n",
       "4       389 8th Ave, New York, NY 10001   \n",
       "5     137 W 33rd St, New York, NY 10120   \n",
       "6       920 2nd Ave, New York, NY 10017   \n",
       "7     250 W 14th St, New York, NY 10011   \n",
       "8      180 10th Ave, New York, NY 10011   \n",
       "\n",
       "                                         Description  \\\n",
       "0  10am Santa is Painting the town Red<br>We will...   \n",
       "1              DJ at this HUGE Irish Rockin' Haus 🎅🍀   \n",
       "2                     4 Floor Sprawling Irish Pub 🎅🏠   \n",
       "3                      Santa's Winter Warmer Bar 🎅🇮🇪   \n",
       "4                    beers, darts & a pool table 🎅🇮🇪   \n",
       "5  Madison Square Garden's staple Irish Locals Ha...   \n",
       "6                    Real NYC Bar hang for Santa 🎅🇮🇪   \n",
       "7            Santa's Time-tested pub + bar bites 🎅🇮🇪   \n",
       "8  Nestled in the heart of Chelsea’s buzzing gall...   \n",
       "\n",
       "                                               Image  \\\n",
       "0  https://santacon.nyc/wp-content/uploads/2023/1...   \n",
       "1  https://santacon.nyc/wp-content/uploads/2023/1...   \n",
       "2  https://santacon.nyc/wp-content/uploads/2023/1...   \n",
       "3  https://santacon.nyc/wp-content/uploads/2023/1...   \n",
       "4  https://santacon.nyc/wp-content/uploads/2023/1...   \n",
       "5  https://santacon.nyc/wp-content/uploads/2023/1...   \n",
       "6  https://santacon.nyc/wp-content/uploads/2024/1...   \n",
       "7  https://lh3.googleusercontent.com/p/AF1QipN3xQ...   \n",
       "8  https://thehighlinehotel.com/wp-content/upload...   \n",
       "\n",
       "                               Coordinates  \n",
       "0                (-73.9868991, 40.7543488)  \n",
       "1    (-73.9920823380098, 40.7522799496454)  \n",
       "2    (-73.9885881785405, 40.7555056845062)  \n",
       "3    (-73.9854266119098, 40.7499486051269)  \n",
       "4    (-73.9958497233574, 40.7494953724932)  \n",
       "5                  (-73.989906, 40.750069)  \n",
       "6    (-73.9689739476126, 40.7547953755226)  \n",
       "7      (-74.002150722183, 40.739637278931)  \n",
       "8  (-74.00497684578993, 40.74610496722116)  "
      ]
     },
     "metadata": {},
     "output_type": "display_data"
    },
    {
     "data": {
      "text/html": [
       "<div>\n",
       "<style scoped>\n",
       "    .dataframe tbody tr th:only-of-type {\n",
       "        vertical-align: middle;\n",
       "    }\n",
       "\n",
       "    .dataframe tbody tr th {\n",
       "        vertical-align: top;\n",
       "    }\n",
       "\n",
       "    .dataframe thead th {\n",
       "        text-align: right;\n",
       "    }\n",
       "</style>\n",
       "<table border=\"1\" class=\"dataframe\">\n",
       "  <thead>\n",
       "    <tr style=\"text-align: right;\">\n",
       "      <th></th>\n",
       "      <th>Name</th>\n",
       "      <th>Address</th>\n",
       "      <th>Description</th>\n",
       "      <th>Image</th>\n",
       "      <th>Coordinates</th>\n",
       "    </tr>\n",
       "  </thead>\n",
       "  <tbody>\n",
       "    <tr>\n",
       "      <th>0</th>\n",
       "      <td>*10AM START POINT THE CHRISTMAS SPECTACULAR**</td>\n",
       "      <td>1415 Broadway, New York, NY 10018</td>\n",
       "      <td>10am Santa is Painting the town Red&lt;br&gt;We will...</td>\n",
       "      <td>https://santacon.nyc/wp-content/uploads/2023/1...</td>\n",
       "      <td>(-73.9868991, 40.7543488)</td>\n",
       "    </tr>\n",
       "    <tr>\n",
       "      <th>1</th>\n",
       "      <td>Jack Doyle's</td>\n",
       "      <td>240 W 35th St, New York, NY 10001</td>\n",
       "      <td>DJ at this HUGE Irish Rockin' Haus 🎅🍀</td>\n",
       "      <td>https://santacon.nyc/wp-content/uploads/2023/1...</td>\n",
       "      <td>(-73.9920823380098, 40.7522799496454)</td>\n",
       "    </tr>\n",
       "    <tr>\n",
       "      <th>2</th>\n",
       "      <td>Printers Alley</td>\n",
       "      <td>215 West 40th St, New York, NY 10018</td>\n",
       "      <td>4 Floor Sprawling Irish Pub 🎅🏠</td>\n",
       "      <td>https://santacon.nyc/wp-content/uploads/2023/1...</td>\n",
       "      <td>(-73.9885881785405, 40.7555056845062)</td>\n",
       "    </tr>\n",
       "    <tr>\n",
       "      <th>3</th>\n",
       "      <td>Playwright Irish Pub</td>\n",
       "      <td>27 W 35th St, New York, NY 10001</td>\n",
       "      <td>Santa's Winter Warmer Bar 🎅🇮🇪</td>\n",
       "      <td>https://santacon.nyc/wp-content/uploads/2023/1...</td>\n",
       "      <td>(-73.9854266119098, 40.7499486051269)</td>\n",
       "    </tr>\n",
       "    <tr>\n",
       "      <th>4</th>\n",
       "      <td>Walters Bar</td>\n",
       "      <td>389 8th Ave, New York, NY 10001</td>\n",
       "      <td>beers, darts &amp; a pool table 🎅🇮🇪</td>\n",
       "      <td>https://santacon.nyc/wp-content/uploads/2023/1...</td>\n",
       "      <td>(-73.9958497233574, 40.7494953724932)</td>\n",
       "    </tr>\n",
       "    <tr>\n",
       "      <th>5</th>\n",
       "      <td>Celtic Rail</td>\n",
       "      <td>137 W 33rd St, New York, NY 10120</td>\n",
       "      <td>Madison Square Garden's staple Irish Locals Ha...</td>\n",
       "      <td>https://santacon.nyc/wp-content/uploads/2023/1...</td>\n",
       "      <td>(-73.989906, 40.750069)</td>\n",
       "    </tr>\n",
       "    <tr>\n",
       "      <th>6</th>\n",
       "      <td>Jameson's</td>\n",
       "      <td>920 2nd Ave, New York, NY 10017</td>\n",
       "      <td>Real NYC Bar hang for Santa 🎅🇮🇪</td>\n",
       "      <td>https://santacon.nyc/wp-content/uploads/2024/1...</td>\n",
       "      <td>(-73.9689739476126, 40.7547953755226)</td>\n",
       "    </tr>\n",
       "    <tr>\n",
       "      <th>7</th>\n",
       "      <td>McKenna's</td>\n",
       "      <td>250 W 14th St, New York, NY 10011</td>\n",
       "      <td>Santa's Time-tested pub + bar bites 🎅🇮🇪</td>\n",
       "      <td>https://lh3.googleusercontent.com/p/AF1QipN3xQ...</td>\n",
       "      <td>(-74.002150722183, 40.739637278931)</td>\n",
       "    </tr>\n",
       "    <tr>\n",
       "      <th>8</th>\n",
       "      <td>Virgin Hotels NYC</td>\n",
       "      <td>1227 Broadway, New York, NY 10001</td>\n",
       "      <td>Discover the best bed in all five boroughs in ...</td>\n",
       "      <td>https://newyorkyimby.com/wp-content/uploads/20...</td>\n",
       "      <td>(-73.9887963644178, 40.746756671625576)</td>\n",
       "    </tr>\n",
       "  </tbody>\n",
       "</table>\n",
       "</div>"
      ],
      "text/plain": [
       "                                            Name  \\\n",
       "0  *10AM START POINT THE CHRISTMAS SPECTACULAR**   \n",
       "1                                   Jack Doyle's   \n",
       "2                                 Printers Alley   \n",
       "3                           Playwright Irish Pub   \n",
       "4                                    Walters Bar   \n",
       "5                                    Celtic Rail   \n",
       "6                                      Jameson's   \n",
       "7                                      McKenna's   \n",
       "8                              Virgin Hotels NYC   \n",
       "\n",
       "                                Address  \\\n",
       "0     1415 Broadway, New York, NY 10018   \n",
       "1     240 W 35th St, New York, NY 10001   \n",
       "2  215 West 40th St, New York, NY 10018   \n",
       "3      27 W 35th St, New York, NY 10001   \n",
       "4       389 8th Ave, New York, NY 10001   \n",
       "5     137 W 33rd St, New York, NY 10120   \n",
       "6       920 2nd Ave, New York, NY 10017   \n",
       "7     250 W 14th St, New York, NY 10011   \n",
       "8     1227 Broadway, New York, NY 10001   \n",
       "\n",
       "                                         Description  \\\n",
       "0  10am Santa is Painting the town Red<br>We will...   \n",
       "1              DJ at this HUGE Irish Rockin' Haus 🎅🍀   \n",
       "2                     4 Floor Sprawling Irish Pub 🎅🏠   \n",
       "3                      Santa's Winter Warmer Bar 🎅🇮🇪   \n",
       "4                    beers, darts & a pool table 🎅🇮🇪   \n",
       "5  Madison Square Garden's staple Irish Locals Ha...   \n",
       "6                    Real NYC Bar hang for Santa 🎅🇮🇪   \n",
       "7            Santa's Time-tested pub + bar bites 🎅🇮🇪   \n",
       "8  Discover the best bed in all five boroughs in ...   \n",
       "\n",
       "                                               Image  \\\n",
       "0  https://santacon.nyc/wp-content/uploads/2023/1...   \n",
       "1  https://santacon.nyc/wp-content/uploads/2023/1...   \n",
       "2  https://santacon.nyc/wp-content/uploads/2023/1...   \n",
       "3  https://santacon.nyc/wp-content/uploads/2023/1...   \n",
       "4  https://santacon.nyc/wp-content/uploads/2023/1...   \n",
       "5  https://santacon.nyc/wp-content/uploads/2023/1...   \n",
       "6  https://santacon.nyc/wp-content/uploads/2024/1...   \n",
       "7  https://lh3.googleusercontent.com/p/AF1QipN3xQ...   \n",
       "8  https://newyorkyimby.com/wp-content/uploads/20...   \n",
       "\n",
       "                               Coordinates  \n",
       "0                (-73.9868991, 40.7543488)  \n",
       "1    (-73.9920823380098, 40.7522799496454)  \n",
       "2    (-73.9885881785405, 40.7555056845062)  \n",
       "3    (-73.9854266119098, 40.7499486051269)  \n",
       "4    (-73.9958497233574, 40.7494953724932)  \n",
       "5                  (-73.989906, 40.750069)  \n",
       "6    (-73.9689739476126, 40.7547953755226)  \n",
       "7      (-74.002150722183, 40.739637278931)  \n",
       "8  (-73.9887963644178, 40.746756671625576)  "
      ]
     },
     "metadata": {},
     "output_type": "display_data"
    }
   ],
   "source": [
    "for route in route_df_list:\n",
    "    display(route)"
   ]
  },
  {
   "cell_type": "code",
   "execution_count": 65,
   "id": "80ecdf5c",
   "metadata": {},
   "outputs": [
    {
     "data": {
      "text/html": [
       "<div>\n",
       "<style scoped>\n",
       "    .dataframe tbody tr th:only-of-type {\n",
       "        vertical-align: middle;\n",
       "    }\n",
       "\n",
       "    .dataframe tbody tr th {\n",
       "        vertical-align: top;\n",
       "    }\n",
       "\n",
       "    .dataframe thead th {\n",
       "        text-align: right;\n",
       "    }\n",
       "</style>\n",
       "<table border=\"1\" class=\"dataframe\">\n",
       "  <thead>\n",
       "    <tr style=\"text-align: right;\">\n",
       "      <th></th>\n",
       "      <th>Route Name</th>\n",
       "      <th>MQ's Route Order</th>\n",
       "      <th>MQ's Route Distance (Miles)</th>\n",
       "      <th>NN's Route Order</th>\n",
       "      <th>NN's Route Distance (Miles)</th>\n",
       "      <th>Random Route Order</th>\n",
       "      <th>Random Route Distance (Miles)</th>\n",
       "    </tr>\n",
       "  </thead>\n",
       "  <tbody>\n",
       "    <tr>\n",
       "      <th>0</th>\n",
       "      <td>Huge Arthouse</td>\n",
       "      <td>[0, 5, 3, 1, 2, 4, 6, 7]</td>\n",
       "      <td>8.122</td>\n",
       "      <td>None</td>\n",
       "      <td>None</td>\n",
       "      <td>None</td>\n",
       "      <td>None</td>\n",
       "    </tr>\n",
       "    <tr>\n",
       "      <th>1</th>\n",
       "      <td>Huge Indigo</td>\n",
       "      <td>[0, 6, 2, 4, 1, 5, 3, 7]</td>\n",
       "      <td>6.8164</td>\n",
       "      <td>None</td>\n",
       "      <td>None</td>\n",
       "      <td>None</td>\n",
       "      <td>None</td>\n",
       "    </tr>\n",
       "    <tr>\n",
       "      <th>2</th>\n",
       "      <td>Huge Highline</td>\n",
       "      <td>[0, 2, 4, 6, 5, 3, 1, 7]</td>\n",
       "      <td>7.1738</td>\n",
       "      <td>None</td>\n",
       "      <td>None</td>\n",
       "      <td>None</td>\n",
       "      <td>None</td>\n",
       "    </tr>\n",
       "    <tr>\n",
       "      <th>3</th>\n",
       "      <td>Huge Birgin</td>\n",
       "      <td>[0, 6, 2, 4, 1, 5, 3, 7]</td>\n",
       "      <td>7.608</td>\n",
       "      <td>None</td>\n",
       "      <td>None</td>\n",
       "      <td>None</td>\n",
       "      <td>None</td>\n",
       "    </tr>\n",
       "    <tr>\n",
       "      <th>4</th>\n",
       "      <td>Midtown Arthouse</td>\n",
       "      <td>[0, 6, 5, 3, 2, 4, 1, 7]</td>\n",
       "      <td>5.3606</td>\n",
       "      <td>None</td>\n",
       "      <td>None</td>\n",
       "      <td>None</td>\n",
       "      <td>None</td>\n",
       "    </tr>\n",
       "    <tr>\n",
       "      <th>5</th>\n",
       "      <td>Midtown Indigo</td>\n",
       "      <td>[0, 2, 1, 4, 3, 6, 5, 7]</td>\n",
       "      <td>6.5853</td>\n",
       "      <td>None</td>\n",
       "      <td>None</td>\n",
       "      <td>None</td>\n",
       "      <td>None</td>\n",
       "    </tr>\n",
       "    <tr>\n",
       "      <th>6</th>\n",
       "      <td>Midtown Highline</td>\n",
       "      <td>[0, 1, 4, 3, 2, 5, 6, 7]</td>\n",
       "      <td>5.2246</td>\n",
       "      <td>None</td>\n",
       "      <td>None</td>\n",
       "      <td>None</td>\n",
       "      <td>None</td>\n",
       "    </tr>\n",
       "    <tr>\n",
       "      <th>7</th>\n",
       "      <td>Midtown Virgin</td>\n",
       "      <td>[0, 1, 4, 3, 2, 5, 6, 7]</td>\n",
       "      <td>4.3504</td>\n",
       "      <td>None</td>\n",
       "      <td>None</td>\n",
       "      <td>None</td>\n",
       "      <td>None</td>\n",
       "    </tr>\n",
       "    <tr>\n",
       "      <th>8</th>\n",
       "      <td>Food Arthouse</td>\n",
       "      <td>[0, 3, 5, 1, 6, 2, 4, 7]</td>\n",
       "      <td>11.3817</td>\n",
       "      <td>None</td>\n",
       "      <td>None</td>\n",
       "      <td>None</td>\n",
       "      <td>None</td>\n",
       "    </tr>\n",
       "    <tr>\n",
       "      <th>9</th>\n",
       "      <td>Food Indigo</td>\n",
       "      <td>[0, 6, 2, 4, 3, 1, 5, 7]</td>\n",
       "      <td>9.1099</td>\n",
       "      <td>None</td>\n",
       "      <td>None</td>\n",
       "      <td>None</td>\n",
       "      <td>None</td>\n",
       "    </tr>\n",
       "    <tr>\n",
       "      <th>10</th>\n",
       "      <td>Food Highline</td>\n",
       "      <td>[0, 2, 4, 3, 5, 1, 6, 7]</td>\n",
       "      <td>9.2341</td>\n",
       "      <td>None</td>\n",
       "      <td>None</td>\n",
       "      <td>None</td>\n",
       "      <td>None</td>\n",
       "    </tr>\n",
       "    <tr>\n",
       "      <th>11</th>\n",
       "      <td>Food Virgin</td>\n",
       "      <td>[0, 2, 4, 3, 5, 1, 6, 7]</td>\n",
       "      <td>9.1931</td>\n",
       "      <td>None</td>\n",
       "      <td>None</td>\n",
       "      <td>None</td>\n",
       "      <td>None</td>\n",
       "    </tr>\n",
       "    <tr>\n",
       "      <th>12</th>\n",
       "      <td>Irish Arthouse</td>\n",
       "      <td>[0, 1, 2, 6, 3, 5, 4, 7, 8]</td>\n",
       "      <td>10.4186</td>\n",
       "      <td>None</td>\n",
       "      <td>None</td>\n",
       "      <td>None</td>\n",
       "      <td>None</td>\n",
       "    </tr>\n",
       "    <tr>\n",
       "      <th>13</th>\n",
       "      <td>Irish Indigo</td>\n",
       "      <td>[0, 1, 2, 6, 3, 5, 4, 7, 8]</td>\n",
       "      <td>8.4053</td>\n",
       "      <td>None</td>\n",
       "      <td>None</td>\n",
       "      <td>None</td>\n",
       "      <td>None</td>\n",
       "    </tr>\n",
       "    <tr>\n",
       "      <th>14</th>\n",
       "      <td>Irish Highline</td>\n",
       "      <td>[0, 1, 2, 6, 3, 5, 4, 7, 8]</td>\n",
       "      <td>6.9581</td>\n",
       "      <td>None</td>\n",
       "      <td>None</td>\n",
       "      <td>None</td>\n",
       "      <td>None</td>\n",
       "    </tr>\n",
       "    <tr>\n",
       "      <th>15</th>\n",
       "      <td>Irish Virgin</td>\n",
       "      <td>[0, 1, 2, 6, 3, 5, 7, 4, 8]</td>\n",
       "      <td>7.0643</td>\n",
       "      <td>None</td>\n",
       "      <td>None</td>\n",
       "      <td>None</td>\n",
       "      <td>None</td>\n",
       "    </tr>\n",
       "  </tbody>\n",
       "</table>\n",
       "</div>"
      ],
      "text/plain": [
       "          Route Name             MQ's Route Order MQ's Route Distance (Miles)  \\\n",
       "0      Huge Arthouse     [0, 5, 3, 1, 2, 4, 6, 7]                       8.122   \n",
       "1        Huge Indigo     [0, 6, 2, 4, 1, 5, 3, 7]                      6.8164   \n",
       "2      Huge Highline     [0, 2, 4, 6, 5, 3, 1, 7]                      7.1738   \n",
       "3        Huge Birgin     [0, 6, 2, 4, 1, 5, 3, 7]                       7.608   \n",
       "4   Midtown Arthouse     [0, 6, 5, 3, 2, 4, 1, 7]                      5.3606   \n",
       "5     Midtown Indigo     [0, 2, 1, 4, 3, 6, 5, 7]                      6.5853   \n",
       "6   Midtown Highline     [0, 1, 4, 3, 2, 5, 6, 7]                      5.2246   \n",
       "7     Midtown Virgin     [0, 1, 4, 3, 2, 5, 6, 7]                      4.3504   \n",
       "8      Food Arthouse     [0, 3, 5, 1, 6, 2, 4, 7]                     11.3817   \n",
       "9        Food Indigo     [0, 6, 2, 4, 3, 1, 5, 7]                      9.1099   \n",
       "10     Food Highline     [0, 2, 4, 3, 5, 1, 6, 7]                      9.2341   \n",
       "11       Food Virgin     [0, 2, 4, 3, 5, 1, 6, 7]                      9.1931   \n",
       "12    Irish Arthouse  [0, 1, 2, 6, 3, 5, 4, 7, 8]                     10.4186   \n",
       "13      Irish Indigo  [0, 1, 2, 6, 3, 5, 4, 7, 8]                      8.4053   \n",
       "14    Irish Highline  [0, 1, 2, 6, 3, 5, 4, 7, 8]                      6.9581   \n",
       "15      Irish Virgin  [0, 1, 2, 6, 3, 5, 7, 4, 8]                      7.0643   \n",
       "\n",
       "   NN's Route Order NN's Route Distance (Miles) Random Route Order  \\\n",
       "0              None                        None               None   \n",
       "1              None                        None               None   \n",
       "2              None                        None               None   \n",
       "3              None                        None               None   \n",
       "4              None                        None               None   \n",
       "5              None                        None               None   \n",
       "6              None                        None               None   \n",
       "7              None                        None               None   \n",
       "8              None                        None               None   \n",
       "9              None                        None               None   \n",
       "10             None                        None               None   \n",
       "11             None                        None               None   \n",
       "12             None                        None               None   \n",
       "13             None                        None               None   \n",
       "14             None                        None               None   \n",
       "15             None                        None               None   \n",
       "\n",
       "   Random Route Distance (Miles)  \n",
       "0                           None  \n",
       "1                           None  \n",
       "2                           None  \n",
       "3                           None  \n",
       "4                           None  \n",
       "5                           None  \n",
       "6                           None  \n",
       "7                           None  \n",
       "8                           None  \n",
       "9                           None  \n",
       "10                          None  \n",
       "11                          None  \n",
       "12                          None  \n",
       "13                          None  \n",
       "14                          None  \n",
       "15                          None  "
      ]
     },
     "metadata": {},
     "output_type": "display_data"
    }
   ],
   "source": [
    "# For loop to update the summary DataFrame\n",
    "for route_name, optimal_route_json, route_df in zip(route_names_list, mq_opt_json_list, route_df_list):\n",
    "    route_summary_df = add_mq_route_to_summary(optimal_route_json, route_df, route_summary_df, route_name)\n",
    "\n",
    "# Display the updated summary DataFrame\n",
    "display(route_summary_df)\n"
   ]
  },
  {
   "cell_type": "code",
   "execution_count": null,
   "id": "6d2cf56d",
   "metadata": {},
   "outputs": [],
   "source": [
    "def find_optimal_route_nn(route_df):\n",
    "    \"\"\"\n",
    "    Finds the optimal route for the given route dataframe using TSP.\n",
    "    The start and hotel locations are fixed, while the waypoints (bars) are rearranged.\n",
    "    \"\"\"\n",
    "\n",
    "    # Step 1: Get the distance matrix (distance between all locations)\n",
    "    distance_matrix = create_distance_matrix(route_df)\n",
    "\n",
    "    # Step 2: Solve TSP using Nearest Neighbor heuristic\n",
    "    optimal_route, total_distance = nearest_neighbor_tsp(distance_matrix)\n",
    "    \n",
    "    optimal_route = optimal_route + [len(route_df) - 1]  # Add the hotel at the end\n",
    "\n",
    "    # Map the optimal route back to hotel/bar names (based on their index in the dataframe)\n",
    "    route_names = [route_df.iloc[i]['Name'] for i in optimal_route] \n",
    "\n",
    "    return route_names, (total_distance/1000)*0.621371"
   ]
  },
  {
   "cell_type": "code",
   "execution_count": 151,
   "id": "fd3b7d75",
   "metadata": {
    "run_control": {
     "marked": true
    }
   },
   "outputs": [],
   "source": [
    "# Define empty placeholders for routes and distances\n",
    "nn_opt_route = [None] * 16\n",
    "nn_opt_dist = [None] * 16\n",
    "\n",
    "# For loop to fill in the route and distance lists\n",
    "for i, sleigh_ride in enumerate(route_df_list):\n",
    "    nn_opt_route[i], nn_opt_dist[i] = find_optimal_route_nn(sleigh_ride)"
   ]
  },
  {
   "cell_type": "code",
   "execution_count": 101,
   "id": "faff96ab",
   "metadata": {},
   "outputs": [],
   "source": [
    "def add_nn_to_summary(summary_df, route_df, route_name, nn_route_list, nn_dist):\n",
    "    \"\"\"\n",
    "    Add a route's optimized order and distance from the nearest neighbor outputs \n",
    "    to the appropriate row in the summary DataFrame.\n",
    "\n",
    "    Parameters:\n",
    "    - summary_df (pd.DataFrame): DataFrame to store route orders and distances.\n",
    "    - route_df (pd.DataFrame): Original DataFrame containing the route addresses.\n",
    "    - route_name (str): The name of the route to match in the summary DataFrame.\n",
    "    - nn_route_list (list of str): Names of locations in route order.\n",
    "    - nn_dist_list (list of floats): Distance of each route in miles.\n",
    "\n",
    "    Returns:\n",
    "    - pd.DataFrame: Updated summary DataFrame with the new route details.\n",
    "    \"\"\"\n",
    "\n",
    "    # Create the order list with partial matching\n",
    "    order_list = []\n",
    "    for name in nn_route_list:\n",
    "        # Find the first row where the Address contains the substring name\n",
    "        matching_rows = route_df[route_df['Name']==name]\n",
    "        if matching_rows.empty:\n",
    "            print(f\"Address not found in route_df: {name}\")\n",
    "            order_list.append(None)  # Handle missing addresses as needed\n",
    "        else:\n",
    "            order_list.append(matching_rows.index[0])\n",
    "\n",
    "    # Extract the total distance from the nearest neighbor output\n",
    "    total_distance_miles = nn_dist\n",
    "\n",
    "    # Update the appropriate row in the summary DataFrame\n",
    "    summary_df.loc[summary_df['Route Name'] == route_name, \"NN's Route Order\"] = [order_list]\n",
    "    summary_df.loc[summary_df['Route Name'] == route_name, \"NN's Route Distance (Miles)\"] = total_distance_miles\n",
    "    \n",
    "    return summary_df\n"
   ]
  },
  {
   "cell_type": "code",
   "execution_count": 152,
   "id": "5a53b8b0",
   "metadata": {},
   "outputs": [
    {
     "data": {
      "text/html": [
       "<div>\n",
       "<style scoped>\n",
       "    .dataframe tbody tr th:only-of-type {\n",
       "        vertical-align: middle;\n",
       "    }\n",
       "\n",
       "    .dataframe tbody tr th {\n",
       "        vertical-align: top;\n",
       "    }\n",
       "\n",
       "    .dataframe thead th {\n",
       "        text-align: right;\n",
       "    }\n",
       "</style>\n",
       "<table border=\"1\" class=\"dataframe\">\n",
       "  <thead>\n",
       "    <tr style=\"text-align: right;\">\n",
       "      <th></th>\n",
       "      <th>Name</th>\n",
       "      <th>Address</th>\n",
       "      <th>Description</th>\n",
       "      <th>Image</th>\n",
       "      <th>Coordinates</th>\n",
       "    </tr>\n",
       "  </thead>\n",
       "  <tbody>\n",
       "    <tr>\n",
       "      <th>0</th>\n",
       "      <td>*10AM START POINT THE CHRISTMAS SPECTACULAR**</td>\n",
       "      <td>1415 broadway, new york, ny 10018</td>\n",
       "      <td>10am Santa is Painting the town Red&lt;br&gt;We will...</td>\n",
       "      <td>https://santacon.nyc/wp-content/uploads/2023/1...</td>\n",
       "      <td>(-73.9868991, 40.7543488)</td>\n",
       "    </tr>\n",
       "    <tr>\n",
       "      <th>1</th>\n",
       "      <td>The Rutherford</td>\n",
       "      <td>w 33rd st at 8th ave, new york, ny 10119</td>\n",
       "      <td>Get here early for views from the Roof Deck / ...</td>\n",
       "      <td>https://santacon.nyc/wp-content/uploads/2023/1...</td>\n",
       "      <td>(-73.9935521707214, 40.7513730510933)</td>\n",
       "    </tr>\n",
       "    <tr>\n",
       "      <th>2</th>\n",
       "      <td>Avenida</td>\n",
       "      <td>w. 34 st &amp; 8th ave, new york, ny 10001</td>\n",
       "      <td>The Holiday Hustle at this rooftop + mexican b...</td>\n",
       "      <td>https://santacon.nyc/wp-content/uploads/2023/1...</td>\n",
       "      <td>(-73.993465, 40.752193)</td>\n",
       "    </tr>\n",
       "    <tr>\n",
       "      <th>3</th>\n",
       "      <td>Solas</td>\n",
       "      <td>232 e 9th st, new york, ny 10003</td>\n",
       "      <td>Jingle Bell Rockout at this lounge &amp; dance clu...</td>\n",
       "      <td>https://santacon.nyc/wp-content/uploads/2023/1...</td>\n",
       "      <td>(-73.988059, 40.729445)</td>\n",
       "    </tr>\n",
       "    <tr>\n",
       "      <th>4</th>\n",
       "      <td>The Tailor</td>\n",
       "      <td>505 8th ave, new york, ny 10018</td>\n",
       "      <td>Mistletoe Mania at this HUGE - 1000+ Elves &amp; S...</td>\n",
       "      <td>https://santacon.nyc/wp-content/uploads/2023/1...</td>\n",
       "      <td>(-73.993027, 40.753109)</td>\n",
       "    </tr>\n",
       "    <tr>\n",
       "      <th>5</th>\n",
       "      <td>Bar 13</td>\n",
       "      <td>121 university pl, new york, ny 10003</td>\n",
       "      <td>Frosty Fest with Drinking &amp; techno, house &amp; hi...</td>\n",
       "      <td>https://santacon.nyc/wp-content/uploads/2023/1...</td>\n",
       "      <td>(-73.99218, 40.734531)</td>\n",
       "    </tr>\n",
       "    <tr>\n",
       "      <th>6</th>\n",
       "      <td>Circo</td>\n",
       "      <td>1604 broadway york, ny 10019</td>\n",
       "      <td>BIGGEST Santacon venue! Get to this new tri-le...</td>\n",
       "      <td>https://santacon.nyc/wp-content/uploads/2024/1...</td>\n",
       "      <td>(-73.98425, 40.76042)</td>\n",
       "    </tr>\n",
       "    <tr>\n",
       "      <th>7</th>\n",
       "      <td>Arthouse Hotel NYC</td>\n",
       "      <td>2178 broadway, new york, ny, 10024</td>\n",
       "      <td>Arthouse Hotel New York City has brought hip, ...</td>\n",
       "      <td>https://image-tc.galaxy.tf/wijpeg-1nbmvmxtb567...</td>\n",
       "      <td>(-73.98027072698984, 40.78225322430293)</td>\n",
       "    </tr>\n",
       "  </tbody>\n",
       "</table>\n",
       "</div>"
      ],
      "text/plain": [
       "                                            Name  \\\n",
       "0  *10AM START POINT THE CHRISTMAS SPECTACULAR**   \n",
       "1                                 The Rutherford   \n",
       "2                                        Avenida   \n",
       "3                                          Solas   \n",
       "4                                     The Tailor   \n",
       "5                                         Bar 13   \n",
       "6                                          Circo   \n",
       "7                             Arthouse Hotel NYC   \n",
       "\n",
       "                                    Address  \\\n",
       "0         1415 broadway, new york, ny 10018   \n",
       "1  w 33rd st at 8th ave, new york, ny 10119   \n",
       "2    w. 34 st & 8th ave, new york, ny 10001   \n",
       "3          232 e 9th st, new york, ny 10003   \n",
       "4           505 8th ave, new york, ny 10018   \n",
       "5     121 university pl, new york, ny 10003   \n",
       "6              1604 broadway york, ny 10019   \n",
       "7        2178 broadway, new york, ny, 10024   \n",
       "\n",
       "                                         Description  \\\n",
       "0  10am Santa is Painting the town Red<br>We will...   \n",
       "1  Get here early for views from the Roof Deck / ...   \n",
       "2  The Holiday Hustle at this rooftop + mexican b...   \n",
       "3  Jingle Bell Rockout at this lounge & dance clu...   \n",
       "4  Mistletoe Mania at this HUGE - 1000+ Elves & S...   \n",
       "5  Frosty Fest with Drinking & techno, house & hi...   \n",
       "6  BIGGEST Santacon venue! Get to this new tri-le...   \n",
       "7  Arthouse Hotel New York City has brought hip, ...   \n",
       "\n",
       "                                               Image  \\\n",
       "0  https://santacon.nyc/wp-content/uploads/2023/1...   \n",
       "1  https://santacon.nyc/wp-content/uploads/2023/1...   \n",
       "2  https://santacon.nyc/wp-content/uploads/2023/1...   \n",
       "3  https://santacon.nyc/wp-content/uploads/2023/1...   \n",
       "4  https://santacon.nyc/wp-content/uploads/2023/1...   \n",
       "5  https://santacon.nyc/wp-content/uploads/2023/1...   \n",
       "6  https://santacon.nyc/wp-content/uploads/2024/1...   \n",
       "7  https://image-tc.galaxy.tf/wijpeg-1nbmvmxtb567...   \n",
       "\n",
       "                               Coordinates  \n",
       "0                (-73.9868991, 40.7543488)  \n",
       "1    (-73.9935521707214, 40.7513730510933)  \n",
       "2                  (-73.993465, 40.752193)  \n",
       "3                  (-73.988059, 40.729445)  \n",
       "4                  (-73.993027, 40.753109)  \n",
       "5                   (-73.99218, 40.734531)  \n",
       "6                    (-73.98425, 40.76042)  \n",
       "7  (-73.98027072698984, 40.78225322430293)  "
      ]
     },
     "metadata": {},
     "output_type": "display_data"
    }
   ],
   "source": [
    "display(route_df_list[0])"
   ]
  },
  {
   "cell_type": "code",
   "execution_count": 157,
   "id": "df6f8d13",
   "metadata": {},
   "outputs": [
    {
     "data": {
      "text/html": [
       "<div>\n",
       "<style scoped>\n",
       "    .dataframe tbody tr th:only-of-type {\n",
       "        vertical-align: middle;\n",
       "    }\n",
       "\n",
       "    .dataframe tbody tr th {\n",
       "        vertical-align: top;\n",
       "    }\n",
       "\n",
       "    .dataframe thead th {\n",
       "        text-align: right;\n",
       "    }\n",
       "</style>\n",
       "<table border=\"1\" class=\"dataframe\">\n",
       "  <thead>\n",
       "    <tr style=\"text-align: right;\">\n",
       "      <th></th>\n",
       "      <th>Route Name</th>\n",
       "      <th>MQ's Route Order</th>\n",
       "      <th>MQ's Route Distance (Miles)</th>\n",
       "      <th>NN's Route Order</th>\n",
       "      <th>NN's Route Distance (Miles)</th>\n",
       "      <th>Random Route Order</th>\n",
       "      <th>Random Route Distance (Miles)</th>\n",
       "    </tr>\n",
       "  </thead>\n",
       "  <tbody>\n",
       "    <tr>\n",
       "      <th>0</th>\n",
       "      <td>Huge Arthouse</td>\n",
       "      <td>[0, 5, 3, 1, 2, 4, 6, 7]</td>\n",
       "      <td>8.122</td>\n",
       "      <td>[0, 6, 4, 1, 2, 5, 3, 7]</td>\n",
       "      <td>9.896042</td>\n",
       "      <td>[0, 2, 6, 5, 4, 3, 1, 7]</td>\n",
       "      <td>14.3897</td>\n",
       "    </tr>\n",
       "    <tr>\n",
       "      <th>1</th>\n",
       "      <td>Huge Indigo</td>\n",
       "      <td>[0, 6, 2, 4, 1, 5, 3, 7]</td>\n",
       "      <td>6.8164</td>\n",
       "      <td>[0, 6, 4, 1, 2, 5, 3, 7]</td>\n",
       "      <td>6.280433</td>\n",
       "      <td>[0, 5, 2, 4, 1, 6, 3, 7]</td>\n",
       "      <td>11.6543</td>\n",
       "    </tr>\n",
       "    <tr>\n",
       "      <th>2</th>\n",
       "      <td>Huge Highline</td>\n",
       "      <td>[0, 2, 4, 6, 5, 3, 1, 7]</td>\n",
       "      <td>7.1738</td>\n",
       "      <td>[0, 6, 4, 1, 2, 5, 3, 7]</td>\n",
       "      <td>7.435984</td>\n",
       "      <td>[0, 6, 5, 4, 3, 1, 2, 7]</td>\n",
       "      <td>11.8932</td>\n",
       "    </tr>\n",
       "    <tr>\n",
       "      <th>3</th>\n",
       "      <td>Huge Birgin</td>\n",
       "      <td>[0, 6, 2, 4, 1, 5, 3, 7]</td>\n",
       "      <td>7.608</td>\n",
       "      <td>[0, 6, 4, 1, 2, 5, 3, 7]</td>\n",
       "      <td>7.070108</td>\n",
       "      <td>[0, 2, 6, 5, 1, 3, 4, 7]</td>\n",
       "      <td>9.9171</td>\n",
       "    </tr>\n",
       "    <tr>\n",
       "      <th>4</th>\n",
       "      <td>Midtown Arthouse</td>\n",
       "      <td>[0, 6, 5, 3, 2, 4, 1, 7]</td>\n",
       "      <td>5.3606</td>\n",
       "      <td>[0, 3, 2, 6, 5, 4, 1, 7]</td>\n",
       "      <td>5.912991</td>\n",
       "      <td>[0, 4, 6, 3, 5, 2, 1, 7]</td>\n",
       "      <td>8.2599</td>\n",
       "    </tr>\n",
       "    <tr>\n",
       "      <th>5</th>\n",
       "      <td>Midtown Indigo</td>\n",
       "      <td>[0, 2, 1, 4, 3, 6, 5, 7]</td>\n",
       "      <td>6.5853</td>\n",
       "      <td>[0, 3, 2, 6, 5, 4, 1, 7]</td>\n",
       "      <td>7.818923</td>\n",
       "      <td>[0, 6, 4, 1, 3, 2, 5, 7]</td>\n",
       "      <td>7.4192</td>\n",
       "    </tr>\n",
       "    <tr>\n",
       "      <th>6</th>\n",
       "      <td>Midtown Highline</td>\n",
       "      <td>[0, 1, 4, 3, 2, 5, 6, 7]</td>\n",
       "      <td>5.2246</td>\n",
       "      <td>[0, 3, 2, 6, 5, 4, 1, 7]</td>\n",
       "      <td>6.08088</td>\n",
       "      <td>[0, 2, 4, 1, 5, 3, 6, 7]</td>\n",
       "      <td>5.5489</td>\n",
       "    </tr>\n",
       "    <tr>\n",
       "      <th>7</th>\n",
       "      <td>Midtown Virgin</td>\n",
       "      <td>[0, 1, 4, 3, 2, 5, 6, 7]</td>\n",
       "      <td>4.3504</td>\n",
       "      <td>[0, 3, 2, 6, 5, 4, 1, 7]</td>\n",
       "      <td>5.365893</td>\n",
       "      <td>[0, 4, 3, 2, 5, 6, 1, 7]</td>\n",
       "      <td>6.3653</td>\n",
       "    </tr>\n",
       "    <tr>\n",
       "      <th>8</th>\n",
       "      <td>Food Arthouse</td>\n",
       "      <td>[0, 3, 5, 1, 6, 2, 4, 7]</td>\n",
       "      <td>11.3817</td>\n",
       "      <td>[0, 4, 2, 6, 1, 5, 3, 7]</td>\n",
       "      <td>11.810703</td>\n",
       "      <td>[0, 6, 1, 2, 5, 4, 3, 7]</td>\n",
       "      <td>19.6515</td>\n",
       "    </tr>\n",
       "    <tr>\n",
       "      <th>9</th>\n",
       "      <td>Food Indigo</td>\n",
       "      <td>[0, 6, 2, 4, 3, 1, 5, 7]</td>\n",
       "      <td>9.1099</td>\n",
       "      <td>[0, 4, 2, 6, 1, 5, 3, 7]</td>\n",
       "      <td>10.879672</td>\n",
       "      <td>[0, 1, 3, 4, 5, 6, 2, 7]</td>\n",
       "      <td>18.0571</td>\n",
       "    </tr>\n",
       "    <tr>\n",
       "      <th>10</th>\n",
       "      <td>Food Highline</td>\n",
       "      <td>[0, 2, 4, 3, 5, 1, 6, 7]</td>\n",
       "      <td>9.2341</td>\n",
       "      <td>[0, 4, 2, 6, 1, 5, 3, 7]</td>\n",
       "      <td>10.539763</td>\n",
       "      <td>[0, 5, 6, 1, 2, 4, 3, 7]</td>\n",
       "      <td>14.6072</td>\n",
       "    </tr>\n",
       "    <tr>\n",
       "      <th>11</th>\n",
       "      <td>Food Virgin</td>\n",
       "      <td>[0, 2, 4, 3, 5, 1, 6, 7]</td>\n",
       "      <td>9.1931</td>\n",
       "      <td>[0, 4, 2, 6, 1, 5, 3, 7]</td>\n",
       "      <td>9.58164</td>\n",
       "      <td>[0, 2, 6, 1, 3, 5, 4, 7]</td>\n",
       "      <td>13.7143</td>\n",
       "    </tr>\n",
       "    <tr>\n",
       "      <th>12</th>\n",
       "      <td>Irish Arthouse</td>\n",
       "      <td>[0, 1, 2, 6, 3, 5, 4, 7, 8]</td>\n",
       "      <td>10.4186</td>\n",
       "      <td>[0, 2, 1, 3, 4, 5, 7, 6, 8]</td>\n",
       "      <td>10.037789</td>\n",
       "      <td>[0, 4, 3, 5, 1, 7, 2, 6, 8]</td>\n",
       "      <td>10.9616</td>\n",
       "    </tr>\n",
       "    <tr>\n",
       "      <th>13</th>\n",
       "      <td>Irish Indigo</td>\n",
       "      <td>[0, 1, 2, 6, 3, 5, 4, 7, 8]</td>\n",
       "      <td>8.4053</td>\n",
       "      <td>[0, 2, 1, 3, 4, 5, 7, 6, 8]</td>\n",
       "      <td>10.451678</td>\n",
       "      <td>[0, 5, 7, 1, 2, 4, 6, 3, 8]</td>\n",
       "      <td>12.1982</td>\n",
       "    </tr>\n",
       "    <tr>\n",
       "      <th>14</th>\n",
       "      <td>Irish Highline</td>\n",
       "      <td>[0, 1, 2, 6, 3, 5, 4, 7, 8]</td>\n",
       "      <td>6.9581</td>\n",
       "      <td>[0, 2, 1, 3, 4, 5, 7, 6, 8]</td>\n",
       "      <td>10.160559</td>\n",
       "      <td>[0, 2, 6, 7, 4, 1, 5, 3, 8]</td>\n",
       "      <td>9.9244</td>\n",
       "    </tr>\n",
       "    <tr>\n",
       "      <th>15</th>\n",
       "      <td>Irish Virgin</td>\n",
       "      <td>[0, 1, 2, 6, 3, 5, 7, 4, 8]</td>\n",
       "      <td>7.0643</td>\n",
       "      <td>[0, 2, 1, 3, 4, 5, 7, 6, 8]</td>\n",
       "      <td>9.20243</td>\n",
       "      <td>[0, 2, 5, 3, 6, 7, 4, 1, 8]</td>\n",
       "      <td>8.97</td>\n",
       "    </tr>\n",
       "  </tbody>\n",
       "</table>\n",
       "</div>"
      ],
      "text/plain": [
       "          Route Name             MQ's Route Order MQ's Route Distance (Miles)  \\\n",
       "0      Huge Arthouse     [0, 5, 3, 1, 2, 4, 6, 7]                       8.122   \n",
       "1        Huge Indigo     [0, 6, 2, 4, 1, 5, 3, 7]                      6.8164   \n",
       "2      Huge Highline     [0, 2, 4, 6, 5, 3, 1, 7]                      7.1738   \n",
       "3        Huge Birgin     [0, 6, 2, 4, 1, 5, 3, 7]                       7.608   \n",
       "4   Midtown Arthouse     [0, 6, 5, 3, 2, 4, 1, 7]                      5.3606   \n",
       "5     Midtown Indigo     [0, 2, 1, 4, 3, 6, 5, 7]                      6.5853   \n",
       "6   Midtown Highline     [0, 1, 4, 3, 2, 5, 6, 7]                      5.2246   \n",
       "7     Midtown Virgin     [0, 1, 4, 3, 2, 5, 6, 7]                      4.3504   \n",
       "8      Food Arthouse     [0, 3, 5, 1, 6, 2, 4, 7]                     11.3817   \n",
       "9        Food Indigo     [0, 6, 2, 4, 3, 1, 5, 7]                      9.1099   \n",
       "10     Food Highline     [0, 2, 4, 3, 5, 1, 6, 7]                      9.2341   \n",
       "11       Food Virgin     [0, 2, 4, 3, 5, 1, 6, 7]                      9.1931   \n",
       "12    Irish Arthouse  [0, 1, 2, 6, 3, 5, 4, 7, 8]                     10.4186   \n",
       "13      Irish Indigo  [0, 1, 2, 6, 3, 5, 4, 7, 8]                      8.4053   \n",
       "14    Irish Highline  [0, 1, 2, 6, 3, 5, 4, 7, 8]                      6.9581   \n",
       "15      Irish Virgin  [0, 1, 2, 6, 3, 5, 7, 4, 8]                      7.0643   \n",
       "\n",
       "               NN's Route Order NN's Route Distance (Miles)  \\\n",
       "0      [0, 6, 4, 1, 2, 5, 3, 7]                    9.896042   \n",
       "1      [0, 6, 4, 1, 2, 5, 3, 7]                    6.280433   \n",
       "2      [0, 6, 4, 1, 2, 5, 3, 7]                    7.435984   \n",
       "3      [0, 6, 4, 1, 2, 5, 3, 7]                    7.070108   \n",
       "4      [0, 3, 2, 6, 5, 4, 1, 7]                    5.912991   \n",
       "5      [0, 3, 2, 6, 5, 4, 1, 7]                    7.818923   \n",
       "6      [0, 3, 2, 6, 5, 4, 1, 7]                     6.08088   \n",
       "7      [0, 3, 2, 6, 5, 4, 1, 7]                    5.365893   \n",
       "8      [0, 4, 2, 6, 1, 5, 3, 7]                   11.810703   \n",
       "9      [0, 4, 2, 6, 1, 5, 3, 7]                   10.879672   \n",
       "10     [0, 4, 2, 6, 1, 5, 3, 7]                   10.539763   \n",
       "11     [0, 4, 2, 6, 1, 5, 3, 7]                     9.58164   \n",
       "12  [0, 2, 1, 3, 4, 5, 7, 6, 8]                   10.037789   \n",
       "13  [0, 2, 1, 3, 4, 5, 7, 6, 8]                   10.451678   \n",
       "14  [0, 2, 1, 3, 4, 5, 7, 6, 8]                   10.160559   \n",
       "15  [0, 2, 1, 3, 4, 5, 7, 6, 8]                     9.20243   \n",
       "\n",
       "             Random Route Order Random Route Distance (Miles)  \n",
       "0      [0, 2, 6, 5, 4, 3, 1, 7]                       14.3897  \n",
       "1      [0, 5, 2, 4, 1, 6, 3, 7]                       11.6543  \n",
       "2      [0, 6, 5, 4, 3, 1, 2, 7]                       11.8932  \n",
       "3      [0, 2, 6, 5, 1, 3, 4, 7]                        9.9171  \n",
       "4      [0, 4, 6, 3, 5, 2, 1, 7]                        8.2599  \n",
       "5      [0, 6, 4, 1, 3, 2, 5, 7]                        7.4192  \n",
       "6      [0, 2, 4, 1, 5, 3, 6, 7]                        5.5489  \n",
       "7      [0, 4, 3, 2, 5, 6, 1, 7]                        6.3653  \n",
       "8      [0, 6, 1, 2, 5, 4, 3, 7]                       19.6515  \n",
       "9      [0, 1, 3, 4, 5, 6, 2, 7]                       18.0571  \n",
       "10     [0, 5, 6, 1, 2, 4, 3, 7]                       14.6072  \n",
       "11     [0, 2, 6, 1, 3, 5, 4, 7]                       13.7143  \n",
       "12  [0, 4, 3, 5, 1, 7, 2, 6, 8]                       10.9616  \n",
       "13  [0, 5, 7, 1, 2, 4, 6, 3, 8]                       12.1982  \n",
       "14  [0, 2, 6, 7, 4, 1, 5, 3, 8]                        9.9244  \n",
       "15  [0, 2, 5, 3, 6, 7, 4, 1, 8]                          8.97  "
      ]
     },
     "metadata": {},
     "output_type": "display_data"
    }
   ],
   "source": [
    "for route_df, route_name, nn_route, nn_dist  in zip(route_df_list, route_names_list, nn_opt_route, nn_opt_dist):\n",
    "    route_summary_df = add_nn_to_summary(route_summary_df, route_df, route_name, nn_route, nn_dist)\n",
    "display(route_summary_df)"
   ]
  },
  {
   "cell_type": "code",
   "execution_count": 120,
   "id": "6b3d06a3",
   "metadata": {},
   "outputs": [],
   "source": [
    "def make_random_order_list(route_df, random_state_value):\n",
    "    \"\"\"\n",
    "    Create a randomized route order with the first and last values fixed.\n",
    "\n",
    "    Parameters:\n",
    "    - route_df (pd.DataFrame): DataFrame that contains the route information (length is used for the list).\n",
    "    - random_state_value (int): The value to set the random seed, ensuring reproducibility.\n",
    "\n",
    "    Returns:\n",
    "    - list: A list representing a randomized route order with fixed first and last values.\n",
    "    \"\"\"\n",
    "    \n",
    "    # Set the random seed for reproducibility\n",
    "    np.random.seed(random_state_value)\n",
    "    \n",
    "    # Generate a list of indices from 1 to len(route_df) - 2 (for the middle values)\n",
    "    middle_indices = list(range(1, len(route_df) - 1))\n",
    "    \n",
    "    # Shuffle the middle indices\n",
    "    np.random.shuffle(middle_indices)\n",
    "    \n",
    "    # The randomized order starts with 0, followed by the shuffled middle indices, and ends with len(route_df) - 1\n",
    "    randomized_order = [0] + middle_indices + [len(route_df) - 1]\n",
    "        \n",
    "    return randomized_order\n"
   ]
  },
  {
   "cell_type": "code",
   "execution_count": 104,
   "id": "e2e869f1",
   "metadata": {},
   "outputs": [],
   "source": [
    "# Define a function to generate a reproducible random seed based on the index or some property of the data\n",
    "def get_reproducible_seed(index, route_df):\n",
    "    # Create a seed from a hash of the index and a value from route_df (e.g., the first row or column)\n",
    "    unique_string = f\"{index}-{route_df.iloc[0, 0]}\"  # Hash the combination of index and a route_df value\n",
    "    return int(hashlib.sha256(unique_string.encode('utf-8')).hexdigest(), 16) % (10 ** 8)"
   ]
  },
  {
   "cell_type": "code",
   "execution_count": 108,
   "id": "d1330274",
   "metadata": {},
   "outputs": [],
   "source": [
    "random_order_list = [None] * 16"
   ]
  },
  {
   "cell_type": "code",
   "execution_count": 121,
   "id": "5d7ec2ae",
   "metadata": {
    "run_control": {
     "marked": true
    },
    "scrolled": true
   },
   "outputs": [],
   "source": [
    "# Loop through your route_df_list and generate a unique but reproducible seed\n",
    "for i, df in enumerate(route_df_list):\n",
    "    random_seed = get_reproducible_seed(i, df)  # Generate a reproducible seed based on the index and a df value\n",
    "    random_order_list[i] = make_random_order_list(df, random_seed)"
   ]
  },
  {
   "cell_type": "code",
   "execution_count": 129,
   "id": "7613637a",
   "metadata": {},
   "outputs": [],
   "source": [
    "address_lists = [None]*16\n",
    "random_dists = [None]*16\n",
    "\n",
    "for i, (route_df, random_order) in enumerate(zip(route_df_list, random_order_list)):\n",
    "    address_lists[i] = [route_df['Address'][idx] for idx in random_order]"
   ]
  },
  {
   "cell_type": "code",
   "execution_count": 145,
   "id": "6a136942",
   "metadata": {},
   "outputs": [],
   "source": [
    "import requests\n",
    "\n",
    "def get_mapquest_distance_between_points(from_address, to_address, api_key):\n",
    "    \"\"\"\n",
    "    Get the distance between two points using MapQuest API.\n",
    "\n",
    "    Parameters:\n",
    "    - from_address (str): The starting address.\n",
    "    - to_address (str): The destination address.\n",
    "    - api_key (str): Your MapQuest API key.\n",
    "\n",
    "    Returns:\n",
    "    - float: The distance between the two addresses in miles, or None if there is an error.\n",
    "    \"\"\"\n",
    "    url = \"http://www.mapquestapi.com/directions/v2/route\"\n",
    "    \n",
    "    # Set up the parameters for the request\n",
    "    params = {\n",
    "        'key': api_key,  # MapQuest API Key\n",
    "        'from': from_address,  # Starting address\n",
    "        'to': to_address,  # Ending address\n",
    "        'outFormat': 'json'  # Get the response in JSON format\n",
    "    }\n",
    "    \n",
    "    # Send the request and parse the response\n",
    "    response = requests.get(url, params=params)\n",
    "    \n",
    "    # Check if the response was successful\n",
    "    if response.status_code == 200:\n",
    "        data = response.json()\n",
    "        if 'route' in data and 'distance' in data['route']:\n",
    "            # Return the route distance in miles\n",
    "            return data['route']['distance']\n",
    "        else:\n",
    "            print(\"Error: No route data in the response.\")\n",
    "            return None\n",
    "    else:\n",
    "        print(f\"Error fetching data from MapQuest API: {response.status_code}\")\n",
    "        return None\n",
    "\n",
    "\n",
    "def calculate_total_distance(addresses, api_key):\n",
    "    \"\"\"\n",
    "    Calculate the total distance between a list of addresses by summing up the distances \n",
    "    between each consecutive pair of addresses.\n",
    "\n",
    "    Parameters:\n",
    "    - addresses (list): List of addresses in order.\n",
    "    - api_key (str): Your MapQuest API key.\n",
    "\n",
    "    Returns:\n",
    "    - float: The total driving distance in miles, or None if there is an error.\n",
    "    \"\"\"\n",
    "    total_distance = 0\n",
    "\n",
    "    # Iterate through the list of addresses and calculate the distance between each consecutive pair\n",
    "    for i in range(len(addresses) - 1):\n",
    "        from_address = addresses[i]\n",
    "        to_address = addresses[i + 1]\n",
    "        \n",
    "        # Get the distance between each pair of consecutive points\n",
    "        distance = get_mapquest_distance_between_points(from_address, to_address, api_key)\n",
    "        \n",
    "        if distance is None:\n",
    "            print(\"Error calculating distance between {} and {}.\".format(from_address, to_address))\n",
    "            return None\n",
    "        \n",
    "        # Add the distance to the total distance\n",
    "        total_distance += distance\n",
    "    \n",
    "    return total_distance\n"
   ]
  },
  {
   "cell_type": "code",
   "execution_count": 147,
   "id": "40e00248",
   "metadata": {},
   "outputs": [
    {
     "name": "stdout",
     "output_type": "stream",
     "text": [
      "Total route distance: 14.3897 miles\n",
      "Total route distance: 11.6543 miles\n",
      "Total route distance: 11.8932 miles\n",
      "Total route distance: 9.9171 miles\n",
      "Total route distance: 8.2599 miles\n",
      "Total route distance: 7.4192 miles\n",
      "Total route distance: 5.5489 miles\n",
      "Total route distance: 6.3653 miles\n",
      "Total route distance: 19.6515 miles\n",
      "Total route distance: 18.0571 miles\n",
      "Total route distance: 14.6072 miles\n",
      "Total route distance: 13.714300000000001 miles\n",
      "Total route distance: 10.9616 miles\n",
      "Total route distance: 12.1982 miles\n",
      "Total route distance: 9.9244 miles\n",
      "Total route distance: 8.969999999999999 miles\n"
     ]
    }
   ],
   "source": [
    "for i in range(len(address_lists)):\n",
    "    random_dists[i] = calculate_total_distance(address_lists[i], mq_key)\n",
    "    print(f'Total route distance: {random_dists[i]} miles')"
   ]
  },
  {
   "cell_type": "code",
   "execution_count": 143,
   "id": "693d4ef3",
   "metadata": {},
   "outputs": [],
   "source": [
    "def add_random_to_summary(summary_df, route_name, route_order, route_distance):\n",
    "    \"\"\"\n",
    "    Add a random route's order and distance to the appropriate row in the summary DataFrame.\n",
    "\n",
    "    Parameters:\n",
    "    - summary_df (pd.DataFrame): DataFrame to store route orders and distances.\n",
    "    - route_name (str): Name of the route to match in the summary DataFrame.\n",
    "    - route_order (list of int): Order of the route, randomly generated.\n",
    "    - route_distance (float or str): Total route distance in miles (can be a float or string).\n",
    "\n",
    "    Returns:\n",
    "    - pd.DataFrame: Updated summary DataFrame with the new route details.\n",
    "    \"\"\"\n",
    "\n",
    "    # Update the appropriate row in the summary DataFrame\n",
    "    summary_df.loc[summary_df['Route Name'] == route_name, \"Random Route Order\"] = [route_order]\n",
    "    summary_df.loc[summary_df['Route Name'] == route_name, \"Random Route Distance (Miles)\"] = route_distance\n",
    "    \n",
    "    return summary_df\n"
   ]
  },
  {
   "cell_type": "code",
   "execution_count": 148,
   "id": "b551d16e",
   "metadata": {},
   "outputs": [
    {
     "data": {
      "text/html": [
       "<div>\n",
       "<style scoped>\n",
       "    .dataframe tbody tr th:only-of-type {\n",
       "        vertical-align: middle;\n",
       "    }\n",
       "\n",
       "    .dataframe tbody tr th {\n",
       "        vertical-align: top;\n",
       "    }\n",
       "\n",
       "    .dataframe thead th {\n",
       "        text-align: right;\n",
       "    }\n",
       "</style>\n",
       "<table border=\"1\" class=\"dataframe\">\n",
       "  <thead>\n",
       "    <tr style=\"text-align: right;\">\n",
       "      <th></th>\n",
       "      <th>Route Name</th>\n",
       "      <th>MQ's Route Order</th>\n",
       "      <th>MQ's Route Distance (Miles)</th>\n",
       "      <th>NN's Route Order</th>\n",
       "      <th>NN's Route Distance (Miles)</th>\n",
       "      <th>Random Route Order</th>\n",
       "      <th>Random Route Distance (Miles)</th>\n",
       "    </tr>\n",
       "  </thead>\n",
       "  <tbody>\n",
       "    <tr>\n",
       "      <th>0</th>\n",
       "      <td>Huge Arthouse</td>\n",
       "      <td>[0, 5, 3, 1, 2, 4, 6, 7]</td>\n",
       "      <td>8.122</td>\n",
       "      <td>[0, 6, 4, 1, 2, 5, 3, 7]</td>\n",
       "      <td>9.896042</td>\n",
       "      <td>[0, 2, 6, 5, 4, 3, 1, 7]</td>\n",
       "      <td>14.3897</td>\n",
       "    </tr>\n",
       "    <tr>\n",
       "      <th>1</th>\n",
       "      <td>Huge Indigo</td>\n",
       "      <td>[0, 6, 2, 4, 1, 5, 3, 7]</td>\n",
       "      <td>6.8164</td>\n",
       "      <td>[0, 6, 4, 1, 2, 5, 3, 7]</td>\n",
       "      <td>6.280433</td>\n",
       "      <td>[0, 5, 2, 4, 1, 6, 3, 7]</td>\n",
       "      <td>11.6543</td>\n",
       "    </tr>\n",
       "    <tr>\n",
       "      <th>2</th>\n",
       "      <td>Huge Highline</td>\n",
       "      <td>[0, 2, 4, 6, 5, 3, 1, 7]</td>\n",
       "      <td>7.1738</td>\n",
       "      <td>[0, 6, 4, 1, 2, 5, 3, 7]</td>\n",
       "      <td>7.435984</td>\n",
       "      <td>[0, 6, 5, 4, 3, 1, 2, 7]</td>\n",
       "      <td>11.8932</td>\n",
       "    </tr>\n",
       "    <tr>\n",
       "      <th>3</th>\n",
       "      <td>Huge Birgin</td>\n",
       "      <td>[0, 6, 2, 4, 1, 5, 3, 7]</td>\n",
       "      <td>7.608</td>\n",
       "      <td>[0, 6, 4, 1, 2, 5, 3, 7]</td>\n",
       "      <td>7.070108</td>\n",
       "      <td>[0, 2, 6, 5, 1, 3, 4, 7]</td>\n",
       "      <td>9.9171</td>\n",
       "    </tr>\n",
       "    <tr>\n",
       "      <th>4</th>\n",
       "      <td>Midtown Arthouse</td>\n",
       "      <td>[0, 6, 5, 3, 2, 4, 1, 7]</td>\n",
       "      <td>5.3606</td>\n",
       "      <td>[0, 3, 2, 6, 5, 4, 1, 7]</td>\n",
       "      <td>5.912991</td>\n",
       "      <td>[0, 4, 6, 3, 5, 2, 1, 7]</td>\n",
       "      <td>8.2599</td>\n",
       "    </tr>\n",
       "    <tr>\n",
       "      <th>5</th>\n",
       "      <td>Midtown Indigo</td>\n",
       "      <td>[0, 2, 1, 4, 3, 6, 5, 7]</td>\n",
       "      <td>6.5853</td>\n",
       "      <td>[0, 3, 2, 6, 5, 4, 1, 7]</td>\n",
       "      <td>7.818923</td>\n",
       "      <td>[0, 6, 4, 1, 3, 2, 5, 7]</td>\n",
       "      <td>7.4192</td>\n",
       "    </tr>\n",
       "    <tr>\n",
       "      <th>6</th>\n",
       "      <td>Midtown Highline</td>\n",
       "      <td>[0, 1, 4, 3, 2, 5, 6, 7]</td>\n",
       "      <td>5.2246</td>\n",
       "      <td>[0, 3, 2, 6, 5, 4, 1, 7]</td>\n",
       "      <td>6.08088</td>\n",
       "      <td>[0, 2, 4, 1, 5, 3, 6, 7]</td>\n",
       "      <td>5.5489</td>\n",
       "    </tr>\n",
       "    <tr>\n",
       "      <th>7</th>\n",
       "      <td>Midtown Virgin</td>\n",
       "      <td>[0, 1, 4, 3, 2, 5, 6, 7]</td>\n",
       "      <td>4.3504</td>\n",
       "      <td>[0, 3, 2, 6, 5, 4, 1, 7]</td>\n",
       "      <td>5.365893</td>\n",
       "      <td>[0, 4, 3, 2, 5, 6, 1, 7]</td>\n",
       "      <td>6.3653</td>\n",
       "    </tr>\n",
       "    <tr>\n",
       "      <th>8</th>\n",
       "      <td>Food Arthouse</td>\n",
       "      <td>[0, 3, 5, 1, 6, 2, 4, 7]</td>\n",
       "      <td>11.3817</td>\n",
       "      <td>[0, 4, 2, 6, 1, 5, 3, 7]</td>\n",
       "      <td>11.810703</td>\n",
       "      <td>[0, 6, 1, 2, 5, 4, 3, 7]</td>\n",
       "      <td>19.6515</td>\n",
       "    </tr>\n",
       "    <tr>\n",
       "      <th>9</th>\n",
       "      <td>Food Indigo</td>\n",
       "      <td>[0, 6, 2, 4, 3, 1, 5, 7]</td>\n",
       "      <td>9.1099</td>\n",
       "      <td>[0, 4, 2, 6, 1, 5, 3, 7]</td>\n",
       "      <td>10.879672</td>\n",
       "      <td>[0, 1, 3, 4, 5, 6, 2, 7]</td>\n",
       "      <td>18.0571</td>\n",
       "    </tr>\n",
       "    <tr>\n",
       "      <th>10</th>\n",
       "      <td>Food Highline</td>\n",
       "      <td>[0, 2, 4, 3, 5, 1, 6, 7]</td>\n",
       "      <td>9.2341</td>\n",
       "      <td>[0, 4, 2, 6, 1, 5, 3, 7]</td>\n",
       "      <td>10.539763</td>\n",
       "      <td>[0, 5, 6, 1, 2, 4, 3, 7]</td>\n",
       "      <td>14.6072</td>\n",
       "    </tr>\n",
       "    <tr>\n",
       "      <th>11</th>\n",
       "      <td>Food Virgin</td>\n",
       "      <td>[0, 2, 4, 3, 5, 1, 6, 7]</td>\n",
       "      <td>9.1931</td>\n",
       "      <td>[0, 4, 2, 6, 1, 5, 3, 7]</td>\n",
       "      <td>9.58164</td>\n",
       "      <td>[0, 2, 6, 1, 3, 5, 4, 7]</td>\n",
       "      <td>13.7143</td>\n",
       "    </tr>\n",
       "    <tr>\n",
       "      <th>12</th>\n",
       "      <td>Irish Arthouse</td>\n",
       "      <td>[0, 1, 2, 6, 3, 5, 4, 7, 8]</td>\n",
       "      <td>10.4186</td>\n",
       "      <td>[0, 2, 1, 3, 4, 5, 7, 6, 8]</td>\n",
       "      <td>10.037789</td>\n",
       "      <td>[0, 4, 3, 5, 1, 7, 2, 6, 8]</td>\n",
       "      <td>10.9616</td>\n",
       "    </tr>\n",
       "    <tr>\n",
       "      <th>13</th>\n",
       "      <td>Irish Indigo</td>\n",
       "      <td>[0, 1, 2, 6, 3, 5, 4, 7, 8]</td>\n",
       "      <td>8.4053</td>\n",
       "      <td>[0, 2, 1, 3, 4, 5, 7, 6, 8]</td>\n",
       "      <td>10.451678</td>\n",
       "      <td>[0, 5, 7, 1, 2, 4, 6, 3, 8]</td>\n",
       "      <td>12.1982</td>\n",
       "    </tr>\n",
       "    <tr>\n",
       "      <th>14</th>\n",
       "      <td>Irish Highline</td>\n",
       "      <td>[0, 1, 2, 6, 3, 5, 4, 7, 8]</td>\n",
       "      <td>6.9581</td>\n",
       "      <td>[0, 2, 1, 3, 4, 5, 7, 6, 8]</td>\n",
       "      <td>10.160559</td>\n",
       "      <td>[0, 2, 6, 7, 4, 1, 5, 3, 8]</td>\n",
       "      <td>9.9244</td>\n",
       "    </tr>\n",
       "    <tr>\n",
       "      <th>15</th>\n",
       "      <td>Irish Virgin</td>\n",
       "      <td>[0, 1, 2, 6, 3, 5, 7, 4, 8]</td>\n",
       "      <td>7.0643</td>\n",
       "      <td>[0, 2, 1, 3, 4, 5, 7, 6, 8]</td>\n",
       "      <td>9.20243</td>\n",
       "      <td>[0, 2, 5, 3, 6, 7, 4, 1, 8]</td>\n",
       "      <td>8.97</td>\n",
       "    </tr>\n",
       "  </tbody>\n",
       "</table>\n",
       "</div>"
      ],
      "text/plain": [
       "          Route Name             MQ's Route Order MQ's Route Distance (Miles)  \\\n",
       "0      Huge Arthouse     [0, 5, 3, 1, 2, 4, 6, 7]                       8.122   \n",
       "1        Huge Indigo     [0, 6, 2, 4, 1, 5, 3, 7]                      6.8164   \n",
       "2      Huge Highline     [0, 2, 4, 6, 5, 3, 1, 7]                      7.1738   \n",
       "3        Huge Birgin     [0, 6, 2, 4, 1, 5, 3, 7]                       7.608   \n",
       "4   Midtown Arthouse     [0, 6, 5, 3, 2, 4, 1, 7]                      5.3606   \n",
       "5     Midtown Indigo     [0, 2, 1, 4, 3, 6, 5, 7]                      6.5853   \n",
       "6   Midtown Highline     [0, 1, 4, 3, 2, 5, 6, 7]                      5.2246   \n",
       "7     Midtown Virgin     [0, 1, 4, 3, 2, 5, 6, 7]                      4.3504   \n",
       "8      Food Arthouse     [0, 3, 5, 1, 6, 2, 4, 7]                     11.3817   \n",
       "9        Food Indigo     [0, 6, 2, 4, 3, 1, 5, 7]                      9.1099   \n",
       "10     Food Highline     [0, 2, 4, 3, 5, 1, 6, 7]                      9.2341   \n",
       "11       Food Virgin     [0, 2, 4, 3, 5, 1, 6, 7]                      9.1931   \n",
       "12    Irish Arthouse  [0, 1, 2, 6, 3, 5, 4, 7, 8]                     10.4186   \n",
       "13      Irish Indigo  [0, 1, 2, 6, 3, 5, 4, 7, 8]                      8.4053   \n",
       "14    Irish Highline  [0, 1, 2, 6, 3, 5, 4, 7, 8]                      6.9581   \n",
       "15      Irish Virgin  [0, 1, 2, 6, 3, 5, 7, 4, 8]                      7.0643   \n",
       "\n",
       "               NN's Route Order NN's Route Distance (Miles)  \\\n",
       "0      [0, 6, 4, 1, 2, 5, 3, 7]                    9.896042   \n",
       "1      [0, 6, 4, 1, 2, 5, 3, 7]                    6.280433   \n",
       "2      [0, 6, 4, 1, 2, 5, 3, 7]                    7.435984   \n",
       "3      [0, 6, 4, 1, 2, 5, 3, 7]                    7.070108   \n",
       "4      [0, 3, 2, 6, 5, 4, 1, 7]                    5.912991   \n",
       "5      [0, 3, 2, 6, 5, 4, 1, 7]                    7.818923   \n",
       "6      [0, 3, 2, 6, 5, 4, 1, 7]                     6.08088   \n",
       "7      [0, 3, 2, 6, 5, 4, 1, 7]                    5.365893   \n",
       "8      [0, 4, 2, 6, 1, 5, 3, 7]                   11.810703   \n",
       "9      [0, 4, 2, 6, 1, 5, 3, 7]                   10.879672   \n",
       "10     [0, 4, 2, 6, 1, 5, 3, 7]                   10.539763   \n",
       "11     [0, 4, 2, 6, 1, 5, 3, 7]                     9.58164   \n",
       "12  [0, 2, 1, 3, 4, 5, 7, 6, 8]                   10.037789   \n",
       "13  [0, 2, 1, 3, 4, 5, 7, 6, 8]                   10.451678   \n",
       "14  [0, 2, 1, 3, 4, 5, 7, 6, 8]                   10.160559   \n",
       "15  [0, 2, 1, 3, 4, 5, 7, 6, 8]                     9.20243   \n",
       "\n",
       "             Random Route Order Random Route Distance (Miles)  \n",
       "0      [0, 2, 6, 5, 4, 3, 1, 7]                       14.3897  \n",
       "1      [0, 5, 2, 4, 1, 6, 3, 7]                       11.6543  \n",
       "2      [0, 6, 5, 4, 3, 1, 2, 7]                       11.8932  \n",
       "3      [0, 2, 6, 5, 1, 3, 4, 7]                        9.9171  \n",
       "4      [0, 4, 6, 3, 5, 2, 1, 7]                        8.2599  \n",
       "5      [0, 6, 4, 1, 3, 2, 5, 7]                        7.4192  \n",
       "6      [0, 2, 4, 1, 5, 3, 6, 7]                        5.5489  \n",
       "7      [0, 4, 3, 2, 5, 6, 1, 7]                        6.3653  \n",
       "8      [0, 6, 1, 2, 5, 4, 3, 7]                       19.6515  \n",
       "9      [0, 1, 3, 4, 5, 6, 2, 7]                       18.0571  \n",
       "10     [0, 5, 6, 1, 2, 4, 3, 7]                       14.6072  \n",
       "11     [0, 2, 6, 1, 3, 5, 4, 7]                       13.7143  \n",
       "12  [0, 4, 3, 5, 1, 7, 2, 6, 8]                       10.9616  \n",
       "13  [0, 5, 7, 1, 2, 4, 6, 3, 8]                       12.1982  \n",
       "14  [0, 2, 6, 7, 4, 1, 5, 3, 8]                        9.9244  \n",
       "15  [0, 2, 5, 3, 6, 7, 4, 1, 8]                          8.97  "
      ]
     },
     "metadata": {},
     "output_type": "display_data"
    }
   ],
   "source": [
    "for route_name, random_order, random_dist  in zip(route_names_list, random_order_list, random_dists):\n",
    "    route_summary_df = add_random_to_summary(route_summary_df, route_name, random_order, random_dist)\n",
    "display(route_summary_df)"
   ]
  },
  {
   "cell_type": "code",
   "execution_count": 162,
   "id": "15dcbcef",
   "metadata": {},
   "outputs": [],
   "source": [
    "worse_df = route_summary_df.copy().drop([\"MQ's Route Order\", \"NN's Route Order\", 'Random Route Order'], axis=1)\n",
    "huge_worse_df = worse_df[worse_df['Route Name'].str.contains('Huge')]\n",
    "mid_worse_df = worse_df[worse_df['Route Name'].str.contains('Midtown')]\n",
    "food_worse_df = worse_df[worse_df['Route Name'].str.contains('Food')]\n",
    "irish_worse_df = worse_df[worse_df['Route Name'].str.contains('Irish')]"
   ]
  },
  {
   "cell_type": "code",
   "execution_count": 166,
   "id": "91f97f6d",
   "metadata": {},
   "outputs": [],
   "source": [
    "def calculate_distance_diff(df):\n",
    "    \"\"\"\n",
    "    Calculate the difference in distance from the optimized route for Nearest Neighbors and Random routes.\n",
    "    \"\"\"\n",
    "    # Use .loc to avoid SettingWithCopyWarning\n",
    "    df.loc[:, 'NN_Distance_Diff'] = df['NN\\'s Route Distance (Miles)'] - df['MQ\\'s Route Distance (Miles)']\n",
    "    df.loc[:, 'Random_Distance_Diff'] = df['Random Route Distance (Miles)'] - df['MQ\\'s Route Distance (Miles)']\n",
    "    return df\n"
   ]
  },
  {
   "cell_type": "code",
   "execution_count": 168,
   "id": "cb8687f0",
   "metadata": {},
   "outputs": [],
   "source": [
    "huge_worse_df = calculate_distance_diff(huge_worse_df)\n",
    "mid_worse_df = calculate_distance_diff(mid_worse_df)\n",
    "food_worse_df = calculate_distance_diff(food_worse_df)\n",
    "irish_worse_df = calculate_distance_diff(irish_worse_df)"
   ]
  },
  {
   "cell_type": "code",
   "execution_count": 171,
   "id": "fb48803c",
   "metadata": {
    "scrolled": false
   },
   "outputs": [
    {
     "name": "stderr",
     "output_type": "stream",
     "text": [
      "/Users/joshuapauley/opt/anaconda3/lib/python3.9/site-packages/plotly/express/_core.py:1979: FutureWarning:\n",
      "\n",
      "When grouping with a length-1 list-like, you will need to pass a length-1 tuple to get_group in a future version of pandas. Pass `(name,)` instead of `name` to silence this warning.\n",
      "\n",
      "/Users/joshuapauley/opt/anaconda3/lib/python3.9/site-packages/plotly/express/_core.py:1979: FutureWarning:\n",
      "\n",
      "When grouping with a length-1 list-like, you will need to pass a length-1 tuple to get_group in a future version of pandas. Pass `(name,)` instead of `name` to silence this warning.\n",
      "\n",
      "/Users/joshuapauley/opt/anaconda3/lib/python3.9/site-packages/plotly/express/_core.py:1979: FutureWarning:\n",
      "\n",
      "When grouping with a length-1 list-like, you will need to pass a length-1 tuple to get_group in a future version of pandas. Pass `(name,)` instead of `name` to silence this warning.\n",
      "\n",
      "/Users/joshuapauley/opt/anaconda3/lib/python3.9/site-packages/plotly/express/_core.py:1979: FutureWarning:\n",
      "\n",
      "When grouping with a length-1 list-like, you will need to pass a length-1 tuple to get_group in a future version of pandas. Pass `(name,)` instead of `name` to silence this warning.\n",
      "\n"
     ]
    },
    {
     "data": {
      "application/vnd.plotly.v1+json": {
       "config": {
        "plotlyServerURL": "https://plot.ly"
       },
       "data": [
        {
         "alignmentgroup": "True",
         "hovertemplate": "Route Optimization=NN_Distance_Diff<br>Route=%{x}<br>Distance Difference (Miles)=%{y}<extra></extra>",
         "legendgroup": "NN_Distance_Diff",
         "marker": {
          "color": "#636efa",
          "pattern": {
           "shape": ""
          }
         },
         "name": "NN_Distance_Diff",
         "offsetgroup": "NN_Distance_Diff",
         "orientation": "v",
         "showlegend": true,
         "textposition": "auto",
         "type": "bar",
         "x": [
          "Huge Arthouse",
          "Huge Indigo",
          "Huge Highline",
          "Huge Birgin"
         ],
         "xaxis": "x",
         "y": [
          1.7740415379399987,
          -0.5359671820199985,
          0.2621840392600001,
          -0.5378916329599983
         ],
         "yaxis": "y"
        },
        {
         "alignmentgroup": "True",
         "hovertemplate": "Route Optimization=Random_Distance_Diff<br>Route=%{x}<br>Distance Difference (Miles)=%{y}<extra></extra>",
         "legendgroup": "Random_Distance_Diff",
         "marker": {
          "color": "#EF553B",
          "pattern": {
           "shape": ""
          }
         },
         "name": "Random_Distance_Diff",
         "offsetgroup": "Random_Distance_Diff",
         "orientation": "v",
         "showlegend": true,
         "textposition": "auto",
         "type": "bar",
         "x": [
          "Huge Arthouse",
          "Huge Indigo",
          "Huge Highline",
          "Huge Birgin"
         ],
         "xaxis": "x",
         "y": [
          6.267699999999998,
          4.8379,
          4.7194,
          2.309100000000001
         ],
         "yaxis": "y"
        }
       ],
       "layout": {
        "barmode": "group",
        "legend": {
         "title": {
          "text": "Route Optimization"
         },
         "tracegroupgap": 0
        },
        "template": {
         "data": {
          "bar": [
           {
            "error_x": {
             "color": "#2a3f5f"
            },
            "error_y": {
             "color": "#2a3f5f"
            },
            "marker": {
             "line": {
              "color": "#E5ECF6",
              "width": 0.5
             },
             "pattern": {
              "fillmode": "overlay",
              "size": 10,
              "solidity": 0.2
             }
            },
            "type": "bar"
           }
          ],
          "barpolar": [
           {
            "marker": {
             "line": {
              "color": "#E5ECF6",
              "width": 0.5
             },
             "pattern": {
              "fillmode": "overlay",
              "size": 10,
              "solidity": 0.2
             }
            },
            "type": "barpolar"
           }
          ],
          "carpet": [
           {
            "aaxis": {
             "endlinecolor": "#2a3f5f",
             "gridcolor": "white",
             "linecolor": "white",
             "minorgridcolor": "white",
             "startlinecolor": "#2a3f5f"
            },
            "baxis": {
             "endlinecolor": "#2a3f5f",
             "gridcolor": "white",
             "linecolor": "white",
             "minorgridcolor": "white",
             "startlinecolor": "#2a3f5f"
            },
            "type": "carpet"
           }
          ],
          "choropleth": [
           {
            "colorbar": {
             "outlinewidth": 0,
             "ticks": ""
            },
            "type": "choropleth"
           }
          ],
          "contour": [
           {
            "colorbar": {
             "outlinewidth": 0,
             "ticks": ""
            },
            "colorscale": [
             [
              0,
              "#0d0887"
             ],
             [
              0.1111111111111111,
              "#46039f"
             ],
             [
              0.2222222222222222,
              "#7201a8"
             ],
             [
              0.3333333333333333,
              "#9c179e"
             ],
             [
              0.4444444444444444,
              "#bd3786"
             ],
             [
              0.5555555555555556,
              "#d8576b"
             ],
             [
              0.6666666666666666,
              "#ed7953"
             ],
             [
              0.7777777777777778,
              "#fb9f3a"
             ],
             [
              0.8888888888888888,
              "#fdca26"
             ],
             [
              1,
              "#f0f921"
             ]
            ],
            "type": "contour"
           }
          ],
          "contourcarpet": [
           {
            "colorbar": {
             "outlinewidth": 0,
             "ticks": ""
            },
            "type": "contourcarpet"
           }
          ],
          "heatmap": [
           {
            "colorbar": {
             "outlinewidth": 0,
             "ticks": ""
            },
            "colorscale": [
             [
              0,
              "#0d0887"
             ],
             [
              0.1111111111111111,
              "#46039f"
             ],
             [
              0.2222222222222222,
              "#7201a8"
             ],
             [
              0.3333333333333333,
              "#9c179e"
             ],
             [
              0.4444444444444444,
              "#bd3786"
             ],
             [
              0.5555555555555556,
              "#d8576b"
             ],
             [
              0.6666666666666666,
              "#ed7953"
             ],
             [
              0.7777777777777778,
              "#fb9f3a"
             ],
             [
              0.8888888888888888,
              "#fdca26"
             ],
             [
              1,
              "#f0f921"
             ]
            ],
            "type": "heatmap"
           }
          ],
          "heatmapgl": [
           {
            "colorbar": {
             "outlinewidth": 0,
             "ticks": ""
            },
            "colorscale": [
             [
              0,
              "#0d0887"
             ],
             [
              0.1111111111111111,
              "#46039f"
             ],
             [
              0.2222222222222222,
              "#7201a8"
             ],
             [
              0.3333333333333333,
              "#9c179e"
             ],
             [
              0.4444444444444444,
              "#bd3786"
             ],
             [
              0.5555555555555556,
              "#d8576b"
             ],
             [
              0.6666666666666666,
              "#ed7953"
             ],
             [
              0.7777777777777778,
              "#fb9f3a"
             ],
             [
              0.8888888888888888,
              "#fdca26"
             ],
             [
              1,
              "#f0f921"
             ]
            ],
            "type": "heatmapgl"
           }
          ],
          "histogram": [
           {
            "marker": {
             "pattern": {
              "fillmode": "overlay",
              "size": 10,
              "solidity": 0.2
             }
            },
            "type": "histogram"
           }
          ],
          "histogram2d": [
           {
            "colorbar": {
             "outlinewidth": 0,
             "ticks": ""
            },
            "colorscale": [
             [
              0,
              "#0d0887"
             ],
             [
              0.1111111111111111,
              "#46039f"
             ],
             [
              0.2222222222222222,
              "#7201a8"
             ],
             [
              0.3333333333333333,
              "#9c179e"
             ],
             [
              0.4444444444444444,
              "#bd3786"
             ],
             [
              0.5555555555555556,
              "#d8576b"
             ],
             [
              0.6666666666666666,
              "#ed7953"
             ],
             [
              0.7777777777777778,
              "#fb9f3a"
             ],
             [
              0.8888888888888888,
              "#fdca26"
             ],
             [
              1,
              "#f0f921"
             ]
            ],
            "type": "histogram2d"
           }
          ],
          "histogram2dcontour": [
           {
            "colorbar": {
             "outlinewidth": 0,
             "ticks": ""
            },
            "colorscale": [
             [
              0,
              "#0d0887"
             ],
             [
              0.1111111111111111,
              "#46039f"
             ],
             [
              0.2222222222222222,
              "#7201a8"
             ],
             [
              0.3333333333333333,
              "#9c179e"
             ],
             [
              0.4444444444444444,
              "#bd3786"
             ],
             [
              0.5555555555555556,
              "#d8576b"
             ],
             [
              0.6666666666666666,
              "#ed7953"
             ],
             [
              0.7777777777777778,
              "#fb9f3a"
             ],
             [
              0.8888888888888888,
              "#fdca26"
             ],
             [
              1,
              "#f0f921"
             ]
            ],
            "type": "histogram2dcontour"
           }
          ],
          "mesh3d": [
           {
            "colorbar": {
             "outlinewidth": 0,
             "ticks": ""
            },
            "type": "mesh3d"
           }
          ],
          "parcoords": [
           {
            "line": {
             "colorbar": {
              "outlinewidth": 0,
              "ticks": ""
             }
            },
            "type": "parcoords"
           }
          ],
          "pie": [
           {
            "automargin": true,
            "type": "pie"
           }
          ],
          "scatter": [
           {
            "fillpattern": {
             "fillmode": "overlay",
             "size": 10,
             "solidity": 0.2
            },
            "type": "scatter"
           }
          ],
          "scatter3d": [
           {
            "line": {
             "colorbar": {
              "outlinewidth": 0,
              "ticks": ""
             }
            },
            "marker": {
             "colorbar": {
              "outlinewidth": 0,
              "ticks": ""
             }
            },
            "type": "scatter3d"
           }
          ],
          "scattercarpet": [
           {
            "marker": {
             "colorbar": {
              "outlinewidth": 0,
              "ticks": ""
             }
            },
            "type": "scattercarpet"
           }
          ],
          "scattergeo": [
           {
            "marker": {
             "colorbar": {
              "outlinewidth": 0,
              "ticks": ""
             }
            },
            "type": "scattergeo"
           }
          ],
          "scattergl": [
           {
            "marker": {
             "colorbar": {
              "outlinewidth": 0,
              "ticks": ""
             }
            },
            "type": "scattergl"
           }
          ],
          "scattermapbox": [
           {
            "marker": {
             "colorbar": {
              "outlinewidth": 0,
              "ticks": ""
             }
            },
            "type": "scattermapbox"
           }
          ],
          "scatterpolar": [
           {
            "marker": {
             "colorbar": {
              "outlinewidth": 0,
              "ticks": ""
             }
            },
            "type": "scatterpolar"
           }
          ],
          "scatterpolargl": [
           {
            "marker": {
             "colorbar": {
              "outlinewidth": 0,
              "ticks": ""
             }
            },
            "type": "scatterpolargl"
           }
          ],
          "scatterternary": [
           {
            "marker": {
             "colorbar": {
              "outlinewidth": 0,
              "ticks": ""
             }
            },
            "type": "scatterternary"
           }
          ],
          "surface": [
           {
            "colorbar": {
             "outlinewidth": 0,
             "ticks": ""
            },
            "colorscale": [
             [
              0,
              "#0d0887"
             ],
             [
              0.1111111111111111,
              "#46039f"
             ],
             [
              0.2222222222222222,
              "#7201a8"
             ],
             [
              0.3333333333333333,
              "#9c179e"
             ],
             [
              0.4444444444444444,
              "#bd3786"
             ],
             [
              0.5555555555555556,
              "#d8576b"
             ],
             [
              0.6666666666666666,
              "#ed7953"
             ],
             [
              0.7777777777777778,
              "#fb9f3a"
             ],
             [
              0.8888888888888888,
              "#fdca26"
             ],
             [
              1,
              "#f0f921"
             ]
            ],
            "type": "surface"
           }
          ],
          "table": [
           {
            "cells": {
             "fill": {
              "color": "#EBF0F8"
             },
             "line": {
              "color": "white"
             }
            },
            "header": {
             "fill": {
              "color": "#C8D4E3"
             },
             "line": {
              "color": "white"
             }
            },
            "type": "table"
           }
          ]
         },
         "layout": {
          "annotationdefaults": {
           "arrowcolor": "#2a3f5f",
           "arrowhead": 0,
           "arrowwidth": 1
          },
          "autotypenumbers": "strict",
          "coloraxis": {
           "colorbar": {
            "outlinewidth": 0,
            "ticks": ""
           }
          },
          "colorscale": {
           "diverging": [
            [
             0,
             "#8e0152"
            ],
            [
             0.1,
             "#c51b7d"
            ],
            [
             0.2,
             "#de77ae"
            ],
            [
             0.3,
             "#f1b6da"
            ],
            [
             0.4,
             "#fde0ef"
            ],
            [
             0.5,
             "#f7f7f7"
            ],
            [
             0.6,
             "#e6f5d0"
            ],
            [
             0.7,
             "#b8e186"
            ],
            [
             0.8,
             "#7fbc41"
            ],
            [
             0.9,
             "#4d9221"
            ],
            [
             1,
             "#276419"
            ]
           ],
           "sequential": [
            [
             0,
             "#0d0887"
            ],
            [
             0.1111111111111111,
             "#46039f"
            ],
            [
             0.2222222222222222,
             "#7201a8"
            ],
            [
             0.3333333333333333,
             "#9c179e"
            ],
            [
             0.4444444444444444,
             "#bd3786"
            ],
            [
             0.5555555555555556,
             "#d8576b"
            ],
            [
             0.6666666666666666,
             "#ed7953"
            ],
            [
             0.7777777777777778,
             "#fb9f3a"
            ],
            [
             0.8888888888888888,
             "#fdca26"
            ],
            [
             1,
             "#f0f921"
            ]
           ],
           "sequentialminus": [
            [
             0,
             "#0d0887"
            ],
            [
             0.1111111111111111,
             "#46039f"
            ],
            [
             0.2222222222222222,
             "#7201a8"
            ],
            [
             0.3333333333333333,
             "#9c179e"
            ],
            [
             0.4444444444444444,
             "#bd3786"
            ],
            [
             0.5555555555555556,
             "#d8576b"
            ],
            [
             0.6666666666666666,
             "#ed7953"
            ],
            [
             0.7777777777777778,
             "#fb9f3a"
            ],
            [
             0.8888888888888888,
             "#fdca26"
            ],
            [
             1,
             "#f0f921"
            ]
           ]
          },
          "colorway": [
           "#636efa",
           "#EF553B",
           "#00cc96",
           "#ab63fa",
           "#FFA15A",
           "#19d3f3",
           "#FF6692",
           "#B6E880",
           "#FF97FF",
           "#FECB52"
          ],
          "font": {
           "color": "#2a3f5f"
          },
          "geo": {
           "bgcolor": "white",
           "lakecolor": "white",
           "landcolor": "#E5ECF6",
           "showlakes": true,
           "showland": true,
           "subunitcolor": "white"
          },
          "hoverlabel": {
           "align": "left"
          },
          "hovermode": "closest",
          "mapbox": {
           "style": "light"
          },
          "paper_bgcolor": "white",
          "plot_bgcolor": "#E5ECF6",
          "polar": {
           "angularaxis": {
            "gridcolor": "white",
            "linecolor": "white",
            "ticks": ""
           },
           "bgcolor": "#E5ECF6",
           "radialaxis": {
            "gridcolor": "white",
            "linecolor": "white",
            "ticks": ""
           }
          },
          "scene": {
           "xaxis": {
            "backgroundcolor": "#E5ECF6",
            "gridcolor": "white",
            "gridwidth": 2,
            "linecolor": "white",
            "showbackground": true,
            "ticks": "",
            "zerolinecolor": "white"
           },
           "yaxis": {
            "backgroundcolor": "#E5ECF6",
            "gridcolor": "white",
            "gridwidth": 2,
            "linecolor": "white",
            "showbackground": true,
            "ticks": "",
            "zerolinecolor": "white"
           },
           "zaxis": {
            "backgroundcolor": "#E5ECF6",
            "gridcolor": "white",
            "gridwidth": 2,
            "linecolor": "white",
            "showbackground": true,
            "ticks": "",
            "zerolinecolor": "white"
           }
          },
          "shapedefaults": {
           "line": {
            "color": "#2a3f5f"
           }
          },
          "ternary": {
           "aaxis": {
            "gridcolor": "white",
            "linecolor": "white",
            "ticks": ""
           },
           "baxis": {
            "gridcolor": "white",
            "linecolor": "white",
            "ticks": ""
           },
           "bgcolor": "#E5ECF6",
           "caxis": {
            "gridcolor": "white",
            "linecolor": "white",
            "ticks": ""
           }
          },
          "title": {
           "x": 0.05
          },
          "xaxis": {
           "automargin": true,
           "gridcolor": "white",
           "linecolor": "white",
           "ticks": "",
           "title": {
            "standoff": 15
           },
           "zerolinecolor": "white",
           "zerolinewidth": 2
          },
          "yaxis": {
           "automargin": true,
           "gridcolor": "white",
           "linecolor": "white",
           "ticks": "",
           "title": {
            "standoff": 15
           },
           "zerolinecolor": "white",
           "zerolinewidth": 2
          }
         }
        },
        "title": {
         "text": "How much farther compared to optimized route"
        },
        "xaxis": {
         "anchor": "y",
         "domain": [
          0,
          1
         ],
         "tickangle": -45,
         "title": {
          "text": "Route Name"
         }
        },
        "yaxis": {
         "anchor": "x",
         "domain": [
          0,
          1
         ],
         "title": {
          "text": "Distance Difference (Miles)"
         }
        }
       }
      },
      "text/html": [
       "<div>                            <div id=\"f61a3e64-9451-4643-a5d5-af804b4a6200\" class=\"plotly-graph-div\" style=\"height:525px; width:100%;\"></div>            <script type=\"text/javascript\">                require([\"plotly\"], function(Plotly) {                    window.PLOTLYENV=window.PLOTLYENV || {};                                    if (document.getElementById(\"f61a3e64-9451-4643-a5d5-af804b4a6200\")) {                    Plotly.newPlot(                        \"f61a3e64-9451-4643-a5d5-af804b4a6200\",                        [{\"alignmentgroup\":\"True\",\"hovertemplate\":\"Route Optimization=NN_Distance_Diff<br>Route=%{x}<br>Distance Difference (Miles)=%{y}<extra></extra>\",\"legendgroup\":\"NN_Distance_Diff\",\"marker\":{\"color\":\"#636efa\",\"pattern\":{\"shape\":\"\"}},\"name\":\"NN_Distance_Diff\",\"offsetgroup\":\"NN_Distance_Diff\",\"orientation\":\"v\",\"showlegend\":true,\"textposition\":\"auto\",\"x\":[\"Huge Arthouse\",\"Huge Indigo\",\"Huge Highline\",\"Huge Birgin\"],\"xaxis\":\"x\",\"y\":[1.7740415379399987,-0.5359671820199985,0.2621840392600001,-0.5378916329599983],\"yaxis\":\"y\",\"type\":\"bar\"},{\"alignmentgroup\":\"True\",\"hovertemplate\":\"Route Optimization=Random_Distance_Diff<br>Route=%{x}<br>Distance Difference (Miles)=%{y}<extra></extra>\",\"legendgroup\":\"Random_Distance_Diff\",\"marker\":{\"color\":\"#EF553B\",\"pattern\":{\"shape\":\"\"}},\"name\":\"Random_Distance_Diff\",\"offsetgroup\":\"Random_Distance_Diff\",\"orientation\":\"v\",\"showlegend\":true,\"textposition\":\"auto\",\"x\":[\"Huge Arthouse\",\"Huge Indigo\",\"Huge Highline\",\"Huge Birgin\"],\"xaxis\":\"x\",\"y\":[6.267699999999998,4.8379,4.7194,2.309100000000001],\"yaxis\":\"y\",\"type\":\"bar\"}],                        {\"template\":{\"data\":{\"histogram2dcontour\":[{\"type\":\"histogram2dcontour\",\"colorbar\":{\"outlinewidth\":0,\"ticks\":\"\"},\"colorscale\":[[0.0,\"#0d0887\"],[0.1111111111111111,\"#46039f\"],[0.2222222222222222,\"#7201a8\"],[0.3333333333333333,\"#9c179e\"],[0.4444444444444444,\"#bd3786\"],[0.5555555555555556,\"#d8576b\"],[0.6666666666666666,\"#ed7953\"],[0.7777777777777778,\"#fb9f3a\"],[0.8888888888888888,\"#fdca26\"],[1.0,\"#f0f921\"]]}],\"choropleth\":[{\"type\":\"choropleth\",\"colorbar\":{\"outlinewidth\":0,\"ticks\":\"\"}}],\"histogram2d\":[{\"type\":\"histogram2d\",\"colorbar\":{\"outlinewidth\":0,\"ticks\":\"\"},\"colorscale\":[[0.0,\"#0d0887\"],[0.1111111111111111,\"#46039f\"],[0.2222222222222222,\"#7201a8\"],[0.3333333333333333,\"#9c179e\"],[0.4444444444444444,\"#bd3786\"],[0.5555555555555556,\"#d8576b\"],[0.6666666666666666,\"#ed7953\"],[0.7777777777777778,\"#fb9f3a\"],[0.8888888888888888,\"#fdca26\"],[1.0,\"#f0f921\"]]}],\"heatmap\":[{\"type\":\"heatmap\",\"colorbar\":{\"outlinewidth\":0,\"ticks\":\"\"},\"colorscale\":[[0.0,\"#0d0887\"],[0.1111111111111111,\"#46039f\"],[0.2222222222222222,\"#7201a8\"],[0.3333333333333333,\"#9c179e\"],[0.4444444444444444,\"#bd3786\"],[0.5555555555555556,\"#d8576b\"],[0.6666666666666666,\"#ed7953\"],[0.7777777777777778,\"#fb9f3a\"],[0.8888888888888888,\"#fdca26\"],[1.0,\"#f0f921\"]]}],\"heatmapgl\":[{\"type\":\"heatmapgl\",\"colorbar\":{\"outlinewidth\":0,\"ticks\":\"\"},\"colorscale\":[[0.0,\"#0d0887\"],[0.1111111111111111,\"#46039f\"],[0.2222222222222222,\"#7201a8\"],[0.3333333333333333,\"#9c179e\"],[0.4444444444444444,\"#bd3786\"],[0.5555555555555556,\"#d8576b\"],[0.6666666666666666,\"#ed7953\"],[0.7777777777777778,\"#fb9f3a\"],[0.8888888888888888,\"#fdca26\"],[1.0,\"#f0f921\"]]}],\"contourcarpet\":[{\"type\":\"contourcarpet\",\"colorbar\":{\"outlinewidth\":0,\"ticks\":\"\"}}],\"contour\":[{\"type\":\"contour\",\"colorbar\":{\"outlinewidth\":0,\"ticks\":\"\"},\"colorscale\":[[0.0,\"#0d0887\"],[0.1111111111111111,\"#46039f\"],[0.2222222222222222,\"#7201a8\"],[0.3333333333333333,\"#9c179e\"],[0.4444444444444444,\"#bd3786\"],[0.5555555555555556,\"#d8576b\"],[0.6666666666666666,\"#ed7953\"],[0.7777777777777778,\"#fb9f3a\"],[0.8888888888888888,\"#fdca26\"],[1.0,\"#f0f921\"]]}],\"surface\":[{\"type\":\"surface\",\"colorbar\":{\"outlinewidth\":0,\"ticks\":\"\"},\"colorscale\":[[0.0,\"#0d0887\"],[0.1111111111111111,\"#46039f\"],[0.2222222222222222,\"#7201a8\"],[0.3333333333333333,\"#9c179e\"],[0.4444444444444444,\"#bd3786\"],[0.5555555555555556,\"#d8576b\"],[0.6666666666666666,\"#ed7953\"],[0.7777777777777778,\"#fb9f3a\"],[0.8888888888888888,\"#fdca26\"],[1.0,\"#f0f921\"]]}],\"mesh3d\":[{\"type\":\"mesh3d\",\"colorbar\":{\"outlinewidth\":0,\"ticks\":\"\"}}],\"scatter\":[{\"fillpattern\":{\"fillmode\":\"overlay\",\"size\":10,\"solidity\":0.2},\"type\":\"scatter\"}],\"parcoords\":[{\"type\":\"parcoords\",\"line\":{\"colorbar\":{\"outlinewidth\":0,\"ticks\":\"\"}}}],\"scatterpolargl\":[{\"type\":\"scatterpolargl\",\"marker\":{\"colorbar\":{\"outlinewidth\":0,\"ticks\":\"\"}}}],\"bar\":[{\"error_x\":{\"color\":\"#2a3f5f\"},\"error_y\":{\"color\":\"#2a3f5f\"},\"marker\":{\"line\":{\"color\":\"#E5ECF6\",\"width\":0.5},\"pattern\":{\"fillmode\":\"overlay\",\"size\":10,\"solidity\":0.2}},\"type\":\"bar\"}],\"scattergeo\":[{\"type\":\"scattergeo\",\"marker\":{\"colorbar\":{\"outlinewidth\":0,\"ticks\":\"\"}}}],\"scatterpolar\":[{\"type\":\"scatterpolar\",\"marker\":{\"colorbar\":{\"outlinewidth\":0,\"ticks\":\"\"}}}],\"histogram\":[{\"marker\":{\"pattern\":{\"fillmode\":\"overlay\",\"size\":10,\"solidity\":0.2}},\"type\":\"histogram\"}],\"scattergl\":[{\"type\":\"scattergl\",\"marker\":{\"colorbar\":{\"outlinewidth\":0,\"ticks\":\"\"}}}],\"scatter3d\":[{\"type\":\"scatter3d\",\"line\":{\"colorbar\":{\"outlinewidth\":0,\"ticks\":\"\"}},\"marker\":{\"colorbar\":{\"outlinewidth\":0,\"ticks\":\"\"}}}],\"scattermapbox\":[{\"type\":\"scattermapbox\",\"marker\":{\"colorbar\":{\"outlinewidth\":0,\"ticks\":\"\"}}}],\"scatterternary\":[{\"type\":\"scatterternary\",\"marker\":{\"colorbar\":{\"outlinewidth\":0,\"ticks\":\"\"}}}],\"scattercarpet\":[{\"type\":\"scattercarpet\",\"marker\":{\"colorbar\":{\"outlinewidth\":0,\"ticks\":\"\"}}}],\"carpet\":[{\"aaxis\":{\"endlinecolor\":\"#2a3f5f\",\"gridcolor\":\"white\",\"linecolor\":\"white\",\"minorgridcolor\":\"white\",\"startlinecolor\":\"#2a3f5f\"},\"baxis\":{\"endlinecolor\":\"#2a3f5f\",\"gridcolor\":\"white\",\"linecolor\":\"white\",\"minorgridcolor\":\"white\",\"startlinecolor\":\"#2a3f5f\"},\"type\":\"carpet\"}],\"table\":[{\"cells\":{\"fill\":{\"color\":\"#EBF0F8\"},\"line\":{\"color\":\"white\"}},\"header\":{\"fill\":{\"color\":\"#C8D4E3\"},\"line\":{\"color\":\"white\"}},\"type\":\"table\"}],\"barpolar\":[{\"marker\":{\"line\":{\"color\":\"#E5ECF6\",\"width\":0.5},\"pattern\":{\"fillmode\":\"overlay\",\"size\":10,\"solidity\":0.2}},\"type\":\"barpolar\"}],\"pie\":[{\"automargin\":true,\"type\":\"pie\"}]},\"layout\":{\"autotypenumbers\":\"strict\",\"colorway\":[\"#636efa\",\"#EF553B\",\"#00cc96\",\"#ab63fa\",\"#FFA15A\",\"#19d3f3\",\"#FF6692\",\"#B6E880\",\"#FF97FF\",\"#FECB52\"],\"font\":{\"color\":\"#2a3f5f\"},\"hovermode\":\"closest\",\"hoverlabel\":{\"align\":\"left\"},\"paper_bgcolor\":\"white\",\"plot_bgcolor\":\"#E5ECF6\",\"polar\":{\"bgcolor\":\"#E5ECF6\",\"angularaxis\":{\"gridcolor\":\"white\",\"linecolor\":\"white\",\"ticks\":\"\"},\"radialaxis\":{\"gridcolor\":\"white\",\"linecolor\":\"white\",\"ticks\":\"\"}},\"ternary\":{\"bgcolor\":\"#E5ECF6\",\"aaxis\":{\"gridcolor\":\"white\",\"linecolor\":\"white\",\"ticks\":\"\"},\"baxis\":{\"gridcolor\":\"white\",\"linecolor\":\"white\",\"ticks\":\"\"},\"caxis\":{\"gridcolor\":\"white\",\"linecolor\":\"white\",\"ticks\":\"\"}},\"coloraxis\":{\"colorbar\":{\"outlinewidth\":0,\"ticks\":\"\"}},\"colorscale\":{\"sequential\":[[0.0,\"#0d0887\"],[0.1111111111111111,\"#46039f\"],[0.2222222222222222,\"#7201a8\"],[0.3333333333333333,\"#9c179e\"],[0.4444444444444444,\"#bd3786\"],[0.5555555555555556,\"#d8576b\"],[0.6666666666666666,\"#ed7953\"],[0.7777777777777778,\"#fb9f3a\"],[0.8888888888888888,\"#fdca26\"],[1.0,\"#f0f921\"]],\"sequentialminus\":[[0.0,\"#0d0887\"],[0.1111111111111111,\"#46039f\"],[0.2222222222222222,\"#7201a8\"],[0.3333333333333333,\"#9c179e\"],[0.4444444444444444,\"#bd3786\"],[0.5555555555555556,\"#d8576b\"],[0.6666666666666666,\"#ed7953\"],[0.7777777777777778,\"#fb9f3a\"],[0.8888888888888888,\"#fdca26\"],[1.0,\"#f0f921\"]],\"diverging\":[[0,\"#8e0152\"],[0.1,\"#c51b7d\"],[0.2,\"#de77ae\"],[0.3,\"#f1b6da\"],[0.4,\"#fde0ef\"],[0.5,\"#f7f7f7\"],[0.6,\"#e6f5d0\"],[0.7,\"#b8e186\"],[0.8,\"#7fbc41\"],[0.9,\"#4d9221\"],[1,\"#276419\"]]},\"xaxis\":{\"gridcolor\":\"white\",\"linecolor\":\"white\",\"ticks\":\"\",\"title\":{\"standoff\":15},\"zerolinecolor\":\"white\",\"automargin\":true,\"zerolinewidth\":2},\"yaxis\":{\"gridcolor\":\"white\",\"linecolor\":\"white\",\"ticks\":\"\",\"title\":{\"standoff\":15},\"zerolinecolor\":\"white\",\"automargin\":true,\"zerolinewidth\":2},\"scene\":{\"xaxis\":{\"backgroundcolor\":\"#E5ECF6\",\"gridcolor\":\"white\",\"linecolor\":\"white\",\"showbackground\":true,\"ticks\":\"\",\"zerolinecolor\":\"white\",\"gridwidth\":2},\"yaxis\":{\"backgroundcolor\":\"#E5ECF6\",\"gridcolor\":\"white\",\"linecolor\":\"white\",\"showbackground\":true,\"ticks\":\"\",\"zerolinecolor\":\"white\",\"gridwidth\":2},\"zaxis\":{\"backgroundcolor\":\"#E5ECF6\",\"gridcolor\":\"white\",\"linecolor\":\"white\",\"showbackground\":true,\"ticks\":\"\",\"zerolinecolor\":\"white\",\"gridwidth\":2}},\"shapedefaults\":{\"line\":{\"color\":\"#2a3f5f\"}},\"annotationdefaults\":{\"arrowcolor\":\"#2a3f5f\",\"arrowhead\":0,\"arrowwidth\":1},\"geo\":{\"bgcolor\":\"white\",\"landcolor\":\"#E5ECF6\",\"subunitcolor\":\"white\",\"showland\":true,\"showlakes\":true,\"lakecolor\":\"white\"},\"title\":{\"x\":0.05},\"mapbox\":{\"style\":\"light\"}}},\"xaxis\":{\"anchor\":\"y\",\"domain\":[0.0,1.0],\"title\":{\"text\":\"Route Name\"},\"tickangle\":-45},\"yaxis\":{\"anchor\":\"x\",\"domain\":[0.0,1.0],\"title\":{\"text\":\"Distance Difference (Miles)\"}},\"legend\":{\"title\":{\"text\":\"Route Optimization\"},\"tracegroupgap\":0},\"title\":{\"text\":\"How much farther compared to optimized route\"},\"barmode\":\"group\"},                        {\"responsive\": true}                    ).then(function(){\n",
       "                            \n",
       "var gd = document.getElementById('f61a3e64-9451-4643-a5d5-af804b4a6200');\n",
       "var x = new MutationObserver(function (mutations, observer) {{\n",
       "        var display = window.getComputedStyle(gd).display;\n",
       "        if (!display || display === 'none') {{\n",
       "            console.log([gd, 'removed!']);\n",
       "            Plotly.purge(gd);\n",
       "            observer.disconnect();\n",
       "        }}\n",
       "}});\n",
       "\n",
       "// Listen for the removal of the full notebook cells\n",
       "var notebookContainer = gd.closest('#notebook-container');\n",
       "if (notebookContainer) {{\n",
       "    x.observe(notebookContainer, {childList: true});\n",
       "}}\n",
       "\n",
       "// Listen for the clearing of the current output cell\n",
       "var outputEl = gd.closest('.output');\n",
       "if (outputEl) {{\n",
       "    x.observe(outputEl, {childList: true});\n",
       "}}\n",
       "\n",
       "                        })                };                });            </script>        </div>"
      ]
     },
     "metadata": {},
     "output_type": "display_data"
    },
    {
     "data": {
      "application/vnd.plotly.v1+json": {
       "config": {
        "plotlyServerURL": "https://plot.ly"
       },
       "data": [
        {
         "alignmentgroup": "True",
         "hovertemplate": "Route Optimization=NN_Distance_Diff<br>Route=%{x}<br>Distance Difference (Miles)=%{y}<extra></extra>",
         "legendgroup": "NN_Distance_Diff",
         "marker": {
          "color": "#636efa",
          "pattern": {
           "shape": ""
          }
         },
         "name": "NN_Distance_Diff",
         "offsetgroup": "NN_Distance_Diff",
         "orientation": "v",
         "showlegend": true,
         "textposition": "auto",
         "type": "bar",
         "x": [
          "Midtown Arthouse",
          "Midtown Indigo",
          "Midtown Highline",
          "Midtown Virgin"
         ],
         "xaxis": "x",
         "y": [
          0.5523912908400002,
          1.2336225591400005,
          0.8562795213300003,
          1.0154927664700004
         ],
         "yaxis": "y"
        },
        {
         "alignmentgroup": "True",
         "hovertemplate": "Route Optimization=Random_Distance_Diff<br>Route=%{x}<br>Distance Difference (Miles)=%{y}<extra></extra>",
         "legendgroup": "Random_Distance_Diff",
         "marker": {
          "color": "#EF553B",
          "pattern": {
           "shape": ""
          }
         },
         "name": "Random_Distance_Diff",
         "offsetgroup": "Random_Distance_Diff",
         "orientation": "v",
         "showlegend": true,
         "textposition": "auto",
         "type": "bar",
         "x": [
          "Midtown Arthouse",
          "Midtown Indigo",
          "Midtown Highline",
          "Midtown Virgin"
         ],
         "xaxis": "x",
         "y": [
          2.8993,
          0.8339000000000008,
          0.32430000000000003,
          2.014900000000001
         ],
         "yaxis": "y"
        }
       ],
       "layout": {
        "barmode": "group",
        "legend": {
         "title": {
          "text": "Route Optimization"
         },
         "tracegroupgap": 0
        },
        "template": {
         "data": {
          "bar": [
           {
            "error_x": {
             "color": "#2a3f5f"
            },
            "error_y": {
             "color": "#2a3f5f"
            },
            "marker": {
             "line": {
              "color": "#E5ECF6",
              "width": 0.5
             },
             "pattern": {
              "fillmode": "overlay",
              "size": 10,
              "solidity": 0.2
             }
            },
            "type": "bar"
           }
          ],
          "barpolar": [
           {
            "marker": {
             "line": {
              "color": "#E5ECF6",
              "width": 0.5
             },
             "pattern": {
              "fillmode": "overlay",
              "size": 10,
              "solidity": 0.2
             }
            },
            "type": "barpolar"
           }
          ],
          "carpet": [
           {
            "aaxis": {
             "endlinecolor": "#2a3f5f",
             "gridcolor": "white",
             "linecolor": "white",
             "minorgridcolor": "white",
             "startlinecolor": "#2a3f5f"
            },
            "baxis": {
             "endlinecolor": "#2a3f5f",
             "gridcolor": "white",
             "linecolor": "white",
             "minorgridcolor": "white",
             "startlinecolor": "#2a3f5f"
            },
            "type": "carpet"
           }
          ],
          "choropleth": [
           {
            "colorbar": {
             "outlinewidth": 0,
             "ticks": ""
            },
            "type": "choropleth"
           }
          ],
          "contour": [
           {
            "colorbar": {
             "outlinewidth": 0,
             "ticks": ""
            },
            "colorscale": [
             [
              0,
              "#0d0887"
             ],
             [
              0.1111111111111111,
              "#46039f"
             ],
             [
              0.2222222222222222,
              "#7201a8"
             ],
             [
              0.3333333333333333,
              "#9c179e"
             ],
             [
              0.4444444444444444,
              "#bd3786"
             ],
             [
              0.5555555555555556,
              "#d8576b"
             ],
             [
              0.6666666666666666,
              "#ed7953"
             ],
             [
              0.7777777777777778,
              "#fb9f3a"
             ],
             [
              0.8888888888888888,
              "#fdca26"
             ],
             [
              1,
              "#f0f921"
             ]
            ],
            "type": "contour"
           }
          ],
          "contourcarpet": [
           {
            "colorbar": {
             "outlinewidth": 0,
             "ticks": ""
            },
            "type": "contourcarpet"
           }
          ],
          "heatmap": [
           {
            "colorbar": {
             "outlinewidth": 0,
             "ticks": ""
            },
            "colorscale": [
             [
              0,
              "#0d0887"
             ],
             [
              0.1111111111111111,
              "#46039f"
             ],
             [
              0.2222222222222222,
              "#7201a8"
             ],
             [
              0.3333333333333333,
              "#9c179e"
             ],
             [
              0.4444444444444444,
              "#bd3786"
             ],
             [
              0.5555555555555556,
              "#d8576b"
             ],
             [
              0.6666666666666666,
              "#ed7953"
             ],
             [
              0.7777777777777778,
              "#fb9f3a"
             ],
             [
              0.8888888888888888,
              "#fdca26"
             ],
             [
              1,
              "#f0f921"
             ]
            ],
            "type": "heatmap"
           }
          ],
          "heatmapgl": [
           {
            "colorbar": {
             "outlinewidth": 0,
             "ticks": ""
            },
            "colorscale": [
             [
              0,
              "#0d0887"
             ],
             [
              0.1111111111111111,
              "#46039f"
             ],
             [
              0.2222222222222222,
              "#7201a8"
             ],
             [
              0.3333333333333333,
              "#9c179e"
             ],
             [
              0.4444444444444444,
              "#bd3786"
             ],
             [
              0.5555555555555556,
              "#d8576b"
             ],
             [
              0.6666666666666666,
              "#ed7953"
             ],
             [
              0.7777777777777778,
              "#fb9f3a"
             ],
             [
              0.8888888888888888,
              "#fdca26"
             ],
             [
              1,
              "#f0f921"
             ]
            ],
            "type": "heatmapgl"
           }
          ],
          "histogram": [
           {
            "marker": {
             "pattern": {
              "fillmode": "overlay",
              "size": 10,
              "solidity": 0.2
             }
            },
            "type": "histogram"
           }
          ],
          "histogram2d": [
           {
            "colorbar": {
             "outlinewidth": 0,
             "ticks": ""
            },
            "colorscale": [
             [
              0,
              "#0d0887"
             ],
             [
              0.1111111111111111,
              "#46039f"
             ],
             [
              0.2222222222222222,
              "#7201a8"
             ],
             [
              0.3333333333333333,
              "#9c179e"
             ],
             [
              0.4444444444444444,
              "#bd3786"
             ],
             [
              0.5555555555555556,
              "#d8576b"
             ],
             [
              0.6666666666666666,
              "#ed7953"
             ],
             [
              0.7777777777777778,
              "#fb9f3a"
             ],
             [
              0.8888888888888888,
              "#fdca26"
             ],
             [
              1,
              "#f0f921"
             ]
            ],
            "type": "histogram2d"
           }
          ],
          "histogram2dcontour": [
           {
            "colorbar": {
             "outlinewidth": 0,
             "ticks": ""
            },
            "colorscale": [
             [
              0,
              "#0d0887"
             ],
             [
              0.1111111111111111,
              "#46039f"
             ],
             [
              0.2222222222222222,
              "#7201a8"
             ],
             [
              0.3333333333333333,
              "#9c179e"
             ],
             [
              0.4444444444444444,
              "#bd3786"
             ],
             [
              0.5555555555555556,
              "#d8576b"
             ],
             [
              0.6666666666666666,
              "#ed7953"
             ],
             [
              0.7777777777777778,
              "#fb9f3a"
             ],
             [
              0.8888888888888888,
              "#fdca26"
             ],
             [
              1,
              "#f0f921"
             ]
            ],
            "type": "histogram2dcontour"
           }
          ],
          "mesh3d": [
           {
            "colorbar": {
             "outlinewidth": 0,
             "ticks": ""
            },
            "type": "mesh3d"
           }
          ],
          "parcoords": [
           {
            "line": {
             "colorbar": {
              "outlinewidth": 0,
              "ticks": ""
             }
            },
            "type": "parcoords"
           }
          ],
          "pie": [
           {
            "automargin": true,
            "type": "pie"
           }
          ],
          "scatter": [
           {
            "fillpattern": {
             "fillmode": "overlay",
             "size": 10,
             "solidity": 0.2
            },
            "type": "scatter"
           }
          ],
          "scatter3d": [
           {
            "line": {
             "colorbar": {
              "outlinewidth": 0,
              "ticks": ""
             }
            },
            "marker": {
             "colorbar": {
              "outlinewidth": 0,
              "ticks": ""
             }
            },
            "type": "scatter3d"
           }
          ],
          "scattercarpet": [
           {
            "marker": {
             "colorbar": {
              "outlinewidth": 0,
              "ticks": ""
             }
            },
            "type": "scattercarpet"
           }
          ],
          "scattergeo": [
           {
            "marker": {
             "colorbar": {
              "outlinewidth": 0,
              "ticks": ""
             }
            },
            "type": "scattergeo"
           }
          ],
          "scattergl": [
           {
            "marker": {
             "colorbar": {
              "outlinewidth": 0,
              "ticks": ""
             }
            },
            "type": "scattergl"
           }
          ],
          "scattermapbox": [
           {
            "marker": {
             "colorbar": {
              "outlinewidth": 0,
              "ticks": ""
             }
            },
            "type": "scattermapbox"
           }
          ],
          "scatterpolar": [
           {
            "marker": {
             "colorbar": {
              "outlinewidth": 0,
              "ticks": ""
             }
            },
            "type": "scatterpolar"
           }
          ],
          "scatterpolargl": [
           {
            "marker": {
             "colorbar": {
              "outlinewidth": 0,
              "ticks": ""
             }
            },
            "type": "scatterpolargl"
           }
          ],
          "scatterternary": [
           {
            "marker": {
             "colorbar": {
              "outlinewidth": 0,
              "ticks": ""
             }
            },
            "type": "scatterternary"
           }
          ],
          "surface": [
           {
            "colorbar": {
             "outlinewidth": 0,
             "ticks": ""
            },
            "colorscale": [
             [
              0,
              "#0d0887"
             ],
             [
              0.1111111111111111,
              "#46039f"
             ],
             [
              0.2222222222222222,
              "#7201a8"
             ],
             [
              0.3333333333333333,
              "#9c179e"
             ],
             [
              0.4444444444444444,
              "#bd3786"
             ],
             [
              0.5555555555555556,
              "#d8576b"
             ],
             [
              0.6666666666666666,
              "#ed7953"
             ],
             [
              0.7777777777777778,
              "#fb9f3a"
             ],
             [
              0.8888888888888888,
              "#fdca26"
             ],
             [
              1,
              "#f0f921"
             ]
            ],
            "type": "surface"
           }
          ],
          "table": [
           {
            "cells": {
             "fill": {
              "color": "#EBF0F8"
             },
             "line": {
              "color": "white"
             }
            },
            "header": {
             "fill": {
              "color": "#C8D4E3"
             },
             "line": {
              "color": "white"
             }
            },
            "type": "table"
           }
          ]
         },
         "layout": {
          "annotationdefaults": {
           "arrowcolor": "#2a3f5f",
           "arrowhead": 0,
           "arrowwidth": 1
          },
          "autotypenumbers": "strict",
          "coloraxis": {
           "colorbar": {
            "outlinewidth": 0,
            "ticks": ""
           }
          },
          "colorscale": {
           "diverging": [
            [
             0,
             "#8e0152"
            ],
            [
             0.1,
             "#c51b7d"
            ],
            [
             0.2,
             "#de77ae"
            ],
            [
             0.3,
             "#f1b6da"
            ],
            [
             0.4,
             "#fde0ef"
            ],
            [
             0.5,
             "#f7f7f7"
            ],
            [
             0.6,
             "#e6f5d0"
            ],
            [
             0.7,
             "#b8e186"
            ],
            [
             0.8,
             "#7fbc41"
            ],
            [
             0.9,
             "#4d9221"
            ],
            [
             1,
             "#276419"
            ]
           ],
           "sequential": [
            [
             0,
             "#0d0887"
            ],
            [
             0.1111111111111111,
             "#46039f"
            ],
            [
             0.2222222222222222,
             "#7201a8"
            ],
            [
             0.3333333333333333,
             "#9c179e"
            ],
            [
             0.4444444444444444,
             "#bd3786"
            ],
            [
             0.5555555555555556,
             "#d8576b"
            ],
            [
             0.6666666666666666,
             "#ed7953"
            ],
            [
             0.7777777777777778,
             "#fb9f3a"
            ],
            [
             0.8888888888888888,
             "#fdca26"
            ],
            [
             1,
             "#f0f921"
            ]
           ],
           "sequentialminus": [
            [
             0,
             "#0d0887"
            ],
            [
             0.1111111111111111,
             "#46039f"
            ],
            [
             0.2222222222222222,
             "#7201a8"
            ],
            [
             0.3333333333333333,
             "#9c179e"
            ],
            [
             0.4444444444444444,
             "#bd3786"
            ],
            [
             0.5555555555555556,
             "#d8576b"
            ],
            [
             0.6666666666666666,
             "#ed7953"
            ],
            [
             0.7777777777777778,
             "#fb9f3a"
            ],
            [
             0.8888888888888888,
             "#fdca26"
            ],
            [
             1,
             "#f0f921"
            ]
           ]
          },
          "colorway": [
           "#636efa",
           "#EF553B",
           "#00cc96",
           "#ab63fa",
           "#FFA15A",
           "#19d3f3",
           "#FF6692",
           "#B6E880",
           "#FF97FF",
           "#FECB52"
          ],
          "font": {
           "color": "#2a3f5f"
          },
          "geo": {
           "bgcolor": "white",
           "lakecolor": "white",
           "landcolor": "#E5ECF6",
           "showlakes": true,
           "showland": true,
           "subunitcolor": "white"
          },
          "hoverlabel": {
           "align": "left"
          },
          "hovermode": "closest",
          "mapbox": {
           "style": "light"
          },
          "paper_bgcolor": "white",
          "plot_bgcolor": "#E5ECF6",
          "polar": {
           "angularaxis": {
            "gridcolor": "white",
            "linecolor": "white",
            "ticks": ""
           },
           "bgcolor": "#E5ECF6",
           "radialaxis": {
            "gridcolor": "white",
            "linecolor": "white",
            "ticks": ""
           }
          },
          "scene": {
           "xaxis": {
            "backgroundcolor": "#E5ECF6",
            "gridcolor": "white",
            "gridwidth": 2,
            "linecolor": "white",
            "showbackground": true,
            "ticks": "",
            "zerolinecolor": "white"
           },
           "yaxis": {
            "backgroundcolor": "#E5ECF6",
            "gridcolor": "white",
            "gridwidth": 2,
            "linecolor": "white",
            "showbackground": true,
            "ticks": "",
            "zerolinecolor": "white"
           },
           "zaxis": {
            "backgroundcolor": "#E5ECF6",
            "gridcolor": "white",
            "gridwidth": 2,
            "linecolor": "white",
            "showbackground": true,
            "ticks": "",
            "zerolinecolor": "white"
           }
          },
          "shapedefaults": {
           "line": {
            "color": "#2a3f5f"
           }
          },
          "ternary": {
           "aaxis": {
            "gridcolor": "white",
            "linecolor": "white",
            "ticks": ""
           },
           "baxis": {
            "gridcolor": "white",
            "linecolor": "white",
            "ticks": ""
           },
           "bgcolor": "#E5ECF6",
           "caxis": {
            "gridcolor": "white",
            "linecolor": "white",
            "ticks": ""
           }
          },
          "title": {
           "x": 0.05
          },
          "xaxis": {
           "automargin": true,
           "gridcolor": "white",
           "linecolor": "white",
           "ticks": "",
           "title": {
            "standoff": 15
           },
           "zerolinecolor": "white",
           "zerolinewidth": 2
          },
          "yaxis": {
           "automargin": true,
           "gridcolor": "white",
           "linecolor": "white",
           "ticks": "",
           "title": {
            "standoff": 15
           },
           "zerolinecolor": "white",
           "zerolinewidth": 2
          }
         }
        },
        "title": {
         "text": "How much farther compared to optimized route"
        },
        "xaxis": {
         "anchor": "y",
         "domain": [
          0,
          1
         ],
         "tickangle": -45,
         "title": {
          "text": "Route Name"
         }
        },
        "yaxis": {
         "anchor": "x",
         "domain": [
          0,
          1
         ],
         "title": {
          "text": "Distance Difference (Miles)"
         }
        }
       }
      },
      "text/html": [
       "<div>                            <div id=\"d5299d3c-3a01-4683-8222-710d6bb4b290\" class=\"plotly-graph-div\" style=\"height:525px; width:100%;\"></div>            <script type=\"text/javascript\">                require([\"plotly\"], function(Plotly) {                    window.PLOTLYENV=window.PLOTLYENV || {};                                    if (document.getElementById(\"d5299d3c-3a01-4683-8222-710d6bb4b290\")) {                    Plotly.newPlot(                        \"d5299d3c-3a01-4683-8222-710d6bb4b290\",                        [{\"alignmentgroup\":\"True\",\"hovertemplate\":\"Route Optimization=NN_Distance_Diff<br>Route=%{x}<br>Distance Difference (Miles)=%{y}<extra></extra>\",\"legendgroup\":\"NN_Distance_Diff\",\"marker\":{\"color\":\"#636efa\",\"pattern\":{\"shape\":\"\"}},\"name\":\"NN_Distance_Diff\",\"offsetgroup\":\"NN_Distance_Diff\",\"orientation\":\"v\",\"showlegend\":true,\"textposition\":\"auto\",\"x\":[\"Midtown Arthouse\",\"Midtown Indigo\",\"Midtown Highline\",\"Midtown Virgin\"],\"xaxis\":\"x\",\"y\":[0.5523912908400002,1.2336225591400005,0.8562795213300003,1.0154927664700004],\"yaxis\":\"y\",\"type\":\"bar\"},{\"alignmentgroup\":\"True\",\"hovertemplate\":\"Route Optimization=Random_Distance_Diff<br>Route=%{x}<br>Distance Difference (Miles)=%{y}<extra></extra>\",\"legendgroup\":\"Random_Distance_Diff\",\"marker\":{\"color\":\"#EF553B\",\"pattern\":{\"shape\":\"\"}},\"name\":\"Random_Distance_Diff\",\"offsetgroup\":\"Random_Distance_Diff\",\"orientation\":\"v\",\"showlegend\":true,\"textposition\":\"auto\",\"x\":[\"Midtown Arthouse\",\"Midtown Indigo\",\"Midtown Highline\",\"Midtown Virgin\"],\"xaxis\":\"x\",\"y\":[2.8993,0.8339000000000008,0.32430000000000003,2.014900000000001],\"yaxis\":\"y\",\"type\":\"bar\"}],                        {\"template\":{\"data\":{\"histogram2dcontour\":[{\"type\":\"histogram2dcontour\",\"colorbar\":{\"outlinewidth\":0,\"ticks\":\"\"},\"colorscale\":[[0.0,\"#0d0887\"],[0.1111111111111111,\"#46039f\"],[0.2222222222222222,\"#7201a8\"],[0.3333333333333333,\"#9c179e\"],[0.4444444444444444,\"#bd3786\"],[0.5555555555555556,\"#d8576b\"],[0.6666666666666666,\"#ed7953\"],[0.7777777777777778,\"#fb9f3a\"],[0.8888888888888888,\"#fdca26\"],[1.0,\"#f0f921\"]]}],\"choropleth\":[{\"type\":\"choropleth\",\"colorbar\":{\"outlinewidth\":0,\"ticks\":\"\"}}],\"histogram2d\":[{\"type\":\"histogram2d\",\"colorbar\":{\"outlinewidth\":0,\"ticks\":\"\"},\"colorscale\":[[0.0,\"#0d0887\"],[0.1111111111111111,\"#46039f\"],[0.2222222222222222,\"#7201a8\"],[0.3333333333333333,\"#9c179e\"],[0.4444444444444444,\"#bd3786\"],[0.5555555555555556,\"#d8576b\"],[0.6666666666666666,\"#ed7953\"],[0.7777777777777778,\"#fb9f3a\"],[0.8888888888888888,\"#fdca26\"],[1.0,\"#f0f921\"]]}],\"heatmap\":[{\"type\":\"heatmap\",\"colorbar\":{\"outlinewidth\":0,\"ticks\":\"\"},\"colorscale\":[[0.0,\"#0d0887\"],[0.1111111111111111,\"#46039f\"],[0.2222222222222222,\"#7201a8\"],[0.3333333333333333,\"#9c179e\"],[0.4444444444444444,\"#bd3786\"],[0.5555555555555556,\"#d8576b\"],[0.6666666666666666,\"#ed7953\"],[0.7777777777777778,\"#fb9f3a\"],[0.8888888888888888,\"#fdca26\"],[1.0,\"#f0f921\"]]}],\"heatmapgl\":[{\"type\":\"heatmapgl\",\"colorbar\":{\"outlinewidth\":0,\"ticks\":\"\"},\"colorscale\":[[0.0,\"#0d0887\"],[0.1111111111111111,\"#46039f\"],[0.2222222222222222,\"#7201a8\"],[0.3333333333333333,\"#9c179e\"],[0.4444444444444444,\"#bd3786\"],[0.5555555555555556,\"#d8576b\"],[0.6666666666666666,\"#ed7953\"],[0.7777777777777778,\"#fb9f3a\"],[0.8888888888888888,\"#fdca26\"],[1.0,\"#f0f921\"]]}],\"contourcarpet\":[{\"type\":\"contourcarpet\",\"colorbar\":{\"outlinewidth\":0,\"ticks\":\"\"}}],\"contour\":[{\"type\":\"contour\",\"colorbar\":{\"outlinewidth\":0,\"ticks\":\"\"},\"colorscale\":[[0.0,\"#0d0887\"],[0.1111111111111111,\"#46039f\"],[0.2222222222222222,\"#7201a8\"],[0.3333333333333333,\"#9c179e\"],[0.4444444444444444,\"#bd3786\"],[0.5555555555555556,\"#d8576b\"],[0.6666666666666666,\"#ed7953\"],[0.7777777777777778,\"#fb9f3a\"],[0.8888888888888888,\"#fdca26\"],[1.0,\"#f0f921\"]]}],\"surface\":[{\"type\":\"surface\",\"colorbar\":{\"outlinewidth\":0,\"ticks\":\"\"},\"colorscale\":[[0.0,\"#0d0887\"],[0.1111111111111111,\"#46039f\"],[0.2222222222222222,\"#7201a8\"],[0.3333333333333333,\"#9c179e\"],[0.4444444444444444,\"#bd3786\"],[0.5555555555555556,\"#d8576b\"],[0.6666666666666666,\"#ed7953\"],[0.7777777777777778,\"#fb9f3a\"],[0.8888888888888888,\"#fdca26\"],[1.0,\"#f0f921\"]]}],\"mesh3d\":[{\"type\":\"mesh3d\",\"colorbar\":{\"outlinewidth\":0,\"ticks\":\"\"}}],\"scatter\":[{\"fillpattern\":{\"fillmode\":\"overlay\",\"size\":10,\"solidity\":0.2},\"type\":\"scatter\"}],\"parcoords\":[{\"type\":\"parcoords\",\"line\":{\"colorbar\":{\"outlinewidth\":0,\"ticks\":\"\"}}}],\"scatterpolargl\":[{\"type\":\"scatterpolargl\",\"marker\":{\"colorbar\":{\"outlinewidth\":0,\"ticks\":\"\"}}}],\"bar\":[{\"error_x\":{\"color\":\"#2a3f5f\"},\"error_y\":{\"color\":\"#2a3f5f\"},\"marker\":{\"line\":{\"color\":\"#E5ECF6\",\"width\":0.5},\"pattern\":{\"fillmode\":\"overlay\",\"size\":10,\"solidity\":0.2}},\"type\":\"bar\"}],\"scattergeo\":[{\"type\":\"scattergeo\",\"marker\":{\"colorbar\":{\"outlinewidth\":0,\"ticks\":\"\"}}}],\"scatterpolar\":[{\"type\":\"scatterpolar\",\"marker\":{\"colorbar\":{\"outlinewidth\":0,\"ticks\":\"\"}}}],\"histogram\":[{\"marker\":{\"pattern\":{\"fillmode\":\"overlay\",\"size\":10,\"solidity\":0.2}},\"type\":\"histogram\"}],\"scattergl\":[{\"type\":\"scattergl\",\"marker\":{\"colorbar\":{\"outlinewidth\":0,\"ticks\":\"\"}}}],\"scatter3d\":[{\"type\":\"scatter3d\",\"line\":{\"colorbar\":{\"outlinewidth\":0,\"ticks\":\"\"}},\"marker\":{\"colorbar\":{\"outlinewidth\":0,\"ticks\":\"\"}}}],\"scattermapbox\":[{\"type\":\"scattermapbox\",\"marker\":{\"colorbar\":{\"outlinewidth\":0,\"ticks\":\"\"}}}],\"scatterternary\":[{\"type\":\"scatterternary\",\"marker\":{\"colorbar\":{\"outlinewidth\":0,\"ticks\":\"\"}}}],\"scattercarpet\":[{\"type\":\"scattercarpet\",\"marker\":{\"colorbar\":{\"outlinewidth\":0,\"ticks\":\"\"}}}],\"carpet\":[{\"aaxis\":{\"endlinecolor\":\"#2a3f5f\",\"gridcolor\":\"white\",\"linecolor\":\"white\",\"minorgridcolor\":\"white\",\"startlinecolor\":\"#2a3f5f\"},\"baxis\":{\"endlinecolor\":\"#2a3f5f\",\"gridcolor\":\"white\",\"linecolor\":\"white\",\"minorgridcolor\":\"white\",\"startlinecolor\":\"#2a3f5f\"},\"type\":\"carpet\"}],\"table\":[{\"cells\":{\"fill\":{\"color\":\"#EBF0F8\"},\"line\":{\"color\":\"white\"}},\"header\":{\"fill\":{\"color\":\"#C8D4E3\"},\"line\":{\"color\":\"white\"}},\"type\":\"table\"}],\"barpolar\":[{\"marker\":{\"line\":{\"color\":\"#E5ECF6\",\"width\":0.5},\"pattern\":{\"fillmode\":\"overlay\",\"size\":10,\"solidity\":0.2}},\"type\":\"barpolar\"}],\"pie\":[{\"automargin\":true,\"type\":\"pie\"}]},\"layout\":{\"autotypenumbers\":\"strict\",\"colorway\":[\"#636efa\",\"#EF553B\",\"#00cc96\",\"#ab63fa\",\"#FFA15A\",\"#19d3f3\",\"#FF6692\",\"#B6E880\",\"#FF97FF\",\"#FECB52\"],\"font\":{\"color\":\"#2a3f5f\"},\"hovermode\":\"closest\",\"hoverlabel\":{\"align\":\"left\"},\"paper_bgcolor\":\"white\",\"plot_bgcolor\":\"#E5ECF6\",\"polar\":{\"bgcolor\":\"#E5ECF6\",\"angularaxis\":{\"gridcolor\":\"white\",\"linecolor\":\"white\",\"ticks\":\"\"},\"radialaxis\":{\"gridcolor\":\"white\",\"linecolor\":\"white\",\"ticks\":\"\"}},\"ternary\":{\"bgcolor\":\"#E5ECF6\",\"aaxis\":{\"gridcolor\":\"white\",\"linecolor\":\"white\",\"ticks\":\"\"},\"baxis\":{\"gridcolor\":\"white\",\"linecolor\":\"white\",\"ticks\":\"\"},\"caxis\":{\"gridcolor\":\"white\",\"linecolor\":\"white\",\"ticks\":\"\"}},\"coloraxis\":{\"colorbar\":{\"outlinewidth\":0,\"ticks\":\"\"}},\"colorscale\":{\"sequential\":[[0.0,\"#0d0887\"],[0.1111111111111111,\"#46039f\"],[0.2222222222222222,\"#7201a8\"],[0.3333333333333333,\"#9c179e\"],[0.4444444444444444,\"#bd3786\"],[0.5555555555555556,\"#d8576b\"],[0.6666666666666666,\"#ed7953\"],[0.7777777777777778,\"#fb9f3a\"],[0.8888888888888888,\"#fdca26\"],[1.0,\"#f0f921\"]],\"sequentialminus\":[[0.0,\"#0d0887\"],[0.1111111111111111,\"#46039f\"],[0.2222222222222222,\"#7201a8\"],[0.3333333333333333,\"#9c179e\"],[0.4444444444444444,\"#bd3786\"],[0.5555555555555556,\"#d8576b\"],[0.6666666666666666,\"#ed7953\"],[0.7777777777777778,\"#fb9f3a\"],[0.8888888888888888,\"#fdca26\"],[1.0,\"#f0f921\"]],\"diverging\":[[0,\"#8e0152\"],[0.1,\"#c51b7d\"],[0.2,\"#de77ae\"],[0.3,\"#f1b6da\"],[0.4,\"#fde0ef\"],[0.5,\"#f7f7f7\"],[0.6,\"#e6f5d0\"],[0.7,\"#b8e186\"],[0.8,\"#7fbc41\"],[0.9,\"#4d9221\"],[1,\"#276419\"]]},\"xaxis\":{\"gridcolor\":\"white\",\"linecolor\":\"white\",\"ticks\":\"\",\"title\":{\"standoff\":15},\"zerolinecolor\":\"white\",\"automargin\":true,\"zerolinewidth\":2},\"yaxis\":{\"gridcolor\":\"white\",\"linecolor\":\"white\",\"ticks\":\"\",\"title\":{\"standoff\":15},\"zerolinecolor\":\"white\",\"automargin\":true,\"zerolinewidth\":2},\"scene\":{\"xaxis\":{\"backgroundcolor\":\"#E5ECF6\",\"gridcolor\":\"white\",\"linecolor\":\"white\",\"showbackground\":true,\"ticks\":\"\",\"zerolinecolor\":\"white\",\"gridwidth\":2},\"yaxis\":{\"backgroundcolor\":\"#E5ECF6\",\"gridcolor\":\"white\",\"linecolor\":\"white\",\"showbackground\":true,\"ticks\":\"\",\"zerolinecolor\":\"white\",\"gridwidth\":2},\"zaxis\":{\"backgroundcolor\":\"#E5ECF6\",\"gridcolor\":\"white\",\"linecolor\":\"white\",\"showbackground\":true,\"ticks\":\"\",\"zerolinecolor\":\"white\",\"gridwidth\":2}},\"shapedefaults\":{\"line\":{\"color\":\"#2a3f5f\"}},\"annotationdefaults\":{\"arrowcolor\":\"#2a3f5f\",\"arrowhead\":0,\"arrowwidth\":1},\"geo\":{\"bgcolor\":\"white\",\"landcolor\":\"#E5ECF6\",\"subunitcolor\":\"white\",\"showland\":true,\"showlakes\":true,\"lakecolor\":\"white\"},\"title\":{\"x\":0.05},\"mapbox\":{\"style\":\"light\"}}},\"xaxis\":{\"anchor\":\"y\",\"domain\":[0.0,1.0],\"title\":{\"text\":\"Route Name\"},\"tickangle\":-45},\"yaxis\":{\"anchor\":\"x\",\"domain\":[0.0,1.0],\"title\":{\"text\":\"Distance Difference (Miles)\"}},\"legend\":{\"title\":{\"text\":\"Route Optimization\"},\"tracegroupgap\":0},\"title\":{\"text\":\"How much farther compared to optimized route\"},\"barmode\":\"group\"},                        {\"responsive\": true}                    ).then(function(){\n",
       "                            \n",
       "var gd = document.getElementById('d5299d3c-3a01-4683-8222-710d6bb4b290');\n",
       "var x = new MutationObserver(function (mutations, observer) {{\n",
       "        var display = window.getComputedStyle(gd).display;\n",
       "        if (!display || display === 'none') {{\n",
       "            console.log([gd, 'removed!']);\n",
       "            Plotly.purge(gd);\n",
       "            observer.disconnect();\n",
       "        }}\n",
       "}});\n",
       "\n",
       "// Listen for the removal of the full notebook cells\n",
       "var notebookContainer = gd.closest('#notebook-container');\n",
       "if (notebookContainer) {{\n",
       "    x.observe(notebookContainer, {childList: true});\n",
       "}}\n",
       "\n",
       "// Listen for the clearing of the current output cell\n",
       "var outputEl = gd.closest('.output');\n",
       "if (outputEl) {{\n",
       "    x.observe(outputEl, {childList: true});\n",
       "}}\n",
       "\n",
       "                        })                };                });            </script>        </div>"
      ]
     },
     "metadata": {},
     "output_type": "display_data"
    },
    {
     "data": {
      "application/vnd.plotly.v1+json": {
       "config": {
        "plotlyServerURL": "https://plot.ly"
       },
       "data": [
        {
         "alignmentgroup": "True",
         "hovertemplate": "Route Optimization=NN_Distance_Diff<br>Route=%{x}<br>Distance Difference (Miles)=%{y}<extra></extra>",
         "legendgroup": "NN_Distance_Diff",
         "marker": {
          "color": "#636efa",
          "pattern": {
           "shape": ""
          }
         },
         "name": "NN_Distance_Diff",
         "offsetgroup": "NN_Distance_Diff",
         "orientation": "v",
         "showlegend": true,
         "textposition": "auto",
         "type": "bar",
         "x": [
          "Food Arthouse",
          "Food Indigo",
          "Food Highline",
          "Food Virgin"
         ],
         "xaxis": "x",
         "y": [
          0.42900306879000105,
          1.76977183094,
          1.3056632528099996,
          0.38854023935999926
         ],
         "yaxis": "y"
        },
        {
         "alignmentgroup": "True",
         "hovertemplate": "Route Optimization=Random_Distance_Diff<br>Route=%{x}<br>Distance Difference (Miles)=%{y}<extra></extra>",
         "legendgroup": "Random_Distance_Diff",
         "marker": {
          "color": "#EF553B",
          "pattern": {
           "shape": ""
          }
         },
         "name": "Random_Distance_Diff",
         "offsetgroup": "Random_Distance_Diff",
         "orientation": "v",
         "showlegend": true,
         "textposition": "auto",
         "type": "bar",
         "x": [
          "Food Arthouse",
          "Food Indigo",
          "Food Highline",
          "Food Virgin"
         ],
         "xaxis": "x",
         "y": [
          8.269799999999998,
          8.947199999999999,
          5.373100000000001,
          4.5212
         ],
         "yaxis": "y"
        }
       ],
       "layout": {
        "barmode": "group",
        "legend": {
         "title": {
          "text": "Route Optimization"
         },
         "tracegroupgap": 0
        },
        "template": {
         "data": {
          "bar": [
           {
            "error_x": {
             "color": "#2a3f5f"
            },
            "error_y": {
             "color": "#2a3f5f"
            },
            "marker": {
             "line": {
              "color": "#E5ECF6",
              "width": 0.5
             },
             "pattern": {
              "fillmode": "overlay",
              "size": 10,
              "solidity": 0.2
             }
            },
            "type": "bar"
           }
          ],
          "barpolar": [
           {
            "marker": {
             "line": {
              "color": "#E5ECF6",
              "width": 0.5
             },
             "pattern": {
              "fillmode": "overlay",
              "size": 10,
              "solidity": 0.2
             }
            },
            "type": "barpolar"
           }
          ],
          "carpet": [
           {
            "aaxis": {
             "endlinecolor": "#2a3f5f",
             "gridcolor": "white",
             "linecolor": "white",
             "minorgridcolor": "white",
             "startlinecolor": "#2a3f5f"
            },
            "baxis": {
             "endlinecolor": "#2a3f5f",
             "gridcolor": "white",
             "linecolor": "white",
             "minorgridcolor": "white",
             "startlinecolor": "#2a3f5f"
            },
            "type": "carpet"
           }
          ],
          "choropleth": [
           {
            "colorbar": {
             "outlinewidth": 0,
             "ticks": ""
            },
            "type": "choropleth"
           }
          ],
          "contour": [
           {
            "colorbar": {
             "outlinewidth": 0,
             "ticks": ""
            },
            "colorscale": [
             [
              0,
              "#0d0887"
             ],
             [
              0.1111111111111111,
              "#46039f"
             ],
             [
              0.2222222222222222,
              "#7201a8"
             ],
             [
              0.3333333333333333,
              "#9c179e"
             ],
             [
              0.4444444444444444,
              "#bd3786"
             ],
             [
              0.5555555555555556,
              "#d8576b"
             ],
             [
              0.6666666666666666,
              "#ed7953"
             ],
             [
              0.7777777777777778,
              "#fb9f3a"
             ],
             [
              0.8888888888888888,
              "#fdca26"
             ],
             [
              1,
              "#f0f921"
             ]
            ],
            "type": "contour"
           }
          ],
          "contourcarpet": [
           {
            "colorbar": {
             "outlinewidth": 0,
             "ticks": ""
            },
            "type": "contourcarpet"
           }
          ],
          "heatmap": [
           {
            "colorbar": {
             "outlinewidth": 0,
             "ticks": ""
            },
            "colorscale": [
             [
              0,
              "#0d0887"
             ],
             [
              0.1111111111111111,
              "#46039f"
             ],
             [
              0.2222222222222222,
              "#7201a8"
             ],
             [
              0.3333333333333333,
              "#9c179e"
             ],
             [
              0.4444444444444444,
              "#bd3786"
             ],
             [
              0.5555555555555556,
              "#d8576b"
             ],
             [
              0.6666666666666666,
              "#ed7953"
             ],
             [
              0.7777777777777778,
              "#fb9f3a"
             ],
             [
              0.8888888888888888,
              "#fdca26"
             ],
             [
              1,
              "#f0f921"
             ]
            ],
            "type": "heatmap"
           }
          ],
          "heatmapgl": [
           {
            "colorbar": {
             "outlinewidth": 0,
             "ticks": ""
            },
            "colorscale": [
             [
              0,
              "#0d0887"
             ],
             [
              0.1111111111111111,
              "#46039f"
             ],
             [
              0.2222222222222222,
              "#7201a8"
             ],
             [
              0.3333333333333333,
              "#9c179e"
             ],
             [
              0.4444444444444444,
              "#bd3786"
             ],
             [
              0.5555555555555556,
              "#d8576b"
             ],
             [
              0.6666666666666666,
              "#ed7953"
             ],
             [
              0.7777777777777778,
              "#fb9f3a"
             ],
             [
              0.8888888888888888,
              "#fdca26"
             ],
             [
              1,
              "#f0f921"
             ]
            ],
            "type": "heatmapgl"
           }
          ],
          "histogram": [
           {
            "marker": {
             "pattern": {
              "fillmode": "overlay",
              "size": 10,
              "solidity": 0.2
             }
            },
            "type": "histogram"
           }
          ],
          "histogram2d": [
           {
            "colorbar": {
             "outlinewidth": 0,
             "ticks": ""
            },
            "colorscale": [
             [
              0,
              "#0d0887"
             ],
             [
              0.1111111111111111,
              "#46039f"
             ],
             [
              0.2222222222222222,
              "#7201a8"
             ],
             [
              0.3333333333333333,
              "#9c179e"
             ],
             [
              0.4444444444444444,
              "#bd3786"
             ],
             [
              0.5555555555555556,
              "#d8576b"
             ],
             [
              0.6666666666666666,
              "#ed7953"
             ],
             [
              0.7777777777777778,
              "#fb9f3a"
             ],
             [
              0.8888888888888888,
              "#fdca26"
             ],
             [
              1,
              "#f0f921"
             ]
            ],
            "type": "histogram2d"
           }
          ],
          "histogram2dcontour": [
           {
            "colorbar": {
             "outlinewidth": 0,
             "ticks": ""
            },
            "colorscale": [
             [
              0,
              "#0d0887"
             ],
             [
              0.1111111111111111,
              "#46039f"
             ],
             [
              0.2222222222222222,
              "#7201a8"
             ],
             [
              0.3333333333333333,
              "#9c179e"
             ],
             [
              0.4444444444444444,
              "#bd3786"
             ],
             [
              0.5555555555555556,
              "#d8576b"
             ],
             [
              0.6666666666666666,
              "#ed7953"
             ],
             [
              0.7777777777777778,
              "#fb9f3a"
             ],
             [
              0.8888888888888888,
              "#fdca26"
             ],
             [
              1,
              "#f0f921"
             ]
            ],
            "type": "histogram2dcontour"
           }
          ],
          "mesh3d": [
           {
            "colorbar": {
             "outlinewidth": 0,
             "ticks": ""
            },
            "type": "mesh3d"
           }
          ],
          "parcoords": [
           {
            "line": {
             "colorbar": {
              "outlinewidth": 0,
              "ticks": ""
             }
            },
            "type": "parcoords"
           }
          ],
          "pie": [
           {
            "automargin": true,
            "type": "pie"
           }
          ],
          "scatter": [
           {
            "fillpattern": {
             "fillmode": "overlay",
             "size": 10,
             "solidity": 0.2
            },
            "type": "scatter"
           }
          ],
          "scatter3d": [
           {
            "line": {
             "colorbar": {
              "outlinewidth": 0,
              "ticks": ""
             }
            },
            "marker": {
             "colorbar": {
              "outlinewidth": 0,
              "ticks": ""
             }
            },
            "type": "scatter3d"
           }
          ],
          "scattercarpet": [
           {
            "marker": {
             "colorbar": {
              "outlinewidth": 0,
              "ticks": ""
             }
            },
            "type": "scattercarpet"
           }
          ],
          "scattergeo": [
           {
            "marker": {
             "colorbar": {
              "outlinewidth": 0,
              "ticks": ""
             }
            },
            "type": "scattergeo"
           }
          ],
          "scattergl": [
           {
            "marker": {
             "colorbar": {
              "outlinewidth": 0,
              "ticks": ""
             }
            },
            "type": "scattergl"
           }
          ],
          "scattermapbox": [
           {
            "marker": {
             "colorbar": {
              "outlinewidth": 0,
              "ticks": ""
             }
            },
            "type": "scattermapbox"
           }
          ],
          "scatterpolar": [
           {
            "marker": {
             "colorbar": {
              "outlinewidth": 0,
              "ticks": ""
             }
            },
            "type": "scatterpolar"
           }
          ],
          "scatterpolargl": [
           {
            "marker": {
             "colorbar": {
              "outlinewidth": 0,
              "ticks": ""
             }
            },
            "type": "scatterpolargl"
           }
          ],
          "scatterternary": [
           {
            "marker": {
             "colorbar": {
              "outlinewidth": 0,
              "ticks": ""
             }
            },
            "type": "scatterternary"
           }
          ],
          "surface": [
           {
            "colorbar": {
             "outlinewidth": 0,
             "ticks": ""
            },
            "colorscale": [
             [
              0,
              "#0d0887"
             ],
             [
              0.1111111111111111,
              "#46039f"
             ],
             [
              0.2222222222222222,
              "#7201a8"
             ],
             [
              0.3333333333333333,
              "#9c179e"
             ],
             [
              0.4444444444444444,
              "#bd3786"
             ],
             [
              0.5555555555555556,
              "#d8576b"
             ],
             [
              0.6666666666666666,
              "#ed7953"
             ],
             [
              0.7777777777777778,
              "#fb9f3a"
             ],
             [
              0.8888888888888888,
              "#fdca26"
             ],
             [
              1,
              "#f0f921"
             ]
            ],
            "type": "surface"
           }
          ],
          "table": [
           {
            "cells": {
             "fill": {
              "color": "#EBF0F8"
             },
             "line": {
              "color": "white"
             }
            },
            "header": {
             "fill": {
              "color": "#C8D4E3"
             },
             "line": {
              "color": "white"
             }
            },
            "type": "table"
           }
          ]
         },
         "layout": {
          "annotationdefaults": {
           "arrowcolor": "#2a3f5f",
           "arrowhead": 0,
           "arrowwidth": 1
          },
          "autotypenumbers": "strict",
          "coloraxis": {
           "colorbar": {
            "outlinewidth": 0,
            "ticks": ""
           }
          },
          "colorscale": {
           "diverging": [
            [
             0,
             "#8e0152"
            ],
            [
             0.1,
             "#c51b7d"
            ],
            [
             0.2,
             "#de77ae"
            ],
            [
             0.3,
             "#f1b6da"
            ],
            [
             0.4,
             "#fde0ef"
            ],
            [
             0.5,
             "#f7f7f7"
            ],
            [
             0.6,
             "#e6f5d0"
            ],
            [
             0.7,
             "#b8e186"
            ],
            [
             0.8,
             "#7fbc41"
            ],
            [
             0.9,
             "#4d9221"
            ],
            [
             1,
             "#276419"
            ]
           ],
           "sequential": [
            [
             0,
             "#0d0887"
            ],
            [
             0.1111111111111111,
             "#46039f"
            ],
            [
             0.2222222222222222,
             "#7201a8"
            ],
            [
             0.3333333333333333,
             "#9c179e"
            ],
            [
             0.4444444444444444,
             "#bd3786"
            ],
            [
             0.5555555555555556,
             "#d8576b"
            ],
            [
             0.6666666666666666,
             "#ed7953"
            ],
            [
             0.7777777777777778,
             "#fb9f3a"
            ],
            [
             0.8888888888888888,
             "#fdca26"
            ],
            [
             1,
             "#f0f921"
            ]
           ],
           "sequentialminus": [
            [
             0,
             "#0d0887"
            ],
            [
             0.1111111111111111,
             "#46039f"
            ],
            [
             0.2222222222222222,
             "#7201a8"
            ],
            [
             0.3333333333333333,
             "#9c179e"
            ],
            [
             0.4444444444444444,
             "#bd3786"
            ],
            [
             0.5555555555555556,
             "#d8576b"
            ],
            [
             0.6666666666666666,
             "#ed7953"
            ],
            [
             0.7777777777777778,
             "#fb9f3a"
            ],
            [
             0.8888888888888888,
             "#fdca26"
            ],
            [
             1,
             "#f0f921"
            ]
           ]
          },
          "colorway": [
           "#636efa",
           "#EF553B",
           "#00cc96",
           "#ab63fa",
           "#FFA15A",
           "#19d3f3",
           "#FF6692",
           "#B6E880",
           "#FF97FF",
           "#FECB52"
          ],
          "font": {
           "color": "#2a3f5f"
          },
          "geo": {
           "bgcolor": "white",
           "lakecolor": "white",
           "landcolor": "#E5ECF6",
           "showlakes": true,
           "showland": true,
           "subunitcolor": "white"
          },
          "hoverlabel": {
           "align": "left"
          },
          "hovermode": "closest",
          "mapbox": {
           "style": "light"
          },
          "paper_bgcolor": "white",
          "plot_bgcolor": "#E5ECF6",
          "polar": {
           "angularaxis": {
            "gridcolor": "white",
            "linecolor": "white",
            "ticks": ""
           },
           "bgcolor": "#E5ECF6",
           "radialaxis": {
            "gridcolor": "white",
            "linecolor": "white",
            "ticks": ""
           }
          },
          "scene": {
           "xaxis": {
            "backgroundcolor": "#E5ECF6",
            "gridcolor": "white",
            "gridwidth": 2,
            "linecolor": "white",
            "showbackground": true,
            "ticks": "",
            "zerolinecolor": "white"
           },
           "yaxis": {
            "backgroundcolor": "#E5ECF6",
            "gridcolor": "white",
            "gridwidth": 2,
            "linecolor": "white",
            "showbackground": true,
            "ticks": "",
            "zerolinecolor": "white"
           },
           "zaxis": {
            "backgroundcolor": "#E5ECF6",
            "gridcolor": "white",
            "gridwidth": 2,
            "linecolor": "white",
            "showbackground": true,
            "ticks": "",
            "zerolinecolor": "white"
           }
          },
          "shapedefaults": {
           "line": {
            "color": "#2a3f5f"
           }
          },
          "ternary": {
           "aaxis": {
            "gridcolor": "white",
            "linecolor": "white",
            "ticks": ""
           },
           "baxis": {
            "gridcolor": "white",
            "linecolor": "white",
            "ticks": ""
           },
           "bgcolor": "#E5ECF6",
           "caxis": {
            "gridcolor": "white",
            "linecolor": "white",
            "ticks": ""
           }
          },
          "title": {
           "x": 0.05
          },
          "xaxis": {
           "automargin": true,
           "gridcolor": "white",
           "linecolor": "white",
           "ticks": "",
           "title": {
            "standoff": 15
           },
           "zerolinecolor": "white",
           "zerolinewidth": 2
          },
          "yaxis": {
           "automargin": true,
           "gridcolor": "white",
           "linecolor": "white",
           "ticks": "",
           "title": {
            "standoff": 15
           },
           "zerolinecolor": "white",
           "zerolinewidth": 2
          }
         }
        },
        "title": {
         "text": "How much farther compared to optimized route"
        },
        "xaxis": {
         "anchor": "y",
         "domain": [
          0,
          1
         ],
         "tickangle": -45,
         "title": {
          "text": "Route Name"
         }
        },
        "yaxis": {
         "anchor": "x",
         "domain": [
          0,
          1
         ],
         "title": {
          "text": "Distance Difference (Miles)"
         }
        }
       }
      },
      "text/html": [
       "<div>                            <div id=\"f436fc30-b23d-4f65-9cd5-c60c0d4f4d7b\" class=\"plotly-graph-div\" style=\"height:525px; width:100%;\"></div>            <script type=\"text/javascript\">                require([\"plotly\"], function(Plotly) {                    window.PLOTLYENV=window.PLOTLYENV || {};                                    if (document.getElementById(\"f436fc30-b23d-4f65-9cd5-c60c0d4f4d7b\")) {                    Plotly.newPlot(                        \"f436fc30-b23d-4f65-9cd5-c60c0d4f4d7b\",                        [{\"alignmentgroup\":\"True\",\"hovertemplate\":\"Route Optimization=NN_Distance_Diff<br>Route=%{x}<br>Distance Difference (Miles)=%{y}<extra></extra>\",\"legendgroup\":\"NN_Distance_Diff\",\"marker\":{\"color\":\"#636efa\",\"pattern\":{\"shape\":\"\"}},\"name\":\"NN_Distance_Diff\",\"offsetgroup\":\"NN_Distance_Diff\",\"orientation\":\"v\",\"showlegend\":true,\"textposition\":\"auto\",\"x\":[\"Food Arthouse\",\"Food Indigo\",\"Food Highline\",\"Food Virgin\"],\"xaxis\":\"x\",\"y\":[0.42900306879000105,1.76977183094,1.3056632528099996,0.38854023935999926],\"yaxis\":\"y\",\"type\":\"bar\"},{\"alignmentgroup\":\"True\",\"hovertemplate\":\"Route Optimization=Random_Distance_Diff<br>Route=%{x}<br>Distance Difference (Miles)=%{y}<extra></extra>\",\"legendgroup\":\"Random_Distance_Diff\",\"marker\":{\"color\":\"#EF553B\",\"pattern\":{\"shape\":\"\"}},\"name\":\"Random_Distance_Diff\",\"offsetgroup\":\"Random_Distance_Diff\",\"orientation\":\"v\",\"showlegend\":true,\"textposition\":\"auto\",\"x\":[\"Food Arthouse\",\"Food Indigo\",\"Food Highline\",\"Food Virgin\"],\"xaxis\":\"x\",\"y\":[8.269799999999998,8.947199999999999,5.373100000000001,4.5212],\"yaxis\":\"y\",\"type\":\"bar\"}],                        {\"template\":{\"data\":{\"histogram2dcontour\":[{\"type\":\"histogram2dcontour\",\"colorbar\":{\"outlinewidth\":0,\"ticks\":\"\"},\"colorscale\":[[0.0,\"#0d0887\"],[0.1111111111111111,\"#46039f\"],[0.2222222222222222,\"#7201a8\"],[0.3333333333333333,\"#9c179e\"],[0.4444444444444444,\"#bd3786\"],[0.5555555555555556,\"#d8576b\"],[0.6666666666666666,\"#ed7953\"],[0.7777777777777778,\"#fb9f3a\"],[0.8888888888888888,\"#fdca26\"],[1.0,\"#f0f921\"]]}],\"choropleth\":[{\"type\":\"choropleth\",\"colorbar\":{\"outlinewidth\":0,\"ticks\":\"\"}}],\"histogram2d\":[{\"type\":\"histogram2d\",\"colorbar\":{\"outlinewidth\":0,\"ticks\":\"\"},\"colorscale\":[[0.0,\"#0d0887\"],[0.1111111111111111,\"#46039f\"],[0.2222222222222222,\"#7201a8\"],[0.3333333333333333,\"#9c179e\"],[0.4444444444444444,\"#bd3786\"],[0.5555555555555556,\"#d8576b\"],[0.6666666666666666,\"#ed7953\"],[0.7777777777777778,\"#fb9f3a\"],[0.8888888888888888,\"#fdca26\"],[1.0,\"#f0f921\"]]}],\"heatmap\":[{\"type\":\"heatmap\",\"colorbar\":{\"outlinewidth\":0,\"ticks\":\"\"},\"colorscale\":[[0.0,\"#0d0887\"],[0.1111111111111111,\"#46039f\"],[0.2222222222222222,\"#7201a8\"],[0.3333333333333333,\"#9c179e\"],[0.4444444444444444,\"#bd3786\"],[0.5555555555555556,\"#d8576b\"],[0.6666666666666666,\"#ed7953\"],[0.7777777777777778,\"#fb9f3a\"],[0.8888888888888888,\"#fdca26\"],[1.0,\"#f0f921\"]]}],\"heatmapgl\":[{\"type\":\"heatmapgl\",\"colorbar\":{\"outlinewidth\":0,\"ticks\":\"\"},\"colorscale\":[[0.0,\"#0d0887\"],[0.1111111111111111,\"#46039f\"],[0.2222222222222222,\"#7201a8\"],[0.3333333333333333,\"#9c179e\"],[0.4444444444444444,\"#bd3786\"],[0.5555555555555556,\"#d8576b\"],[0.6666666666666666,\"#ed7953\"],[0.7777777777777778,\"#fb9f3a\"],[0.8888888888888888,\"#fdca26\"],[1.0,\"#f0f921\"]]}],\"contourcarpet\":[{\"type\":\"contourcarpet\",\"colorbar\":{\"outlinewidth\":0,\"ticks\":\"\"}}],\"contour\":[{\"type\":\"contour\",\"colorbar\":{\"outlinewidth\":0,\"ticks\":\"\"},\"colorscale\":[[0.0,\"#0d0887\"],[0.1111111111111111,\"#46039f\"],[0.2222222222222222,\"#7201a8\"],[0.3333333333333333,\"#9c179e\"],[0.4444444444444444,\"#bd3786\"],[0.5555555555555556,\"#d8576b\"],[0.6666666666666666,\"#ed7953\"],[0.7777777777777778,\"#fb9f3a\"],[0.8888888888888888,\"#fdca26\"],[1.0,\"#f0f921\"]]}],\"surface\":[{\"type\":\"surface\",\"colorbar\":{\"outlinewidth\":0,\"ticks\":\"\"},\"colorscale\":[[0.0,\"#0d0887\"],[0.1111111111111111,\"#46039f\"],[0.2222222222222222,\"#7201a8\"],[0.3333333333333333,\"#9c179e\"],[0.4444444444444444,\"#bd3786\"],[0.5555555555555556,\"#d8576b\"],[0.6666666666666666,\"#ed7953\"],[0.7777777777777778,\"#fb9f3a\"],[0.8888888888888888,\"#fdca26\"],[1.0,\"#f0f921\"]]}],\"mesh3d\":[{\"type\":\"mesh3d\",\"colorbar\":{\"outlinewidth\":0,\"ticks\":\"\"}}],\"scatter\":[{\"fillpattern\":{\"fillmode\":\"overlay\",\"size\":10,\"solidity\":0.2},\"type\":\"scatter\"}],\"parcoords\":[{\"type\":\"parcoords\",\"line\":{\"colorbar\":{\"outlinewidth\":0,\"ticks\":\"\"}}}],\"scatterpolargl\":[{\"type\":\"scatterpolargl\",\"marker\":{\"colorbar\":{\"outlinewidth\":0,\"ticks\":\"\"}}}],\"bar\":[{\"error_x\":{\"color\":\"#2a3f5f\"},\"error_y\":{\"color\":\"#2a3f5f\"},\"marker\":{\"line\":{\"color\":\"#E5ECF6\",\"width\":0.5},\"pattern\":{\"fillmode\":\"overlay\",\"size\":10,\"solidity\":0.2}},\"type\":\"bar\"}],\"scattergeo\":[{\"type\":\"scattergeo\",\"marker\":{\"colorbar\":{\"outlinewidth\":0,\"ticks\":\"\"}}}],\"scatterpolar\":[{\"type\":\"scatterpolar\",\"marker\":{\"colorbar\":{\"outlinewidth\":0,\"ticks\":\"\"}}}],\"histogram\":[{\"marker\":{\"pattern\":{\"fillmode\":\"overlay\",\"size\":10,\"solidity\":0.2}},\"type\":\"histogram\"}],\"scattergl\":[{\"type\":\"scattergl\",\"marker\":{\"colorbar\":{\"outlinewidth\":0,\"ticks\":\"\"}}}],\"scatter3d\":[{\"type\":\"scatter3d\",\"line\":{\"colorbar\":{\"outlinewidth\":0,\"ticks\":\"\"}},\"marker\":{\"colorbar\":{\"outlinewidth\":0,\"ticks\":\"\"}}}],\"scattermapbox\":[{\"type\":\"scattermapbox\",\"marker\":{\"colorbar\":{\"outlinewidth\":0,\"ticks\":\"\"}}}],\"scatterternary\":[{\"type\":\"scatterternary\",\"marker\":{\"colorbar\":{\"outlinewidth\":0,\"ticks\":\"\"}}}],\"scattercarpet\":[{\"type\":\"scattercarpet\",\"marker\":{\"colorbar\":{\"outlinewidth\":0,\"ticks\":\"\"}}}],\"carpet\":[{\"aaxis\":{\"endlinecolor\":\"#2a3f5f\",\"gridcolor\":\"white\",\"linecolor\":\"white\",\"minorgridcolor\":\"white\",\"startlinecolor\":\"#2a3f5f\"},\"baxis\":{\"endlinecolor\":\"#2a3f5f\",\"gridcolor\":\"white\",\"linecolor\":\"white\",\"minorgridcolor\":\"white\",\"startlinecolor\":\"#2a3f5f\"},\"type\":\"carpet\"}],\"table\":[{\"cells\":{\"fill\":{\"color\":\"#EBF0F8\"},\"line\":{\"color\":\"white\"}},\"header\":{\"fill\":{\"color\":\"#C8D4E3\"},\"line\":{\"color\":\"white\"}},\"type\":\"table\"}],\"barpolar\":[{\"marker\":{\"line\":{\"color\":\"#E5ECF6\",\"width\":0.5},\"pattern\":{\"fillmode\":\"overlay\",\"size\":10,\"solidity\":0.2}},\"type\":\"barpolar\"}],\"pie\":[{\"automargin\":true,\"type\":\"pie\"}]},\"layout\":{\"autotypenumbers\":\"strict\",\"colorway\":[\"#636efa\",\"#EF553B\",\"#00cc96\",\"#ab63fa\",\"#FFA15A\",\"#19d3f3\",\"#FF6692\",\"#B6E880\",\"#FF97FF\",\"#FECB52\"],\"font\":{\"color\":\"#2a3f5f\"},\"hovermode\":\"closest\",\"hoverlabel\":{\"align\":\"left\"},\"paper_bgcolor\":\"white\",\"plot_bgcolor\":\"#E5ECF6\",\"polar\":{\"bgcolor\":\"#E5ECF6\",\"angularaxis\":{\"gridcolor\":\"white\",\"linecolor\":\"white\",\"ticks\":\"\"},\"radialaxis\":{\"gridcolor\":\"white\",\"linecolor\":\"white\",\"ticks\":\"\"}},\"ternary\":{\"bgcolor\":\"#E5ECF6\",\"aaxis\":{\"gridcolor\":\"white\",\"linecolor\":\"white\",\"ticks\":\"\"},\"baxis\":{\"gridcolor\":\"white\",\"linecolor\":\"white\",\"ticks\":\"\"},\"caxis\":{\"gridcolor\":\"white\",\"linecolor\":\"white\",\"ticks\":\"\"}},\"coloraxis\":{\"colorbar\":{\"outlinewidth\":0,\"ticks\":\"\"}},\"colorscale\":{\"sequential\":[[0.0,\"#0d0887\"],[0.1111111111111111,\"#46039f\"],[0.2222222222222222,\"#7201a8\"],[0.3333333333333333,\"#9c179e\"],[0.4444444444444444,\"#bd3786\"],[0.5555555555555556,\"#d8576b\"],[0.6666666666666666,\"#ed7953\"],[0.7777777777777778,\"#fb9f3a\"],[0.8888888888888888,\"#fdca26\"],[1.0,\"#f0f921\"]],\"sequentialminus\":[[0.0,\"#0d0887\"],[0.1111111111111111,\"#46039f\"],[0.2222222222222222,\"#7201a8\"],[0.3333333333333333,\"#9c179e\"],[0.4444444444444444,\"#bd3786\"],[0.5555555555555556,\"#d8576b\"],[0.6666666666666666,\"#ed7953\"],[0.7777777777777778,\"#fb9f3a\"],[0.8888888888888888,\"#fdca26\"],[1.0,\"#f0f921\"]],\"diverging\":[[0,\"#8e0152\"],[0.1,\"#c51b7d\"],[0.2,\"#de77ae\"],[0.3,\"#f1b6da\"],[0.4,\"#fde0ef\"],[0.5,\"#f7f7f7\"],[0.6,\"#e6f5d0\"],[0.7,\"#b8e186\"],[0.8,\"#7fbc41\"],[0.9,\"#4d9221\"],[1,\"#276419\"]]},\"xaxis\":{\"gridcolor\":\"white\",\"linecolor\":\"white\",\"ticks\":\"\",\"title\":{\"standoff\":15},\"zerolinecolor\":\"white\",\"automargin\":true,\"zerolinewidth\":2},\"yaxis\":{\"gridcolor\":\"white\",\"linecolor\":\"white\",\"ticks\":\"\",\"title\":{\"standoff\":15},\"zerolinecolor\":\"white\",\"automargin\":true,\"zerolinewidth\":2},\"scene\":{\"xaxis\":{\"backgroundcolor\":\"#E5ECF6\",\"gridcolor\":\"white\",\"linecolor\":\"white\",\"showbackground\":true,\"ticks\":\"\",\"zerolinecolor\":\"white\",\"gridwidth\":2},\"yaxis\":{\"backgroundcolor\":\"#E5ECF6\",\"gridcolor\":\"white\",\"linecolor\":\"white\",\"showbackground\":true,\"ticks\":\"\",\"zerolinecolor\":\"white\",\"gridwidth\":2},\"zaxis\":{\"backgroundcolor\":\"#E5ECF6\",\"gridcolor\":\"white\",\"linecolor\":\"white\",\"showbackground\":true,\"ticks\":\"\",\"zerolinecolor\":\"white\",\"gridwidth\":2}},\"shapedefaults\":{\"line\":{\"color\":\"#2a3f5f\"}},\"annotationdefaults\":{\"arrowcolor\":\"#2a3f5f\",\"arrowhead\":0,\"arrowwidth\":1},\"geo\":{\"bgcolor\":\"white\",\"landcolor\":\"#E5ECF6\",\"subunitcolor\":\"white\",\"showland\":true,\"showlakes\":true,\"lakecolor\":\"white\"},\"title\":{\"x\":0.05},\"mapbox\":{\"style\":\"light\"}}},\"xaxis\":{\"anchor\":\"y\",\"domain\":[0.0,1.0],\"title\":{\"text\":\"Route Name\"},\"tickangle\":-45},\"yaxis\":{\"anchor\":\"x\",\"domain\":[0.0,1.0],\"title\":{\"text\":\"Distance Difference (Miles)\"}},\"legend\":{\"title\":{\"text\":\"Route Optimization\"},\"tracegroupgap\":0},\"title\":{\"text\":\"How much farther compared to optimized route\"},\"barmode\":\"group\"},                        {\"responsive\": true}                    ).then(function(){\n",
       "                            \n",
       "var gd = document.getElementById('f436fc30-b23d-4f65-9cd5-c60c0d4f4d7b');\n",
       "var x = new MutationObserver(function (mutations, observer) {{\n",
       "        var display = window.getComputedStyle(gd).display;\n",
       "        if (!display || display === 'none') {{\n",
       "            console.log([gd, 'removed!']);\n",
       "            Plotly.purge(gd);\n",
       "            observer.disconnect();\n",
       "        }}\n",
       "}});\n",
       "\n",
       "// Listen for the removal of the full notebook cells\n",
       "var notebookContainer = gd.closest('#notebook-container');\n",
       "if (notebookContainer) {{\n",
       "    x.observe(notebookContainer, {childList: true});\n",
       "}}\n",
       "\n",
       "// Listen for the clearing of the current output cell\n",
       "var outputEl = gd.closest('.output');\n",
       "if (outputEl) {{\n",
       "    x.observe(outputEl, {childList: true});\n",
       "}}\n",
       "\n",
       "                        })                };                });            </script>        </div>"
      ]
     },
     "metadata": {},
     "output_type": "display_data"
    },
    {
     "data": {
      "application/vnd.plotly.v1+json": {
       "config": {
        "plotlyServerURL": "https://plot.ly"
       },
       "data": [
        {
         "alignmentgroup": "True",
         "hovertemplate": "Route Optimization=NN_Distance_Diff<br>Route=%{x}<br>Distance Difference (Miles)=%{y}<extra></extra>",
         "legendgroup": "NN_Distance_Diff",
         "marker": {
          "color": "#636efa",
          "pattern": {
           "shape": ""
          }
         },
         "name": "NN_Distance_Diff",
         "offsetgroup": "NN_Distance_Diff",
         "orientation": "v",
         "showlegend": true,
         "textposition": "auto",
         "type": "bar",
         "x": [
          "Irish Arthouse",
          "Irish Indigo",
          "Irish Highline",
          "Irish Virgin"
         ],
         "xaxis": "x",
         "y": [
          -0.38081130953999853,
          2.046377699849998,
          3.2024591726400002,
          2.138129945480001
         ],
         "yaxis": "y"
        },
        {
         "alignmentgroup": "True",
         "hovertemplate": "Route Optimization=Random_Distance_Diff<br>Route=%{x}<br>Distance Difference (Miles)=%{y}<extra></extra>",
         "legendgroup": "Random_Distance_Diff",
         "marker": {
          "color": "#EF553B",
          "pattern": {
           "shape": ""
          }
         },
         "name": "Random_Distance_Diff",
         "offsetgroup": "Random_Distance_Diff",
         "orientation": "v",
         "showlegend": true,
         "textposition": "auto",
         "type": "bar",
         "x": [
          "Irish Arthouse",
          "Irish Indigo",
          "Irish Highline",
          "Irish Virgin"
         ],
         "xaxis": "x",
         "y": [
          0.543000000000001,
          3.7928999999999995,
          2.9663000000000013,
          1.9056999999999995
         ],
         "yaxis": "y"
        }
       ],
       "layout": {
        "barmode": "group",
        "legend": {
         "title": {
          "text": "Route Optimization"
         },
         "tracegroupgap": 0
        },
        "template": {
         "data": {
          "bar": [
           {
            "error_x": {
             "color": "#2a3f5f"
            },
            "error_y": {
             "color": "#2a3f5f"
            },
            "marker": {
             "line": {
              "color": "#E5ECF6",
              "width": 0.5
             },
             "pattern": {
              "fillmode": "overlay",
              "size": 10,
              "solidity": 0.2
             }
            },
            "type": "bar"
           }
          ],
          "barpolar": [
           {
            "marker": {
             "line": {
              "color": "#E5ECF6",
              "width": 0.5
             },
             "pattern": {
              "fillmode": "overlay",
              "size": 10,
              "solidity": 0.2
             }
            },
            "type": "barpolar"
           }
          ],
          "carpet": [
           {
            "aaxis": {
             "endlinecolor": "#2a3f5f",
             "gridcolor": "white",
             "linecolor": "white",
             "minorgridcolor": "white",
             "startlinecolor": "#2a3f5f"
            },
            "baxis": {
             "endlinecolor": "#2a3f5f",
             "gridcolor": "white",
             "linecolor": "white",
             "minorgridcolor": "white",
             "startlinecolor": "#2a3f5f"
            },
            "type": "carpet"
           }
          ],
          "choropleth": [
           {
            "colorbar": {
             "outlinewidth": 0,
             "ticks": ""
            },
            "type": "choropleth"
           }
          ],
          "contour": [
           {
            "colorbar": {
             "outlinewidth": 0,
             "ticks": ""
            },
            "colorscale": [
             [
              0,
              "#0d0887"
             ],
             [
              0.1111111111111111,
              "#46039f"
             ],
             [
              0.2222222222222222,
              "#7201a8"
             ],
             [
              0.3333333333333333,
              "#9c179e"
             ],
             [
              0.4444444444444444,
              "#bd3786"
             ],
             [
              0.5555555555555556,
              "#d8576b"
             ],
             [
              0.6666666666666666,
              "#ed7953"
             ],
             [
              0.7777777777777778,
              "#fb9f3a"
             ],
             [
              0.8888888888888888,
              "#fdca26"
             ],
             [
              1,
              "#f0f921"
             ]
            ],
            "type": "contour"
           }
          ],
          "contourcarpet": [
           {
            "colorbar": {
             "outlinewidth": 0,
             "ticks": ""
            },
            "type": "contourcarpet"
           }
          ],
          "heatmap": [
           {
            "colorbar": {
             "outlinewidth": 0,
             "ticks": ""
            },
            "colorscale": [
             [
              0,
              "#0d0887"
             ],
             [
              0.1111111111111111,
              "#46039f"
             ],
             [
              0.2222222222222222,
              "#7201a8"
             ],
             [
              0.3333333333333333,
              "#9c179e"
             ],
             [
              0.4444444444444444,
              "#bd3786"
             ],
             [
              0.5555555555555556,
              "#d8576b"
             ],
             [
              0.6666666666666666,
              "#ed7953"
             ],
             [
              0.7777777777777778,
              "#fb9f3a"
             ],
             [
              0.8888888888888888,
              "#fdca26"
             ],
             [
              1,
              "#f0f921"
             ]
            ],
            "type": "heatmap"
           }
          ],
          "heatmapgl": [
           {
            "colorbar": {
             "outlinewidth": 0,
             "ticks": ""
            },
            "colorscale": [
             [
              0,
              "#0d0887"
             ],
             [
              0.1111111111111111,
              "#46039f"
             ],
             [
              0.2222222222222222,
              "#7201a8"
             ],
             [
              0.3333333333333333,
              "#9c179e"
             ],
             [
              0.4444444444444444,
              "#bd3786"
             ],
             [
              0.5555555555555556,
              "#d8576b"
             ],
             [
              0.6666666666666666,
              "#ed7953"
             ],
             [
              0.7777777777777778,
              "#fb9f3a"
             ],
             [
              0.8888888888888888,
              "#fdca26"
             ],
             [
              1,
              "#f0f921"
             ]
            ],
            "type": "heatmapgl"
           }
          ],
          "histogram": [
           {
            "marker": {
             "pattern": {
              "fillmode": "overlay",
              "size": 10,
              "solidity": 0.2
             }
            },
            "type": "histogram"
           }
          ],
          "histogram2d": [
           {
            "colorbar": {
             "outlinewidth": 0,
             "ticks": ""
            },
            "colorscale": [
             [
              0,
              "#0d0887"
             ],
             [
              0.1111111111111111,
              "#46039f"
             ],
             [
              0.2222222222222222,
              "#7201a8"
             ],
             [
              0.3333333333333333,
              "#9c179e"
             ],
             [
              0.4444444444444444,
              "#bd3786"
             ],
             [
              0.5555555555555556,
              "#d8576b"
             ],
             [
              0.6666666666666666,
              "#ed7953"
             ],
             [
              0.7777777777777778,
              "#fb9f3a"
             ],
             [
              0.8888888888888888,
              "#fdca26"
             ],
             [
              1,
              "#f0f921"
             ]
            ],
            "type": "histogram2d"
           }
          ],
          "histogram2dcontour": [
           {
            "colorbar": {
             "outlinewidth": 0,
             "ticks": ""
            },
            "colorscale": [
             [
              0,
              "#0d0887"
             ],
             [
              0.1111111111111111,
              "#46039f"
             ],
             [
              0.2222222222222222,
              "#7201a8"
             ],
             [
              0.3333333333333333,
              "#9c179e"
             ],
             [
              0.4444444444444444,
              "#bd3786"
             ],
             [
              0.5555555555555556,
              "#d8576b"
             ],
             [
              0.6666666666666666,
              "#ed7953"
             ],
             [
              0.7777777777777778,
              "#fb9f3a"
             ],
             [
              0.8888888888888888,
              "#fdca26"
             ],
             [
              1,
              "#f0f921"
             ]
            ],
            "type": "histogram2dcontour"
           }
          ],
          "mesh3d": [
           {
            "colorbar": {
             "outlinewidth": 0,
             "ticks": ""
            },
            "type": "mesh3d"
           }
          ],
          "parcoords": [
           {
            "line": {
             "colorbar": {
              "outlinewidth": 0,
              "ticks": ""
             }
            },
            "type": "parcoords"
           }
          ],
          "pie": [
           {
            "automargin": true,
            "type": "pie"
           }
          ],
          "scatter": [
           {
            "fillpattern": {
             "fillmode": "overlay",
             "size": 10,
             "solidity": 0.2
            },
            "type": "scatter"
           }
          ],
          "scatter3d": [
           {
            "line": {
             "colorbar": {
              "outlinewidth": 0,
              "ticks": ""
             }
            },
            "marker": {
             "colorbar": {
              "outlinewidth": 0,
              "ticks": ""
             }
            },
            "type": "scatter3d"
           }
          ],
          "scattercarpet": [
           {
            "marker": {
             "colorbar": {
              "outlinewidth": 0,
              "ticks": ""
             }
            },
            "type": "scattercarpet"
           }
          ],
          "scattergeo": [
           {
            "marker": {
             "colorbar": {
              "outlinewidth": 0,
              "ticks": ""
             }
            },
            "type": "scattergeo"
           }
          ],
          "scattergl": [
           {
            "marker": {
             "colorbar": {
              "outlinewidth": 0,
              "ticks": ""
             }
            },
            "type": "scattergl"
           }
          ],
          "scattermapbox": [
           {
            "marker": {
             "colorbar": {
              "outlinewidth": 0,
              "ticks": ""
             }
            },
            "type": "scattermapbox"
           }
          ],
          "scatterpolar": [
           {
            "marker": {
             "colorbar": {
              "outlinewidth": 0,
              "ticks": ""
             }
            },
            "type": "scatterpolar"
           }
          ],
          "scatterpolargl": [
           {
            "marker": {
             "colorbar": {
              "outlinewidth": 0,
              "ticks": ""
             }
            },
            "type": "scatterpolargl"
           }
          ],
          "scatterternary": [
           {
            "marker": {
             "colorbar": {
              "outlinewidth": 0,
              "ticks": ""
             }
            },
            "type": "scatterternary"
           }
          ],
          "surface": [
           {
            "colorbar": {
             "outlinewidth": 0,
             "ticks": ""
            },
            "colorscale": [
             [
              0,
              "#0d0887"
             ],
             [
              0.1111111111111111,
              "#46039f"
             ],
             [
              0.2222222222222222,
              "#7201a8"
             ],
             [
              0.3333333333333333,
              "#9c179e"
             ],
             [
              0.4444444444444444,
              "#bd3786"
             ],
             [
              0.5555555555555556,
              "#d8576b"
             ],
             [
              0.6666666666666666,
              "#ed7953"
             ],
             [
              0.7777777777777778,
              "#fb9f3a"
             ],
             [
              0.8888888888888888,
              "#fdca26"
             ],
             [
              1,
              "#f0f921"
             ]
            ],
            "type": "surface"
           }
          ],
          "table": [
           {
            "cells": {
             "fill": {
              "color": "#EBF0F8"
             },
             "line": {
              "color": "white"
             }
            },
            "header": {
             "fill": {
              "color": "#C8D4E3"
             },
             "line": {
              "color": "white"
             }
            },
            "type": "table"
           }
          ]
         },
         "layout": {
          "annotationdefaults": {
           "arrowcolor": "#2a3f5f",
           "arrowhead": 0,
           "arrowwidth": 1
          },
          "autotypenumbers": "strict",
          "coloraxis": {
           "colorbar": {
            "outlinewidth": 0,
            "ticks": ""
           }
          },
          "colorscale": {
           "diverging": [
            [
             0,
             "#8e0152"
            ],
            [
             0.1,
             "#c51b7d"
            ],
            [
             0.2,
             "#de77ae"
            ],
            [
             0.3,
             "#f1b6da"
            ],
            [
             0.4,
             "#fde0ef"
            ],
            [
             0.5,
             "#f7f7f7"
            ],
            [
             0.6,
             "#e6f5d0"
            ],
            [
             0.7,
             "#b8e186"
            ],
            [
             0.8,
             "#7fbc41"
            ],
            [
             0.9,
             "#4d9221"
            ],
            [
             1,
             "#276419"
            ]
           ],
           "sequential": [
            [
             0,
             "#0d0887"
            ],
            [
             0.1111111111111111,
             "#46039f"
            ],
            [
             0.2222222222222222,
             "#7201a8"
            ],
            [
             0.3333333333333333,
             "#9c179e"
            ],
            [
             0.4444444444444444,
             "#bd3786"
            ],
            [
             0.5555555555555556,
             "#d8576b"
            ],
            [
             0.6666666666666666,
             "#ed7953"
            ],
            [
             0.7777777777777778,
             "#fb9f3a"
            ],
            [
             0.8888888888888888,
             "#fdca26"
            ],
            [
             1,
             "#f0f921"
            ]
           ],
           "sequentialminus": [
            [
             0,
             "#0d0887"
            ],
            [
             0.1111111111111111,
             "#46039f"
            ],
            [
             0.2222222222222222,
             "#7201a8"
            ],
            [
             0.3333333333333333,
             "#9c179e"
            ],
            [
             0.4444444444444444,
             "#bd3786"
            ],
            [
             0.5555555555555556,
             "#d8576b"
            ],
            [
             0.6666666666666666,
             "#ed7953"
            ],
            [
             0.7777777777777778,
             "#fb9f3a"
            ],
            [
             0.8888888888888888,
             "#fdca26"
            ],
            [
             1,
             "#f0f921"
            ]
           ]
          },
          "colorway": [
           "#636efa",
           "#EF553B",
           "#00cc96",
           "#ab63fa",
           "#FFA15A",
           "#19d3f3",
           "#FF6692",
           "#B6E880",
           "#FF97FF",
           "#FECB52"
          ],
          "font": {
           "color": "#2a3f5f"
          },
          "geo": {
           "bgcolor": "white",
           "lakecolor": "white",
           "landcolor": "#E5ECF6",
           "showlakes": true,
           "showland": true,
           "subunitcolor": "white"
          },
          "hoverlabel": {
           "align": "left"
          },
          "hovermode": "closest",
          "mapbox": {
           "style": "light"
          },
          "paper_bgcolor": "white",
          "plot_bgcolor": "#E5ECF6",
          "polar": {
           "angularaxis": {
            "gridcolor": "white",
            "linecolor": "white",
            "ticks": ""
           },
           "bgcolor": "#E5ECF6",
           "radialaxis": {
            "gridcolor": "white",
            "linecolor": "white",
            "ticks": ""
           }
          },
          "scene": {
           "xaxis": {
            "backgroundcolor": "#E5ECF6",
            "gridcolor": "white",
            "gridwidth": 2,
            "linecolor": "white",
            "showbackground": true,
            "ticks": "",
            "zerolinecolor": "white"
           },
           "yaxis": {
            "backgroundcolor": "#E5ECF6",
            "gridcolor": "white",
            "gridwidth": 2,
            "linecolor": "white",
            "showbackground": true,
            "ticks": "",
            "zerolinecolor": "white"
           },
           "zaxis": {
            "backgroundcolor": "#E5ECF6",
            "gridcolor": "white",
            "gridwidth": 2,
            "linecolor": "white",
            "showbackground": true,
            "ticks": "",
            "zerolinecolor": "white"
           }
          },
          "shapedefaults": {
           "line": {
            "color": "#2a3f5f"
           }
          },
          "ternary": {
           "aaxis": {
            "gridcolor": "white",
            "linecolor": "white",
            "ticks": ""
           },
           "baxis": {
            "gridcolor": "white",
            "linecolor": "white",
            "ticks": ""
           },
           "bgcolor": "#E5ECF6",
           "caxis": {
            "gridcolor": "white",
            "linecolor": "white",
            "ticks": ""
           }
          },
          "title": {
           "x": 0.05
          },
          "xaxis": {
           "automargin": true,
           "gridcolor": "white",
           "linecolor": "white",
           "ticks": "",
           "title": {
            "standoff": 15
           },
           "zerolinecolor": "white",
           "zerolinewidth": 2
          },
          "yaxis": {
           "automargin": true,
           "gridcolor": "white",
           "linecolor": "white",
           "ticks": "",
           "title": {
            "standoff": 15
           },
           "zerolinecolor": "white",
           "zerolinewidth": 2
          }
         }
        },
        "title": {
         "text": "How much farther compared to optimized route"
        },
        "xaxis": {
         "anchor": "y",
         "domain": [
          0,
          1
         ],
         "tickangle": -45,
         "title": {
          "text": "Route Name"
         }
        },
        "yaxis": {
         "anchor": "x",
         "domain": [
          0,
          1
         ],
         "title": {
          "text": "Distance Difference (Miles)"
         }
        }
       }
      },
      "text/html": [
       "<div>                            <div id=\"7257ea22-d5f7-4354-b6bc-847e4c97e743\" class=\"plotly-graph-div\" style=\"height:525px; width:100%;\"></div>            <script type=\"text/javascript\">                require([\"plotly\"], function(Plotly) {                    window.PLOTLYENV=window.PLOTLYENV || {};                                    if (document.getElementById(\"7257ea22-d5f7-4354-b6bc-847e4c97e743\")) {                    Plotly.newPlot(                        \"7257ea22-d5f7-4354-b6bc-847e4c97e743\",                        [{\"alignmentgroup\":\"True\",\"hovertemplate\":\"Route Optimization=NN_Distance_Diff<br>Route=%{x}<br>Distance Difference (Miles)=%{y}<extra></extra>\",\"legendgroup\":\"NN_Distance_Diff\",\"marker\":{\"color\":\"#636efa\",\"pattern\":{\"shape\":\"\"}},\"name\":\"NN_Distance_Diff\",\"offsetgroup\":\"NN_Distance_Diff\",\"orientation\":\"v\",\"showlegend\":true,\"textposition\":\"auto\",\"x\":[\"Irish Arthouse\",\"Irish Indigo\",\"Irish Highline\",\"Irish Virgin\"],\"xaxis\":\"x\",\"y\":[-0.38081130953999853,2.046377699849998,3.2024591726400002,2.138129945480001],\"yaxis\":\"y\",\"type\":\"bar\"},{\"alignmentgroup\":\"True\",\"hovertemplate\":\"Route Optimization=Random_Distance_Diff<br>Route=%{x}<br>Distance Difference (Miles)=%{y}<extra></extra>\",\"legendgroup\":\"Random_Distance_Diff\",\"marker\":{\"color\":\"#EF553B\",\"pattern\":{\"shape\":\"\"}},\"name\":\"Random_Distance_Diff\",\"offsetgroup\":\"Random_Distance_Diff\",\"orientation\":\"v\",\"showlegend\":true,\"textposition\":\"auto\",\"x\":[\"Irish Arthouse\",\"Irish Indigo\",\"Irish Highline\",\"Irish Virgin\"],\"xaxis\":\"x\",\"y\":[0.543000000000001,3.7928999999999995,2.9663000000000013,1.9056999999999995],\"yaxis\":\"y\",\"type\":\"bar\"}],                        {\"template\":{\"data\":{\"histogram2dcontour\":[{\"type\":\"histogram2dcontour\",\"colorbar\":{\"outlinewidth\":0,\"ticks\":\"\"},\"colorscale\":[[0.0,\"#0d0887\"],[0.1111111111111111,\"#46039f\"],[0.2222222222222222,\"#7201a8\"],[0.3333333333333333,\"#9c179e\"],[0.4444444444444444,\"#bd3786\"],[0.5555555555555556,\"#d8576b\"],[0.6666666666666666,\"#ed7953\"],[0.7777777777777778,\"#fb9f3a\"],[0.8888888888888888,\"#fdca26\"],[1.0,\"#f0f921\"]]}],\"choropleth\":[{\"type\":\"choropleth\",\"colorbar\":{\"outlinewidth\":0,\"ticks\":\"\"}}],\"histogram2d\":[{\"type\":\"histogram2d\",\"colorbar\":{\"outlinewidth\":0,\"ticks\":\"\"},\"colorscale\":[[0.0,\"#0d0887\"],[0.1111111111111111,\"#46039f\"],[0.2222222222222222,\"#7201a8\"],[0.3333333333333333,\"#9c179e\"],[0.4444444444444444,\"#bd3786\"],[0.5555555555555556,\"#d8576b\"],[0.6666666666666666,\"#ed7953\"],[0.7777777777777778,\"#fb9f3a\"],[0.8888888888888888,\"#fdca26\"],[1.0,\"#f0f921\"]]}],\"heatmap\":[{\"type\":\"heatmap\",\"colorbar\":{\"outlinewidth\":0,\"ticks\":\"\"},\"colorscale\":[[0.0,\"#0d0887\"],[0.1111111111111111,\"#46039f\"],[0.2222222222222222,\"#7201a8\"],[0.3333333333333333,\"#9c179e\"],[0.4444444444444444,\"#bd3786\"],[0.5555555555555556,\"#d8576b\"],[0.6666666666666666,\"#ed7953\"],[0.7777777777777778,\"#fb9f3a\"],[0.8888888888888888,\"#fdca26\"],[1.0,\"#f0f921\"]]}],\"heatmapgl\":[{\"type\":\"heatmapgl\",\"colorbar\":{\"outlinewidth\":0,\"ticks\":\"\"},\"colorscale\":[[0.0,\"#0d0887\"],[0.1111111111111111,\"#46039f\"],[0.2222222222222222,\"#7201a8\"],[0.3333333333333333,\"#9c179e\"],[0.4444444444444444,\"#bd3786\"],[0.5555555555555556,\"#d8576b\"],[0.6666666666666666,\"#ed7953\"],[0.7777777777777778,\"#fb9f3a\"],[0.8888888888888888,\"#fdca26\"],[1.0,\"#f0f921\"]]}],\"contourcarpet\":[{\"type\":\"contourcarpet\",\"colorbar\":{\"outlinewidth\":0,\"ticks\":\"\"}}],\"contour\":[{\"type\":\"contour\",\"colorbar\":{\"outlinewidth\":0,\"ticks\":\"\"},\"colorscale\":[[0.0,\"#0d0887\"],[0.1111111111111111,\"#46039f\"],[0.2222222222222222,\"#7201a8\"],[0.3333333333333333,\"#9c179e\"],[0.4444444444444444,\"#bd3786\"],[0.5555555555555556,\"#d8576b\"],[0.6666666666666666,\"#ed7953\"],[0.7777777777777778,\"#fb9f3a\"],[0.8888888888888888,\"#fdca26\"],[1.0,\"#f0f921\"]]}],\"surface\":[{\"type\":\"surface\",\"colorbar\":{\"outlinewidth\":0,\"ticks\":\"\"},\"colorscale\":[[0.0,\"#0d0887\"],[0.1111111111111111,\"#46039f\"],[0.2222222222222222,\"#7201a8\"],[0.3333333333333333,\"#9c179e\"],[0.4444444444444444,\"#bd3786\"],[0.5555555555555556,\"#d8576b\"],[0.6666666666666666,\"#ed7953\"],[0.7777777777777778,\"#fb9f3a\"],[0.8888888888888888,\"#fdca26\"],[1.0,\"#f0f921\"]]}],\"mesh3d\":[{\"type\":\"mesh3d\",\"colorbar\":{\"outlinewidth\":0,\"ticks\":\"\"}}],\"scatter\":[{\"fillpattern\":{\"fillmode\":\"overlay\",\"size\":10,\"solidity\":0.2},\"type\":\"scatter\"}],\"parcoords\":[{\"type\":\"parcoords\",\"line\":{\"colorbar\":{\"outlinewidth\":0,\"ticks\":\"\"}}}],\"scatterpolargl\":[{\"type\":\"scatterpolargl\",\"marker\":{\"colorbar\":{\"outlinewidth\":0,\"ticks\":\"\"}}}],\"bar\":[{\"error_x\":{\"color\":\"#2a3f5f\"},\"error_y\":{\"color\":\"#2a3f5f\"},\"marker\":{\"line\":{\"color\":\"#E5ECF6\",\"width\":0.5},\"pattern\":{\"fillmode\":\"overlay\",\"size\":10,\"solidity\":0.2}},\"type\":\"bar\"}],\"scattergeo\":[{\"type\":\"scattergeo\",\"marker\":{\"colorbar\":{\"outlinewidth\":0,\"ticks\":\"\"}}}],\"scatterpolar\":[{\"type\":\"scatterpolar\",\"marker\":{\"colorbar\":{\"outlinewidth\":0,\"ticks\":\"\"}}}],\"histogram\":[{\"marker\":{\"pattern\":{\"fillmode\":\"overlay\",\"size\":10,\"solidity\":0.2}},\"type\":\"histogram\"}],\"scattergl\":[{\"type\":\"scattergl\",\"marker\":{\"colorbar\":{\"outlinewidth\":0,\"ticks\":\"\"}}}],\"scatter3d\":[{\"type\":\"scatter3d\",\"line\":{\"colorbar\":{\"outlinewidth\":0,\"ticks\":\"\"}},\"marker\":{\"colorbar\":{\"outlinewidth\":0,\"ticks\":\"\"}}}],\"scattermapbox\":[{\"type\":\"scattermapbox\",\"marker\":{\"colorbar\":{\"outlinewidth\":0,\"ticks\":\"\"}}}],\"scatterternary\":[{\"type\":\"scatterternary\",\"marker\":{\"colorbar\":{\"outlinewidth\":0,\"ticks\":\"\"}}}],\"scattercarpet\":[{\"type\":\"scattercarpet\",\"marker\":{\"colorbar\":{\"outlinewidth\":0,\"ticks\":\"\"}}}],\"carpet\":[{\"aaxis\":{\"endlinecolor\":\"#2a3f5f\",\"gridcolor\":\"white\",\"linecolor\":\"white\",\"minorgridcolor\":\"white\",\"startlinecolor\":\"#2a3f5f\"},\"baxis\":{\"endlinecolor\":\"#2a3f5f\",\"gridcolor\":\"white\",\"linecolor\":\"white\",\"minorgridcolor\":\"white\",\"startlinecolor\":\"#2a3f5f\"},\"type\":\"carpet\"}],\"table\":[{\"cells\":{\"fill\":{\"color\":\"#EBF0F8\"},\"line\":{\"color\":\"white\"}},\"header\":{\"fill\":{\"color\":\"#C8D4E3\"},\"line\":{\"color\":\"white\"}},\"type\":\"table\"}],\"barpolar\":[{\"marker\":{\"line\":{\"color\":\"#E5ECF6\",\"width\":0.5},\"pattern\":{\"fillmode\":\"overlay\",\"size\":10,\"solidity\":0.2}},\"type\":\"barpolar\"}],\"pie\":[{\"automargin\":true,\"type\":\"pie\"}]},\"layout\":{\"autotypenumbers\":\"strict\",\"colorway\":[\"#636efa\",\"#EF553B\",\"#00cc96\",\"#ab63fa\",\"#FFA15A\",\"#19d3f3\",\"#FF6692\",\"#B6E880\",\"#FF97FF\",\"#FECB52\"],\"font\":{\"color\":\"#2a3f5f\"},\"hovermode\":\"closest\",\"hoverlabel\":{\"align\":\"left\"},\"paper_bgcolor\":\"white\",\"plot_bgcolor\":\"#E5ECF6\",\"polar\":{\"bgcolor\":\"#E5ECF6\",\"angularaxis\":{\"gridcolor\":\"white\",\"linecolor\":\"white\",\"ticks\":\"\"},\"radialaxis\":{\"gridcolor\":\"white\",\"linecolor\":\"white\",\"ticks\":\"\"}},\"ternary\":{\"bgcolor\":\"#E5ECF6\",\"aaxis\":{\"gridcolor\":\"white\",\"linecolor\":\"white\",\"ticks\":\"\"},\"baxis\":{\"gridcolor\":\"white\",\"linecolor\":\"white\",\"ticks\":\"\"},\"caxis\":{\"gridcolor\":\"white\",\"linecolor\":\"white\",\"ticks\":\"\"}},\"coloraxis\":{\"colorbar\":{\"outlinewidth\":0,\"ticks\":\"\"}},\"colorscale\":{\"sequential\":[[0.0,\"#0d0887\"],[0.1111111111111111,\"#46039f\"],[0.2222222222222222,\"#7201a8\"],[0.3333333333333333,\"#9c179e\"],[0.4444444444444444,\"#bd3786\"],[0.5555555555555556,\"#d8576b\"],[0.6666666666666666,\"#ed7953\"],[0.7777777777777778,\"#fb9f3a\"],[0.8888888888888888,\"#fdca26\"],[1.0,\"#f0f921\"]],\"sequentialminus\":[[0.0,\"#0d0887\"],[0.1111111111111111,\"#46039f\"],[0.2222222222222222,\"#7201a8\"],[0.3333333333333333,\"#9c179e\"],[0.4444444444444444,\"#bd3786\"],[0.5555555555555556,\"#d8576b\"],[0.6666666666666666,\"#ed7953\"],[0.7777777777777778,\"#fb9f3a\"],[0.8888888888888888,\"#fdca26\"],[1.0,\"#f0f921\"]],\"diverging\":[[0,\"#8e0152\"],[0.1,\"#c51b7d\"],[0.2,\"#de77ae\"],[0.3,\"#f1b6da\"],[0.4,\"#fde0ef\"],[0.5,\"#f7f7f7\"],[0.6,\"#e6f5d0\"],[0.7,\"#b8e186\"],[0.8,\"#7fbc41\"],[0.9,\"#4d9221\"],[1,\"#276419\"]]},\"xaxis\":{\"gridcolor\":\"white\",\"linecolor\":\"white\",\"ticks\":\"\",\"title\":{\"standoff\":15},\"zerolinecolor\":\"white\",\"automargin\":true,\"zerolinewidth\":2},\"yaxis\":{\"gridcolor\":\"white\",\"linecolor\":\"white\",\"ticks\":\"\",\"title\":{\"standoff\":15},\"zerolinecolor\":\"white\",\"automargin\":true,\"zerolinewidth\":2},\"scene\":{\"xaxis\":{\"backgroundcolor\":\"#E5ECF6\",\"gridcolor\":\"white\",\"linecolor\":\"white\",\"showbackground\":true,\"ticks\":\"\",\"zerolinecolor\":\"white\",\"gridwidth\":2},\"yaxis\":{\"backgroundcolor\":\"#E5ECF6\",\"gridcolor\":\"white\",\"linecolor\":\"white\",\"showbackground\":true,\"ticks\":\"\",\"zerolinecolor\":\"white\",\"gridwidth\":2},\"zaxis\":{\"backgroundcolor\":\"#E5ECF6\",\"gridcolor\":\"white\",\"linecolor\":\"white\",\"showbackground\":true,\"ticks\":\"\",\"zerolinecolor\":\"white\",\"gridwidth\":2}},\"shapedefaults\":{\"line\":{\"color\":\"#2a3f5f\"}},\"annotationdefaults\":{\"arrowcolor\":\"#2a3f5f\",\"arrowhead\":0,\"arrowwidth\":1},\"geo\":{\"bgcolor\":\"white\",\"landcolor\":\"#E5ECF6\",\"subunitcolor\":\"white\",\"showland\":true,\"showlakes\":true,\"lakecolor\":\"white\"},\"title\":{\"x\":0.05},\"mapbox\":{\"style\":\"light\"}}},\"xaxis\":{\"anchor\":\"y\",\"domain\":[0.0,1.0],\"title\":{\"text\":\"Route Name\"},\"tickangle\":-45},\"yaxis\":{\"anchor\":\"x\",\"domain\":[0.0,1.0],\"title\":{\"text\":\"Distance Difference (Miles)\"}},\"legend\":{\"title\":{\"text\":\"Route Optimization\"},\"tracegroupgap\":0},\"title\":{\"text\":\"How much farther compared to optimized route\"},\"barmode\":\"group\"},                        {\"responsive\": true}                    ).then(function(){\n",
       "                            \n",
       "var gd = document.getElementById('7257ea22-d5f7-4354-b6bc-847e4c97e743');\n",
       "var x = new MutationObserver(function (mutations, observer) {{\n",
       "        var display = window.getComputedStyle(gd).display;\n",
       "        if (!display || display === 'none') {{\n",
       "            console.log([gd, 'removed!']);\n",
       "            Plotly.purge(gd);\n",
       "            observer.disconnect();\n",
       "        }}\n",
       "}});\n",
       "\n",
       "// Listen for the removal of the full notebook cells\n",
       "var notebookContainer = gd.closest('#notebook-container');\n",
       "if (notebookContainer) {{\n",
       "    x.observe(notebookContainer, {childList: true});\n",
       "}}\n",
       "\n",
       "// Listen for the clearing of the current output cell\n",
       "var outputEl = gd.closest('.output');\n",
       "if (outputEl) {{\n",
       "    x.observe(outputEl, {childList: true});\n",
       "}}\n",
       "\n",
       "                        })                };                });            </script>        </div>"
      ]
     },
     "metadata": {},
     "output_type": "display_data"
    }
   ],
   "source": [
    "import plotly.express as px\n",
    "\n",
    "# Function to create the bar graph\n",
    "def create_bar_plot(df, title):\n",
    "    \"\"\"\n",
    "    Create a bar plot comparing distance differences for Nearest Neighbors and Random routes.\n",
    "\n",
    "    Parameters:\n",
    "    - df (pd.DataFrame): DataFrame containing the route distances and their differences.\n",
    "    - title (str): Title of the plot.\n",
    "    \"\"\"\n",
    "    # Create a long format DataFrame for Plotly Express\n",
    "    df_long = df.melt(id_vars=[\"Route Name\"], \n",
    "                      value_vars=[\"NN_Distance_Diff\", \"Random_Distance_Diff\"], \n",
    "                      var_name=\"Route Type\", \n",
    "                      value_name=\"Distance Difference (Miles)\")\n",
    "    \n",
    "    # Create the bar plot\n",
    "    fig = px.bar(df_long, \n",
    "                 x='Route Name', \n",
    "                 y='Distance Difference (Miles)', \n",
    "                 color='Route Type',  # Color by the type of route (NN vs Random)\n",
    "                 barmode='group',  # Group bars by route type\n",
    "                 labels={'Route Name': 'Route', 'Distance Difference (Miles)': 'Distance Difference (Miles)', 'Route Type': 'Route Optimization'},\n",
    "                 title=title,\n",
    "                 hover_data=['Route Name', 'Distance Difference (Miles)'])\n",
    "    \n",
    "    # Update layout\n",
    "    fig.update_layout(xaxis_title=\"Route Name\", \n",
    "                      yaxis_title=\"Distance Difference (Miles)\", \n",
    "                      xaxis_tickangle=-45)\n",
    "\n",
    "    return fig\n",
    "\n",
    "# Generate and show bar plots for each DataFrame\n",
    "huge_plot = create_bar_plot(huge_worse_df, \"How much farther compared to optimized route\")\n",
    "mid_plot = create_bar_plot(mid_worse_df, \"How much farther compared to optimized route\")\n",
    "food_plot = create_bar_plot(food_worse_df, \"How much farther compared to optimized route\")\n",
    "irish_plot = create_bar_plot(irish_worse_df, \"How much farther compared to optimized route\")\n",
    "\n",
    "# Show the plots\n",
    "huge_plot.show()\n",
    "mid_plot.show()\n",
    "food_plot.show()\n",
    "irish_plot.show()\n"
   ]
  },
  {
   "cell_type": "code",
   "execution_count": null,
   "id": "4ba7aa3d",
   "metadata": {},
   "outputs": [],
   "source": [
    "# Backup if something happens and we max out our api token.\n",
    "\n",
    "# # Optimal huge routes\n",
    "# order_art = [0, 1, 5, 3, 2, 4, 6, 7]\n",
    "# order_ind = [0, 6, 4, 2, 1, 5, 3, 7]\n",
    "# order_high = [0, 2, 3, 6, 4, 1, 5, 7]\n",
    "# order_vir = [0, 2, 1, 6, 3, 4, 5, 7]\n",
    "\n",
    "# # optimized ordered DataFrames\n",
    "# huge_arthouse_opt = huge_arthouse.iloc[order_art]\n",
    "# huge_indigo_opt = huge_indigo.iloc[order_ind]\n",
    "# huge_highline_opt = huge_highline.iloc[order_high]\n",
    "# huge_virgin_opt = huge_virgin.iloc[order_vir]\n",
    "\n",
    "# # Optimal midtown routes\n",
    "# order_art = [0, 5, 6, 3, 2, 4, 1, 7]\n",
    "# order_ind = [0, 4, 1, 3, 2, 5, 6, 7]\n",
    "# order_high = [0, 4, 1, 3, 2, 5, 6, 7]\n",
    "# order_vir = [0, 4, 1, 3, 2, 5, 6, 7]\n",
    "\n",
    "# # optimized ordered DataFrames\n",
    "# midtown_arthouse_opt = midtown_arthouse.iloc[order_art].reset_index(drop=True)\n",
    "# midtown_indigo_opt = midtown_indigo.iloc[order_ind].reset_index(drop=True)\n",
    "# midtown_highline_opt = midtown_highline.iloc[order_high].reset_index(drop=True)\n",
    "# midtown_virgin_opt = midtown_virgin.iloc[order_vir].reset_index(drop=True)\n",
    "\n",
    "# # Optimal food routes\n",
    "# order_art = [0, 3, 5, 1, 6, 4, 2, 7]\n",
    "# order_ind = [0, 2, 4, 6, 3, 1, 5, 7]\n",
    "# order_high = [0, 4, 6, 1, 5, 2, 3, 7]\n",
    "# order_vir = [0, 1, 2, 6, 5, 3, 4, 7]\n",
    "\n",
    "# # optimized ordered DataFrames\n",
    "# food_arthouse_opt = food_arthouse.iloc[order_art].reset_index(drop=True)\n",
    "# food_indigo_opt = food_indigo.iloc[order_ind].reset_index(drop=True)\n",
    "# food_highline_opt = food_highline.iloc[order_high].reset_index(drop=True)\n",
    "# food_virgin_opt = food_virgin.iloc[order_vir].reset_index(drop=True)\n",
    "\n",
    "# # Optimal irish routes\n",
    "# order_art = [0, 1, 3, 5, 7, 4, 2, 6, 8]\n",
    "# order_ind = [0, 1, 3, 5, 7, 4, 2, 6, 8]\n",
    "# order_high = [0, 1, 2, 6, 3, 5, 4, 7, 8]\n",
    "# order_vir = [0, 1, 2, 6, 3, 5, 7, 4, 8]\n",
    "\n",
    "# # optimized ordered DataFrames\n",
    "# irish_arthouse_opt = irish_arthouse.iloc[order_art].reset_index(drop=True)\n",
    "# irish_indigo_opt = irish_indigo.iloc[order_ind].reset_index(drop=True)\n",
    "# irish_highline_opt = irish_highline.iloc[order_high].reset_index(drop=True)\n",
    "# irish_virgin_opt = irish_virgin.iloc[order_vir].reset_index(drop=True)"
   ]
  },
  {
   "cell_type": "markdown",
   "id": "4a8d0085",
   "metadata": {},
   "source": [
    "## Review of Data and Algorithms\n",
    "\n",
    "In review the data was found directly from a quality source. No major preprocessing was necessary, but a few edits were made. After chosing routes based on ensuring users would not find a closed venue and picking from a few themes we tried multiple means of finding the optimal route. A constraint we wanted to make was that distances were going to be based off driving routes, not distances as the bird flies. \n",
    "\n",
    "We first started with looking at nearest neighbors optimization. This would reduce the number of calcuations for possibilies to a complexity of O(n^2). High, but not unmanagabe. While this seemed to produce good results there was no difference in routes because we could not find good logic to keep a final destination a hotel and also consider that distance in as a factor of the optimization. We tried reversing things to see if not considering the starting location was better. This actually had worse results most of the time. \n",
    "\n",
    "We considered a greedy algorithm, which has another nice complexity O(N 2 log2(N)),but due to street distances not allowing for this to be optimal we decided to not attempt it.\n",
    "\n",
    "From there I attempted a brute force approach. This however has a very large complexity, O(n!). When attempting I ran out of our API's free capacities. Because of this we decited to use MapQuest's API that generates the optimal route. for our users.\n",
    "\n",
    "We also made a randomly selected route for each possible trip selection to see if our optimizations were worth the work. \n",
    "\n",
    "I compared distances of the Nearest Neighbors and the Random route compared to the route MapQuest's API generated. In the end we can see that when the distances between bars were short (the irish and midtown routes), the nearest neighbor's algorithm often performed worse than random. But overall the nearest neighbor performed better than random 75% of the time. So noteably better than random change. Additionally, the Nearest Neighbors outperformed the Mapquest distances 2 times (about 12.5% of the time). The difference was small .3 and .5 miles, but it does show that the API uses algorithms that aren't guarenteed to produce the best outcomes.\n",
    "\n",
    "If I were to do this again, I would consider doing a variation of brute force. First I would calculate all the permuations of the bar stops being 6 and 7 stops that would lead to 720 and 5040 and then add the first stop and last stop to each of those points. And brute force from there. (this would save us from 40320 and 362880 if I didn't take those out). I would also consider calculating the shortest distance from the start to the first the penultimate stop to the hotel stop reducing the compuations (to 126, 727). The logic behind this is each hotel is in a different spot while the starting point is the same always, reducing this point's distance to be optimal does have the potential to help us consistently--though not always. While reducing this complexity drastically increases the risk of not finding the global minimum, the computational save is MASSIVE. There would even be capacity to randomly generate a large number routes without the constrain to help ensure the quality of our result. "
   ]
  },
  {
   "cell_type": "code",
   "execution_count": null,
   "id": "7db5fe37",
   "metadata": {},
   "outputs": [],
   "source": []
  }
 ],
 "metadata": {
  "kernelspec": {
   "display_name": "Python 3 (ipykernel)",
   "language": "python",
   "name": "python3"
  },
  "language_info": {
   "codemirror_mode": {
    "name": "ipython",
    "version": 3
   },
   "file_extension": ".py",
   "mimetype": "text/x-python",
   "name": "python",
   "nbconvert_exporter": "python",
   "pygments_lexer": "ipython3",
   "version": "3.9.13"
  },
  "toc": {
   "base_numbering": 1,
   "nav_menu": {},
   "number_sections": true,
   "sideBar": true,
   "skip_h1_title": false,
   "title_cell": "Table of Contents",
   "title_sidebar": "Contents",
   "toc_cell": false,
   "toc_position": {},
   "toc_section_display": true,
   "toc_window_display": false
  }
 },
 "nbformat": 4,
 "nbformat_minor": 5
}
